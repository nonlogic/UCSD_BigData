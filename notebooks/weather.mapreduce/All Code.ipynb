{
 "metadata": {
  "name": "",
  "signature": "sha256:427cbc3650c24eee7e49a5edef3a8607d2056ef2e6095ec99b184c38b88367a8"
 },
 "nbformat": 3,
 "nbformat_minor": 0,
 "worksheets": [
  {
   "cells": [
    {
     "cell_type": "code",
     "collapsed": false,
     "input": [
      "import pandas as pd\n",
      "import numpy as np\n",
      "import sklearn as sk\n",
      "import scipy\n",
      "import pickle\n",
      "from mpl_toolkits.basemap import Basemap\n",
      "print 'pandas version: ',pd.__version__\n",
      "print 'numpy version:',np.__version__\n",
      "print 'sklearn version:',sk.__version__\n",
      "print 'scipy version:',scipy.__version__\n",
      "print 'pickle version:',pickle.__version__"
     ],
     "language": "python",
     "metadata": {},
     "outputs": [
      {
       "output_type": "stream",
       "stream": "stdout",
       "text": [
        "pandas version:  0.13.1\n",
        "numpy version: 1.8.1\n",
        "sklearn version: 0.14.1\n",
        "scipy version: 0.13.3\n",
        "pickle version: $Revision: 72223 $\n"
       ]
      }
     ],
     "prompt_number": 1
    },
    {
     "cell_type": "code",
     "collapsed": false,
     "input": [
      "import sys\n",
      "home_dir='/home/ubuntu/UCSD_BigData'\n",
      "sys.path.append(home_dir+'/utils')\n",
      "from find_waiting_flow import *\n",
      "from AWS_keypair_management import *"
     ],
     "language": "python",
     "metadata": {},
     "outputs": [],
     "prompt_number": 2
    },
    {
     "cell_type": "heading",
     "level": 3,
     "metadata": {},
     "source": [
      "MRjob to construct Covariance matrices"
     ]
    },
    {
     "cell_type": "markdown",
     "metadata": {},
     "source": [
      "This MRjob consists of two steps:\n",
      "1. Mapper: selects only TMAX and TMIN for every year with (partitionID, station, year) as resultant key. Undefined or omitted values are considered NaNs, and the rest of the process is NaN-tolerant. Reducer: combines TMAX and TMIN for every (partitionID, station, year) combination and results in (partitionID) as key and concatenated row as value.\n",
      "2. Mapper: subtracts mean for that partition from each row (which is a concatenation of TMAX and TMIN), and calculates outer product for the row. Operations involving NaNs result in a NaN element in the outer product. The resultant key is (partitionID, i, j), where i and j are the coordinates of every distinct element in the outer product, and the returned value is the value at [i, j] of the outer product. Reducer: sums (in a NaN-tolerant way, e.g., mean of [1, 2, nan] is 1.5.) the elements for every coordinate [i, j] of the covariance matrix and returns the partitionID and coordinates as key and product as value."
     ]
    },
    {
     "cell_type": "code",
     "collapsed": false,
     "input": [
      "%%writefile mr_weather_step12_a.py\n",
      "\"\"\"\n",
      "compute mean vector for each partition\n",
      "\"\"\"\n",
      "import sys\n",
      "sys.path.append('/usr/lib/python2.7/dist-packages')\n",
      "from mrjob.job import MRJob\n",
      "import re\n",
      "from sys import stderr\n",
      "import pickle, gzip\n",
      "import pandas\n",
      "import numpy as np\n",
      "\n",
      "class MRWeatherMean(MRJob):\n",
      "    #This adds options --stations for the location of where to get the lookup file\n",
      "    def configure_options(self):\n",
      "        super(MRWeatherMean,self).configure_options()\n",
      "        self.add_file_option('--partitions')\n",
      "        self.add_file_option('--means')\n",
      "    #This loads the lookup file into a field on the object\n",
      "    \n",
      "    def mapper_concatenate_init(self):\n",
      "        f = gzip.open( self.options.partitions, \"rb\" )\n",
      "        pickleFile = pickle.Unpickler(f)\n",
      "        self.partitions = pickleFile.load()\n",
      "        f.close()\n",
      "    \n",
      "    def mapper_covariance_init(self):\n",
      "        f2 = gzip.open( self.options.means, \"rb\" )\n",
      "        pickleFile2 = pickle.Unpickler(f2)\n",
      "        self.means = pickleFile2.load()\n",
      "        f2.close()\n",
      "\n",
      "    def mapper_concatenate(self, _, line):\n",
      "        try:\n",
      "            self.increment_counter('MrJob Step 1','mapper-conc',1)\n",
      "            elements=line.split(',')\n",
      "            if (elements[1]=='TMIN')|(elements[1]=='TMAX'):\n",
      "                #partitionID = int(self.partitions.ix[elements[0],'partitionID'])\n",
      "                partitionID = int(self.partitions[self.partitions['Station'] == elements[0]]['partitionID'])\n",
      "                mvalues = []\n",
      "                i = 0\n",
      "                for e in elements[3:]:\n",
      "                    # Added Threshold:\n",
      "                    if e!='' and float(e) < 600 and float(e) > -500:\n",
      "                        mvalues.append(float(e))\n",
      "                        i = i + 1\n",
      "                    else:\n",
      "                        mvalues.append(np.nan)\n",
      "                mvalues = np.array(mvalues)\n",
      "                if i >= 200:\n",
      "                    yield([partitionID, elements[0], elements[2]],[elements[1]] + list(mvalues))\n",
      "        except Exception, e:\n",
      "            stderr.write('Error in line:\\n'+line+'\\n')\n",
      "            stderr.write(str(e)+'\\n')\n",
      "            self.increment_counter('MrJob Step 1','mapper-conc-error',1)\n",
      "            yield ('error',1)\n",
      "\n",
      "    def reducer_concatenate(self, key, mvalues):\n",
      "        try:\n",
      "            self.increment_counter('MrJob Step 1','reducer-conc',1)\n",
      "            year_data = np.ones(730) * np.nan #np.zeros(730)\n",
      "            for e in mvalues:\n",
      "                if e[0] == 'TMAX':\n",
      "                    year_data[0:365] = e[1:]\n",
      "                else:\n",
      "                    year_data[365:] = e[1:]\n",
      "            yield (key[0],list(year_data))\n",
      "        except Exception, e:\n",
      "            stderr.write('Error in line:\\n'+'\\n')\n",
      "            stderr.write(str(e)+'\\n')\n",
      "            self.increment_counter('MrJob Step 1','reducer-conc-error',1)\n",
      "            \n",
      "    def mapper_covariance(self, partitionID, year):\n",
      "        try:\n",
      "            self.increment_counter('MrJob Step 2','mapper-cov',1)\n",
      "            partitionID = int(partitionID)\n",
      "            \n",
      "            year_mean = self.means[self.means['partitionID'] == partitionID]\n",
      "            year_mean_tmax = year_mean[year_mean['Type'] == 'TMAX']\n",
      "            \n",
      "            #year_mean_tmax = year_mean_tmax.values[0,2:]\n",
      "            #year_mean_tmax = list(year_mean_tmax.values)\n",
      "            #if len(year_mean_tmax) > 0:\n",
      "                #year_mean_tmax = eval(year_mean_tmax)\n",
      "            #year_mean_tmax = np.array([float(e) for e in year_mean_tmax[2:]])\n",
      "            year_mean_tmin = year_mean[year_mean['Type'] == 'TMIN']\n",
      "            #year_mean_tmin = year_mean_tmin.values[0,2:]\n",
      "            #year_mean_tmin = np.array([float(e) for e in year_mean_tmin[2:]])\n",
      "            \n",
      "            #year_mean_tmax = np.array(year_mean_tmax)\n",
      "            #year_mean_tmin = np.array(year_mean_tmin)\n",
      "            #year_mean = map(list, year_mean.values)\n",
      "            \n",
      "            diff = np.array([float(e) for e in year])\n",
      "            if len(year_mean_tmax) > 0:\n",
      "                year_mean_tmax = year_mean_tmax.values[0,2:]\n",
      "                diff[0:365] = diff[0:365] - year_mean_tmax\n",
      "            #else:\n",
      "            #    diff[0:365] = np.ones(365) * np.nan\n",
      "            if len(year_mean_tmin) > 0:\n",
      "                year_mean_tmin = year_mean_tmin.values[0,2:]\n",
      "                diff[365:730] = diff[365:730] - year_mean_tmin\n",
      "            #else:\n",
      "            #    diff[365:730] = np.ones(365) * np.nan\n",
      "            \n",
      "            #yield(partitionID, list(diff))#[ len(diff), len(year_mean_tmax), len(year_mean_tmin) ])\n",
      "            \n",
      "            #if year_mean_tmax != []:\n",
      "            #    diff[0:365] = map(add, diff[0:365], year_mean_tmax[2:]) #diff[0:365] - year_mean_tmax[2:]\n",
      "            #if year_mean_tmin != []:\n",
      "            #    diff[365:] = map(add, diff[365:], year_mean_tmin[2:])#diff[365:] - year_mean_tmin[2:]\n",
      "                #[year_mean['Type'] == 'TMIN'].ix[:,1:365]\n",
      "\n",
      "            for i in xrange(730):\n",
      "                for j in xrange(i,730): \n",
      "                    product = diff[j] * diff[i]\n",
      "                    yield ((partitionID,i,j),product)\n",
      "            #yield(partitionID, diff)#list(year_mean[year_mean['Type'] == 'TMAX'].ix[:,1:365]) + list(year_mean[year_mean['Type'] == 'TMIN'].ix[:,1:365]))\n",
      "\n",
      "\n",
      "        except Exception, e:\n",
      "            stderr.write('Error in line:\\n')\n",
      "            stderr.write(str(e)+'\\n'+str(partitionID)+str(year)+'\\n')\n",
      "            self.increment_counter('MrJob Step 2','mapper-cov-error',1)\n",
      "            yield ('error',1)\n",
      "\n",
      "    def reducer_covariance(self, key, value):\n",
      "        try:\n",
      "            self.increment_counter('MrJob Step 2','reducer-cov',1)\n",
      "            value = [float(e) for e in value]\n",
      "            M = np.array(value)\n",
      "            M_mask = np.ma.masked_array(M,np.isnan(M))\n",
      "            M_mean = np.mean(M_mask)\n",
      "            #M_mean_value = M_mean.filled(np.nan)\n",
      "            yield(key, float(M_mean))\n",
      "        except Exception, e:\n",
      "            stderr.write('Error in line:\\n'+line+'\\n')\n",
      "            stderr.write(str(e)+'\\n')\n",
      "            self.increment_counter('MrJob Step 2','reducer-cov-error',1)\n",
      "            \n",
      "    def steps(self):\n",
      "        return [\n",
      "            self.mr(mapper_init=self.mapper_concatenate_init,\n",
      "                    mapper=self.mapper_concatenate,\n",
      "                    reducer=self.reducer_concatenate),\n",
      "            self.mr(mapper_init=self.mapper_covariance_init,\n",
      "                    mapper=self.mapper_covariance,\n",
      "                    reducer=self.reducer_covariance)\n",
      "        ]\n",
      "        \n",
      "if __name__ == '__main__':\n",
      "    MRWeatherMean.run()"
     ],
     "language": "python",
     "metadata": {},
     "outputs": []
    },
    {
     "cell_type": "heading",
     "level": 3,
     "metadata": {},
     "source": [
      "Accessing Covariance matrices of each partition"
     ]
    },
    {
     "cell_type": "markdown",
     "metadata": {},
     "source": [
      "Create required directories:"
     ]
    },
    {
     "cell_type": "code",
     "collapsed": false,
     "input": [
      "!mkdir cov\n",
      "!mkdir covparts"
     ],
     "language": "python",
     "metadata": {},
     "outputs": []
    },
    {
     "cell_type": "markdown",
     "metadata": {},
     "source": [
      "Sort covariance file so that elements of the covariance matrix of each partition appear together in the file, and then split it so that each covariance matrix has its own file:"
     ]
    },
    {
     "cell_type": "code",
     "collapsed": false,
     "input": [
      "!sort cov.pkl > ./cov/cov.sorted.pkl\n",
      "!split -l 266815 ./cov/cov.sorted.pkl ./cov/"
     ],
     "language": "python",
     "metadata": {},
     "outputs": []
    },
    {
     "cell_type": "markdown",
     "metadata": {},
     "source": [
      "Read file list of directory \"cov\" after split:"
     ]
    },
    {
     "cell_type": "code",
     "collapsed": false,
     "input": [
      "import os\n",
      "filelist = os.listdir(\"./cov\")"
     ],
     "language": "python",
     "metadata": {},
     "outputs": []
    },
    {
     "cell_type": "markdown",
     "metadata": {},
     "source": [
      "Process each split file and save it as a pandas dataframe, removing the need to process it as a table every time:"
     ]
    },
    {
     "cell_type": "code",
     "collapsed": false,
     "input": [
      "for f in filelist:\n",
      "    if len(f) != 2:\n",
      "        continue\n",
      "    dfCovs = pd.read_table('./cov/' + f,header=None,delimiter=r\"[\\[\\]\\\",\\t]+\")#,names=['partitionID','Type','Mean'])\n",
      "    dfCovs = dfCovs.drop(0,1)\n",
      "    dfCovs.columns = ['partitionID','i','j','cov_ij']\n",
      "    dfCovs = pd.pivot_table(dfCovs,values='cov_ij',rows=['partitionID','i'],cols='j')\n",
      "    partitionID = dfCovs.index[0][0]\n",
      "    print partitionID\n",
      "    dfCovs.to_pickle('./covparts/' + str(partitionID))"
     ],
     "language": "python",
     "metadata": {},
     "outputs": []
    },
    {
     "cell_type": "heading",
     "level": 3,
     "metadata": {},
     "source": [
      "Convert StationStatistics to table for easy manipulation and analysis:"
     ]
    },
    {
     "cell_type": "markdown",
     "metadata": {},
     "source": [
      "Unencode the file:"
     ]
    },
    {
     "cell_type": "code",
     "collapsed": false,
     "input": [
      "import zlib,base64\n",
      "station_stats={}\n",
      "f=open('Statistics.pkl','r')\n",
      "l=f.readlines()\n",
      "f.close()\n",
      "for line in l:\n",
      "    line = line.strip()\n",
      "    station = line.split('\\t')[0]\n",
      "    data = line.split('\\t')[1]\n",
      "    station_stats[station[1:-1]]=pickle.loads(zlib.decompress(base64.b64decode(data[1:-1])))"
     ],
     "language": "python",
     "metadata": {},
     "outputs": [],
     "prompt_number": 3
    },
    {
     "cell_type": "code",
     "collapsed": false,
     "input": [
      "from compiler.ast import flatten\n",
      "statstable = []\n",
      "for key in station_stats.keys():\n",
      "    for el in station_stats[key].items():\n",
      "        statstable.append(flatten((key, el)))\n",
      "statsframe = pd.DataFrame(statstable)"
     ],
     "language": "python",
     "metadata": {},
     "outputs": [],
     "prompt_number": 4
    },
    {
     "cell_type": "code",
     "collapsed": false,
     "input": [
      "statsframe.head()"
     ],
     "language": "python",
     "metadata": {},
     "outputs": [
      {
       "html": [
        "<div style=\"max-height:1000px;max-width:1500px;overflow:auto;\">\n",
        "<table border=\"1\" class=\"dataframe\">\n",
        "  <thead>\n",
        "    <tr style=\"text-align: right;\">\n",
        "      <th></th>\n",
        "      <th>0</th>\n",
        "      <th>1</th>\n",
        "      <th>2</th>\n",
        "      <th>3</th>\n",
        "    </tr>\n",
        "  </thead>\n",
        "  <tbody>\n",
        "    <tr>\n",
        "      <th>0</th>\n",
        "      <td> CA004035200</td>\n",
        "      <td> TMIN</td>\n",
        "      <td> 1994</td>\n",
        "      <td> 355</td>\n",
        "    </tr>\n",
        "    <tr>\n",
        "      <th>1</th>\n",
        "      <td> CA004035200</td>\n",
        "      <td> PRCP</td>\n",
        "      <td> 1967</td>\n",
        "      <td> 214</td>\n",
        "    </tr>\n",
        "    <tr>\n",
        "      <th>2</th>\n",
        "      <td> CA004035200</td>\n",
        "      <td> TMAX</td>\n",
        "      <td> 1965</td>\n",
        "      <td> 150</td>\n",
        "    </tr>\n",
        "    <tr>\n",
        "      <th>3</th>\n",
        "      <td> CA004035200</td>\n",
        "      <td> MDPR</td>\n",
        "      <td> 1963</td>\n",
        "      <td>   1</td>\n",
        "    </tr>\n",
        "    <tr>\n",
        "      <th>4</th>\n",
        "      <td> CA004035200</td>\n",
        "      <td> PRCP</td>\n",
        "      <td> 1992</td>\n",
        "      <td> 177</td>\n",
        "    </tr>\n",
        "  </tbody>\n",
        "</table>\n",
        "<p>5 rows \u00d7 4 columns</p>\n",
        "</div>"
       ],
       "metadata": {},
       "output_type": "pyout",
       "prompt_number": 5,
       "text": [
        "             0     1     2    3\n",
        "0  CA004035200  TMIN  1994  355\n",
        "1  CA004035200  PRCP  1967  214\n",
        "2  CA004035200  TMAX  1965  150\n",
        "3  CA004035200  MDPR  1963    1\n",
        "4  CA004035200  PRCP  1992  177\n",
        "\n",
        "[5 rows x 4 columns]"
       ]
      }
     ],
     "prompt_number": 5
    },
    {
     "cell_type": "heading",
     "level": 3,
     "metadata": {},
     "source": [
      "Compute means for each partition:"
     ]
    },
    {
     "cell_type": "markdown",
     "metadata": {},
     "source": [
      "The following MRjob computes the mean vector for the TMAX and TMIN measurements of every partition in a NaN-tolerant way.\n",
      "Mapper: replaces all ommitted or unrealistic values (less than -50 degrees Celcius or greater than 60 degrees Celcius) and passes (partitionID, variable type = TMAX or TMIN) as key, with the 365 values (not all of which may be actually present, but at least 200 are) as the value.\n",
      "Reducer: computes the mean of all TMAX values for each partition, and all TMIN values for each partition, which is then written to file."
     ]
    },
    {
     "cell_type": "code",
     "collapsed": false,
     "input": [
      "%%writefile mr_weather_mean.py\n",
      "\"\"\"\n",
      "compute mean vector for each partition\n",
      "\"\"\"\n",
      "import sys\n",
      "sys.path.append('/usr/lib/python2.7/dist-packages')\n",
      "from mrjob.job import MRJob\n",
      "import re\n",
      "from sys import stderr\n",
      "import pickle, gzip\n",
      "import pandas\n",
      "import numpy as np\n",
      "from compiler.ast import flatten\n",
      "\n",
      "class MRWeatherMean(MRJob):\n",
      "\n",
      "    #This adds options --stations for the location of where to get the lookup file\n",
      "    def configure_options(self):\n",
      "        super(MRWeatherMean,self).configure_options()\n",
      "        self.add_file_option('--partitions')\n",
      "    #This loads the lookup file into a field on the object\n",
      "    def mapper_init(self):\n",
      "        f = gzip.open( self.options.partitions, \"rb\" )\n",
      "        pickleFile = pickle.Unpickler(f)\n",
      "        self.partitions = pickleFile.load()\n",
      "        f.close()\n",
      "\n",
      "    def mapper(self, _, line):\n",
      "        try:\n",
      "            self.increment_counter('MrJob Counters','mapper',1)\n",
      "            elements=line.split(',')\n",
      "            if (elements[1]=='TMIN')|(elements[1]=='TMAX'):\n",
      "                partitionID = int(self.partitions[self.partitions['Station'] == elements[0]]['partitionID'])\n",
      "\n",
      "                mvalues = []\n",
      "                i = 0\n",
      "                for e in elements[3:]:\n",
      "                    # Added Threshold:\n",
      "                    if e!='' and float(e) < 600 and float(e) > -500:\n",
      "                        mvalues.append(float(e))\n",
      "                        i = i + 1\n",
      "                    else:\n",
      "                        mvalues.append(np.nan)\n",
      "                mvalues = np.array(mvalues)\n",
      "                if i >= 200:\n",
      "                    yield((partitionID,elements[1]),list(mvalues))\n",
      "        except Exception, e:\n",
      "            stderr.write('Error in line:\\n'+line+'\\n')\n",
      "            stderr.write(str(e)+'\\n')\n",
      "            self.increment_counter('MrJob Counters','mapper-error',1)\n",
      "            yield ('error',1)\n",
      "\n",
      "    def reducer(self, key, mvalues):\n",
      "            self.increment_counter('MrJob Counters','reducer',1)\n",
      "            M = []\n",
      "            for year in mvalues:\n",
      "                x = [float(e) for e in year]\n",
      "                M.append(x)\n",
      "            M = np.array(M)\n",
      "            M_mask = np.ma.masked_array(M,np.isnan(M))\n",
      "            M_mean = np.mean(M_mask,axis=0)\n",
      "            M_mean_value = M_mean.filled(np.nan)\n",
      "            yield (key,list(M_mean_value))\n",
      "            \n",
      "if __name__ == '__main__':\n",
      "    MRWeatherMean.run()"
     ],
     "language": "python",
     "metadata": {},
     "outputs": []
    },
    {
     "cell_type": "heading",
     "level": 3,
     "metadata": {},
     "source": [
      "Global Warming:"
     ]
    },
    {
     "cell_type": "markdown",
     "metadata": {},
     "source": [
      "The following MRjob simply computes the average TMAX value for every year in which all 365 measurements are present.\n",
      "Mapper: selects all years in which at least 365 values are present, and returns the "
     ]
    },
    {
     "cell_type": "code",
     "collapsed": false,
     "input": [
      "%%writefile mr_weather_global.py\n",
      "\"\"\"\n",
      "compute mean vector for each partition\n",
      "\"\"\"\n",
      "import sys\n",
      "sys.path.append('/usr/lib/python2.7/dist-packages')\n",
      "from mrjob.job import MRJob\n",
      "import re\n",
      "from sys import stderr\n",
      "import pickle, gzip\n",
      "import pandas\n",
      "import numpy as np\n",
      "\n",
      "class MRWeatherMean(MRJob):\n",
      "    def mapper(self, _, line):\n",
      "        try:\n",
      "            self.increment_counter('MrJob Step 1','mapper',1)\n",
      "            elements=line.split(',')\n",
      "            if elements[1] == 'TMAX':\n",
      "                mvalues = []\n",
      "                i = 0\n",
      "                for e in elements[3:]:\n",
      "                    if e!='' and float(e) < 600 and float(e) > -500:\n",
      "                        mvalues.append(float(e))\n",
      "                        i = i + 1\n",
      "                mvalues = np.array(mvalues)\n",
      "                if i == 365:\n",
      "                    yield(elements[0], [elements[2], np.mean(mvalues)])\n",
      "        except Exception, e:\n",
      "            stderr.write('Error in line:\\n'+line+'\\n')\n",
      "            stderr.write(str(e)+'\\n')\n",
      "            self.increment_counter('MrJob Step 1','mapper-error',1)\n",
      "            yield ('error',1)\n",
      "        \n",
      "if __name__ == '__main__':\n",
      "    MRWeatherMean.run()"
     ],
     "language": "python",
     "metadata": {},
     "outputs": [
      {
       "output_type": "stream",
       "stream": "stdout",
       "text": [
        "Overwriting mr_weather_global.py\n"
       ]
      }
     ],
     "prompt_number": 6
    },
    {
     "cell_type": "code",
     "collapsed": false,
     "input": [
      "Creds= pickle.load(open('/home/ubuntu/Vault/Creds.pkl','rb'))\n",
      "pair=Creds['mrjob']\n",
      "key_id=pair['key_id']\n",
      "secret_key=pair['secret_key']\n",
      "\n",
      "job_flow_id=find_waiting_flow(key_id,secret_key)"
     ],
     "language": "python",
     "metadata": {},
     "outputs": [
      {
       "output_type": "stream",
       "stream": "stdout",
       "text": [
        "<boto.emr.emrobject.JobFlow object at 0xd6dcc790> no_script.yoavfreund.20140611.181713.270989 j-3QZOHADZF9KY1 WAITING\n",
        "<boto.emr.emrobject.JobFlow object at 0xd6eeedd0> no_script.yoavfreund.20140611.181722.314318 j-3MR2RR5OEXRQ7 WAITING\n",
        "<boto.emr.emrobject.JobFlow object at 0xd6fb4c90> no_script.yoavfreund.20140611.181730.511103 j-2S5LTMBIWD2WB WAITING\n",
        "<boto.emr.emrobject.JobFlow object at 0xd7222210> no_script.yoavfreund.20140611.181738.864430 j-3TFYHEIHI9VOY WAITING\n",
        "<boto.emr.emrobject.JobFlow object at 0xd76f2310> no_script.yoavfreund.20140613.042333.580519 j-27Y940LIXXNSZ WAITING\n",
        "<boto.emr.emrobject.JobFlow object at 0xd76ffd10> no_script.yoavfreund.20140613.042344.097071 j-3LP88IFUHBOHO WAITING\n",
        "<boto.emr.emrobject.JobFlow object at 0xd7721390> no_script.yoavfreund.20140613.042353.469396 j-2YMCM4F2XO00B WAITING\n",
        "<boto.emr.emrobject.JobFlow object at 0xd7725590> no_script.yoavfreund.20140613.042403.179810 j-2DMPRXAW49U58 WAITING\n",
        "<boto.emr.emrobject.JobFlow object at 0xd77e9990> no_script.yoavfreund.20140613.154912.285351 j-1CV4WDLQKK3B6 WAITING\n"
       ]
      }
     ],
     "prompt_number": 7
    },
    {
     "cell_type": "code",
     "collapsed": false,
     "input": [
      "!python mr_weather_global.py -r emr --emr-job-flow-id $job_flow_id hdfs:/weather.raw_data/ALL.csv > global.pkl"
     ],
     "language": "python",
     "metadata": {},
     "outputs": [
      {
       "output_type": "stream",
       "stream": "stdout",
       "text": [
        "using configs in /home/ubuntu/.mrjob.conf\r\n"
       ]
      },
      {
       "output_type": "stream",
       "stream": "stdout",
       "text": [
        "creating tmp directory /tmp/mr_weather_global.ubuntu.20140614.054421.601538\r\n"
       ]
      },
      {
       "output_type": "stream",
       "stream": "stdout",
       "text": [
        "Copying non-input files into s3://yoav.hadoop/scratch/mr_weather_global.ubuntu.20140614.054421.601538/files/\r\n"
       ]
      },
      {
       "output_type": "stream",
       "stream": "stdout",
       "text": [
        "Adding our job to existing job flow j-1CV4WDLQKK3B6\r\n"
       ]
      },
      {
       "output_type": "stream",
       "stream": "stdout",
       "text": [
        "Job launched 30.3s ago, status RUNNING: Running step (mr_weather_global.ubuntu.20140614.054421.601538: Step 1 of 1)\r\n"
       ]
      },
      {
       "output_type": "stream",
       "stream": "stdout",
       "text": [
        "Job launched 60.5s ago, status RUNNING: Running step (mr_weather_global.ubuntu.20140614.054421.601538: Step 1 of 1)\r\n"
       ]
      },
      {
       "output_type": "stream",
       "stream": "stdout",
       "text": [
        "Job launched 90.7s ago, status RUNNING: Running step (mr_weather_global.ubuntu.20140614.054421.601538: Step 1 of 1)\r\n"
       ]
      },
      {
       "output_type": "stream",
       "stream": "stdout",
       "text": [
        "Job launched 121.0s ago, status RUNNING: Running step (mr_weather_global.ubuntu.20140614.054421.601538: Step 1 of 1)\r\n"
       ]
      },
      {
       "output_type": "stream",
       "stream": "stdout",
       "text": [
        "Job completed.\r\n",
        "Running time was 118.0s (not counting time spent waiting for the EC2 instances)\r\n",
        "ec2_key_pair_file not specified, going to S3\r\n",
        "Fetching counters from S3...\r\n",
        "Waiting 5.0s for S3 eventual consistency\r\n"
       ]
      },
      {
       "output_type": "stream",
       "stream": "stdout",
       "text": [
        "Counters may not have been uploaded to S3 yet. Try again in 5 minutes with: mrjob fetch-logs --counters j-1CV4WDLQKK3B6\r\n",
        "Counters from step 1:\r\n",
        "  (no counters found)\r\n",
        "Streaming final output from s3://yoav.hadoop/scratch/mr_weather_global.ubuntu.20140614.054421.601538/output/\r\n"
       ]
      },
      {
       "output_type": "stream",
       "stream": "stdout",
       "text": [
        "removing tmp directory /tmp/mr_weather_global.ubuntu.20140614.054421.601538\r\n",
        "Removing all files in s3://yoav.hadoop/scratch/mr_weather_global.ubuntu.20140614.054421.601538/\r\n"
       ]
      }
     ],
     "prompt_number": 8
    },
    {
     "cell_type": "markdown",
     "metadata": {},
     "source": [
      "Mean TMAX values for years with the measuring station as column 1:"
     ]
    },
    {
     "cell_type": "code",
     "collapsed": false,
     "input": [
      "glob = pd.read_table('global.pkl',header=None,delimiter=r\"[\\[\\]\\\",\\t]+\")#,names=['partitionID','Type','Mean'])\n",
      "glob = glob.drop(0,1)\n",
      "glob = glob.drop(4,1)\n",
      "glob.columns = ['Station','Year','Mean']\n",
      "glob.head()"
     ],
     "language": "python",
     "metadata": {},
     "outputs": [
      {
       "html": [
        "<div style=\"max-height:1000px;max-width:1500px;overflow:auto;\">\n",
        "<table border=\"1\" class=\"dataframe\">\n",
        "  <thead>\n",
        "    <tr style=\"text-align: right;\">\n",
        "      <th></th>\n",
        "      <th>Station</th>\n",
        "      <th>Year</th>\n",
        "      <th>Mean</th>\n",
        "    </tr>\n",
        "  </thead>\n",
        "  <tbody>\n",
        "    <tr>\n",
        "      <th>0</th>\n",
        "      <td> USC00211891</td>\n",
        "      <td> 1890</td>\n",
        "      <td> 113.441096</td>\n",
        "    </tr>\n",
        "    <tr>\n",
        "      <th>1</th>\n",
        "      <td> USC00211891</td>\n",
        "      <td> 1892</td>\n",
        "      <td> 102.778082</td>\n",
        "    </tr>\n",
        "    <tr>\n",
        "      <th>2</th>\n",
        "      <td> USC00211891</td>\n",
        "      <td> 1895</td>\n",
        "      <td>  94.427397</td>\n",
        "    </tr>\n",
        "    <tr>\n",
        "      <th>3</th>\n",
        "      <td> USC00211891</td>\n",
        "      <td> 1898</td>\n",
        "      <td> 102.117808</td>\n",
        "    </tr>\n",
        "    <tr>\n",
        "      <th>4</th>\n",
        "      <td> USC00211891</td>\n",
        "      <td> 1899</td>\n",
        "      <td>  91.736986</td>\n",
        "    </tr>\n",
        "  </tbody>\n",
        "</table>\n",
        "<p>5 rows \u00d7 3 columns</p>\n",
        "</div>"
       ],
       "metadata": {},
       "output_type": "pyout",
       "prompt_number": 9,
       "text": [
        "       Station  Year        Mean\n",
        "0  USC00211891  1890  113.441096\n",
        "1  USC00211891  1892  102.778082\n",
        "2  USC00211891  1895   94.427397\n",
        "3  USC00211891  1898  102.117808\n",
        "4  USC00211891  1899   91.736986\n",
        "\n",
        "[5 rows x 3 columns]"
       ]
      }
     ],
     "prompt_number": 9
    },
    {
     "cell_type": "markdown",
     "metadata": {},
     "source": [
      "Calculate mean of every station worldwide for every year:"
     ]
    },
    {
     "cell_type": "code",
     "collapsed": false,
     "input": [
      "years = []\n",
      "for y in xrange(min(glob['Year']), max(glob['Year'])):\n",
      "    year = [y, np.mean(glob[glob['Year'] == y]['Mean'].values)]\n",
      "    years.append(year)\n",
      "years = np.array(years)"
     ],
     "language": "python",
     "metadata": {},
     "outputs": [],
     "prompt_number": 10
    },
    {
     "cell_type": "markdown",
     "metadata": {},
     "source": [
      "Plot the distribution of the obtained means:"
     ]
    },
    {
     "cell_type": "code",
     "collapsed": false,
     "input": [
      "plot(years[:,0], years[:,1])"
     ],
     "language": "python",
     "metadata": {},
     "outputs": [
      {
       "metadata": {},
       "output_type": "pyout",
       "prompt_number": 11,
       "text": [
        "[<matplotlib.lines.Line2D at 0xd7de5650>]"
       ]
      },
      {
       "metadata": {},
       "output_type": "display_data",
       "png": "[encoded data removed]",
       "text": [
        "<matplotlib.figure.Figure at 0x3c850d0>"
       ]
      }
     ],
     "prompt_number": 11
    },
    {
     "cell_type": "markdown",
     "metadata": {},
     "source": [
      "This does not indicate any global increase; quite the contrary. However, we notice the shift in the late 1800's; we can conjecture that this is when a large number of stations at warmer regions (India and others) joined the older stations (mostly in Europe and North America) and caused a shift in the overall means."
     ]
    },
    {
     "cell_type": "markdown",
     "metadata": {},
     "source": [
      "What about if we only check US stations?"
     ]
    },
    {
     "cell_type": "code",
     "collapsed": false,
     "input": [
      "selection = [station[0:2] == 'US' for station in glob['Station']]\n",
      "globUS = glob[selection]"
     ],
     "language": "python",
     "metadata": {},
     "outputs": [],
     "prompt_number": 12
    },
    {
     "cell_type": "code",
     "collapsed": false,
     "input": [
      "years = []\n",
      "for y in xrange(min(globUS['Year']), max(globUS['Year'])):\n",
      "    year = [y, np.mean(globUS[globUS['Year'] == y]['Mean'].values)]\n",
      "    years.append(year)\n",
      "years = np.array(years)"
     ],
     "language": "python",
     "metadata": {},
     "outputs": [
      {
       "output_type": "stream",
       "stream": "stderr",
       "text": [
        "/usr/local/lib/python2.7/dist-packages/numpy/core/_methods.py:55: RuntimeWarning: Mean of empty slice.\n",
        "  warnings.warn(\"Mean of empty slice.\", RuntimeWarning)\n"
       ]
      }
     ],
     "prompt_number": 13
    },
    {
     "cell_type": "code",
     "collapsed": false,
     "input": [
      "plot(years[:,0], years[:,1])"
     ],
     "language": "python",
     "metadata": {},
     "outputs": [
      {
       "metadata": {},
       "output_type": "pyout",
       "prompt_number": 14,
       "text": [
        "[<matplotlib.lines.Line2D at 0xd7f5e810>]"
       ]
      },
      {
       "metadata": {},
       "output_type": "display_data",
       "png": "[encoded data removed]",
       "text": [
        "<matplotlib.figure.Figure at 0xd7f4ac10>"
       ]
      }
     ],
     "prompt_number": 14
    },
    {
     "cell_type": "markdown",
     "metadata": {},
     "source": [
      "There seems to be something strange going on with the arc; how does the distribution of measuring stations vary across the US? We find out how many stations measured TMAX values in each year:"
     ]
    },
    {
     "cell_type": "code",
     "collapsed": false,
     "input": [
      "years = []\n",
      "for y in xrange(min(globUS['Year']), max(globUS['Year'])):\n",
      "    year = [y, len(globUS[globUS['Year'] == y])]\n",
      "    years.append(year)\n",
      "years = np.array(years)"
     ],
     "language": "python",
     "metadata": {},
     "outputs": [],
     "prompt_number": 15
    },
    {
     "cell_type": "markdown",
     "metadata": {},
     "source": [
      "The following plot shows that the number of stations actively measuring varies considerably, especially in the mid-1900s:"
     ]
    },
    {
     "cell_type": "code",
     "collapsed": false,
     "input": [
      "plot(years[:,0], years[:,1])"
     ],
     "language": "python",
     "metadata": {},
     "outputs": [
      {
       "metadata": {},
       "output_type": "pyout",
       "prompt_number": 16,
       "text": [
        "[<matplotlib.lines.Line2D at 0xdcbf5790>]"
       ]
      },
      {
       "metadata": {},
       "output_type": "display_data",
       "png": "[encoded data removed]",
       "text": [
        "<matplotlib.figure.Figure at 0xd7dca850>"
       ]
      }
     ],
     "prompt_number": 16
    },
    {
     "cell_type": "code",
     "collapsed": false,
     "input": [
      "globUS1962 = globUS[globUS['Year'] >= 1962]"
     ],
     "language": "python",
     "metadata": {},
     "outputs": [],
     "prompt_number": 17
    },
    {
     "cell_type": "code",
     "collapsed": false,
     "input": [
      "stset = set(globUS1962['Station'])"
     ],
     "language": "python",
     "metadata": {},
     "outputs": [],
     "prompt_number": 18
    },
    {
     "cell_type": "markdown",
     "metadata": {},
     "source": [
      "So what if we only select stations that have consistently measured 90% of the years, between the relatively small 50-year period between 1962 and 2012?"
     ]
    },
    {
     "cell_type": "code",
     "collapsed": false,
     "input": [
      "threshold = 0.9 * (2012 - 1962)\n",
      "for station in stset:\n",
      "    yeset = set(globUS1962[globUS1962['Station'] == station]['Year'])\n",
      "    if len(yeset) < threshold:\n",
      "        globUS1962 = globUS1962[globUS1962['Station'] != station]"
     ],
     "language": "python",
     "metadata": {},
     "outputs": [],
     "prompt_number": 19
    },
    {
     "cell_type": "code",
     "collapsed": false,
     "input": [
      "years = []\n",
      "for y in xrange(min(globUS1962['Year']), max(globUS1962['Year']) + 1):\n",
      "    year = [y, len(globUS1962[globUS1962['Year'] == y])]\n",
      "    years.append(year)\n",
      "years = np.array(years)"
     ],
     "language": "python",
     "metadata": {},
     "outputs": [],
     "prompt_number": 20
    },
    {
     "cell_type": "code",
     "collapsed": false,
     "input": [
      "plot(years[:,0], years[:,1])"
     ],
     "language": "python",
     "metadata": {},
     "outputs": [
      {
       "metadata": {},
       "output_type": "pyout",
       "prompt_number": 21,
       "text": [
        "[<matplotlib.lines.Line2D at 0xdbe9f210>]"
       ]
      },
      {
       "metadata": {},
       "output_type": "display_data",
       "png": "[encoded data removed]",
       "text": [
        "<matplotlib.figure.Figure at 0x3d3c3d0>"
       ]
      }
     ],
     "prompt_number": 21
    },
    {
     "cell_type": "markdown",
     "metadata": {},
     "source": [
      "The plot still does not indicate any overall trends to a significant extent. Let's look at the top stations with the most measurments over their entire period of activity, then."
     ]
    },
    {
     "cell_type": "markdown",
     "metadata": {},
     "source": [
      "The following code counts, for each station, how many years it has measured (all 365 values of):"
     ]
    },
    {
     "cell_type": "code",
     "collapsed": false,
     "input": [
      "count = {}\n",
      "for w in globUS['Station']:\n",
      "    if w in count:\n",
      "        count[w] += 1\n",
      "    else:\n",
      "        count[w] = 1"
     ],
     "language": "python",
     "metadata": {},
     "outputs": [],
     "prompt_number": 23
    },
    {
     "cell_type": "code",
     "collapsed": false,
     "input": [
      "import operator\n",
      "sorted_x = sorted(count.iteritems(), key=operator.itemgetter(1),reverse=True)"
     ],
     "language": "python",
     "metadata": {},
     "outputs": [],
     "prompt_number": 24
    },
    {
     "cell_type": "markdown",
     "metadata": {},
     "source": [
      "The trends for the individual stations with the top 5 counts are:"
     ]
    },
    {
     "cell_type": "code",
     "collapsed": false,
     "input": [
      "i = 0\n",
      "for station in sorted_x:\n",
      "    plot(globUS[globUS['Station'] == station[0]]['Year'], globUS[globUS['Station'] == station[0]]['Mean'])\n",
      "    i = i + 1\n",
      "    if i > 4:\n",
      "        break"
     ],
     "language": "python",
     "metadata": {},
     "outputs": [
      {
       "metadata": {},
       "output_type": "display_data",
       "png": "[encoded data removed]",
       "text": [
        "<matplotlib.figure.Figure at 0xd7572cd0>"
       ]
      }
     ],
     "prompt_number": 25
    },
    {
     "cell_type": "markdown",
     "metadata": {},
     "source": [
      "It is difficult to distinguish any trends in the stations. Instead, we smoothen the values by taking, for each year, the average of the sum of that year and three following years, of each station and plot separately:"
     ]
    },
    {
     "cell_type": "code",
     "collapsed": false,
     "input": [
      "import matplotlib.pyplot as plt\n",
      "\n",
      "plt.close('all')\n",
      "\n",
      "f, axarr = plt.subplots(5)\n",
      "\n",
      "n = 0\n",
      "for station in sorted_x:\n",
      "    x = np.array(globUS[globUS['Station'] == station[0]]['Year'])\n",
      "    y = np.array(globUS[globUS['Station'] == station[0]]['Mean'])\n",
      "    for i in xrange(len(y) - 3):\n",
      "        y[i] = y[i] + y[i+1] + y[i+2] + y[i+3]\n",
      "    axarr[n].plot(x, y)\n",
      "    n = n + 1\n",
      "    if n > 4:\n",
      "        break\n",
      "\n",
      "plt.show()"
     ],
     "language": "python",
     "metadata": {},
     "outputs": [
      {
       "metadata": {},
       "output_type": "display_data",
       "png": "[encoded data removed]",
       "text": [
        "<matplotlib.figure.Figure at 0xdbe96510>"
       ]
      }
     ],
     "prompt_number": 26
    }
   ],
   "metadata": {}
  }
 ]
}