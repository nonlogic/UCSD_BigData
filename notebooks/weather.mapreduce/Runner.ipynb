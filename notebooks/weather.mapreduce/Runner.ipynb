{
 "metadata": {
  "name": "",
  "signature": "sha256:1461e72546161c4c1d01424ed1ff29f9b72eb8183304574e9161fe21a8d23ace"
 },
 "nbformat": 3,
 "nbformat_minor": 0,
 "worksheets": [
  {
   "cells": [
    {
     "cell_type": "code",
     "collapsed": false,
     "input": [
      "import pandas as pd\n",
      "import numpy as np\n",
      "import sklearn as sk\n",
      "import scipy\n",
      "import pickle\n",
      "from mpl_toolkits.basemap import Basemap\n",
      "print 'pandas version: ',pd.__version__\n",
      "print 'numpy version:',np.__version__\n",
      "print 'sklearn version:',sk.__version__\n",
      "print 'scipy version:',scipy.__version__\n",
      "print 'pickle version:',pickle.__version__"
     ],
     "language": "python",
     "metadata": {},
     "outputs": [
      {
       "output_type": "stream",
       "stream": "stdout",
       "text": [
        "pandas version:  0.13.1\n",
        "numpy version: 1.8.1\n",
        "sklearn version: 0.14.1\n",
        "scipy version: 0.13.3\n",
        "pickle version: $Revision: 72223 $\n"
       ]
      }
     ],
     "prompt_number": 1
    },
    {
     "cell_type": "code",
     "collapsed": false,
     "input": [
      "import sys\n",
      "home_dir='/home/ubuntu/UCSD_BigData'\n",
      "sys.path.append(home_dir+'/utils')\n",
      "from find_waiting_flow import *\n",
      "from AWS_keypair_management import *"
     ],
     "language": "python",
     "metadata": {},
     "outputs": [],
     "prompt_number": 2
    },
    {
     "cell_type": "code",
     "collapsed": false,
     "input": [
      "%%writefile mr_weather_step12_a.py\n",
      "\"\"\"\n",
      "compute mean vector for each partition\n",
      "\"\"\"\n",
      "import sys\n",
      "sys.path.append('/usr/lib/python2.7/dist-packages')\n",
      "from mrjob.job import MRJob\n",
      "import re\n",
      "from sys import stderr\n",
      "import pickle, gzip\n",
      "import pandas\n",
      "import numpy as np\n",
      "\n",
      "class MRWeatherMean(MRJob):\n",
      "    #This adds options --stations for the location of where to get the lookup file\n",
      "    def configure_options(self):\n",
      "        super(MRWeatherMean,self).configure_options()\n",
      "        self.add_file_option('--partitions')\n",
      "        self.add_file_option('--means')\n",
      "    #This loads the lookup file into a field on the object\n",
      "    \n",
      "    def mapper_concatenate_init(self):\n",
      "        f = gzip.open( self.options.partitions, \"rb\" )\n",
      "        pickleFile = pickle.Unpickler(f)\n",
      "        self.partitions = pickleFile.load()\n",
      "        f.close()\n",
      "    \n",
      "    def mapper_covariance_init(self):\n",
      "        f2 = gzip.open( self.options.means, \"rb\" )\n",
      "        pickleFile2 = pickle.Unpickler(f2)\n",
      "        self.means = pickleFile2.load()\n",
      "        f2.close()\n",
      "\n",
      "    def mapper_concatenate(self, _, line):\n",
      "        try:\n",
      "            self.increment_counter('MrJob Step 1','mapper-conc',1)\n",
      "            elements=line.split(',')\n",
      "            if (elements[1]=='TMIN')|(elements[1]=='TMAX'):\n",
      "                #partitionID = int(self.partitions.ix[elements[0],'partitionID'])\n",
      "                partitionID = int(self.partitions[self.partitions['Station'] == elements[0]]['partitionID'])\n",
      "                mvalues = []\n",
      "                i = 0\n",
      "                for e in elements[3:]:\n",
      "                    # Added Threshold:\n",
      "                    if e!='' and float(e) < 600 and float(e) > -500:\n",
      "                        mvalues.append(float(e))\n",
      "                        i = i + 1\n",
      "                    else:\n",
      "                        mvalues.append(np.nan)\n",
      "                mvalues = np.array(mvalues)\n",
      "                if i >= 200:\n",
      "                    yield([partitionID, elements[0], elements[2]],[elements[1]] + list(mvalues))\n",
      "        except Exception, e:\n",
      "            stderr.write('Error in line:\\n'+line+'\\n')\n",
      "            stderr.write(str(e)+'\\n')\n",
      "            self.increment_counter('MrJob Step 1','mapper-conc-error',1)\n",
      "            yield ('error',1)\n",
      "\n",
      "    def reducer_concatenate(self, key, mvalues):\n",
      "        try:\n",
      "            self.increment_counter('MrJob Step 1','reducer-conc',1)\n",
      "            year_data = np.ones(730) * np.nan #np.zeros(730)\n",
      "            for e in mvalues:\n",
      "                if e[0] == 'TMAX':\n",
      "                    year_data[0:365] = e[1:]\n",
      "                else:\n",
      "                    year_data[365:] = e[1:]\n",
      "            yield (key[0],list(year_data))\n",
      "        except Exception, e:\n",
      "            stderr.write('Error in line:\\n'+'\\n')\n",
      "            stderr.write(str(e)+'\\n')\n",
      "            self.increment_counter('MrJob Step 1','reducer-conc-error',1)\n",
      "            \n",
      "    def mapper_covariance(self, partitionID, year):\n",
      "        try:\n",
      "            self.increment_counter('MrJob Step 2','mapper-cov',1)\n",
      "            partitionID = int(partitionID)\n",
      "            \n",
      "            year_mean = self.means[self.means['partitionID'] == partitionID]\n",
      "            year_mean_tmax = year_mean[year_mean['Type'] == 'TMAX']\n",
      "            \n",
      "            #year_mean_tmax = year_mean_tmax.values[0,2:]\n",
      "            #year_mean_tmax = list(year_mean_tmax.values)\n",
      "            #if len(year_mean_tmax) > 0:\n",
      "                #year_mean_tmax = eval(year_mean_tmax)\n",
      "            #year_mean_tmax = np.array([float(e) for e in year_mean_tmax[2:]])\n",
      "            year_mean_tmin = year_mean[year_mean['Type'] == 'TMIN']\n",
      "            #year_mean_tmin = year_mean_tmin.values[0,2:]\n",
      "            #year_mean_tmin = np.array([float(e) for e in year_mean_tmin[2:]])\n",
      "            \n",
      "            #year_mean_tmax = np.array(year_mean_tmax)\n",
      "            #year_mean_tmin = np.array(year_mean_tmin)\n",
      "            #year_mean = map(list, year_mean.values)\n",
      "            \n",
      "            diff = np.array([float(e) for e in year])\n",
      "            if len(year_mean_tmax) > 0:\n",
      "                year_mean_tmax = year_mean_tmax.values[0,2:]\n",
      "                diff[0:365] = diff[0:365] - year_mean_tmax\n",
      "            #else:\n",
      "            #    diff[0:365] = np.ones(365) * np.nan\n",
      "            if len(year_mean_tmin) > 0:\n",
      "                year_mean_tmin = year_mean_tmin.values[0,2:]\n",
      "                diff[365:730] = diff[365:730] - year_mean_tmin\n",
      "            #else:\n",
      "            #    diff[365:730] = np.ones(365) * np.nan\n",
      "            \n",
      "            #yield(partitionID, list(diff))#[ len(diff), len(year_mean_tmax), len(year_mean_tmin) ])\n",
      "            \n",
      "            #if year_mean_tmax != []:\n",
      "            #    diff[0:365] = map(add, diff[0:365], year_mean_tmax[2:]) #diff[0:365] - year_mean_tmax[2:]\n",
      "            #if year_mean_tmin != []:\n",
      "            #    diff[365:] = map(add, diff[365:], year_mean_tmin[2:])#diff[365:] - year_mean_tmin[2:]\n",
      "                #[year_mean['Type'] == 'TMIN'].ix[:,1:365]\n",
      "\n",
      "            for i in xrange(730):\n",
      "                for j in xrange(i,730): \n",
      "                    product = diff[j] * diff[i]\n",
      "                    yield ((partitionID,i,j),product)\n",
      "            #yield(partitionID, diff)#list(year_mean[year_mean['Type'] == 'TMAX'].ix[:,1:365]) + list(year_mean[year_mean['Type'] == 'TMIN'].ix[:,1:365]))\n",
      "\n",
      "\n",
      "        except Exception, e:\n",
      "            stderr.write('Error in line:\\n')\n",
      "            stderr.write(str(e)+'\\n'+str(partitionID)+str(year)+'\\n')\n",
      "            self.increment_counter('MrJob Step 2','mapper-cov-error',1)\n",
      "            yield ('error',1)\n",
      "\n",
      "    def reducer_covariance(self, key, value):\n",
      "        try:\n",
      "            self.increment_counter('MrJob Step 2','reducer-cov',1)\n",
      "            value = [float(e) for e in value]\n",
      "            M = np.array(value)\n",
      "            M_mask = np.ma.masked_array(M,np.isnan(M))\n",
      "            M_mean = np.mean(M_mask)\n",
      "            #M_mean_value = M_mean.filled(np.nan)\n",
      "            yield(key, float(M_mean))\n",
      "        except Exception, e:\n",
      "            stderr.write('Error in line:\\n'+line+'\\n')\n",
      "            stderr.write(str(e)+'\\n')\n",
      "            self.increment_counter('MrJob Step 2','reducer-cov-error',1)\n",
      "            \n",
      "    def steps(self):\n",
      "        return [\n",
      "            self.mr(mapper_init=self.mapper_concatenate_init,\n",
      "                    mapper=self.mapper_concatenate,\n",
      "                    reducer=self.reducer_concatenate),\n",
      "            self.mr(mapper_init=self.mapper_covariance_init,\n",
      "                    mapper=self.mapper_covariance,\n",
      "                    reducer=self.reducer_covariance)\n",
      "        ]\n",
      "        \n",
      "if __name__ == '__main__':\n",
      "    MRWeatherMean.run()"
     ],
     "language": "python",
     "metadata": {},
     "outputs": [
      {
       "output_type": "stream",
       "stream": "stdout",
       "text": [
        "Overwriting mr_weather_step12_a.py\n"
       ]
      }
     ],
     "prompt_number": 77
    },
    {
     "cell_type": "code",
     "collapsed": false,
     "input": [
      "!python mr_weather_step12_a.py --partitions dfPartition.pkl.gz --means dfMeans.pkl.gz -r local /home/ubuntu/data/weather/ALL.tmax3.csv > cov_b.pkl"
     ],
     "language": "python",
     "metadata": {},
     "outputs": [
      {
       "output_type": "stream",
       "stream": "stdout",
       "text": [
        "using configs in /home/ubuntu/.mrjob.conf\r\n",
        "creating tmp directory /tmp/mr_weather_step12_a.ubuntu.20140613.084837.389730\r\n"
       ]
      },
      {
       "output_type": "stream",
       "stream": "stdout",
       "text": [
        "writing to /tmp/mr_weather_step12_a.ubuntu.20140613.084837.389730/step-0-mapper_part-00000\r\n",
        "> /home/ubuntu/anaconda/bin/python mr_weather_step12_a.py --step-num=0 --mapper --partitions dfPartition.pkl.gz --means dfMeans.pkl.gz /tmp/mr_weather_step12_a.ubuntu.20140613.084837.389730/input_part-00000 > /tmp/mr_weather_step12_a.ubuntu.20140613.084837.389730/step-0-mapper_part-00000\r\n",
        "writing to /tmp/mr_weather_step12_a.ubuntu.20140613.084837.389730/step-0-mapper_part-00001\r\n",
        "> /home/ubuntu/anaconda/bin/python mr_weather_step12_a.py --step-num=0 --mapper --partitions dfPartition.pkl.gz --means dfMeans.pkl.gz /tmp/mr_weather_step12_a.ubuntu.20140613.084837.389730/input_part-00001 > /tmp/mr_weather_step12_a.ubuntu.20140613.084837.389730/step-0-mapper_part-00001\r\n"
       ]
      },
      {
       "output_type": "stream",
       "stream": "stdout",
       "text": [
        "Counters from step 1:\r\n",
        "  MrJob Step 1:\r\n",
        "    mapper-conc: 3\r\n",
        "writing to /tmp/mr_weather_step12_a.ubuntu.20140613.084837.389730/step-0-mapper-sorted\r\n",
        "> sort /tmp/mr_weather_step12_a.ubuntu.20140613.084837.389730/step-0-mapper_part-00000 /tmp/mr_weather_step12_a.ubuntu.20140613.084837.389730/step-0-mapper_part-00001\r\n"
       ]
      },
      {
       "output_type": "stream",
       "stream": "stdout",
       "text": [
        "writing to /tmp/mr_weather_step12_a.ubuntu.20140613.084837.389730/step-0-reducer_part-00000\r\n",
        "> /home/ubuntu/anaconda/bin/python mr_weather_step12_a.py --step-num=0 --reducer --partitions dfPartition.pkl.gz --means dfMeans.pkl.gz /tmp/mr_weather_step12_a.ubuntu.20140613.084837.389730/input_part-00000 > /tmp/mr_weather_step12_a.ubuntu.20140613.084837.389730/step-0-reducer_part-00000\r\n"
       ]
      },
      {
       "output_type": "stream",
       "stream": "stdout",
       "text": [
        "Counters from step 1:\r\n",
        "  MrJob Step 1:\r\n",
        "    mapper-conc: 3\r\n",
        "    reducer-conc: 2\r\n",
        "writing to /tmp/mr_weather_step12_a.ubuntu.20140613.084837.389730/step-1-mapper_part-00000\r\n",
        "> /home/ubuntu/anaconda/bin/python mr_weather_step12_a.py --step-num=1 --mapper --partitions dfPartition.pkl.gz --means dfMeans.pkl.gz /tmp/mr_weather_step12_a.ubuntu.20140613.084837.389730/input_part-00000 > /tmp/mr_weather_step12_a.ubuntu.20140613.084837.389730/step-1-mapper_part-00000\r\n"
       ]
      },
      {
       "output_type": "stream",
       "stream": "stdout",
       "text": [
        "Counters from step 2:\r\n",
        "  MrJob Step 2:\r\n",
        "    mapper-cov: 2\r\n",
        "writing to /tmp/mr_weather_step12_a.ubuntu.20140613.084837.389730/step-1-mapper-sorted\r\n",
        "> sort /tmp/mr_weather_step12_a.ubuntu.20140613.084837.389730/step-1-mapper_part-00000\r\n"
       ]
      },
      {
       "output_type": "stream",
       "stream": "stdout",
       "text": [
        "writing to /tmp/mr_weather_step12_a.ubuntu.20140613.084837.389730/step-1-reducer_part-00000\r\n",
        "> /home/ubuntu/anaconda/bin/python mr_weather_step12_a.py --step-num=1 --reducer --partitions dfPartition.pkl.gz --means dfMeans.pkl.gz /tmp/mr_weather_step12_a.ubuntu.20140613.084837.389730/input_part-00000 > /tmp/mr_weather_step12_a.ubuntu.20140613.084837.389730/step-1-reducer_part-00000\r\n"
       ]
      },
      {
       "output_type": "stream",
       "stream": "stdout",
       "text": [
        "writing to /tmp/mr_weather_step12_a.ubuntu.20140613.084837.389730/step-1-reducer_part-00001\r\n",
        "> /home/ubuntu/anaconda/bin/python mr_weather_step12_a.py --step-num=1 --reducer --partitions dfPartition.pkl.gz --means dfMeans.pkl.gz /tmp/mr_weather_step12_a.ubuntu.20140613.084837.389730/input_part-00001 > /tmp/mr_weather_step12_a.ubuntu.20140613.084837.389730/step-1-reducer_part-00001\r\n"
       ]
      },
      {
       "output_type": "stream",
       "stream": "stdout",
       "text": [
        "STDERR: /usr/local/lib/python2.7/dist-packages/numpy/ma/core.py:3847: UserWarning: Warning: converting a masked element to nan.\r\n",
        "STDERR:   warnings.warn(\"Warning: converting a masked element to nan.\")\r\n"
       ]
      },
      {
       "output_type": "stream",
       "stream": "stdout",
       "text": [
        "STDERR: /usr/local/lib/python2.7/dist-packages/numpy/ma/core.py:3847: UserWarning: Warning: converting a masked element to nan.\r\n",
        "STDERR:   warnings.warn(\"Warning: converting a masked element to nan.\")\r\n"
       ]
      },
      {
       "output_type": "stream",
       "stream": "stdout",
       "text": [
        "Counters from step 2:\r\n",
        "  MrJob Step 2:\r\n",
        "    mapper-cov: 2\r\n",
        "    reducer-cov: 266815\r\n",
        "Moving /tmp/mr_weather_step12_a.ubuntu.20140613.084837.389730/step-1-reducer_part-00000 -> /tmp/mr_weather_step12_a.ubuntu.20140613.084837.389730/output/part-00000\r\n",
        "Moving /tmp/mr_weather_step12_a.ubuntu.20140613.084837.389730/step-1-reducer_part-00001 -> /tmp/mr_weather_step12_a.ubuntu.20140613.084837.389730/output/part-00001\r\n",
        "Streaming final output from /tmp/mr_weather_step12_a.ubuntu.20140613.084837.389730/output\r\n"
       ]
      },
      {
       "output_type": "stream",
       "stream": "stdout",
       "text": [
        "removing tmp directory /tmp/mr_weather_step12_a.ubuntu.20140613.084837.389730\r\n"
       ]
      }
     ],
     "prompt_number": 78
    },
    {
     "cell_type": "code",
     "collapsed": false,
     "input": [
      "cov_b = pd.read_table(\"cov_b.pkl\")\n"
     ],
     "language": "python",
     "metadata": {},
     "outputs": [],
     "prompt_number": 79
    },
    {
     "cell_type": "code",
     "collapsed": false,
     "input": [
      "cov_b"
     ],
     "language": "python",
     "metadata": {},
     "outputs": [
      {
       "html": [
        "<div style=\"max-height:1000px;max-width:1500px;overflow:auto;\">\n",
        "<table border=\"1\" class=\"dataframe\">\n",
        "  <thead>\n",
        "    <tr style=\"text-align: right;\">\n",
        "      <th></th>\n",
        "      <th>[730, 305, 381]</th>\n",
        "      <th>NaN</th>\n",
        "    </tr>\n",
        "  </thead>\n",
        "  <tbody>\n",
        "    <tr>\n",
        "      <th>0 </th>\n",
        "      <td> [730, 305, 382]</td>\n",
        "      <td>NaN</td>\n",
        "    </tr>\n",
        "    <tr>\n",
        "      <th>1 </th>\n",
        "      <td> [730, 305, 383]</td>\n",
        "      <td>NaN</td>\n",
        "    </tr>\n",
        "    <tr>\n",
        "      <th>2 </th>\n",
        "      <td> [730, 305, 384]</td>\n",
        "      <td>NaN</td>\n",
        "    </tr>\n",
        "    <tr>\n",
        "      <th>3 </th>\n",
        "      <td> [730, 305, 385]</td>\n",
        "      <td>NaN</td>\n",
        "    </tr>\n",
        "    <tr>\n",
        "      <th>4 </th>\n",
        "      <td> [730, 305, 386]</td>\n",
        "      <td>NaN</td>\n",
        "    </tr>\n",
        "    <tr>\n",
        "      <th>5 </th>\n",
        "      <td> [730, 305, 387]</td>\n",
        "      <td>NaN</td>\n",
        "    </tr>\n",
        "    <tr>\n",
        "      <th>6 </th>\n",
        "      <td> [730, 305, 388]</td>\n",
        "      <td>NaN</td>\n",
        "    </tr>\n",
        "    <tr>\n",
        "      <th>7 </th>\n",
        "      <td> [730, 305, 389]</td>\n",
        "      <td>NaN</td>\n",
        "    </tr>\n",
        "    <tr>\n",
        "      <th>8 </th>\n",
        "      <td> [730, 305, 390]</td>\n",
        "      <td>NaN</td>\n",
        "    </tr>\n",
        "    <tr>\n",
        "      <th>9 </th>\n",
        "      <td> [730, 305, 391]</td>\n",
        "      <td>NaN</td>\n",
        "    </tr>\n",
        "    <tr>\n",
        "      <th>10</th>\n",
        "      <td> [730, 305, 392]</td>\n",
        "      <td>NaN</td>\n",
        "    </tr>\n",
        "    <tr>\n",
        "      <th>11</th>\n",
        "      <td> [730, 305, 393]</td>\n",
        "      <td>NaN</td>\n",
        "    </tr>\n",
        "    <tr>\n",
        "      <th>12</th>\n",
        "      <td> [730, 305, 394]</td>\n",
        "      <td>NaN</td>\n",
        "    </tr>\n",
        "    <tr>\n",
        "      <th>13</th>\n",
        "      <td> [730, 305, 395]</td>\n",
        "      <td>NaN</td>\n",
        "    </tr>\n",
        "    <tr>\n",
        "      <th>14</th>\n",
        "      <td> [730, 305, 396]</td>\n",
        "      <td>NaN</td>\n",
        "    </tr>\n",
        "    <tr>\n",
        "      <th>15</th>\n",
        "      <td> [730, 305, 397]</td>\n",
        "      <td>NaN</td>\n",
        "    </tr>\n",
        "    <tr>\n",
        "      <th>16</th>\n",
        "      <td> [730, 305, 398]</td>\n",
        "      <td>NaN</td>\n",
        "    </tr>\n",
        "    <tr>\n",
        "      <th>17</th>\n",
        "      <td> [730, 305, 399]</td>\n",
        "      <td>NaN</td>\n",
        "    </tr>\n",
        "    <tr>\n",
        "      <th>18</th>\n",
        "      <td> [730, 305, 400]</td>\n",
        "      <td>NaN</td>\n",
        "    </tr>\n",
        "    <tr>\n",
        "      <th>19</th>\n",
        "      <td> [730, 305, 401]</td>\n",
        "      <td>NaN</td>\n",
        "    </tr>\n",
        "    <tr>\n",
        "      <th>20</th>\n",
        "      <td> [730, 305, 402]</td>\n",
        "      <td>NaN</td>\n",
        "    </tr>\n",
        "    <tr>\n",
        "      <th>21</th>\n",
        "      <td> [730, 305, 403]</td>\n",
        "      <td>NaN</td>\n",
        "    </tr>\n",
        "    <tr>\n",
        "      <th>22</th>\n",
        "      <td> [730, 305, 404]</td>\n",
        "      <td>NaN</td>\n",
        "    </tr>\n",
        "    <tr>\n",
        "      <th>23</th>\n",
        "      <td> [730, 305, 405]</td>\n",
        "      <td>NaN</td>\n",
        "    </tr>\n",
        "    <tr>\n",
        "      <th>24</th>\n",
        "      <td> [730, 305, 406]</td>\n",
        "      <td>NaN</td>\n",
        "    </tr>\n",
        "    <tr>\n",
        "      <th>25</th>\n",
        "      <td> [730, 305, 407]</td>\n",
        "      <td>NaN</td>\n",
        "    </tr>\n",
        "    <tr>\n",
        "      <th>26</th>\n",
        "      <td> [730, 305, 408]</td>\n",
        "      <td>NaN</td>\n",
        "    </tr>\n",
        "    <tr>\n",
        "      <th>27</th>\n",
        "      <td> [730, 305, 409]</td>\n",
        "      <td>NaN</td>\n",
        "    </tr>\n",
        "    <tr>\n",
        "      <th>28</th>\n",
        "      <td> [730, 305, 410]</td>\n",
        "      <td>NaN</td>\n",
        "    </tr>\n",
        "    <tr>\n",
        "      <th>29</th>\n",
        "      <td> [730, 305, 411]</td>\n",
        "      <td>NaN</td>\n",
        "    </tr>\n",
        "    <tr>\n",
        "      <th>30</th>\n",
        "      <td> [730, 305, 412]</td>\n",
        "      <td>NaN</td>\n",
        "    </tr>\n",
        "    <tr>\n",
        "      <th>31</th>\n",
        "      <td> [730, 305, 413]</td>\n",
        "      <td>NaN</td>\n",
        "    </tr>\n",
        "    <tr>\n",
        "      <th>32</th>\n",
        "      <td> [730, 305, 414]</td>\n",
        "      <td>NaN</td>\n",
        "    </tr>\n",
        "    <tr>\n",
        "      <th>33</th>\n",
        "      <td> [730, 305, 415]</td>\n",
        "      <td>NaN</td>\n",
        "    </tr>\n",
        "    <tr>\n",
        "      <th>34</th>\n",
        "      <td> [730, 305, 416]</td>\n",
        "      <td>NaN</td>\n",
        "    </tr>\n",
        "    <tr>\n",
        "      <th>35</th>\n",
        "      <td> [730, 305, 417]</td>\n",
        "      <td>NaN</td>\n",
        "    </tr>\n",
        "    <tr>\n",
        "      <th>36</th>\n",
        "      <td> [730, 305, 418]</td>\n",
        "      <td>NaN</td>\n",
        "    </tr>\n",
        "    <tr>\n",
        "      <th>37</th>\n",
        "      <td> [730, 305, 419]</td>\n",
        "      <td>NaN</td>\n",
        "    </tr>\n",
        "    <tr>\n",
        "      <th>38</th>\n",
        "      <td> [730, 305, 420]</td>\n",
        "      <td>NaN</td>\n",
        "    </tr>\n",
        "    <tr>\n",
        "      <th>39</th>\n",
        "      <td> [730, 305, 421]</td>\n",
        "      <td>NaN</td>\n",
        "    </tr>\n",
        "    <tr>\n",
        "      <th>40</th>\n",
        "      <td> [730, 305, 422]</td>\n",
        "      <td>NaN</td>\n",
        "    </tr>\n",
        "    <tr>\n",
        "      <th>41</th>\n",
        "      <td> [730, 305, 423]</td>\n",
        "      <td>NaN</td>\n",
        "    </tr>\n",
        "    <tr>\n",
        "      <th>42</th>\n",
        "      <td> [730, 305, 424]</td>\n",
        "      <td>NaN</td>\n",
        "    </tr>\n",
        "    <tr>\n",
        "      <th>43</th>\n",
        "      <td> [730, 305, 425]</td>\n",
        "      <td>NaN</td>\n",
        "    </tr>\n",
        "    <tr>\n",
        "      <th>44</th>\n",
        "      <td> [730, 305, 426]</td>\n",
        "      <td>NaN</td>\n",
        "    </tr>\n",
        "    <tr>\n",
        "      <th>45</th>\n",
        "      <td> [730, 305, 427]</td>\n",
        "      <td>NaN</td>\n",
        "    </tr>\n",
        "    <tr>\n",
        "      <th>46</th>\n",
        "      <td> [730, 305, 428]</td>\n",
        "      <td>NaN</td>\n",
        "    </tr>\n",
        "    <tr>\n",
        "      <th>47</th>\n",
        "      <td> [730, 305, 429]</td>\n",
        "      <td>NaN</td>\n",
        "    </tr>\n",
        "    <tr>\n",
        "      <th>48</th>\n",
        "      <td> [730, 305, 430]</td>\n",
        "      <td>NaN</td>\n",
        "    </tr>\n",
        "    <tr>\n",
        "      <th>49</th>\n",
        "      <td> [730, 305, 431]</td>\n",
        "      <td>NaN</td>\n",
        "    </tr>\n",
        "    <tr>\n",
        "      <th>50</th>\n",
        "      <td> [730, 305, 432]</td>\n",
        "      <td>NaN</td>\n",
        "    </tr>\n",
        "    <tr>\n",
        "      <th>51</th>\n",
        "      <td> [730, 305, 433]</td>\n",
        "      <td>NaN</td>\n",
        "    </tr>\n",
        "    <tr>\n",
        "      <th>52</th>\n",
        "      <td> [730, 305, 434]</td>\n",
        "      <td>NaN</td>\n",
        "    </tr>\n",
        "    <tr>\n",
        "      <th>53</th>\n",
        "      <td> [730, 305, 435]</td>\n",
        "      <td>NaN</td>\n",
        "    </tr>\n",
        "    <tr>\n",
        "      <th>54</th>\n",
        "      <td> [730, 305, 436]</td>\n",
        "      <td>NaN</td>\n",
        "    </tr>\n",
        "    <tr>\n",
        "      <th>55</th>\n",
        "      <td> [730, 305, 437]</td>\n",
        "      <td>NaN</td>\n",
        "    </tr>\n",
        "    <tr>\n",
        "      <th>56</th>\n",
        "      <td> [730, 305, 438]</td>\n",
        "      <td>NaN</td>\n",
        "    </tr>\n",
        "    <tr>\n",
        "      <th>57</th>\n",
        "      <td> [730, 305, 439]</td>\n",
        "      <td>NaN</td>\n",
        "    </tr>\n",
        "    <tr>\n",
        "      <th>58</th>\n",
        "      <td> [730, 305, 440]</td>\n",
        "      <td>NaN</td>\n",
        "    </tr>\n",
        "    <tr>\n",
        "      <th>59</th>\n",
        "      <td> [730, 305, 441]</td>\n",
        "      <td>NaN</td>\n",
        "    </tr>\n",
        "    <tr>\n",
        "      <th></th>\n",
        "      <td>...</td>\n",
        "      <td>...</td>\n",
        "    </tr>\n",
        "  </tbody>\n",
        "</table>\n",
        "<p>266814 rows \u00d7 2 columns</p>\n",
        "</div>"
       ],
       "metadata": {},
       "output_type": "pyout",
       "prompt_number": 80,
       "text": [
        "    [730, 305, 381]  NaN\n",
        "0   [730, 305, 382]  NaN\n",
        "1   [730, 305, 383]  NaN\n",
        "2   [730, 305, 384]  NaN\n",
        "3   [730, 305, 385]  NaN\n",
        "4   [730, 305, 386]  NaN\n",
        "5   [730, 305, 387]  NaN\n",
        "6   [730, 305, 388]  NaN\n",
        "7   [730, 305, 389]  NaN\n",
        "8   [730, 305, 390]  NaN\n",
        "9   [730, 305, 391]  NaN\n",
        "10  [730, 305, 392]  NaN\n",
        "11  [730, 305, 393]  NaN\n",
        "12  [730, 305, 394]  NaN\n",
        "13  [730, 305, 395]  NaN\n",
        "14  [730, 305, 396]  NaN\n",
        "15  [730, 305, 397]  NaN\n",
        "16  [730, 305, 398]  NaN\n",
        "17  [730, 305, 399]  NaN\n",
        "18  [730, 305, 400]  NaN\n",
        "19  [730, 305, 401]  NaN\n",
        "20  [730, 305, 402]  NaN\n",
        "21  [730, 305, 403]  NaN\n",
        "22  [730, 305, 404]  NaN\n",
        "23  [730, 305, 405]  NaN\n",
        "24  [730, 305, 406]  NaN\n",
        "25  [730, 305, 407]  NaN\n",
        "26  [730, 305, 408]  NaN\n",
        "27  [730, 305, 409]  NaN\n",
        "28  [730, 305, 410]  NaN\n",
        "29  [730, 305, 411]  NaN\n",
        "30  [730, 305, 412]  NaN\n",
        "31  [730, 305, 413]  NaN\n",
        "32  [730, 305, 414]  NaN\n",
        "33  [730, 305, 415]  NaN\n",
        "34  [730, 305, 416]  NaN\n",
        "35  [730, 305, 417]  NaN\n",
        "36  [730, 305, 418]  NaN\n",
        "37  [730, 305, 419]  NaN\n",
        "38  [730, 305, 420]  NaN\n",
        "39  [730, 305, 421]  NaN\n",
        "40  [730, 305, 422]  NaN\n",
        "41  [730, 305, 423]  NaN\n",
        "42  [730, 305, 424]  NaN\n",
        "43  [730, 305, 425]  NaN\n",
        "44  [730, 305, 426]  NaN\n",
        "45  [730, 305, 427]  NaN\n",
        "46  [730, 305, 428]  NaN\n",
        "47  [730, 305, 429]  NaN\n",
        "48  [730, 305, 430]  NaN\n",
        "49  [730, 305, 431]  NaN\n",
        "50  [730, 305, 432]  NaN\n",
        "51  [730, 305, 433]  NaN\n",
        "52  [730, 305, 434]  NaN\n",
        "53  [730, 305, 435]  NaN\n",
        "54  [730, 305, 436]  NaN\n",
        "55  [730, 305, 437]  NaN\n",
        "56  [730, 305, 438]  NaN\n",
        "57  [730, 305, 439]  NaN\n",
        "58  [730, 305, 440]  NaN\n",
        "59  [730, 305, 441]  NaN\n",
        "                ...  ...\n",
        "\n",
        "[266814 rows x 2 columns]"
       ]
      }
     ],
     "prompt_number": 80
    },
    {
     "cell_type": "code",
     "collapsed": false,
     "input": [
      "cov_a = pd.read_table(\"cov_a.pkl\")"
     ],
     "language": "python",
     "metadata": {},
     "outputs": [],
     "prompt_number": 37
    },
    {
     "cell_type": "code",
     "collapsed": false,
     "input": [
      "arr = [0, 0, 0, 0]\n",
      "for line in cov_a.ix[:,0]:\n",
      "    row = eval(line)\n",
      "    if row[0] == 1462:\n",
      "        if row[1] < arr[0]:\n",
      "            arr[0] = row[1]\n",
      "        if row[1] > arr[1]:\n",
      "            arr[1] = row[1]\n",
      "        if row[2] < arr[2]:\n",
      "            arr[2] = row[2]\n",
      "        if row[2] > arr[3]:\n",
      "            arr[3] = row[2]\n",
      "arr"
     ],
     "language": "python",
     "metadata": {},
     "outputs": [
      {
       "metadata": {},
       "output_type": "pyout",
       "prompt_number": 42,
       "text": [
        "[0, 729, 0, 729]"
       ]
      }
     ],
     "prompt_number": 42
    },
    {
     "cell_type": "code",
     "collapsed": false,
     "input": [
      "Creds= pickle.load(open('/home/ubuntu/Vault/Creds.pkl','rb'))\n",
      "pair=Creds['mrjob']\n",
      "key_id=pair['key_id']\n",
      "secret_key=pair['secret_key']\n",
      "\n",
      "job_flow_id=find_waiting_flow(key_id,secret_key)"
     ],
     "language": "python",
     "metadata": {},
     "outputs": [
      {
       "output_type": "stream",
       "stream": "stdout",
       "text": [
        "<boto.emr.emrobject.JobFlow object at 0xc180990> no_script.yoavfreund.20140610.012515.693483 j-3SOQM885E1GLH WAITING\n",
        "<boto.emr.emrobject.JobFlow object at 0x91fad50> no_script.yoavfreund.20140611.181703.600873 j-2N4U1USC54EM6 WAITING\n",
        "<boto.emr.emrobject.JobFlow object at 0x9204450> no_script.yoavfreund.20140611.181713.270989 j-3QZOHADZF9KY1 WAITING\n",
        "<boto.emr.emrobject.JobFlow object at 0x8e759d0> no_script.yoavfreund.20140611.181730.511103 j-2S5LTMBIWD2WB WAITING\n",
        "<boto.emr.emrobject.JobFlow object at 0x2e40a0d0> no_script.yoavfreund.20140611.181738.864430 j-3TFYHEIHI9VOY WAITING\n"
       ]
      }
     ],
     "prompt_number": 81
    },
    {
     "cell_type": "code",
     "collapsed": false,
     "input": [
      "!python mr_weather_step12_a.py --partitions dfPartition.pkl.gz --means dfMeans.pkl.gz -r emr --emr-job-flow-id $job_flow_id hdfs:/weather.raw_data/ALL.csv_64 > cov_64.pkl"
     ],
     "language": "python",
     "metadata": {},
     "outputs": [
      {
       "output_type": "stream",
       "stream": "stdout",
       "text": [
        "using configs in /home/ubuntu/.mrjob.conf\r\n"
       ]
      },
      {
       "output_type": "stream",
       "stream": "stdout",
       "text": [
        "creating tmp directory /tmp/mr_weather_step12_a.ubuntu.20140613.085010.640322\r\n"
       ]
      },
      {
       "output_type": "stream",
       "stream": "stdout",
       "text": [
        "Copying non-input files into s3://yoav.hadoop/scratch/mr_weather_step12_a.ubuntu.20140613.085010.640322/files/\r\n"
       ]
      },
      {
       "output_type": "stream",
       "stream": "stdout",
       "text": [
        "Adding our job to existing job flow j-3TFYHEIHI9VOY\r\n"
       ]
      },
      {
       "output_type": "stream",
       "stream": "stdout",
       "text": [
        "Job launched 31.1s ago, status RUNNING: Running step (mr_weather_step12_a.ubuntu.20140613.085010.640322: Step 1 of 2)\r\n"
       ]
      },
      {
       "output_type": "stream",
       "stream": "stdout",
       "text": [
        "Job launched 62.2s ago, status RUNNING: Running step (mr_weather_step12_a.ubuntu.20140613.085010.640322: Step 1 of 2)\r\n"
       ]
      },
      {
       "output_type": "stream",
       "stream": "stdout",
       "text": [
        "Job launched 93.3s ago, status RUNNING: Running step (mr_weather_step12_a.ubuntu.20140613.085010.640322: Step 1 of 2)\r\n"
       ]
      },
      {
       "output_type": "stream",
       "stream": "stdout",
       "text": [
        "Job launched 124.4s ago, status RUNNING: Running step (mr_weather_step12_a.ubuntu.20140613.085010.640322: Step 1 of 2)\r\n"
       ]
      },
      {
       "output_type": "stream",
       "stream": "stdout",
       "text": [
        "Job launched 155.4s ago, status RUNNING: Running step (mr_weather_step12_a.ubuntu.20140613.085010.640322: Step 2 of 2)\r\n"
       ]
      },
      {
       "output_type": "stream",
       "stream": "stdout",
       "text": [
        "Job launched 186.5s ago, status RUNNING: Running step (mr_weather_step12_a.ubuntu.20140613.085010.640322: Step 2 of 2)\r\n"
       ]
      },
      {
       "output_type": "stream",
       "stream": "stdout",
       "text": [
        "Job launched 217.7s ago, status RUNNING: Running step (mr_weather_step12_a.ubuntu.20140613.085010.640322: Step 2 of 2)\r\n"
       ]
      },
      {
       "output_type": "stream",
       "stream": "stdout",
       "text": [
        "Job launched 248.6s ago, status RUNNING: Running step (mr_weather_step12_a.ubuntu.20140613.085010.640322: Step 2 of 2)\r\n"
       ]
      },
      {
       "output_type": "stream",
       "stream": "stdout",
       "text": [
        "Job launched 279.6s ago, status RUNNING: Running step (mr_weather_step12_a.ubuntu.20140613.085010.640322: Step 2 of 2)\r\n"
       ]
      },
      {
       "output_type": "stream",
       "stream": "stdout",
       "text": [
        "Job launched 310.6s ago, status RUNNING: Running step (mr_weather_step12_a.ubuntu.20140613.085010.640322: Step 2 of 2)\r\n"
       ]
      },
      {
       "output_type": "stream",
       "stream": "stdout",
       "text": [
        "Job launched 341.7s ago, status RUNNING: Running step (mr_weather_step12_a.ubuntu.20140613.085010.640322: Step 2 of 2)\r\n"
       ]
      },
      {
       "output_type": "stream",
       "stream": "stdout",
       "text": [
        "Job launched 372.8s ago, status RUNNING: Running step (mr_weather_step12_a.ubuntu.20140613.085010.640322: Step 2 of 2)\r\n"
       ]
      },
      {
       "output_type": "stream",
       "stream": "stdout",
       "text": [
        "Job launched 403.9s ago, status RUNNING: Running step (mr_weather_step12_a.ubuntu.20140613.085010.640322: Step 2 of 2)\r\n"
       ]
      },
      {
       "output_type": "stream",
       "stream": "stdout",
       "text": [
        "Job launched 434.9s ago, status RUNNING: Running step (mr_weather_step12_a.ubuntu.20140613.085010.640322: Step 2 of 2)\r\n"
       ]
      },
      {
       "output_type": "stream",
       "stream": "stdout",
       "text": [
        "Job launched 465.9s ago, status RUNNING: Running step (mr_weather_step12_a.ubuntu.20140613.085010.640322: Step 2 of 2)\r\n"
       ]
      },
      {
       "output_type": "stream",
       "stream": "stdout",
       "text": [
        "Job launched 496.9s ago, status RUNNING: Running step (mr_weather_step12_a.ubuntu.20140613.085010.640322: Step 2 of 2)\r\n"
       ]
      },
      {
       "output_type": "stream",
       "stream": "stdout",
       "text": [
        "Job launched 528.0s ago, status RUNNING: Running step (mr_weather_step12_a.ubuntu.20140613.085010.640322: Step 2 of 2)\r\n"
       ]
      },
      {
       "output_type": "stream",
       "stream": "stdout",
       "text": [
        "Job launched 559.1s ago, status RUNNING: Running step (mr_weather_step12_a.ubuntu.20140613.085010.640322: Step 2 of 2)\r\n"
       ]
      },
      {
       "output_type": "stream",
       "stream": "stdout",
       "text": [
        "Job launched 590.0s ago, status RUNNING: Running step (mr_weather_step12_a.ubuntu.20140613.085010.640322: Step 2 of 2)\r\n"
       ]
      },
      {
       "output_type": "stream",
       "stream": "stdout",
       "text": [
        "Job launched 621.2s ago, status RUNNING: Running step (mr_weather_step12_a.ubuntu.20140613.085010.640322: Step 2 of 2)\r\n"
       ]
      },
      {
       "output_type": "stream",
       "stream": "stdout",
       "text": [
        "Job launched 652.0s ago, status RUNNING: Running step (mr_weather_step12_a.ubuntu.20140613.085010.640322: Step 2 of 2)\r\n"
       ]
      },
      {
       "output_type": "stream",
       "stream": "stdout",
       "text": [
        "Job launched 683.1s ago, status RUNNING: Running step (mr_weather_step12_a.ubuntu.20140613.085010.640322: Step 2 of 2)\r\n"
       ]
      },
      {
       "output_type": "stream",
       "stream": "stdout",
       "text": [
        "Job launched 714.0s ago, status RUNNING: Running step (mr_weather_step12_a.ubuntu.20140613.085010.640322: Step 2 of 2)\r\n"
       ]
      },
      {
       "output_type": "stream",
       "stream": "stdout",
       "text": [
        "Job launched 745.1s ago, status RUNNING: Running step (mr_weather_step12_a.ubuntu.20140613.085010.640322: Step 2 of 2)\r\n"
       ]
      },
      {
       "output_type": "stream",
       "stream": "stdout",
       "text": [
        "Job launched 776.0s ago, status RUNNING: Running step (mr_weather_step12_a.ubuntu.20140613.085010.640322: Step 2 of 2)\r\n"
       ]
      },
      {
       "output_type": "stream",
       "stream": "stdout",
       "text": [
        "Job launched 807.0s ago, status RUNNING: Running step (mr_weather_step12_a.ubuntu.20140613.085010.640322: Step 2 of 2)\r\n"
       ]
      },
      {
       "output_type": "stream",
       "stream": "stdout",
       "text": [
        "Job launched 838.0s ago, status RUNNING: Running step (mr_weather_step12_a.ubuntu.20140613.085010.640322: Step 2 of 2)\r\n"
       ]
      },
      {
       "output_type": "stream",
       "stream": "stdout",
       "text": [
        "Job launched 869.3s ago, status RUNNING: Running step (mr_weather_step12_a.ubuntu.20140613.085010.640322: Step 2 of 2)\r\n"
       ]
      },
      {
       "output_type": "stream",
       "stream": "stdout",
       "text": [
        "Job launched 900.4s ago, status RUNNING: Running step (mr_weather_step12_a.ubuntu.20140613.085010.640322: Step 2 of 2)\r\n"
       ]
      },
      {
       "output_type": "stream",
       "stream": "stdout",
       "text": [
        "Job launched 931.6s ago, status RUNNING: Running step (mr_weather_step12_a.ubuntu.20140613.085010.640322: Step 2 of 2)\r\n"
       ]
      },
      {
       "output_type": "stream",
       "stream": "stdout",
       "text": [
        "Job launched 962.8s ago, status RUNNING: Running step (mr_weather_step12_a.ubuntu.20140613.085010.640322: Step 2 of 2)\r\n"
       ]
      },
      {
       "output_type": "stream",
       "stream": "stdout",
       "text": [
        "Job launched 993.8s ago, status RUNNING: Running step (mr_weather_step12_a.ubuntu.20140613.085010.640322: Step 2 of 2)\r\n"
       ]
      },
      {
       "output_type": "stream",
       "stream": "stdout",
       "text": [
        "Job launched 1024.8s ago, status RUNNING: Running step (mr_weather_step12_a.ubuntu.20140613.085010.640322: Step 2 of 2)\r\n"
       ]
      },
      {
       "output_type": "stream",
       "stream": "stdout",
       "text": [
        "Job launched 1055.9s ago, status RUNNING: Running step (mr_weather_step12_a.ubuntu.20140613.085010.640322: Step 2 of 2)\r\n"
       ]
      },
      {
       "output_type": "stream",
       "stream": "stdout",
       "text": [
        "Job launched 1087.0s ago, status RUNNING: Running step (mr_weather_step12_a.ubuntu.20140613.085010.640322: Step 2 of 2)\r\n"
       ]
      },
      {
       "output_type": "stream",
       "stream": "stdout",
       "text": [
        "Job launched 1118.0s ago, status RUNNING: Running step (mr_weather_step12_a.ubuntu.20140613.085010.640322: Step 2 of 2)\r\n"
       ]
      },
      {
       "output_type": "stream",
       "stream": "stdout",
       "text": [
        "Job launched 1149.0s ago, status RUNNING: Running step (mr_weather_step12_a.ubuntu.20140613.085010.640322: Step 2 of 2)\r\n"
       ]
      },
      {
       "output_type": "stream",
       "stream": "stdout",
       "text": [
        "Job launched 1180.0s ago, status RUNNING: Running step (mr_weather_step12_a.ubuntu.20140613.085010.640322: Step 2 of 2)\r\n"
       ]
      },
      {
       "output_type": "stream",
       "stream": "stdout",
       "text": [
        "Job launched 1211.1s ago, status RUNNING: Running step (mr_weather_step12_a.ubuntu.20140613.085010.640322: Step 2 of 2)\r\n"
       ]
      },
      {
       "output_type": "stream",
       "stream": "stdout",
       "text": [
        "Job launched 1242.2s ago, status RUNNING: Running step (mr_weather_step12_a.ubuntu.20140613.085010.640322: Step 2 of 2)\r\n"
       ]
      },
      {
       "output_type": "stream",
       "stream": "stdout",
       "text": [
        "Job launched 1273.3s ago, status RUNNING: Running step (mr_weather_step12_a.ubuntu.20140613.085010.640322: Step 2 of 2)\r\n"
       ]
      },
      {
       "output_type": "stream",
       "stream": "stdout",
       "text": [
        "Job launched 1304.3s ago, status RUNNING: Running step (mr_weather_step12_a.ubuntu.20140613.085010.640322: Step 2 of 2)\r\n"
       ]
      },
      {
       "output_type": "stream",
       "stream": "stdout",
       "text": [
        "Job launched 1335.3s ago, status RUNNING: Running step (mr_weather_step12_a.ubuntu.20140613.085010.640322: Step 2 of 2)\r\n"
       ]
      },
      {
       "output_type": "stream",
       "stream": "stdout",
       "text": [
        "Job launched 1366.3s ago, status RUNNING: Running step (mr_weather_step12_a.ubuntu.20140613.085010.640322: Step 2 of 2)\r\n"
       ]
      },
      {
       "output_type": "stream",
       "stream": "stdout",
       "text": [
        "Job launched 1397.3s ago, status RUNNING: Running step (mr_weather_step12_a.ubuntu.20140613.085010.640322: Step 2 of 2)\r\n"
       ]
      },
      {
       "output_type": "stream",
       "stream": "stdout",
       "text": [
        "Job launched 1428.3s ago, status RUNNING: Running step (mr_weather_step12_a.ubuntu.20140613.085010.640322: Step 2 of 2)\r\n"
       ]
      },
      {
       "output_type": "stream",
       "stream": "stdout",
       "text": [
        "Job launched 1459.4s ago, status RUNNING: Running step (mr_weather_step12_a.ubuntu.20140613.085010.640322: Step 2 of 2)\r\n"
       ]
      },
      {
       "output_type": "stream",
       "stream": "stdout",
       "text": [
        "Job launched 1490.3s ago, status RUNNING: Running step (mr_weather_step12_a.ubuntu.20140613.085010.640322: Step 2 of 2)\r\n"
       ]
      },
      {
       "output_type": "stream",
       "stream": "stdout",
       "text": [
        "Job launched 1521.4s ago, status RUNNING: Running step (mr_weather_step12_a.ubuntu.20140613.085010.640322: Step 2 of 2)\r\n"
       ]
      },
      {
       "output_type": "stream",
       "stream": "stdout",
       "text": [
        "Job launched 1552.6s ago, status RUNNING: Running step (mr_weather_step12_a.ubuntu.20140613.085010.640322: Step 2 of 2)\r\n"
       ]
      },
      {
       "output_type": "stream",
       "stream": "stdout",
       "text": [
        "Job launched 1583.7s ago, status RUNNING: Running step (mr_weather_step12_a.ubuntu.20140613.085010.640322: Step 2 of 2)\r\n"
       ]
      },
      {
       "output_type": "stream",
       "stream": "stdout",
       "text": [
        "Job launched 1614.8s ago, status RUNNING: Running step (mr_weather_step12_a.ubuntu.20140613.085010.640322: Step 2 of 2)\r\n"
       ]
      },
      {
       "output_type": "stream",
       "stream": "stdout",
       "text": [
        "Job launched 1645.8s ago, status RUNNING: Running step (mr_weather_step12_a.ubuntu.20140613.085010.640322: Step 2 of 2)\r\n"
       ]
      },
      {
       "output_type": "stream",
       "stream": "stdout",
       "text": [
        "Job launched 1676.7s ago, status RUNNING: Running step (mr_weather_step12_a.ubuntu.20140613.085010.640322: Step 2 of 2)\r\n"
       ]
      },
      {
       "output_type": "stream",
       "stream": "stdout",
       "text": [
        "Job launched 1707.7s ago, status RUNNING: Running step (mr_weather_step12_a.ubuntu.20140613.085010.640322: Step 2 of 2)\r\n"
       ]
      },
      {
       "output_type": "stream",
       "stream": "stdout",
       "text": [
        "Job launched 1738.8s ago, status RUNNING: Running step (mr_weather_step12_a.ubuntu.20140613.085010.640322: Step 2 of 2)\r\n"
       ]
      },
      {
       "output_type": "stream",
       "stream": "stdout",
       "text": [
        "Job launched 1769.8s ago, status RUNNING: Running step (mr_weather_step12_a.ubuntu.20140613.085010.640322: Step 2 of 2)\r\n"
       ]
      },
      {
       "output_type": "stream",
       "stream": "stdout",
       "text": [
        "Job launched 1800.9s ago, status RUNNING: Running step (mr_weather_step12_a.ubuntu.20140613.085010.640322: Step 2 of 2)\r\n"
       ]
      },
      {
       "output_type": "stream",
       "stream": "stdout",
       "text": [
        "Job launched 1831.9s ago, status RUNNING: Running step (mr_weather_step12_a.ubuntu.20140613.085010.640322: Step 2 of 2)\r\n"
       ]
      },
      {
       "output_type": "stream",
       "stream": "stdout",
       "text": [
        "Job launched 1863.0s ago, status RUNNING: Running step (mr_weather_step12_a.ubuntu.20140613.085010.640322: Step 2 of 2)\r\n"
       ]
      },
      {
       "output_type": "stream",
       "stream": "stdout",
       "text": [
        "Job launched 1894.1s ago, status RUNNING: Running step (mr_weather_step12_a.ubuntu.20140613.085010.640322: Step 2 of 2)\r\n"
       ]
      },
      {
       "output_type": "stream",
       "stream": "stdout",
       "text": [
        "Job launched 1925.0s ago, status RUNNING: Running step (mr_weather_step12_a.ubuntu.20140613.085010.640322: Step 2 of 2)\r\n"
       ]
      },
      {
       "output_type": "stream",
       "stream": "stdout",
       "text": [
        "Job launched 1956.1s ago, status RUNNING: Running step (mr_weather_step12_a.ubuntu.20140613.085010.640322: Step 2 of 2)\r\n"
       ]
      },
      {
       "output_type": "stream",
       "stream": "stdout",
       "text": [
        "Job launched 1987.2s ago, status RUNNING: Running step (mr_weather_step12_a.ubuntu.20140613.085010.640322: Step 2 of 2)\r\n"
       ]
      },
      {
       "output_type": "stream",
       "stream": "stdout",
       "text": [
        "Job launched 2018.3s ago, status RUNNING: Running step (mr_weather_step12_a.ubuntu.20140613.085010.640322: Step 2 of 2)\r\n"
       ]
      },
      {
       "output_type": "stream",
       "stream": "stdout",
       "text": [
        "Job launched 2049.4s ago, status RUNNING: Running step (mr_weather_step12_a.ubuntu.20140613.085010.640322: Step 2 of 2)\r\n"
       ]
      },
      {
       "output_type": "stream",
       "stream": "stdout",
       "text": [
        "Job launched 2080.4s ago, status RUNNING: Running step (mr_weather_step12_a.ubuntu.20140613.085010.640322: Step 2 of 2)\r\n"
       ]
      },
      {
       "output_type": "stream",
       "stream": "stdout",
       "text": [
        "Job launched 2111.5s ago, status RUNNING: Running step (mr_weather_step12_a.ubuntu.20140613.085010.640322: Step 2 of 2)\r\n"
       ]
      },
      {
       "output_type": "stream",
       "stream": "stdout",
       "text": [
        "Job launched 2142.4s ago, status RUNNING: Running step (mr_weather_step12_a.ubuntu.20140613.085010.640322: Step 2 of 2)\r\n"
       ]
      },
      {
       "output_type": "stream",
       "stream": "stdout",
       "text": [
        "Job launched 2173.5s ago, status RUNNING: Running step (mr_weather_step12_a.ubuntu.20140613.085010.640322: Step 2 of 2)\r\n"
       ]
      },
      {
       "output_type": "stream",
       "stream": "stdout",
       "text": [
        "Job launched 2204.5s ago, status RUNNING: Running step (mr_weather_step12_a.ubuntu.20140613.085010.640322: Step 2 of 2)\r\n"
       ]
      },
      {
       "output_type": "stream",
       "stream": "stdout",
       "text": [
        "Job launched 2235.6s ago, status RUNNING: Running step (mr_weather_step12_a.ubuntu.20140613.085010.640322: Step 2 of 2)\r\n"
       ]
      },
      {
       "output_type": "stream",
       "stream": "stdout",
       "text": [
        "Job launched 2266.7s ago, status RUNNING: Running step (mr_weather_step12_a.ubuntu.20140613.085010.640322: Step 2 of 2)\r\n"
       ]
      },
      {
       "output_type": "stream",
       "stream": "stdout",
       "text": [
        "Job launched 2297.8s ago, status RUNNING: Running step (mr_weather_step12_a.ubuntu.20140613.085010.640322: Step 2 of 2)\r\n"
       ]
      },
      {
       "output_type": "stream",
       "stream": "stdout",
       "text": [
        "Job launched 2328.9s ago, status RUNNING: Running step (mr_weather_step12_a.ubuntu.20140613.085010.640322: Step 2 of 2)\r\n"
       ]
      },
      {
       "output_type": "stream",
       "stream": "stdout",
       "text": [
        "Job launched 2359.9s ago, status RUNNING: Running step (mr_weather_step12_a.ubuntu.20140613.085010.640322: Step 2 of 2)\r\n"
       ]
      },
      {
       "output_type": "stream",
       "stream": "stdout",
       "text": [
        "Job launched 2391.1s ago, status RUNNING: Running step (mr_weather_step12_a.ubuntu.20140613.085010.640322: Step 2 of 2)\r\n"
       ]
      },
      {
       "output_type": "stream",
       "stream": "stdout",
       "text": [
        "Job launched 2422.1s ago, status RUNNING: Running step (mr_weather_step12_a.ubuntu.20140613.085010.640322: Step 2 of 2)\r\n"
       ]
      },
      {
       "output_type": "stream",
       "stream": "stdout",
       "text": [
        "Job launched 2453.1s ago, status RUNNING: Running step (mr_weather_step12_a.ubuntu.20140613.085010.640322: Step 2 of 2)\r\n"
       ]
      },
      {
       "output_type": "stream",
       "stream": "stdout",
       "text": [
        "Job launched 2484.1s ago, status RUNNING: Running step (mr_weather_step12_a.ubuntu.20140613.085010.640322: Step 2 of 2)\r\n"
       ]
      },
      {
       "output_type": "stream",
       "stream": "stdout",
       "text": [
        "Job launched 2515.3s ago, status RUNNING: Running step (mr_weather_step12_a.ubuntu.20140613.085010.640322: Step 2 of 2)\r\n"
       ]
      },
      {
       "output_type": "stream",
       "stream": "stdout",
       "text": [
        "Job launched 2546.3s ago, status RUNNING: Running step (mr_weather_step12_a.ubuntu.20140613.085010.640322: Step 2 of 2)\r\n"
       ]
      },
      {
       "output_type": "stream",
       "stream": "stdout",
       "text": [
        "Job launched 2577.3s ago, status RUNNING: Running step (mr_weather_step12_a.ubuntu.20140613.085010.640322: Step 2 of 2)\r\n"
       ]
      },
      {
       "output_type": "stream",
       "stream": "stdout",
       "text": [
        "Job launched 2608.4s ago, status RUNNING: Running step (mr_weather_step12_a.ubuntu.20140613.085010.640322: Step 2 of 2)\r\n"
       ]
      },
      {
       "output_type": "stream",
       "stream": "stdout",
       "text": [
        "Job launched 2639.5s ago, status RUNNING: Running step (mr_weather_step12_a.ubuntu.20140613.085010.640322: Step 2 of 2)\r\n"
       ]
      },
      {
       "output_type": "stream",
       "stream": "stdout",
       "text": [
        "Job launched 2670.6s ago, status RUNNING: Running step (mr_weather_step12_a.ubuntu.20140613.085010.640322: Step 2 of 2)\r\n"
       ]
      },
      {
       "output_type": "stream",
       "stream": "stdout",
       "text": [
        "Job launched 2701.7s ago, status RUNNING: Running step (mr_weather_step12_a.ubuntu.20140613.085010.640322: Step 2 of 2)\r\n"
       ]
      },
      {
       "output_type": "stream",
       "stream": "stdout",
       "text": [
        "Job launched 2732.7s ago, status RUNNING: Running step (mr_weather_step12_a.ubuntu.20140613.085010.640322: Step 2 of 2)\r\n"
       ]
      },
      {
       "output_type": "stream",
       "stream": "stdout",
       "text": [
        "Job launched 2763.8s ago, status RUNNING: Running step (mr_weather_step12_a.ubuntu.20140613.085010.640322: Step 2 of 2)\r\n"
       ]
      },
      {
       "output_type": "stream",
       "stream": "stdout",
       "text": [
        "Job launched 2795.1s ago, status RUNNING: Running step (mr_weather_step12_a.ubuntu.20140613.085010.640322: Step 2 of 2)\r\n"
       ]
      },
      {
       "output_type": "stream",
       "stream": "stdout",
       "text": [
        "Job launched 2826.3s ago, status RUNNING: Running step (mr_weather_step12_a.ubuntu.20140613.085010.640322: Step 2 of 2)\r\n"
       ]
      },
      {
       "output_type": "stream",
       "stream": "stdout",
       "text": [
        "Job launched 2857.4s ago, status RUNNING: Running step (mr_weather_step12_a.ubuntu.20140613.085010.640322: Step 2 of 2)\r\n"
       ]
      },
      {
       "output_type": "stream",
       "stream": "stdout",
       "text": [
        "Job launched 2888.4s ago, status RUNNING: Running step (mr_weather_step12_a.ubuntu.20140613.085010.640322: Step 2 of 2)\r\n"
       ]
      },
      {
       "output_type": "stream",
       "stream": "stdout",
       "text": [
        "Job launched 2919.5s ago, status RUNNING: Running step (mr_weather_step12_a.ubuntu.20140613.085010.640322: Step 2 of 2)\r\n"
       ]
      },
      {
       "output_type": "stream",
       "stream": "stdout",
       "text": [
        "Job launched 2950.5s ago, status RUNNING: Running step (mr_weather_step12_a.ubuntu.20140613.085010.640322: Step 2 of 2)\r\n"
       ]
      },
      {
       "output_type": "stream",
       "stream": "stdout",
       "text": [
        "Job launched 2981.5s ago, status RUNNING: Running step (mr_weather_step12_a.ubuntu.20140613.085010.640322: Step 2 of 2)\r\n"
       ]
      },
      {
       "output_type": "stream",
       "stream": "stdout",
       "text": [
        "Job launched 3012.7s ago, status RUNNING: Running step (mr_weather_step12_a.ubuntu.20140613.085010.640322: Step 2 of 2)\r\n"
       ]
      },
      {
       "output_type": "stream",
       "stream": "stdout",
       "text": [
        "Job launched 3043.8s ago, status RUNNING: Running step (mr_weather_step12_a.ubuntu.20140613.085010.640322: Step 2 of 2)\r\n"
       ]
      },
      {
       "output_type": "stream",
       "stream": "stdout",
       "text": [
        "Job launched 3074.7s ago, status RUNNING: Running step (mr_weather_step12_a.ubuntu.20140613.085010.640322: Step 2 of 2)\r\n"
       ]
      },
      {
       "output_type": "stream",
       "stream": "stdout",
       "text": [
        "Job launched 3105.7s ago, status RUNNING: Running step (mr_weather_step12_a.ubuntu.20140613.085010.640322: Step 2 of 2)\r\n"
       ]
      },
      {
       "output_type": "stream",
       "stream": "stdout",
       "text": [
        "Job launched 3136.7s ago, status RUNNING: Running step (mr_weather_step12_a.ubuntu.20140613.085010.640322: Step 2 of 2)\r\n"
       ]
      },
      {
       "output_type": "stream",
       "stream": "stdout",
       "text": [
        "Job launched 3167.8s ago, status RUNNING: Running step (mr_weather_step12_a.ubuntu.20140613.085010.640322: Step 2 of 2)\r\n"
       ]
      },
      {
       "output_type": "stream",
       "stream": "stdout",
       "text": [
        "Job launched 3198.9s ago, status RUNNING: Running step (mr_weather_step12_a.ubuntu.20140613.085010.640322: Step 2 of 2)\r\n"
       ]
      },
      {
       "output_type": "stream",
       "stream": "stdout",
       "text": [
        "Job launched 3229.9s ago, status RUNNING: Running step (mr_weather_step12_a.ubuntu.20140613.085010.640322: Step 2 of 2)\r\n"
       ]
      },
      {
       "output_type": "stream",
       "stream": "stdout",
       "text": [
        "Job launched 3261.0s ago, status RUNNING: Running step (mr_weather_step12_a.ubuntu.20140613.085010.640322: Step 2 of 2)\r\n"
       ]
      },
      {
       "output_type": "stream",
       "stream": "stdout",
       "text": [
        "Job launched 3292.1s ago, status RUNNING: Running step (mr_weather_step12_a.ubuntu.20140613.085010.640322: Step 2 of 2)\r\n"
       ]
      },
      {
       "output_type": "stream",
       "stream": "stdout",
       "text": [
        "Job launched 3323.1s ago, status RUNNING: Running step (mr_weather_step12_a.ubuntu.20140613.085010.640322: Step 2 of 2)\r\n"
       ]
      },
      {
       "output_type": "stream",
       "stream": "stdout",
       "text": [
        "Job launched 3354.2s ago, status RUNNING: Running step (mr_weather_step12_a.ubuntu.20140613.085010.640322: Step 2 of 2)\r\n"
       ]
      },
      {
       "output_type": "stream",
       "stream": "stdout",
       "text": [
        "Job launched 3385.3s ago, status RUNNING: Running step (mr_weather_step12_a.ubuntu.20140613.085010.640322: Step 2 of 2)\r\n"
       ]
      },
      {
       "output_type": "stream",
       "stream": "stdout",
       "text": [
        "Job launched 3416.3s ago, status RUNNING: Running step (mr_weather_step12_a.ubuntu.20140613.085010.640322: Step 2 of 2)\r\n"
       ]
      },
      {
       "output_type": "stream",
       "stream": "stdout",
       "text": [
        "Job launched 3447.2s ago, status RUNNING: Running step (mr_weather_step12_a.ubuntu.20140613.085010.640322: Step 2 of 2)\r\n"
       ]
      },
      {
       "output_type": "stream",
       "stream": "stdout",
       "text": [
        "Job launched 3478.3s ago, status RUNNING: Running step (mr_weather_step12_a.ubuntu.20140613.085010.640322: Step 2 of 2)\r\n"
       ]
      },
      {
       "output_type": "stream",
       "stream": "stdout",
       "text": [
        "Job launched 3509.2s ago, status RUNNING: Running step (mr_weather_step12_a.ubuntu.20140613.085010.640322: Step 2 of 2)\r\n"
       ]
      },
      {
       "output_type": "stream",
       "stream": "stdout",
       "text": [
        "Job launched 3540.2s ago, status RUNNING: Running step (mr_weather_step12_a.ubuntu.20140613.085010.640322: Step 2 of 2)\r\n"
       ]
      },
      {
       "output_type": "stream",
       "stream": "stdout",
       "text": [
        "Job launched 3571.1s ago, status RUNNING: Running step (mr_weather_step12_a.ubuntu.20140613.085010.640322: Step 2 of 2)\r\n"
       ]
      },
      {
       "output_type": "stream",
       "stream": "stdout",
       "text": [
        "Job launched 3602.2s ago, status RUNNING: Running step (mr_weather_step12_a.ubuntu.20140613.085010.640322: Step 2 of 2)\r\n"
       ]
      },
      {
       "output_type": "stream",
       "stream": "stdout",
       "text": [
        "Job launched 3633.3s ago, status RUNNING: Running step (mr_weather_step12_a.ubuntu.20140613.085010.640322: Step 2 of 2)\r\n"
       ]
      },
      {
       "output_type": "stream",
       "stream": "stdout",
       "text": [
        "Job launched 3664.4s ago, status RUNNING: Running step (mr_weather_step12_a.ubuntu.20140613.085010.640322: Step 2 of 2)\r\n"
       ]
      },
      {
       "output_type": "stream",
       "stream": "stdout",
       "text": [
        "Job launched 3695.4s ago, status RUNNING: Running step (mr_weather_step12_a.ubuntu.20140613.085010.640322: Step 2 of 2)\r\n"
       ]
      },
      {
       "output_type": "stream",
       "stream": "stdout",
       "text": [
        "Job launched 3726.4s ago, status RUNNING: Running step (mr_weather_step12_a.ubuntu.20140613.085010.640322: Step 2 of 2)\r\n"
       ]
      },
      {
       "output_type": "stream",
       "stream": "stdout",
       "text": [
        "Job launched 3757.4s ago, status RUNNING: Running step (mr_weather_step12_a.ubuntu.20140613.085010.640322: Step 2 of 2)\r\n"
       ]
      },
      {
       "output_type": "stream",
       "stream": "stdout",
       "text": [
        "Job launched 3788.4s ago, status RUNNING: Running step (mr_weather_step12_a.ubuntu.20140613.085010.640322: Step 2 of 2)\r\n"
       ]
      },
      {
       "output_type": "stream",
       "stream": "stdout",
       "text": [
        "Job launched 3819.5s ago, status RUNNING: Running step (mr_weather_step12_a.ubuntu.20140613.085010.640322: Step 2 of 2)\r\n"
       ]
      },
      {
       "output_type": "stream",
       "stream": "stdout",
       "text": [
        "Job launched 3850.5s ago, status RUNNING: Running step (mr_weather_step12_a.ubuntu.20140613.085010.640322: Step 2 of 2)\r\n"
       ]
      },
      {
       "output_type": "stream",
       "stream": "stdout",
       "text": [
        "Job launched 3881.5s ago, status RUNNING: Running step (mr_weather_step12_a.ubuntu.20140613.085010.640322: Step 2 of 2)\r\n"
       ]
      },
      {
       "output_type": "stream",
       "stream": "stdout",
       "text": [
        "Job launched 3912.6s ago, status RUNNING: Running step (mr_weather_step12_a.ubuntu.20140613.085010.640322: Step 2 of 2)\r\n"
       ]
      },
      {
       "output_type": "stream",
       "stream": "stdout",
       "text": [
        "Job launched 3943.6s ago, status RUNNING: Running step (mr_weather_step12_a.ubuntu.20140613.085010.640322: Step 2 of 2)\r\n"
       ]
      },
      {
       "output_type": "stream",
       "stream": "stdout",
       "text": [
        "Job launched 3974.7s ago, status RUNNING: Running step (mr_weather_step12_a.ubuntu.20140613.085010.640322: Step 2 of 2)\r\n"
       ]
      },
      {
       "output_type": "stream",
       "stream": "stdout",
       "text": [
        "Job launched 4005.7s ago, status RUNNING: Running step (mr_weather_step12_a.ubuntu.20140613.085010.640322: Step 2 of 2)\r\n"
       ]
      },
      {
       "output_type": "stream",
       "stream": "stdout",
       "text": [
        "Job launched 4036.7s ago, status RUNNING: Running step (mr_weather_step12_a.ubuntu.20140613.085010.640322: Step 2 of 2)\r\n"
       ]
      },
      {
       "output_type": "stream",
       "stream": "stdout",
       "text": [
        "Job launched 4067.8s ago, status RUNNING: Running step (mr_weather_step12_a.ubuntu.20140613.085010.640322: Step 2 of 2)\r\n"
       ]
      },
      {
       "output_type": "stream",
       "stream": "stdout",
       "text": [
        "Job launched 4098.8s ago, status RUNNING: Running step (mr_weather_step12_a.ubuntu.20140613.085010.640322: Step 2 of 2)\r\n"
       ]
      },
      {
       "output_type": "stream",
       "stream": "stdout",
       "text": [
        "Job launched 4129.8s ago, status RUNNING: Running step (mr_weather_step12_a.ubuntu.20140613.085010.640322: Step 2 of 2)\r\n"
       ]
      },
      {
       "output_type": "stream",
       "stream": "stdout",
       "text": [
        "Job launched 4160.9s ago, status RUNNING: Running step (mr_weather_step12_a.ubuntu.20140613.085010.640322: Step 2 of 2)\r\n"
       ]
      },
      {
       "output_type": "stream",
       "stream": "stdout",
       "text": [
        "Job launched 4191.9s ago, status RUNNING: Running step (mr_weather_step12_a.ubuntu.20140613.085010.640322: Step 2 of 2)\r\n"
       ]
      },
      {
       "output_type": "stream",
       "stream": "stdout",
       "text": [
        "Job launched 4222.8s ago, status RUNNING: Running step (mr_weather_step12_a.ubuntu.20140613.085010.640322: Step 2 of 2)\r\n"
       ]
      },
      {
       "output_type": "stream",
       "stream": "stdout",
       "text": [
        "Job launched 4253.9s ago, status RUNNING: Running step (mr_weather_step12_a.ubuntu.20140613.085010.640322: Step 2 of 2)\r\n"
       ]
      },
      {
       "output_type": "stream",
       "stream": "stdout",
       "text": [
        "Job launched 4284.9s ago, status RUNNING: Running step (mr_weather_step12_a.ubuntu.20140613.085010.640322: Step 2 of 2)\r\n"
       ]
      },
      {
       "output_type": "stream",
       "stream": "stdout",
       "text": [
        "Job launched 4316.1s ago, status RUNNING: Running step (mr_weather_step12_a.ubuntu.20140613.085010.640322: Step 2 of 2)\r\n"
       ]
      },
      {
       "output_type": "stream",
       "stream": "stdout",
       "text": [
        "Job launched 4347.1s ago, status RUNNING: Running step (mr_weather_step12_a.ubuntu.20140613.085010.640322: Step 2 of 2)\r\n"
       ]
      },
      {
       "output_type": "stream",
       "stream": "stdout",
       "text": [
        "Job launched 4378.3s ago, status RUNNING: Running step (mr_weather_step12_a.ubuntu.20140613.085010.640322: Step 2 of 2)\r\n"
       ]
      },
      {
       "output_type": "stream",
       "stream": "stdout",
       "text": [
        "Job launched 4409.2s ago, status RUNNING: Running step (mr_weather_step12_a.ubuntu.20140613.085010.640322: Step 2 of 2)\r\n"
       ]
      },
      {
       "output_type": "stream",
       "stream": "stdout",
       "text": [
        "Job launched 4440.3s ago, status RUNNING: Running step (mr_weather_step12_a.ubuntu.20140613.085010.640322: Step 2 of 2)\r\n"
       ]
      },
      {
       "output_type": "stream",
       "stream": "stdout",
       "text": [
        "Job launched 4471.4s ago, status RUNNING: Running step (mr_weather_step12_a.ubuntu.20140613.085010.640322: Step 2 of 2)\r\n"
       ]
      },
      {
       "output_type": "stream",
       "stream": "stdout",
       "text": [
        "Job launched 4502.4s ago, status RUNNING: Running step (mr_weather_step12_a.ubuntu.20140613.085010.640322: Step 2 of 2)\r\n"
       ]
      },
      {
       "output_type": "stream",
       "stream": "stdout",
       "text": [
        "Job launched 4533.5s ago, status RUNNING: Running step (mr_weather_step12_a.ubuntu.20140613.085010.640322: Step 2 of 2)\r\n"
       ]
      },
      {
       "output_type": "stream",
       "stream": "stdout",
       "text": [
        "Job launched 4564.5s ago, status RUNNING: Running step (mr_weather_step12_a.ubuntu.20140613.085010.640322: Step 2 of 2)\r\n"
       ]
      },
      {
       "output_type": "stream",
       "stream": "stdout",
       "text": [
        "Job launched 4595.5s ago, status RUNNING: Running step (mr_weather_step12_a.ubuntu.20140613.085010.640322: Step 2 of 2)\r\n"
       ]
      },
      {
       "output_type": "stream",
       "stream": "stdout",
       "text": [
        "Job launched 4626.6s ago, status RUNNING: Running step (mr_weather_step12_a.ubuntu.20140613.085010.640322: Step 2 of 2)\r\n"
       ]
      },
      {
       "output_type": "stream",
       "stream": "stdout",
       "text": [
        "Job launched 4657.5s ago, status RUNNING: Running step (mr_weather_step12_a.ubuntu.20140613.085010.640322: Step 2 of 2)\r\n"
       ]
      },
      {
       "output_type": "stream",
       "stream": "stdout",
       "text": [
        "Job launched 4688.6s ago, status RUNNING: Running step (mr_weather_step12_a.ubuntu.20140613.085010.640322: Step 2 of 2)\r\n"
       ]
      },
      {
       "output_type": "stream",
       "stream": "stdout",
       "text": [
        "Job launched 4719.7s ago, status RUNNING: Running step (mr_weather_step12_a.ubuntu.20140613.085010.640322: Step 2 of 2)\r\n"
       ]
      },
      {
       "output_type": "stream",
       "stream": "stdout",
       "text": [
        "Job launched 4750.8s ago, status RUNNING: Running step (mr_weather_step12_a.ubuntu.20140613.085010.640322: Step 2 of 2)\r\n"
       ]
      },
      {
       "output_type": "stream",
       "stream": "stdout",
       "text": [
        "Job launched 4781.9s ago, status RUNNING: Running step (mr_weather_step12_a.ubuntu.20140613.085010.640322: Step 2 of 2)\r\n"
       ]
      },
      {
       "output_type": "stream",
       "stream": "stdout",
       "text": [
        "Job launched 4812.9s ago, status RUNNING: Running step (mr_weather_step12_a.ubuntu.20140613.085010.640322: Step 2 of 2)\r\n"
       ]
      },
      {
       "output_type": "stream",
       "stream": "stdout",
       "text": [
        "Job launched 4843.9s ago, status RUNNING: Running step (mr_weather_step12_a.ubuntu.20140613.085010.640322: Step 2 of 2)\r\n"
       ]
      },
      {
       "output_type": "stream",
       "stream": "stdout",
       "text": [
        "Job launched 4875.0s ago, status RUNNING: Running step (mr_weather_step12_a.ubuntu.20140613.085010.640322: Step 2 of 2)\r\n"
       ]
      },
      {
       "output_type": "stream",
       "stream": "stdout",
       "text": [
        "Job launched 4905.9s ago, status RUNNING: Running step (mr_weather_step12_a.ubuntu.20140613.085010.640322: Step 2 of 2)\r\n"
       ]
      },
      {
       "output_type": "stream",
       "stream": "stdout",
       "text": [
        "Job launched 4937.0s ago, status RUNNING: Running step (mr_weather_step12_a.ubuntu.20140613.085010.640322: Step 2 of 2)\r\n"
       ]
      },
      {
       "output_type": "stream",
       "stream": "stdout",
       "text": [
        "Job launched 4968.1s ago, status RUNNING: Running step (mr_weather_step12_a.ubuntu.20140613.085010.640322: Step 2 of 2)\r\n"
       ]
      },
      {
       "output_type": "stream",
       "stream": "stdout",
       "text": [
        "Job launched 4999.3s ago, status RUNNING: Running step (mr_weather_step12_a.ubuntu.20140613.085010.640322: Step 2 of 2)\r\n"
       ]
      },
      {
       "output_type": "stream",
       "stream": "stdout",
       "text": [
        "Job launched 5030.4s ago, status RUNNING: Running step (mr_weather_step12_a.ubuntu.20140613.085010.640322: Step 2 of 2)\r\n"
       ]
      },
      {
       "output_type": "stream",
       "stream": "stdout",
       "text": [
        "Job launched 5061.5s ago, status RUNNING: Running step (mr_weather_step12_a.ubuntu.20140613.085010.640322: Step 2 of 2)\r\n"
       ]
      },
      {
       "output_type": "stream",
       "stream": "stdout",
       "text": [
        "Job launched 5092.6s ago, status RUNNING: Running step (mr_weather_step12_a.ubuntu.20140613.085010.640322: Step 2 of 2)\r\n"
       ]
      },
      {
       "output_type": "stream",
       "stream": "stdout",
       "text": [
        "Job launched 5123.5s ago, status RUNNING: Running step (mr_weather_step12_a.ubuntu.20140613.085010.640322: Step 2 of 2)\r\n"
       ]
      },
      {
       "output_type": "stream",
       "stream": "stdout",
       "text": [
        "Job launched 5154.5s ago, status RUNNING: Running step (mr_weather_step12_a.ubuntu.20140613.085010.640322: Step 2 of 2)\r\n"
       ]
      },
      {
       "output_type": "stream",
       "stream": "stdout",
       "text": [
        "Job launched 5185.6s ago, status RUNNING: Running step (mr_weather_step12_a.ubuntu.20140613.085010.640322: Step 2 of 2)\r\n"
       ]
      },
      {
       "output_type": "stream",
       "stream": "stdout",
       "text": [
        "Job launched 5216.7s ago, status RUNNING: Running step (mr_weather_step12_a.ubuntu.20140613.085010.640322: Step 2 of 2)\r\n"
       ]
      },
      {
       "output_type": "stream",
       "stream": "stdout",
       "text": [
        "Job launched 5247.6s ago, status RUNNING: Running step (mr_weather_step12_a.ubuntu.20140613.085010.640322: Step 2 of 2)\r\n"
       ]
      },
      {
       "output_type": "stream",
       "stream": "stdout",
       "text": [
        "Job launched 5278.7s ago, status RUNNING: Running step (mr_weather_step12_a.ubuntu.20140613.085010.640322: Step 2 of 2)\r\n"
       ]
      },
      {
       "output_type": "stream",
       "stream": "stdout",
       "text": [
        "Job launched 5309.7s ago, status RUNNING: Running step (mr_weather_step12_a.ubuntu.20140613.085010.640322: Step 2 of 2)\r\n"
       ]
      },
      {
       "output_type": "stream",
       "stream": "stdout",
       "text": [
        "Job launched 5340.8s ago, status RUNNING: Running step (mr_weather_step12_a.ubuntu.20140613.085010.640322: Step 2 of 2)\r\n"
       ]
      },
      {
       "output_type": "stream",
       "stream": "stdout",
       "text": [
        "Job launched 5371.9s ago, status RUNNING: Running step (mr_weather_step12_a.ubuntu.20140613.085010.640322: Step 2 of 2)\r\n"
       ]
      },
      {
       "output_type": "stream",
       "stream": "stdout",
       "text": [
        "Job launched 5403.0s ago, status RUNNING: Running step (mr_weather_step12_a.ubuntu.20140613.085010.640322: Step 2 of 2)\r\n"
       ]
      },
      {
       "output_type": "stream",
       "stream": "stdout",
       "text": [
        "Job launched 5434.1s ago, status RUNNING: Running step (mr_weather_step12_a.ubuntu.20140613.085010.640322: Step 2 of 2)\r\n"
       ]
      },
      {
       "output_type": "stream",
       "stream": "stdout",
       "text": [
        "Job launched 5465.1s ago, status RUNNING: Running step (mr_weather_step12_a.ubuntu.20140613.085010.640322: Step 2 of 2)\r\n"
       ]
      },
      {
       "output_type": "stream",
       "stream": "stdout",
       "text": [
        "Job launched 5496.1s ago, status RUNNING: Running step (mr_weather_step12_a.ubuntu.20140613.085010.640322: Step 2 of 2)\r\n"
       ]
      },
      {
       "output_type": "stream",
       "stream": "stdout",
       "text": [
        "Job launched 5527.2s ago, status RUNNING: Running step (mr_weather_step12_a.ubuntu.20140613.085010.640322: Step 2 of 2)\r\n"
       ]
      },
      {
       "output_type": "stream",
       "stream": "stdout",
       "text": [
        "Job launched 5558.3s ago, status RUNNING: Running step (mr_weather_step12_a.ubuntu.20140613.085010.640322: Step 2 of 2)\r\n"
       ]
      },
      {
       "output_type": "stream",
       "stream": "stdout",
       "text": [
        "Job launched 5589.5s ago, status RUNNING: Running step (mr_weather_step12_a.ubuntu.20140613.085010.640322: Step 2 of 2)\r\n"
       ]
      },
      {
       "output_type": "stream",
       "stream": "stdout",
       "text": [
        "Job launched 5620.6s ago, status RUNNING: Running step (mr_weather_step12_a.ubuntu.20140613.085010.640322: Step 2 of 2)\r\n"
       ]
      },
      {
       "output_type": "stream",
       "stream": "stdout",
       "text": [
        "Job launched 5651.6s ago, status RUNNING: Running step (mr_weather_step12_a.ubuntu.20140613.085010.640322: Step 2 of 2)\r\n"
       ]
      },
      {
       "output_type": "stream",
       "stream": "stdout",
       "text": [
        "Job launched 5682.6s ago, status RUNNING: Running step (mr_weather_step12_a.ubuntu.20140613.085010.640322: Step 2 of 2)\r\n"
       ]
      },
      {
       "output_type": "stream",
       "stream": "stdout",
       "text": [
        "Job launched 5713.6s ago, status RUNNING: Running step (mr_weather_step12_a.ubuntu.20140613.085010.640322: Step 2 of 2)\r\n"
       ]
      },
      {
       "output_type": "stream",
       "stream": "stdout",
       "text": [
        "Job launched 5744.6s ago, status RUNNING: Running step (mr_weather_step12_a.ubuntu.20140613.085010.640322: Step 2 of 2)\r\n"
       ]
      },
      {
       "output_type": "stream",
       "stream": "stdout",
       "text": [
        "Job launched 5775.6s ago, status RUNNING: Running step (mr_weather_step12_a.ubuntu.20140613.085010.640322: Step 2 of 2)\r\n"
       ]
      },
      {
       "output_type": "stream",
       "stream": "stdout",
       "text": [
        "Job launched 5806.7s ago, status RUNNING: Running step (mr_weather_step12_a.ubuntu.20140613.085010.640322: Step 2 of 2)\r\n"
       ]
      },
      {
       "output_type": "stream",
       "stream": "stdout",
       "text": [
        "Job launched 5837.8s ago, status RUNNING: Running step (mr_weather_step12_a.ubuntu.20140613.085010.640322: Step 2 of 2)\r\n"
       ]
      },
      {
       "output_type": "stream",
       "stream": "stdout",
       "text": [
        "Job launched 5868.9s ago, status RUNNING: Running step (mr_weather_step12_a.ubuntu.20140613.085010.640322: Step 2 of 2)\r\n"
       ]
      },
      {
       "output_type": "stream",
       "stream": "stdout",
       "text": [
        "Job launched 5899.9s ago, status RUNNING: Running step (mr_weather_step12_a.ubuntu.20140613.085010.640322: Step 2 of 2)\r\n"
       ]
      },
      {
       "output_type": "stream",
       "stream": "stdout",
       "text": [
        "Job launched 5931.0s ago, status RUNNING: Running step (mr_weather_step12_a.ubuntu.20140613.085010.640322: Step 2 of 2)\r\n"
       ]
      },
      {
       "output_type": "stream",
       "stream": "stdout",
       "text": [
        "Job launched 5962.2s ago, status RUNNING: Running step (mr_weather_step12_a.ubuntu.20140613.085010.640322: Step 2 of 2)\r\n"
       ]
      },
      {
       "output_type": "stream",
       "stream": "stdout",
       "text": [
        "Job launched 5993.2s ago, status RUNNING: Running step (mr_weather_step12_a.ubuntu.20140613.085010.640322: Step 2 of 2)\r\n"
       ]
      },
      {
       "output_type": "stream",
       "stream": "stdout",
       "text": [
        "Job launched 6024.2s ago, status RUNNING: Running step (mr_weather_step12_a.ubuntu.20140613.085010.640322: Step 2 of 2)\r\n"
       ]
      },
      {
       "output_type": "stream",
       "stream": "stdout",
       "text": [
        "Job launched 6055.3s ago, status RUNNING: Running step (mr_weather_step12_a.ubuntu.20140613.085010.640322: Step 2 of 2)\r\n"
       ]
      },
      {
       "output_type": "stream",
       "stream": "stdout",
       "text": [
        "Job launched 6086.4s ago, status RUNNING: Running step (mr_weather_step12_a.ubuntu.20140613.085010.640322: Step 2 of 2)\r\n"
       ]
      },
      {
       "output_type": "stream",
       "stream": "stdout",
       "text": [
        "Job launched 6117.3s ago, status RUNNING: Running step (mr_weather_step12_a.ubuntu.20140613.085010.640322: Step 2 of 2)\r\n"
       ]
      },
      {
       "output_type": "stream",
       "stream": "stdout",
       "text": [
        "Job launched 6148.4s ago, status RUNNING: Running step (mr_weather_step12_a.ubuntu.20140613.085010.640322: Step 2 of 2)\r\n"
       ]
      },
      {
       "output_type": "stream",
       "stream": "stdout",
       "text": [
        "Job launched 6179.4s ago, status RUNNING: Running step (mr_weather_step12_a.ubuntu.20140613.085010.640322: Step 2 of 2)\r\n"
       ]
      },
      {
       "output_type": "stream",
       "stream": "stdout",
       "text": [
        "Job launched 6210.5s ago, status RUNNING: Running step (mr_weather_step12_a.ubuntu.20140613.085010.640322: Step 2 of 2)\r\n"
       ]
      },
      {
       "output_type": "stream",
       "stream": "stdout",
       "text": [
        "Job launched 6241.5s ago, status RUNNING: Running step (mr_weather_step12_a.ubuntu.20140613.085010.640322: Step 2 of 2)\r\n"
       ]
      },
      {
       "output_type": "stream",
       "stream": "stdout",
       "text": [
        "Job launched 6272.5s ago, status RUNNING: Running step (mr_weather_step12_a.ubuntu.20140613.085010.640322: Step 2 of 2)\r\n"
       ]
      },
      {
       "output_type": "stream",
       "stream": "stdout",
       "text": [
        "Job launched 6303.5s ago, status RUNNING: Running step (mr_weather_step12_a.ubuntu.20140613.085010.640322: Step 2 of 2)\r\n"
       ]
      },
      {
       "output_type": "stream",
       "stream": "stdout",
       "text": [
        "Job launched 6334.6s ago, status RUNNING: Running step (mr_weather_step12_a.ubuntu.20140613.085010.640322: Step 2 of 2)\r\n"
       ]
      },
      {
       "output_type": "stream",
       "stream": "stdout",
       "text": [
        "Job launched 6365.6s ago, status RUNNING: Running step (mr_weather_step12_a.ubuntu.20140613.085010.640322: Step 2 of 2)\r\n"
       ]
      },
      {
       "output_type": "stream",
       "stream": "stdout",
       "text": [
        "Job launched 6396.6s ago, status RUNNING: Running step (mr_weather_step12_a.ubuntu.20140613.085010.640322: Step 2 of 2)\r\n"
       ]
      },
      {
       "output_type": "stream",
       "stream": "stdout",
       "text": [
        "Job launched 6427.8s ago, status RUNNING: Running step (mr_weather_step12_a.ubuntu.20140613.085010.640322: Step 2 of 2)\r\n"
       ]
      },
      {
       "output_type": "stream",
       "stream": "stdout",
       "text": [
        "Job launched 6458.9s ago, status RUNNING: Running step (mr_weather_step12_a.ubuntu.20140613.085010.640322: Step 2 of 2)\r\n"
       ]
      },
      {
       "output_type": "stream",
       "stream": "stdout",
       "text": [
        "Job launched 6490.0s ago, status RUNNING: Running step (mr_weather_step12_a.ubuntu.20140613.085010.640322: Step 2 of 2)\r\n"
       ]
      },
      {
       "output_type": "stream",
       "stream": "stdout",
       "text": [
        "Job launched 6521.0s ago, status RUNNING: Running step (mr_weather_step12_a.ubuntu.20140613.085010.640322: Step 2 of 2)\r\n"
       ]
      },
      {
       "output_type": "stream",
       "stream": "stdout",
       "text": [
        "Job launched 6552.1s ago, status RUNNING: Running step (mr_weather_step12_a.ubuntu.20140613.085010.640322: Step 2 of 2)\r\n"
       ]
      },
      {
       "output_type": "stream",
       "stream": "stdout",
       "text": [
        "Job launched 6583.1s ago, status RUNNING: Running step (mr_weather_step12_a.ubuntu.20140613.085010.640322: Step 2 of 2)\r\n"
       ]
      },
      {
       "output_type": "stream",
       "stream": "stdout",
       "text": [
        "Job launched 6614.2s ago, status RUNNING: Running step (mr_weather_step12_a.ubuntu.20140613.085010.640322: Step 2 of 2)\r\n"
       ]
      },
      {
       "output_type": "stream",
       "stream": "stdout",
       "text": [
        "Job launched 6645.2s ago, status RUNNING: Running step (mr_weather_step12_a.ubuntu.20140613.085010.640322: Step 2 of 2)\r\n"
       ]
      },
      {
       "output_type": "stream",
       "stream": "stdout",
       "text": [
        "Job launched 6676.3s ago, status RUNNING: Running step (mr_weather_step12_a.ubuntu.20140613.085010.640322: Step 2 of 2)\r\n"
       ]
      },
      {
       "output_type": "stream",
       "stream": "stdout",
       "text": [
        "Job launched 6707.4s ago, status RUNNING: Running step (mr_weather_step12_a.ubuntu.20140613.085010.640322: Step 2 of 2)\r\n"
       ]
      },
      {
       "output_type": "stream",
       "stream": "stdout",
       "text": [
        "Job launched 6738.5s ago, status RUNNING: Running step (mr_weather_step12_a.ubuntu.20140613.085010.640322: Step 2 of 2)\r\n"
       ]
      },
      {
       "output_type": "stream",
       "stream": "stdout",
       "text": [
        "Job launched 6769.5s ago, status RUNNING: Running step (mr_weather_step12_a.ubuntu.20140613.085010.640322: Step 2 of 2)\r\n"
       ]
      },
      {
       "output_type": "stream",
       "stream": "stdout",
       "text": [
        "Job launched 6800.7s ago, status RUNNING: Running step (mr_weather_step12_a.ubuntu.20140613.085010.640322: Step 2 of 2)\r\n"
       ]
      },
      {
       "output_type": "stream",
       "stream": "stdout",
       "text": [
        "Job launched 6831.8s ago, status RUNNING: Running step (mr_weather_step12_a.ubuntu.20140613.085010.640322: Step 2 of 2)\r\n"
       ]
      },
      {
       "output_type": "stream",
       "stream": "stdout",
       "text": [
        "Job launched 6862.8s ago, status RUNNING: Running step (mr_weather_step12_a.ubuntu.20140613.085010.640322: Step 2 of 2)\r\n"
       ]
      },
      {
       "output_type": "stream",
       "stream": "stdout",
       "text": [
        "Job launched 6893.9s ago, status RUNNING: Running step (mr_weather_step12_a.ubuntu.20140613.085010.640322: Step 2 of 2)\r\n"
       ]
      },
      {
       "output_type": "stream",
       "stream": "stdout",
       "text": [
        "Job launched 6925.0s ago, status RUNNING: Running step (mr_weather_step12_a.ubuntu.20140613.085010.640322: Step 2 of 2)\r\n"
       ]
      },
      {
       "output_type": "stream",
       "stream": "stdout",
       "text": [
        "Job launched 6956.1s ago, status RUNNING: Running step (mr_weather_step12_a.ubuntu.20140613.085010.640322: Step 2 of 2)\r\n"
       ]
      },
      {
       "output_type": "stream",
       "stream": "stdout",
       "text": [
        "Job launched 6987.1s ago, status RUNNING: Running step (mr_weather_step12_a.ubuntu.20140613.085010.640322: Step 2 of 2)\r\n"
       ]
      },
      {
       "output_type": "stream",
       "stream": "stdout",
       "text": [
        "Job launched 7018.2s ago, status RUNNING: Running step (mr_weather_step12_a.ubuntu.20140613.085010.640322: Step 2 of 2)\r\n"
       ]
      },
      {
       "output_type": "stream",
       "stream": "stdout",
       "text": [
        "Job launched 7049.3s ago, status RUNNING: Running step (mr_weather_step12_a.ubuntu.20140613.085010.640322: Step 2 of 2)\r\n"
       ]
      },
      {
       "output_type": "stream",
       "stream": "stdout",
       "text": [
        "Job launched 7080.4s ago, status RUNNING: Running step (mr_weather_step12_a.ubuntu.20140613.085010.640322: Step 2 of 2)\r\n"
       ]
      },
      {
       "output_type": "stream",
       "stream": "stdout",
       "text": [
        "Job launched 7111.5s ago, status RUNNING: Running step (mr_weather_step12_a.ubuntu.20140613.085010.640322: Step 2 of 2)\r\n"
       ]
      },
      {
       "output_type": "stream",
       "stream": "stdout",
       "text": [
        "Job launched 7142.8s ago, status RUNNING: Running step (mr_weather_step12_a.ubuntu.20140613.085010.640322: Step 2 of 2)\r\n"
       ]
      },
      {
       "output_type": "stream",
       "stream": "stdout",
       "text": [
        "Job launched 7173.9s ago, status RUNNING: Running step (mr_weather_step12_a.ubuntu.20140613.085010.640322: Step 2 of 2)\r\n"
       ]
      },
      {
       "output_type": "stream",
       "stream": "stdout",
       "text": [
        "Job launched 7205.0s ago, status RUNNING: Running step (mr_weather_step12_a.ubuntu.20140613.085010.640322: Step 2 of 2)\r\n"
       ]
      },
      {
       "output_type": "stream",
       "stream": "stdout",
       "text": [
        "Job launched 7236.0s ago, status RUNNING: Running step (mr_weather_step12_a.ubuntu.20140613.085010.640322: Step 2 of 2)\r\n"
       ]
      },
      {
       "output_type": "stream",
       "stream": "stdout",
       "text": [
        "Job launched 7267.0s ago, status RUNNING: Running step (mr_weather_step12_a.ubuntu.20140613.085010.640322: Step 2 of 2)\r\n"
       ]
      },
      {
       "output_type": "stream",
       "stream": "stdout",
       "text": [
        "Job launched 7298.0s ago, status RUNNING: Running step (mr_weather_step12_a.ubuntu.20140613.085010.640322: Step 2 of 2)\r\n"
       ]
      },
      {
       "output_type": "stream",
       "stream": "stdout",
       "text": [
        "Job launched 7329.0s ago, status RUNNING: Running step (mr_weather_step12_a.ubuntu.20140613.085010.640322: Step 2 of 2)\r\n"
       ]
      },
      {
       "output_type": "stream",
       "stream": "stdout",
       "text": [
        "Job launched 7360.2s ago, status RUNNING: Running step (mr_weather_step12_a.ubuntu.20140613.085010.640322: Step 2 of 2)\r\n"
       ]
      },
      {
       "output_type": "stream",
       "stream": "stdout",
       "text": [
        "Job launched 7391.2s ago, status RUNNING: Running step (mr_weather_step12_a.ubuntu.20140613.085010.640322: Step 2 of 2)\r\n"
       ]
      },
      {
       "output_type": "stream",
       "stream": "stdout",
       "text": [
        "Job launched 7422.2s ago, status RUNNING: Running step (mr_weather_step12_a.ubuntu.20140613.085010.640322: Step 2 of 2)\r\n"
       ]
      },
      {
       "output_type": "stream",
       "stream": "stdout",
       "text": [
        "Job launched 7453.3s ago, status RUNNING: Running step (mr_weather_step12_a.ubuntu.20140613.085010.640322: Step 2 of 2)\r\n"
       ]
      },
      {
       "output_type": "stream",
       "stream": "stdout",
       "text": [
        "Job launched 7484.4s ago, status RUNNING: Running step (mr_weather_step12_a.ubuntu.20140613.085010.640322: Step 2 of 2)\r\n"
       ]
      },
      {
       "output_type": "stream",
       "stream": "stdout",
       "text": [
        "Job launched 7515.3s ago, status RUNNING: Running step (mr_weather_step12_a.ubuntu.20140613.085010.640322: Step 2 of 2)\r\n"
       ]
      },
      {
       "output_type": "stream",
       "stream": "stdout",
       "text": [
        "Job launched 7546.5s ago, status RUNNING: Running step (mr_weather_step12_a.ubuntu.20140613.085010.640322: Step 2 of 2)\r\n"
       ]
      },
      {
       "output_type": "stream",
       "stream": "stdout",
       "text": [
        "Job launched 7577.5s ago, status RUNNING: Running step (mr_weather_step12_a.ubuntu.20140613.085010.640322: Step 2 of 2)\r\n"
       ]
      },
      {
       "output_type": "stream",
       "stream": "stdout",
       "text": [
        "Job launched 7608.5s ago, status RUNNING: Running step (mr_weather_step12_a.ubuntu.20140613.085010.640322: Step 2 of 2)\r\n"
       ]
      },
      {
       "output_type": "stream",
       "stream": "stdout",
       "text": [
        "Job launched 7639.6s ago, status RUNNING: Running step (mr_weather_step12_a.ubuntu.20140613.085010.640322: Step 2 of 2)\r\n"
       ]
      },
      {
       "output_type": "stream",
       "stream": "stdout",
       "text": [
        "Job launched 7670.5s ago, status RUNNING: Running step (mr_weather_step12_a.ubuntu.20140613.085010.640322: Step 2 of 2)\r\n"
       ]
      },
      {
       "output_type": "stream",
       "stream": "stdout",
       "text": [
        "Job launched 7701.7s ago, status RUNNING: Running step (mr_weather_step12_a.ubuntu.20140613.085010.640322: Step 2 of 2)\r\n"
       ]
      },
      {
       "output_type": "stream",
       "stream": "stdout",
       "text": [
        "Job launched 7732.8s ago, status RUNNING: Running step (mr_weather_step12_a.ubuntu.20140613.085010.640322: Step 2 of 2)\r\n"
       ]
      },
      {
       "output_type": "stream",
       "stream": "stdout",
       "text": [
        "Job launched 7763.9s ago, status RUNNING: Running step (mr_weather_step12_a.ubuntu.20140613.085010.640322: Step 2 of 2)\r\n"
       ]
      },
      {
       "output_type": "stream",
       "stream": "stdout",
       "text": [
        "Job launched 7794.9s ago, status RUNNING: Running step (mr_weather_step12_a.ubuntu.20140613.085010.640322: Step 2 of 2)\r\n"
       ]
      },
      {
       "output_type": "stream",
       "stream": "stdout",
       "text": [
        "Job launched 7826.0s ago, status RUNNING: Running step (mr_weather_step12_a.ubuntu.20140613.085010.640322: Step 2 of 2)\r\n"
       ]
      },
      {
       "output_type": "stream",
       "stream": "stdout",
       "text": [
        "Job launched 7857.2s ago, status RUNNING: Running step (mr_weather_step12_a.ubuntu.20140613.085010.640322: Step 2 of 2)\r\n"
       ]
      },
      {
       "output_type": "stream",
       "stream": "stdout",
       "text": [
        "Job launched 7888.3s ago, status RUNNING: Running step (mr_weather_step12_a.ubuntu.20140613.085010.640322: Step 2 of 2)\r\n"
       ]
      },
      {
       "output_type": "stream",
       "stream": "stdout",
       "text": [
        "Job launched 7919.4s ago, status RUNNING: Running step (mr_weather_step12_a.ubuntu.20140613.085010.640322: Step 2 of 2)\r\n"
       ]
      },
      {
       "output_type": "stream",
       "stream": "stdout",
       "text": [
        "Job launched 7950.4s ago, status RUNNING: Running step (mr_weather_step12_a.ubuntu.20140613.085010.640322: Step 2 of 2)\r\n"
       ]
      },
      {
       "output_type": "stream",
       "stream": "stdout",
       "text": [
        "Job launched 7981.6s ago, status RUNNING: Running step (mr_weather_step12_a.ubuntu.20140613.085010.640322: Step 2 of 2)\r\n"
       ]
      },
      {
       "output_type": "stream",
       "stream": "stdout",
       "text": [
        "Job launched 8012.7s ago, status RUNNING: Running step (mr_weather_step12_a.ubuntu.20140613.085010.640322: Step 2 of 2)\r\n"
       ]
      },
      {
       "output_type": "stream",
       "stream": "stdout",
       "text": [
        "Job launched 8043.9s ago, status RUNNING: Running step (mr_weather_step12_a.ubuntu.20140613.085010.640322: Step 2 of 2)\r\n"
       ]
      },
      {
       "output_type": "stream",
       "stream": "stdout",
       "text": [
        "Job launched 8074.9s ago, status RUNNING: Running step (mr_weather_step12_a.ubuntu.20140613.085010.640322: Step 2 of 2)\r\n"
       ]
      },
      {
       "output_type": "stream",
       "stream": "stdout",
       "text": [
        "Job launched 8105.9s ago, status RUNNING: Running step (mr_weather_step12_a.ubuntu.20140613.085010.640322: Step 2 of 2)\r\n"
       ]
      },
      {
       "output_type": "stream",
       "stream": "stdout",
       "text": [
        "Job launched 8136.8s ago, status RUNNING: Running step (mr_weather_step12_a.ubuntu.20140613.085010.640322: Step 2 of 2)\r\n"
       ]
      },
      {
       "output_type": "stream",
       "stream": "stdout",
       "text": [
        "Job launched 8167.8s ago, status RUNNING: Running step (mr_weather_step12_a.ubuntu.20140613.085010.640322: Step 2 of 2)\r\n"
       ]
      },
      {
       "output_type": "stream",
       "stream": "stdout",
       "text": [
        "Job launched 8198.8s ago, status RUNNING: Running step (mr_weather_step12_a.ubuntu.20140613.085010.640322: Step 2 of 2)\r\n"
       ]
      },
      {
       "output_type": "stream",
       "stream": "stdout",
       "text": [
        "Job launched 8229.9s ago, status RUNNING: Running step (mr_weather_step12_a.ubuntu.20140613.085010.640322: Step 2 of 2)\r\n"
       ]
      },
      {
       "output_type": "stream",
       "stream": "stdout",
       "text": [
        "Job launched 8261.0s ago, status RUNNING: Running step (mr_weather_step12_a.ubuntu.20140613.085010.640322: Step 2 of 2)\r\n"
       ]
      },
      {
       "output_type": "stream",
       "stream": "stdout",
       "text": [
        "Job launched 8292.1s ago, status RUNNING: Running step (mr_weather_step12_a.ubuntu.20140613.085010.640322: Step 2 of 2)\r\n"
       ]
      },
      {
       "output_type": "stream",
       "stream": "stdout",
       "text": [
        "Job launched 8323.1s ago, status RUNNING: Running step (mr_weather_step12_a.ubuntu.20140613.085010.640322: Step 2 of 2)\r\n"
       ]
      },
      {
       "output_type": "stream",
       "stream": "stdout",
       "text": [
        "Job launched 8354.2s ago, status RUNNING: Running step (mr_weather_step12_a.ubuntu.20140613.085010.640322: Step 2 of 2)\r\n"
       ]
      },
      {
       "output_type": "stream",
       "stream": "stdout",
       "text": [
        "Job launched 8385.1s ago, status RUNNING: Running step (mr_weather_step12_a.ubuntu.20140613.085010.640322: Step 2 of 2)\r\n"
       ]
      },
      {
       "output_type": "stream",
       "stream": "stdout",
       "text": [
        "Job launched 8416.2s ago, status RUNNING: Running step (mr_weather_step12_a.ubuntu.20140613.085010.640322: Step 2 of 2)\r\n"
       ]
      },
      {
       "output_type": "stream",
       "stream": "stdout",
       "text": [
        "Job launched 8447.2s ago, status RUNNING: Running step (mr_weather_step12_a.ubuntu.20140613.085010.640322: Step 2 of 2)\r\n"
       ]
      },
      {
       "output_type": "stream",
       "stream": "stdout",
       "text": [
        "Job launched 8478.4s ago, status RUNNING: Running step (mr_weather_step12_a.ubuntu.20140613.085010.640322: Step 2 of 2)\r\n"
       ]
      },
      {
       "output_type": "stream",
       "stream": "stdout",
       "text": [
        "Job launched 8509.4s ago, status RUNNING: Running step (mr_weather_step12_a.ubuntu.20140613.085010.640322: Step 2 of 2)\r\n"
       ]
      },
      {
       "output_type": "stream",
       "stream": "stdout",
       "text": [
        "Job launched 8540.5s ago, status RUNNING: Running step (mr_weather_step12_a.ubuntu.20140613.085010.640322: Step 2 of 2)\r\n"
       ]
      },
      {
       "output_type": "stream",
       "stream": "stdout",
       "text": [
        "Job launched 8571.5s ago, status RUNNING: Running step (mr_weather_step12_a.ubuntu.20140613.085010.640322: Step 2 of 2)\r\n"
       ]
      },
      {
       "output_type": "stream",
       "stream": "stdout",
       "text": [
        "Job launched 8602.6s ago, status RUNNING: Running step (mr_weather_step12_a.ubuntu.20140613.085010.640322: Step 2 of 2)\r\n"
       ]
      },
      {
       "output_type": "stream",
       "stream": "stdout",
       "text": [
        "Job launched 8633.6s ago, status RUNNING: Running step (mr_weather_step12_a.ubuntu.20140613.085010.640322: Step 2 of 2)\r\n"
       ]
      },
      {
       "output_type": "stream",
       "stream": "stdout",
       "text": [
        "Job launched 8664.6s ago, status RUNNING: Running step (mr_weather_step12_a.ubuntu.20140613.085010.640322: Step 2 of 2)\r\n"
       ]
      },
      {
       "output_type": "stream",
       "stream": "stdout",
       "text": [
        "Job launched 8695.8s ago, status RUNNING: Running step (mr_weather_step12_a.ubuntu.20140613.085010.640322: Step 2 of 2)\r\n"
       ]
      },
      {
       "output_type": "stream",
       "stream": "stdout",
       "text": [
        "Job launched 8726.9s ago, status RUNNING: Running step (mr_weather_step12_a.ubuntu.20140613.085010.640322: Step 2 of 2)\r\n"
       ]
      },
      {
       "output_type": "stream",
       "stream": "stdout",
       "text": [
        "Job launched 8758.0s ago, status RUNNING: Running step (mr_weather_step12_a.ubuntu.20140613.085010.640322: Step 2 of 2)\r\n"
       ]
      },
      {
       "output_type": "stream",
       "stream": "stdout",
       "text": [
        "Job launched 8789.3s ago, status RUNNING: Running step (mr_weather_step12_a.ubuntu.20140613.085010.640322: Step 2 of 2)\r\n"
       ]
      },
      {
       "output_type": "stream",
       "stream": "stdout",
       "text": [
        "Job launched 8820.4s ago, status RUNNING: Running step (mr_weather_step12_a.ubuntu.20140613.085010.640322: Step 2 of 2)\r\n"
       ]
      },
      {
       "output_type": "stream",
       "stream": "stdout",
       "text": [
        "Job launched 8851.5s ago, status RUNNING: Running step (mr_weather_step12_a.ubuntu.20140613.085010.640322: Step 2 of 2)\r\n"
       ]
      },
      {
       "output_type": "stream",
       "stream": "stdout",
       "text": [
        "Job launched 8882.6s ago, status RUNNING: Running step (mr_weather_step12_a.ubuntu.20140613.085010.640322: Step 2 of 2)\r\n"
       ]
      },
      {
       "output_type": "stream",
       "stream": "stdout",
       "text": [
        "Job launched 8913.7s ago, status RUNNING: Running step (mr_weather_step12_a.ubuntu.20140613.085010.640322: Step 2 of 2)\r\n"
       ]
      },
      {
       "output_type": "stream",
       "stream": "stdout",
       "text": [
        "Job launched 8945.0s ago, status RUNNING: Running step (mr_weather_step12_a.ubuntu.20140613.085010.640322: Step 2 of 2)\r\n"
       ]
      },
      {
       "output_type": "stream",
       "stream": "stdout",
       "text": [
        "Job launched 8976.0s ago, status RUNNING: Running step (mr_weather_step12_a.ubuntu.20140613.085010.640322: Step 2 of 2)\r\n"
       ]
      },
      {
       "output_type": "stream",
       "stream": "stdout",
       "text": [
        "Job launched 9007.0s ago, status RUNNING: Running step (mr_weather_step12_a.ubuntu.20140613.085010.640322: Step 2 of 2)\r\n"
       ]
      },
      {
       "output_type": "stream",
       "stream": "stdout",
       "text": [
        "Job launched 9038.1s ago, status RUNNING: Running step (mr_weather_step12_a.ubuntu.20140613.085010.640322: Step 2 of 2)\r\n"
       ]
      },
      {
       "output_type": "stream",
       "stream": "stdout",
       "text": [
        "Job launched 9069.1s ago, status RUNNING: Running step (mr_weather_step12_a.ubuntu.20140613.085010.640322: Step 2 of 2)\r\n"
       ]
      },
      {
       "output_type": "stream",
       "stream": "stdout",
       "text": [
        "Job launched 9100.3s ago, status RUNNING: Running step (mr_weather_step12_a.ubuntu.20140613.085010.640322: Step 2 of 2)\r\n"
       ]
      },
      {
       "output_type": "stream",
       "stream": "stdout",
       "text": [
        "Job launched 9131.3s ago, status RUNNING: Running step (mr_weather_step12_a.ubuntu.20140613.085010.640322: Step 2 of 2)\r\n"
       ]
      },
      {
       "output_type": "stream",
       "stream": "stdout",
       "text": [
        "Job launched 9162.3s ago, status RUNNING: Running step (mr_weather_step12_a.ubuntu.20140613.085010.640322: Step 2 of 2)\r\n"
       ]
      },
      {
       "output_type": "stream",
       "stream": "stdout",
       "text": [
        "Job launched 9193.3s ago, status RUNNING: Running step (mr_weather_step12_a.ubuntu.20140613.085010.640322: Step 2 of 2)\r\n"
       ]
      },
      {
       "output_type": "stream",
       "stream": "stdout",
       "text": [
        "Job launched 9224.4s ago, status RUNNING: Running step (mr_weather_step12_a.ubuntu.20140613.085010.640322: Step 2 of 2)\r\n"
       ]
      },
      {
       "output_type": "stream",
       "stream": "stdout",
       "text": [
        "Job launched 9255.6s ago, status RUNNING: Running step (mr_weather_step12_a.ubuntu.20140613.085010.640322: Step 2 of 2)\r\n"
       ]
      },
      {
       "output_type": "stream",
       "stream": "stdout",
       "text": [
        "Job launched 9286.7s ago, status RUNNING: Running step (mr_weather_step12_a.ubuntu.20140613.085010.640322: Step 2 of 2)\r\n"
       ]
      },
      {
       "output_type": "stream",
       "stream": "stdout",
       "text": [
        "Job launched 9317.8s ago, status RUNNING: Running step (mr_weather_step12_a.ubuntu.20140613.085010.640322: Step 2 of 2)\r\n"
       ]
      },
      {
       "output_type": "stream",
       "stream": "stdout",
       "text": [
        "Job launched 9348.8s ago, status RUNNING: Running step (mr_weather_step12_a.ubuntu.20140613.085010.640322: Step 2 of 2)\r\n"
       ]
      },
      {
       "output_type": "stream",
       "stream": "stdout",
       "text": [
        "Job launched 9379.9s ago, status RUNNING: Running step (mr_weather_step12_a.ubuntu.20140613.085010.640322: Step 2 of 2)\r\n"
       ]
      },
      {
       "output_type": "stream",
       "stream": "stdout",
       "text": [
        "Job launched 9410.9s ago, status RUNNING: Running step (mr_weather_step12_a.ubuntu.20140613.085010.640322: Step 2 of 2)\r\n"
       ]
      },
      {
       "output_type": "stream",
       "stream": "stdout",
       "text": [
        "Job launched 9442.1s ago, status RUNNING: Running step (mr_weather_step12_a.ubuntu.20140613.085010.640322: Step 2 of 2)\r\n"
       ]
      },
      {
       "output_type": "stream",
       "stream": "stdout",
       "text": [
        "Job launched 9473.2s ago, status RUNNING: Running step (mr_weather_step12_a.ubuntu.20140613.085010.640322: Step 2 of 2)\r\n"
       ]
      },
      {
       "output_type": "stream",
       "stream": "stdout",
       "text": [
        "Job launched 9504.3s ago, status RUNNING: Running step (mr_weather_step12_a.ubuntu.20140613.085010.640322: Step 2 of 2)\r\n"
       ]
      },
      {
       "output_type": "stream",
       "stream": "stdout",
       "text": [
        "Job launched 9535.3s ago, status RUNNING: Running step (mr_weather_step12_a.ubuntu.20140613.085010.640322: Step 2 of 2)\r\n"
       ]
      },
      {
       "output_type": "stream",
       "stream": "stdout",
       "text": [
        "Job launched 9566.4s ago, status RUNNING: Running step (mr_weather_step12_a.ubuntu.20140613.085010.640322: Step 2 of 2)\r\n"
       ]
      },
      {
       "output_type": "stream",
       "stream": "stdout",
       "text": [
        "Job launched 9597.4s ago, status RUNNING: Running step (mr_weather_step12_a.ubuntu.20140613.085010.640322: Step 2 of 2)\r\n"
       ]
      },
      {
       "output_type": "stream",
       "stream": "stdout",
       "text": [
        "Job launched 9628.4s ago, status RUNNING: Running step (mr_weather_step12_a.ubuntu.20140613.085010.640322: Step 2 of 2)\r\n"
       ]
      },
      {
       "output_type": "stream",
       "stream": "stdout",
       "text": [
        "Job launched 9659.5s ago, status RUNNING: Running step (mr_weather_step12_a.ubuntu.20140613.085010.640322: Step 2 of 2)\r\n"
       ]
      },
      {
       "output_type": "stream",
       "stream": "stdout",
       "text": [
        "Job launched 9690.5s ago, status RUNNING: Running step (mr_weather_step12_a.ubuntu.20140613.085010.640322: Step 2 of 2)\r\n"
       ]
      },
      {
       "output_type": "stream",
       "stream": "stdout",
       "text": [
        "Job launched 9721.5s ago, status RUNNING: Running step (mr_weather_step12_a.ubuntu.20140613.085010.640322: Step 2 of 2)\r\n"
       ]
      },
      {
       "output_type": "stream",
       "stream": "stdout",
       "text": [
        "Job launched 9752.7s ago, status RUNNING: Running step (mr_weather_step12_a.ubuntu.20140613.085010.640322: Step 2 of 2)\r\n"
       ]
      },
      {
       "output_type": "stream",
       "stream": "stdout",
       "text": [
        "Job launched 9783.8s ago, status RUNNING: Running step (mr_weather_step12_a.ubuntu.20140613.085010.640322: Step 2 of 2)\r\n"
       ]
      },
      {
       "output_type": "stream",
       "stream": "stdout",
       "text": [
        "Job launched 9814.8s ago, status RUNNING: Running step (mr_weather_step12_a.ubuntu.20140613.085010.640322: Step 2 of 2)\r\n"
       ]
      },
      {
       "output_type": "stream",
       "stream": "stdout",
       "text": [
        "Job launched 9845.9s ago, status RUNNING: Running step (mr_weather_step12_a.ubuntu.20140613.085010.640322: Step 2 of 2)\r\n"
       ]
      },
      {
       "output_type": "stream",
       "stream": "stdout",
       "text": [
        "Job launched 9876.9s ago, status RUNNING: Running step (mr_weather_step12_a.ubuntu.20140613.085010.640322: Step 2 of 2)\r\n"
       ]
      },
      {
       "output_type": "stream",
       "stream": "stdout",
       "text": [
        "Job launched 9908.0s ago, status RUNNING: Running step (mr_weather_step12_a.ubuntu.20140613.085010.640322: Step 2 of 2)\r\n"
       ]
      },
      {
       "output_type": "stream",
       "stream": "stdout",
       "text": [
        "Job launched 9939.0s ago, status RUNNING: Running step (mr_weather_step12_a.ubuntu.20140613.085010.640322: Step 2 of 2)\r\n"
       ]
      },
      {
       "output_type": "stream",
       "stream": "stdout",
       "text": [
        "Job launched 9970.1s ago, status RUNNING: Running step (mr_weather_step12_a.ubuntu.20140613.085010.640322: Step 2 of 2)\r\n"
       ]
      },
      {
       "output_type": "stream",
       "stream": "stdout",
       "text": [
        "Job launched 10001.3s ago, status RUNNING: Running step (mr_weather_step12_a.ubuntu.20140613.085010.640322: Step 2 of 2)\r\n"
       ]
      },
      {
       "output_type": "stream",
       "stream": "stdout",
       "text": [
        "Job launched 10032.3s ago, status RUNNING: Running step (mr_weather_step12_a.ubuntu.20140613.085010.640322: Step 2 of 2)\r\n"
       ]
      },
      {
       "output_type": "stream",
       "stream": "stdout",
       "text": [
        "Job launched 10063.4s ago, status RUNNING: Running step (mr_weather_step12_a.ubuntu.20140613.085010.640322: Step 2 of 2)\r\n"
       ]
      },
      {
       "output_type": "stream",
       "stream": "stdout",
       "text": [
        "Job launched 10094.5s ago, status RUNNING: Running step (mr_weather_step12_a.ubuntu.20140613.085010.640322: Step 2 of 2)\r\n"
       ]
      },
      {
       "output_type": "stream",
       "stream": "stdout",
       "text": [
        "Job launched 10125.6s ago, status RUNNING: Running step (mr_weather_step12_a.ubuntu.20140613.085010.640322: Step 2 of 2)\r\n"
       ]
      },
      {
       "output_type": "stream",
       "stream": "stdout",
       "text": [
        "Job launched 10156.6s ago, status RUNNING: Running step (mr_weather_step12_a.ubuntu.20140613.085010.640322: Step 2 of 2)\r\n"
       ]
      },
      {
       "output_type": "stream",
       "stream": "stdout",
       "text": [
        "Job launched 10187.5s ago, status RUNNING: Running step (mr_weather_step12_a.ubuntu.20140613.085010.640322: Step 2 of 2)\r\n"
       ]
      },
      {
       "output_type": "stream",
       "stream": "stdout",
       "text": [
        "Job launched 10218.5s ago, status RUNNING: Running step (mr_weather_step12_a.ubuntu.20140613.085010.640322: Step 2 of 2)\r\n"
       ]
      },
      {
       "output_type": "stream",
       "stream": "stdout",
       "text": [
        "Job launched 10249.7s ago, status RUNNING: Running step (mr_weather_step12_a.ubuntu.20140613.085010.640322: Step 2 of 2)\r\n"
       ]
      },
      {
       "output_type": "stream",
       "stream": "stdout",
       "text": [
        "Job launched 10280.7s ago, status RUNNING: Running step (mr_weather_step12_a.ubuntu.20140613.085010.640322: Step 2 of 2)\r\n"
       ]
      },
      {
       "output_type": "stream",
       "stream": "stdout",
       "text": [
        "Job launched 10311.8s ago, status RUNNING: Running step (mr_weather_step12_a.ubuntu.20140613.085010.640322: Step 2 of 2)\r\n"
       ]
      },
      {
       "output_type": "stream",
       "stream": "stdout",
       "text": [
        "Job launched 10342.8s ago, status RUNNING: Running step (mr_weather_step12_a.ubuntu.20140613.085010.640322: Step 2 of 2)\r\n"
       ]
      },
      {
       "output_type": "stream",
       "stream": "stdout",
       "text": [
        "Job launched 10373.9s ago, status RUNNING: Running step (mr_weather_step12_a.ubuntu.20140613.085010.640322: Step 2 of 2)\r\n"
       ]
      },
      {
       "output_type": "stream",
       "stream": "stdout",
       "text": [
        "Job launched 10404.8s ago, status RUNNING: Running step (mr_weather_step12_a.ubuntu.20140613.085010.640322: Step 2 of 2)\r\n"
       ]
      },
      {
       "output_type": "stream",
       "stream": "stdout",
       "text": [
        "Job launched 10435.8s ago, status RUNNING: Running step (mr_weather_step12_a.ubuntu.20140613.085010.640322: Step 2 of 2)\r\n"
       ]
      },
      {
       "output_type": "stream",
       "stream": "stdout",
       "text": [
        "Job launched 10466.9s ago, status RUNNING: Running step (mr_weather_step12_a.ubuntu.20140613.085010.640322: Step 2 of 2)\r\n"
       ]
      },
      {
       "output_type": "stream",
       "stream": "stdout",
       "text": [
        "Job launched 10497.9s ago, status RUNNING: Running step (mr_weather_step12_a.ubuntu.20140613.085010.640322: Step 2 of 2)\r\n"
       ]
      },
      {
       "output_type": "stream",
       "stream": "stdout",
       "text": [
        "Job launched 10529.0s ago, status RUNNING: Running step (mr_weather_step12_a.ubuntu.20140613.085010.640322: Step 2 of 2)\r\n"
       ]
      },
      {
       "output_type": "stream",
       "stream": "stdout",
       "text": [
        "Job launched 10560.1s ago, status RUNNING: Running step (mr_weather_step12_a.ubuntu.20140613.085010.640322: Step 2 of 2)\r\n"
       ]
      },
      {
       "output_type": "stream",
       "stream": "stdout",
       "text": [
        "Job launched 10591.2s ago, status RUNNING: Running step (mr_weather_step12_a.ubuntu.20140613.085010.640322: Step 2 of 2)\r\n"
       ]
      },
      {
       "output_type": "stream",
       "stream": "stdout",
       "text": [
        "Job launched 10622.3s ago, status RUNNING: Running step (mr_weather_step12_a.ubuntu.20140613.085010.640322: Step 2 of 2)\r\n"
       ]
      },
      {
       "output_type": "stream",
       "stream": "stdout",
       "text": [
        "Job launched 10653.4s ago, status RUNNING: Running step (mr_weather_step12_a.ubuntu.20140613.085010.640322: Step 2 of 2)\r\n"
       ]
      },
      {
       "output_type": "stream",
       "stream": "stdout",
       "text": [
        "Job launched 10684.3s ago, status RUNNING: Running step (mr_weather_step12_a.ubuntu.20140613.085010.640322: Step 2 of 2)\r\n"
       ]
      },
      {
       "output_type": "stream",
       "stream": "stdout",
       "text": [
        "Job launched 10715.3s ago, status RUNNING: Running step (mr_weather_step12_a.ubuntu.20140613.085010.640322: Step 2 of 2)\r\n"
       ]
      },
      {
       "output_type": "stream",
       "stream": "stdout",
       "text": [
        "Job launched 10746.4s ago, status RUNNING: Running step (mr_weather_step12_a.ubuntu.20140613.085010.640322: Step 2 of 2)\r\n"
       ]
      },
      {
       "output_type": "stream",
       "stream": "stdout",
       "text": [
        "Job launched 10777.5s ago, status RUNNING: Running step (mr_weather_step12_a.ubuntu.20140613.085010.640322: Step 2 of 2)\r\n"
       ]
      },
      {
       "output_type": "stream",
       "stream": "stdout",
       "text": [
        "Job launched 10808.6s ago, status RUNNING: Running step (mr_weather_step12_a.ubuntu.20140613.085010.640322: Step 2 of 2)\r\n"
       ]
      },
      {
       "output_type": "stream",
       "stream": "stdout",
       "text": [
        "Job launched 10839.7s ago, status RUNNING: Running step (mr_weather_step12_a.ubuntu.20140613.085010.640322: Step 2 of 2)\r\n"
       ]
      },
      {
       "output_type": "stream",
       "stream": "stdout",
       "text": [
        "Job launched 10870.7s ago, status RUNNING: Running step (mr_weather_step12_a.ubuntu.20140613.085010.640322: Step 2 of 2)\r\n"
       ]
      },
      {
       "output_type": "stream",
       "stream": "stdout",
       "text": [
        "Job launched 10901.8s ago, status RUNNING: Running step (mr_weather_step12_a.ubuntu.20140613.085010.640322: Step 2 of 2)\r\n"
       ]
      },
      {
       "output_type": "stream",
       "stream": "stdout",
       "text": [
        "Job launched 10932.8s ago, status RUNNING: Running step (mr_weather_step12_a.ubuntu.20140613.085010.640322: Step 2 of 2)\r\n"
       ]
      },
      {
       "output_type": "stream",
       "stream": "stdout",
       "text": [
        "Job launched 10963.8s ago, status RUNNING: Running step (mr_weather_step12_a.ubuntu.20140613.085010.640322: Step 2 of 2)\r\n"
       ]
      },
      {
       "output_type": "stream",
       "stream": "stdout",
       "text": [
        "Job launched 10994.9s ago, status RUNNING: Running step (mr_weather_step12_a.ubuntu.20140613.085010.640322: Step 2 of 2)\r\n"
       ]
      },
      {
       "output_type": "stream",
       "stream": "stdout",
       "text": [
        "Job launched 11025.9s ago, status RUNNING: Running step (mr_weather_step12_a.ubuntu.20140613.085010.640322: Step 2 of 2)\r\n"
       ]
      },
      {
       "output_type": "stream",
       "stream": "stdout",
       "text": [
        "Job launched 11056.9s ago, status RUNNING: Running step (mr_weather_step12_a.ubuntu.20140613.085010.640322: Step 2 of 2)\r\n"
       ]
      },
      {
       "output_type": "stream",
       "stream": "stdout",
       "text": [
        "Job launched 11088.0s ago, status RUNNING: Running step (mr_weather_step12_a.ubuntu.20140613.085010.640322: Step 2 of 2)\r\n"
       ]
      },
      {
       "output_type": "stream",
       "stream": "stdout",
       "text": [
        "Job launched 11119.1s ago, status RUNNING: Running step (mr_weather_step12_a.ubuntu.20140613.085010.640322: Step 2 of 2)\r\n"
       ]
      },
      {
       "output_type": "stream",
       "stream": "stdout",
       "text": [
        "Job launched 11150.0s ago, status RUNNING: Running step (mr_weather_step12_a.ubuntu.20140613.085010.640322: Step 2 of 2)\r\n"
       ]
      },
      {
       "output_type": "stream",
       "stream": "stdout",
       "text": [
        "Job launched 11181.1s ago, status RUNNING: Running step (mr_weather_step12_a.ubuntu.20140613.085010.640322: Step 2 of 2)\r\n"
       ]
      },
      {
       "output_type": "stream",
       "stream": "stdout",
       "text": [
        "Job launched 11212.1s ago, status RUNNING: Running step (mr_weather_step12_a.ubuntu.20140613.085010.640322: Step 2 of 2)\r\n"
       ]
      },
      {
       "output_type": "stream",
       "stream": "stdout",
       "text": [
        "Job launched 11243.5s ago, status RUNNING: Running step (mr_weather_step12_a.ubuntu.20140613.085010.640322: Step 2 of 2)\r\n"
       ]
      },
      {
       "output_type": "stream",
       "stream": "stdout",
       "text": [
        "Job launched 11274.5s ago, status RUNNING: Running step (mr_weather_step12_a.ubuntu.20140613.085010.640322: Step 2 of 2)\r\n"
       ]
      },
      {
       "output_type": "stream",
       "stream": "stdout",
       "text": [
        "Job launched 11305.5s ago, status RUNNING: Running step (mr_weather_step12_a.ubuntu.20140613.085010.640322: Step 2 of 2)\r\n"
       ]
      },
      {
       "output_type": "stream",
       "stream": "stdout",
       "text": [
        "Job launched 11336.6s ago, status RUNNING: Running step (mr_weather_step12_a.ubuntu.20140613.085010.640322: Step 2 of 2)\r\n"
       ]
      },
      {
       "output_type": "stream",
       "stream": "stdout",
       "text": [
        "Job launched 11367.6s ago, status RUNNING: Running step (mr_weather_step12_a.ubuntu.20140613.085010.640322: Step 2 of 2)\r\n"
       ]
      },
      {
       "output_type": "stream",
       "stream": "stdout",
       "text": [
        "Job launched 11398.6s ago, status RUNNING: Running step (mr_weather_step12_a.ubuntu.20140613.085010.640322: Step 2 of 2)\r\n"
       ]
      },
      {
       "output_type": "stream",
       "stream": "stdout",
       "text": [
        "Job launched 11429.6s ago, status RUNNING: Running step (mr_weather_step12_a.ubuntu.20140613.085010.640322: Step 2 of 2)\r\n"
       ]
      },
      {
       "output_type": "stream",
       "stream": "stdout",
       "text": [
        "Job launched 11460.8s ago, status RUNNING: Running step (mr_weather_step12_a.ubuntu.20140613.085010.640322: Step 2 of 2)\r\n"
       ]
      },
      {
       "output_type": "stream",
       "stream": "stdout",
       "text": [
        "Job launched 11491.9s ago, status RUNNING: Running step (mr_weather_step12_a.ubuntu.20140613.085010.640322: Step 2 of 2)\r\n"
       ]
      },
      {
       "output_type": "stream",
       "stream": "stdout",
       "text": [
        "Job launched 11522.9s ago, status RUNNING: Running step (mr_weather_step12_a.ubuntu.20140613.085010.640322: Step 2 of 2)\r\n"
       ]
      },
      {
       "output_type": "stream",
       "stream": "stdout",
       "text": [
        "Job launched 11553.8s ago, status RUNNING: Running step (mr_weather_step12_a.ubuntu.20140613.085010.640322: Step 2 of 2)\r\n"
       ]
      },
      {
       "output_type": "stream",
       "stream": "stdout",
       "text": [
        "Job launched 11584.9s ago, status RUNNING: Running step (mr_weather_step12_a.ubuntu.20140613.085010.640322: Step 2 of 2)\r\n"
       ]
      },
      {
       "output_type": "stream",
       "stream": "stdout",
       "text": [
        "Job launched 11615.7s ago, status RUNNING: Running step (mr_weather_step12_a.ubuntu.20140613.085010.640322: Step 2 of 2)\r\n"
       ]
      },
      {
       "output_type": "stream",
       "stream": "stdout",
       "text": [
        "Job launched 11646.8s ago, status RUNNING: Running step (mr_weather_step12_a.ubuntu.20140613.085010.640322: Step 2 of 2)\r\n"
       ]
      },
      {
       "output_type": "stream",
       "stream": "stdout",
       "text": [
        "Job launched 11678.0s ago, status RUNNING: Running step (mr_weather_step12_a.ubuntu.20140613.085010.640322: Step 2 of 2)\r\n"
       ]
      },
      {
       "output_type": "stream",
       "stream": "stdout",
       "text": [
        "Job launched 11709.2s ago, status RUNNING: Running step (mr_weather_step12_a.ubuntu.20140613.085010.640322: Step 2 of 2)\r\n"
       ]
      },
      {
       "output_type": "stream",
       "stream": "stdout",
       "text": [
        "Job launched 11740.2s ago, status RUNNING: Running step (mr_weather_step12_a.ubuntu.20140613.085010.640322: Step 2 of 2)\r\n"
       ]
      },
      {
       "output_type": "stream",
       "stream": "stdout",
       "text": [
        "Job launched 11771.4s ago, status RUNNING: Running step (mr_weather_step12_a.ubuntu.20140613.085010.640322: Step 2 of 2)\r\n"
       ]
      },
      {
       "output_type": "stream",
       "stream": "stdout",
       "text": [
        "Job launched 11802.4s ago, status RUNNING: Running step (mr_weather_step12_a.ubuntu.20140613.085010.640322: Step 2 of 2)\r\n"
       ]
      },
      {
       "output_type": "stream",
       "stream": "stdout",
       "text": [
        "Job launched 11833.5s ago, status RUNNING: Running step (mr_weather_step12_a.ubuntu.20140613.085010.640322: Step 2 of 2)\r\n"
       ]
      },
      {
       "output_type": "stream",
       "stream": "stdout",
       "text": [
        "Job launched 11864.7s ago, status RUNNING: Running step (mr_weather_step12_a.ubuntu.20140613.085010.640322: Step 2 of 2)\r\n"
       ]
      },
      {
       "output_type": "stream",
       "stream": "stdout",
       "text": [
        "Job launched 11895.7s ago, status RUNNING: Running step (mr_weather_step12_a.ubuntu.20140613.085010.640322: Step 2 of 2)\r\n"
       ]
      },
      {
       "output_type": "stream",
       "stream": "stdout",
       "text": [
        "Job launched 11926.8s ago, status RUNNING: Running step (mr_weather_step12_a.ubuntu.20140613.085010.640322: Step 2 of 2)\r\n"
       ]
      },
      {
       "output_type": "stream",
       "stream": "stdout",
       "text": [
        "Job launched 11957.8s ago, status RUNNING: Running step (mr_weather_step12_a.ubuntu.20140613.085010.640322: Step 2 of 2)\r\n"
       ]
      },
      {
       "output_type": "stream",
       "stream": "stdout",
       "text": [
        "Job launched 11988.9s ago, status RUNNING: Running step (mr_weather_step12_a.ubuntu.20140613.085010.640322: Step 2 of 2)\r\n"
       ]
      },
      {
       "output_type": "stream",
       "stream": "stdout",
       "text": [
        "Job launched 12019.9s ago, status RUNNING: Running step (mr_weather_step12_a.ubuntu.20140613.085010.640322: Step 2 of 2)\r\n"
       ]
      },
      {
       "output_type": "stream",
       "stream": "stdout",
       "text": [
        "Job launched 12051.0s ago, status RUNNING: Running step (mr_weather_step12_a.ubuntu.20140613.085010.640322: Step 2 of 2)\r\n"
       ]
      },
      {
       "output_type": "stream",
       "stream": "stdout",
       "text": [
        "Job launched 12082.0s ago, status RUNNING: Running step (mr_weather_step12_a.ubuntu.20140613.085010.640322: Step 2 of 2)\r\n"
       ]
      },
      {
       "output_type": "stream",
       "stream": "stdout",
       "text": [
        "Job launched 12113.2s ago, status RUNNING: Running step (mr_weather_step12_a.ubuntu.20140613.085010.640322: Step 2 of 2)\r\n"
       ]
      },
      {
       "output_type": "stream",
       "stream": "stdout",
       "text": [
        "Job launched 12144.2s ago, status RUNNING: Running step (mr_weather_step12_a.ubuntu.20140613.085010.640322: Step 2 of 2)\r\n"
       ]
      },
      {
       "output_type": "stream",
       "stream": "stdout",
       "text": [
        "Job launched 12175.3s ago, status RUNNING: Running step (mr_weather_step12_a.ubuntu.20140613.085010.640322: Step 2 of 2)\r\n"
       ]
      },
      {
       "output_type": "stream",
       "stream": "stdout",
       "text": [
        "Job launched 12206.4s ago, status RUNNING: Running step (mr_weather_step12_a.ubuntu.20140613.085010.640322: Step 2 of 2)\r\n"
       ]
      },
      {
       "output_type": "stream",
       "stream": "stdout",
       "text": [
        "Job launched 12237.4s ago, status RUNNING: Running step (mr_weather_step12_a.ubuntu.20140613.085010.640322: Step 2 of 2)\r\n"
       ]
      },
      {
       "output_type": "stream",
       "stream": "stdout",
       "text": [
        "Job launched 12268.5s ago, status RUNNING: Running step (mr_weather_step12_a.ubuntu.20140613.085010.640322: Step 2 of 2)\r\n"
       ]
      },
      {
       "output_type": "stream",
       "stream": "stdout",
       "text": [
        "Job launched 12299.5s ago, status RUNNING: Running step (mr_weather_step12_a.ubuntu.20140613.085010.640322: Step 2 of 2)\r\n"
       ]
      },
      {
       "output_type": "stream",
       "stream": "stdout",
       "text": [
        "Job launched 12330.7s ago, status RUNNING: Running step (mr_weather_step12_a.ubuntu.20140613.085010.640322: Step 2 of 2)\r\n"
       ]
      },
      {
       "output_type": "stream",
       "stream": "stdout",
       "text": [
        "Job launched 12361.8s ago, status RUNNING: Running step (mr_weather_step12_a.ubuntu.20140613.085010.640322: Step 2 of 2)\r\n"
       ]
      },
      {
       "output_type": "stream",
       "stream": "stdout",
       "text": [
        "Job launched 12393.0s ago, status RUNNING: Running step (mr_weather_step12_a.ubuntu.20140613.085010.640322: Step 2 of 2)\r\n"
       ]
      },
      {
       "output_type": "stream",
       "stream": "stdout",
       "text": [
        "Job launched 12424.1s ago, status RUNNING: Running step (mr_weather_step12_a.ubuntu.20140613.085010.640322: Step 2 of 2)\r\n"
       ]
      },
      {
       "output_type": "stream",
       "stream": "stdout",
       "text": [
        "Job launched 12455.2s ago, status RUNNING: Running step (mr_weather_step12_a.ubuntu.20140613.085010.640322: Step 2 of 2)\r\n"
       ]
      },
      {
       "output_type": "stream",
       "stream": "stdout",
       "text": [
        "Job launched 12486.2s ago, status RUNNING: Running step (mr_weather_step12_a.ubuntu.20140613.085010.640322: Step 2 of 2)\r\n"
       ]
      },
      {
       "output_type": "stream",
       "stream": "stdout",
       "text": [
        "Job launched 12517.3s ago, status RUNNING: Running step (mr_weather_step12_a.ubuntu.20140613.085010.640322: Step 2 of 2)\r\n"
       ]
      },
      {
       "output_type": "stream",
       "stream": "stdout",
       "text": [
        "Job launched 12548.3s ago, status RUNNING: Running step (mr_weather_step12_a.ubuntu.20140613.085010.640322: Step 2 of 2)\r\n"
       ]
      },
      {
       "output_type": "stream",
       "stream": "stdout",
       "text": [
        "Job launched 12579.5s ago, status RUNNING: Running step (mr_weather_step12_a.ubuntu.20140613.085010.640322: Step 2 of 2)\r\n"
       ]
      },
      {
       "output_type": "stream",
       "stream": "stdout",
       "text": [
        "Job launched 12610.5s ago, status RUNNING: Running step (mr_weather_step12_a.ubuntu.20140613.085010.640322: Step 2 of 2)\r\n"
       ]
      },
      {
       "output_type": "stream",
       "stream": "stdout",
       "text": [
        "Job launched 12641.7s ago, status RUNNING: Running step (mr_weather_step12_a.ubuntu.20140613.085010.640322: Step 2 of 2)\r\n"
       ]
      },
      {
       "output_type": "stream",
       "stream": "stdout",
       "text": [
        "Job launched 12672.7s ago, status RUNNING: Running step (mr_weather_step12_a.ubuntu.20140613.085010.640322: Step 2 of 2)\r\n"
       ]
      },
      {
       "output_type": "stream",
       "stream": "stdout",
       "text": [
        "Job launched 12703.8s ago, status RUNNING: Running step (mr_weather_step12_a.ubuntu.20140613.085010.640322: Step 2 of 2)\r\n"
       ]
      },
      {
       "output_type": "stream",
       "stream": "stdout",
       "text": [
        "Job launched 12734.9s ago, status RUNNING: Running step (mr_weather_step12_a.ubuntu.20140613.085010.640322: Step 2 of 2)\r\n"
       ]
      },
      {
       "output_type": "stream",
       "stream": "stdout",
       "text": [
        "Job launched 12766.0s ago, status RUNNING: Running step (mr_weather_step12_a.ubuntu.20140613.085010.640322: Step 2 of 2)\r\n"
       ]
      },
      {
       "output_type": "stream",
       "stream": "stdout",
       "text": [
        "Job launched 12797.1s ago, status RUNNING: Running step (mr_weather_step12_a.ubuntu.20140613.085010.640322: Step 2 of 2)\r\n"
       ]
      },
      {
       "output_type": "stream",
       "stream": "stdout",
       "text": [
        "Job launched 12828.0s ago, status RUNNING: Running step (mr_weather_step12_a.ubuntu.20140613.085010.640322: Step 2 of 2)\r\n"
       ]
      },
      {
       "output_type": "stream",
       "stream": "stdout",
       "text": [
        "Job launched 12859.1s ago, status RUNNING: Running step (mr_weather_step12_a.ubuntu.20140613.085010.640322: Step 2 of 2)\r\n"
       ]
      },
      {
       "output_type": "stream",
       "stream": "stdout",
       "text": [
        "Job launched 12890.2s ago, status RUNNING: Running step (mr_weather_step12_a.ubuntu.20140613.085010.640322: Step 2 of 2)\r\n"
       ]
      },
      {
       "output_type": "stream",
       "stream": "stdout",
       "text": [
        "Job launched 12921.4s ago, status RUNNING: Running step (mr_weather_step12_a.ubuntu.20140613.085010.640322: Step 2 of 2)\r\n"
       ]
      },
      {
       "output_type": "stream",
       "stream": "stdout",
       "text": [
        "Job launched 12952.5s ago, status RUNNING: Running step (mr_weather_step12_a.ubuntu.20140613.085010.640322: Step 2 of 2)\r\n"
       ]
      },
      {
       "output_type": "stream",
       "stream": "stdout",
       "text": [
        "Job launched 12983.5s ago, status RUNNING: Running step (mr_weather_step12_a.ubuntu.20140613.085010.640322: Step 2 of 2)\r\n"
       ]
      },
      {
       "output_type": "stream",
       "stream": "stdout",
       "text": [
        "Job launched 13014.6s ago, status RUNNING: Running step (mr_weather_step12_a.ubuntu.20140613.085010.640322: Step 2 of 2)\r\n"
       ]
      },
      {
       "output_type": "stream",
       "stream": "stdout",
       "text": [
        "Job launched 13045.7s ago, status RUNNING: Running step (mr_weather_step12_a.ubuntu.20140613.085010.640322: Step 2 of 2)\r\n"
       ]
      },
      {
       "output_type": "stream",
       "stream": "stdout",
       "text": [
        "Job launched 13076.8s ago, status RUNNING: Running step (mr_weather_step12_a.ubuntu.20140613.085010.640322: Step 2 of 2)\r\n"
       ]
      },
      {
       "output_type": "stream",
       "stream": "stdout",
       "text": [
        "Job launched 13107.9s ago, status RUNNING: Running step (mr_weather_step12_a.ubuntu.20140613.085010.640322: Step 2 of 2)\r\n"
       ]
      },
      {
       "output_type": "stream",
       "stream": "stdout",
       "text": [
        "Job launched 13139.1s ago, status RUNNING: Running step (mr_weather_step12_a.ubuntu.20140613.085010.640322: Step 2 of 2)\r\n"
       ]
      },
      {
       "output_type": "stream",
       "stream": "stdout",
       "text": [
        "Job launched 13170.1s ago, status RUNNING: Running step (mr_weather_step12_a.ubuntu.20140613.085010.640322: Step 2 of 2)\r\n"
       ]
      },
      {
       "output_type": "stream",
       "stream": "stdout",
       "text": [
        "Job launched 13201.2s ago, status RUNNING: Running step (mr_weather_step12_a.ubuntu.20140613.085010.640322: Step 2 of 2)\r\n"
       ]
      },
      {
       "output_type": "stream",
       "stream": "stdout",
       "text": [
        "Job launched 13232.3s ago, status RUNNING: Running step (mr_weather_step12_a.ubuntu.20140613.085010.640322: Step 2 of 2)\r\n"
       ]
      },
      {
       "output_type": "stream",
       "stream": "stdout",
       "text": [
        "Job launched 13263.3s ago, status RUNNING: Running step (mr_weather_step12_a.ubuntu.20140613.085010.640322: Step 2 of 2)\r\n"
       ]
      },
      {
       "output_type": "stream",
       "stream": "stdout",
       "text": [
        "Job launched 13294.3s ago, status RUNNING: Running step (mr_weather_step12_a.ubuntu.20140613.085010.640322: Step 2 of 2)\r\n"
       ]
      },
      {
       "output_type": "stream",
       "stream": "stdout",
       "text": [
        "Job launched 13325.4s ago, status RUNNING: Running step (mr_weather_step12_a.ubuntu.20140613.085010.640322: Step 2 of 2)\r\n"
       ]
      },
      {
       "output_type": "stream",
       "stream": "stdout",
       "text": [
        "Job launched 13356.4s ago, status RUNNING: Running step (mr_weather_step12_a.ubuntu.20140613.085010.640322: Step 2 of 2)\r\n"
       ]
      },
      {
       "output_type": "stream",
       "stream": "stdout",
       "text": [
        "Job launched 13387.5s ago, status RUNNING: Running step (mr_weather_step12_a.ubuntu.20140613.085010.640322: Step 2 of 2)\r\n"
       ]
      },
      {
       "output_type": "stream",
       "stream": "stdout",
       "text": [
        "Job launched 13418.5s ago, status RUNNING: Running step (mr_weather_step12_a.ubuntu.20140613.085010.640322: Step 2 of 2)\r\n"
       ]
      },
      {
       "output_type": "stream",
       "stream": "stdout",
       "text": [
        "Job launched 13449.6s ago, status RUNNING: Running step (mr_weather_step12_a.ubuntu.20140613.085010.640322: Step 2 of 2)\r\n"
       ]
      },
      {
       "output_type": "stream",
       "stream": "stdout",
       "text": [
        "Job launched 13480.6s ago, status RUNNING: Running step (mr_weather_step12_a.ubuntu.20140613.085010.640322: Step 2 of 2)\r\n"
       ]
      },
      {
       "output_type": "stream",
       "stream": "stdout",
       "text": [
        "Job launched 13511.7s ago, status RUNNING: Running step (mr_weather_step12_a.ubuntu.20140613.085010.640322: Step 2 of 2)\r\n"
       ]
      },
      {
       "output_type": "stream",
       "stream": "stdout",
       "text": [
        "Job launched 13542.6s ago, status RUNNING: Running step (mr_weather_step12_a.ubuntu.20140613.085010.640322: Step 2 of 2)\r\n"
       ]
      },
      {
       "output_type": "stream",
       "stream": "stdout",
       "text": [
        "Job launched 13573.8s ago, status RUNNING: Running step (mr_weather_step12_a.ubuntu.20140613.085010.640322: Step 2 of 2)\r\n"
       ]
      },
      {
       "output_type": "stream",
       "stream": "stdout",
       "text": [
        "Job launched 13604.9s ago, status RUNNING: Running step (mr_weather_step12_a.ubuntu.20140613.085010.640322: Step 2 of 2)\r\n"
       ]
      },
      {
       "output_type": "stream",
       "stream": "stdout",
       "text": [
        "Job launched 13636.0s ago, status RUNNING: Running step (mr_weather_step12_a.ubuntu.20140613.085010.640322: Step 2 of 2)\r\n"
       ]
      },
      {
       "output_type": "stream",
       "stream": "stdout",
       "text": [
        "Job launched 13667.1s ago, status RUNNING: Running step (mr_weather_step12_a.ubuntu.20140613.085010.640322: Step 2 of 2)\r\n"
       ]
      },
      {
       "output_type": "stream",
       "stream": "stdout",
       "text": [
        "Job launched 13698.1s ago, status RUNNING: Running step (mr_weather_step12_a.ubuntu.20140613.085010.640322: Step 2 of 2)\r\n"
       ]
      },
      {
       "output_type": "stream",
       "stream": "stdout",
       "text": [
        "Job launched 13729.1s ago, status RUNNING: Running step (mr_weather_step12_a.ubuntu.20140613.085010.640322: Step 2 of 2)\r\n"
       ]
      },
      {
       "output_type": "stream",
       "stream": "stdout",
       "text": [
        "Job launched 13760.1s ago, status RUNNING: Running step (mr_weather_step12_a.ubuntu.20140613.085010.640322: Step 2 of 2)\r\n"
       ]
      },
      {
       "output_type": "stream",
       "stream": "stdout",
       "text": [
        "Job launched 13791.1s ago, status RUNNING: Running step (mr_weather_step12_a.ubuntu.20140613.085010.640322: Step 2 of 2)\r\n"
       ]
      },
      {
       "output_type": "stream",
       "stream": "stdout",
       "text": [
        "Job launched 13822.1s ago, status RUNNING: Running step (mr_weather_step12_a.ubuntu.20140613.085010.640322: Step 2 of 2)\r\n"
       ]
      },
      {
       "output_type": "stream",
       "stream": "stdout",
       "text": [
        "Job launched 13853.1s ago, status RUNNING: Running step (mr_weather_step12_a.ubuntu.20140613.085010.640322: Step 2 of 2)\r\n"
       ]
      },
      {
       "output_type": "stream",
       "stream": "stdout",
       "text": [
        "Job launched 13884.1s ago, status RUNNING: Running step (mr_weather_step12_a.ubuntu.20140613.085010.640322: Step 2 of 2)\r\n"
       ]
      },
      {
       "output_type": "stream",
       "stream": "stdout",
       "text": [
        "Job launched 13915.1s ago, status RUNNING: Running step (mr_weather_step12_a.ubuntu.20140613.085010.640322: Step 2 of 2)\r\n"
       ]
      },
      {
       "output_type": "stream",
       "stream": "stdout",
       "text": [
        "Job launched 13946.2s ago, status RUNNING: Running step (mr_weather_step12_a.ubuntu.20140613.085010.640322: Step 2 of 2)\r\n"
       ]
      },
      {
       "output_type": "stream",
       "stream": "stdout",
       "text": [
        "Job launched 13977.2s ago, status RUNNING: Running step (mr_weather_step12_a.ubuntu.20140613.085010.640322: Step 2 of 2)\r\n"
       ]
      },
      {
       "output_type": "stream",
       "stream": "stdout",
       "text": [
        "Job launched 14008.3s ago, status RUNNING: Running step (mr_weather_step12_a.ubuntu.20140613.085010.640322: Step 2 of 2)\r\n"
       ]
      },
      {
       "output_type": "stream",
       "stream": "stdout",
       "text": [
        "Job launched 14039.2s ago, status RUNNING: Running step (mr_weather_step12_a.ubuntu.20140613.085010.640322: Step 2 of 2)\r\n"
       ]
      },
      {
       "output_type": "stream",
       "stream": "stdout",
       "text": [
        "Job launched 14070.3s ago, status RUNNING: Running step (mr_weather_step12_a.ubuntu.20140613.085010.640322: Step 2 of 2)\r\n"
       ]
      },
      {
       "output_type": "stream",
       "stream": "stdout",
       "text": [
        "Job launched 14101.3s ago, status RUNNING: Running step (mr_weather_step12_a.ubuntu.20140613.085010.640322: Step 2 of 2)\r\n"
       ]
      },
      {
       "output_type": "stream",
       "stream": "stdout",
       "text": [
        "Job launched 14132.4s ago, status RUNNING: Running step (mr_weather_step12_a.ubuntu.20140613.085010.640322: Step 2 of 2)\r\n"
       ]
      },
      {
       "output_type": "stream",
       "stream": "stdout",
       "text": [
        "Job launched 14163.4s ago, status RUNNING: Running step (mr_weather_step12_a.ubuntu.20140613.085010.640322: Step 2 of 2)\r\n"
       ]
      },
      {
       "output_type": "stream",
       "stream": "stdout",
       "text": [
        "Job launched 14194.4s ago, status RUNNING: Running step (mr_weather_step12_a.ubuntu.20140613.085010.640322: Step 2 of 2)\r\n"
       ]
      },
      {
       "output_type": "stream",
       "stream": "stdout",
       "text": [
        "Job launched 14225.4s ago, status RUNNING: Running step (mr_weather_step12_a.ubuntu.20140613.085010.640322: Step 2 of 2)\r\n"
       ]
      },
      {
       "output_type": "stream",
       "stream": "stdout",
       "text": [
        "Job launched 14256.5s ago, status RUNNING: Running step (mr_weather_step12_a.ubuntu.20140613.085010.640322: Step 2 of 2)\r\n"
       ]
      },
      {
       "output_type": "stream",
       "stream": "stdout",
       "text": [
        "Job launched 14287.4s ago, status RUNNING: Running step (mr_weather_step12_a.ubuntu.20140613.085010.640322: Step 2 of 2)\r\n"
       ]
      },
      {
       "output_type": "stream",
       "stream": "stdout",
       "text": [
        "Job launched 14318.5s ago, status RUNNING: Running step (mr_weather_step12_a.ubuntu.20140613.085010.640322: Step 2 of 2)\r\n"
       ]
      },
      {
       "output_type": "stream",
       "stream": "stdout",
       "text": [
        "Job launched 14349.5s ago, status RUNNING: Running step (mr_weather_step12_a.ubuntu.20140613.085010.640322: Step 2 of 2)\r\n"
       ]
      },
      {
       "output_type": "stream",
       "stream": "stdout",
       "text": [
        "Job launched 14380.6s ago, status RUNNING: Running step (mr_weather_step12_a.ubuntu.20140613.085010.640322: Step 2 of 2)\r\n"
       ]
      },
      {
       "output_type": "stream",
       "stream": "stdout",
       "text": [
        "Job launched 14411.7s ago, status RUNNING: Running step (mr_weather_step12_a.ubuntu.20140613.085010.640322: Step 2 of 2)\r\n"
       ]
      },
      {
       "output_type": "stream",
       "stream": "stdout",
       "text": [
        "Job launched 14442.7s ago, status RUNNING: Running step (mr_weather_step12_a.ubuntu.20140613.085010.640322: Step 2 of 2)\r\n"
       ]
      },
      {
       "output_type": "stream",
       "stream": "stdout",
       "text": [
        "Job launched 14473.8s ago, status RUNNING: Running step (mr_weather_step12_a.ubuntu.20140613.085010.640322: Step 2 of 2)\r\n"
       ]
      },
      {
       "output_type": "stream",
       "stream": "stdout",
       "text": [
        "Job launched 14504.8s ago, status RUNNING: Running step (mr_weather_step12_a.ubuntu.20140613.085010.640322: Step 2 of 2)\r\n"
       ]
      },
      {
       "output_type": "stream",
       "stream": "stdout",
       "text": [
        "Job launched 14535.9s ago, status RUNNING: Running step (mr_weather_step12_a.ubuntu.20140613.085010.640322: Step 2 of 2)\r\n"
       ]
      },
      {
       "output_type": "stream",
       "stream": "stdout",
       "text": [
        "Job launched 14566.9s ago, status RUNNING: Running step (mr_weather_step12_a.ubuntu.20140613.085010.640322: Step 2 of 2)\r\n"
       ]
      },
      {
       "output_type": "stream",
       "stream": "stdout",
       "text": [
        "Job launched 14598.0s ago, status RUNNING: Running step (mr_weather_step12_a.ubuntu.20140613.085010.640322: Step 2 of 2)\r\n"
       ]
      },
      {
       "output_type": "stream",
       "stream": "stdout",
       "text": [
        "Job launched 14629.1s ago, status RUNNING: Running step (mr_weather_step12_a.ubuntu.20140613.085010.640322: Step 2 of 2)\r\n"
       ]
      },
      {
       "output_type": "stream",
       "stream": "stdout",
       "text": [
        "Job launched 14660.1s ago, status RUNNING: Running step (mr_weather_step12_a.ubuntu.20140613.085010.640322: Step 2 of 2)\r\n"
       ]
      },
      {
       "output_type": "stream",
       "stream": "stdout",
       "text": [
        "Job launched 14691.3s ago, status RUNNING: Running step (mr_weather_step12_a.ubuntu.20140613.085010.640322: Step 2 of 2)\r\n"
       ]
      },
      {
       "output_type": "stream",
       "stream": "stdout",
       "text": [
        "Job launched 14721.8s ago, status RUNNING: Running step (mr_weather_step12_a.ubuntu.20140613.085010.640322: Step 2 of 2)\r\n"
       ]
      },
      {
       "output_type": "stream",
       "stream": "stdout",
       "text": [
        "Job launched 14752.8s ago, status RUNNING: Running step (mr_weather_step12_a.ubuntu.20140613.085010.640322: Step 2 of 2)\r\n"
       ]
      },
      {
       "output_type": "stream",
       "stream": "stdout",
       "text": [
        "Job launched 14783.8s ago, status RUNNING: Running step (mr_weather_step12_a.ubuntu.20140613.085010.640322: Step 2 of 2)\r\n"
       ]
      },
      {
       "output_type": "stream",
       "stream": "stdout",
       "text": [
        "Job launched 14814.6s ago, status RUNNING: Running step (mr_weather_step12_a.ubuntu.20140613.085010.640322: Step 2 of 2)\r\n"
       ]
      },
      {
       "output_type": "stream",
       "stream": "stdout",
       "text": [
        "Job launched 14845.6s ago, status RUNNING: Running step (mr_weather_step12_a.ubuntu.20140613.085010.640322: Step 2 of 2)\r\n"
       ]
      },
      {
       "output_type": "stream",
       "stream": "stdout",
       "text": [
        "Job launched 14876.8s ago, status RUNNING: Running step (mr_weather_step12_a.ubuntu.20140613.085010.640322: Step 2 of 2)\r\n"
       ]
      },
      {
       "output_type": "stream",
       "stream": "stdout",
       "text": [
        "Job launched 14907.8s ago, status RUNNING: Running step (mr_weather_step12_a.ubuntu.20140613.085010.640322: Step 2 of 2)\r\n"
       ]
      },
      {
       "output_type": "stream",
       "stream": "stdout",
       "text": [
        "Job launched 14938.9s ago, status RUNNING: Running step (mr_weather_step12_a.ubuntu.20140613.085010.640322: Step 2 of 2)\r\n"
       ]
      },
      {
       "output_type": "stream",
       "stream": "stdout",
       "text": [
        "Job launched 14970.0s ago, status RUNNING: Running step (mr_weather_step12_a.ubuntu.20140613.085010.640322: Step 2 of 2)\r\n"
       ]
      },
      {
       "output_type": "stream",
       "stream": "stdout",
       "text": [
        "Job launched 15001.1s ago, status RUNNING: Running step (mr_weather_step12_a.ubuntu.20140613.085010.640322: Step 2 of 2)\r\n"
       ]
      },
      {
       "output_type": "stream",
       "stream": "stdout",
       "text": [
        "Job launched 15032.2s ago, status RUNNING: Running step (mr_weather_step12_a.ubuntu.20140613.085010.640322: Step 2 of 2)\r\n"
       ]
      },
      {
       "output_type": "stream",
       "stream": "stdout",
       "text": [
        "Job launched 15063.2s ago, status RUNNING: Running step (mr_weather_step12_a.ubuntu.20140613.085010.640322: Step 2 of 2)\r\n"
       ]
      },
      {
       "output_type": "stream",
       "stream": "stdout",
       "text": [
        "Job launched 15094.4s ago, status RUNNING: Running step (mr_weather_step12_a.ubuntu.20140613.085010.640322: Step 2 of 2)\r\n"
       ]
      },
      {
       "output_type": "stream",
       "stream": "stdout",
       "text": [
        "Job launched 15125.5s ago, status RUNNING: Running step (mr_weather_step12_a.ubuntu.20140613.085010.640322: Step 2 of 2)\r\n"
       ]
      },
      {
       "output_type": "stream",
       "stream": "stdout",
       "text": [
        "Job launched 15156.5s ago, status RUNNING: Running step (mr_weather_step12_a.ubuntu.20140613.085010.640322: Step 2 of 2)\r\n"
       ]
      },
      {
       "output_type": "stream",
       "stream": "stdout",
       "text": [
        "Job launched 15187.4s ago, status RUNNING: Running step (mr_weather_step12_a.ubuntu.20140613.085010.640322: Step 2 of 2)\r\n"
       ]
      },
      {
       "output_type": "stream",
       "stream": "stdout",
       "text": [
        "Job launched 15218.6s ago, status RUNNING: Running step (mr_weather_step12_a.ubuntu.20140613.085010.640322: Step 2 of 2)\r\n"
       ]
      },
      {
       "output_type": "stream",
       "stream": "stdout",
       "text": [
        "Job launched 15250.4s ago, status RUNNING: Running step (mr_weather_step12_a.ubuntu.20140613.085010.640322: Step 2 of 2)\r\n"
       ]
      },
      {
       "output_type": "stream",
       "stream": "stdout",
       "text": [
        "Job launched 15281.4s ago, status RUNNING: Running step (mr_weather_step12_a.ubuntu.20140613.085010.640322: Step 2 of 2)\r\n"
       ]
      },
      {
       "output_type": "stream",
       "stream": "stdout",
       "text": [
        "Job launched 15312.4s ago, status RUNNING: Running step (mr_weather_step12_a.ubuntu.20140613.085010.640322: Step 2 of 2)\r\n"
       ]
      },
      {
       "output_type": "stream",
       "stream": "stdout",
       "text": [
        "Job launched 15343.6s ago, status RUNNING: Running step (mr_weather_step12_a.ubuntu.20140613.085010.640322: Step 2 of 2)\r\n"
       ]
      },
      {
       "output_type": "stream",
       "stream": "stdout",
       "text": [
        "Job launched 15374.7s ago, status RUNNING: Running step (mr_weather_step12_a.ubuntu.20140613.085010.640322: Step 2 of 2)\r\n"
       ]
      },
      {
       "output_type": "stream",
       "stream": "stdout",
       "text": [
        "Job launched 15405.7s ago, status RUNNING: Running step (mr_weather_step12_a.ubuntu.20140613.085010.640322: Step 2 of 2)\r\n"
       ]
      },
      {
       "output_type": "stream",
       "stream": "stdout",
       "text": [
        "Job launched 15436.6s ago, status RUNNING: Running step (mr_weather_step12_a.ubuntu.20140613.085010.640322: Step 2 of 2)\r\n"
       ]
      },
      {
       "output_type": "stream",
       "stream": "stdout",
       "text": [
        "Job launched 15467.7s ago, status RUNNING: Running step (mr_weather_step12_a.ubuntu.20140613.085010.640322: Step 2 of 2)\r\n"
       ]
      },
      {
       "output_type": "stream",
       "stream": "stdout",
       "text": [
        "Job launched 15498.8s ago, status RUNNING: Running step (mr_weather_step12_a.ubuntu.20140613.085010.640322: Step 2 of 2)\r\n"
       ]
      },
      {
       "output_type": "stream",
       "stream": "stdout",
       "text": [
        "Job launched 15529.9s ago, status RUNNING: Running step (mr_weather_step12_a.ubuntu.20140613.085010.640322: Step 2 of 2)\r\n"
       ]
      },
      {
       "output_type": "stream",
       "stream": "stdout",
       "text": [
        "Job launched 15560.9s ago, status RUNNING: Running step (mr_weather_step12_a.ubuntu.20140613.085010.640322: Step 2 of 2)\r\n"
       ]
      },
      {
       "output_type": "stream",
       "stream": "stdout",
       "text": [
        "Job launched 15592.0s ago, status RUNNING: Running step (mr_weather_step12_a.ubuntu.20140613.085010.640322: Step 2 of 2)\r\n"
       ]
      },
      {
       "output_type": "stream",
       "stream": "stdout",
       "text": [
        "Job launched 15623.0s ago, status RUNNING: Running step (mr_weather_step12_a.ubuntu.20140613.085010.640322: Step 2 of 2)\r\n"
       ]
      },
      {
       "output_type": "stream",
       "stream": "stdout",
       "text": [
        "Job launched 15654.1s ago, status RUNNING: Running step (mr_weather_step12_a.ubuntu.20140613.085010.640322: Step 2 of 2)\r\n"
       ]
      },
      {
       "output_type": "stream",
       "stream": "stdout",
       "text": [
        "Job launched 15685.2s ago, status RUNNING: Running step (mr_weather_step12_a.ubuntu.20140613.085010.640322: Step 2 of 2)\r\n"
       ]
      },
      {
       "output_type": "stream",
       "stream": "stdout",
       "text": [
        "Job launched 15716.3s ago, status RUNNING: Running step (mr_weather_step12_a.ubuntu.20140613.085010.640322: Step 2 of 2)\r\n"
       ]
      },
      {
       "output_type": "stream",
       "stream": "stdout",
       "text": [
        "Job launched 15747.3s ago, status RUNNING: Running step (mr_weather_step12_a.ubuntu.20140613.085010.640322: Step 2 of 2)\r\n"
       ]
      },
      {
       "output_type": "stream",
       "stream": "stdout",
       "text": [
        "Job launched 15778.4s ago, status RUNNING: Running step (mr_weather_step12_a.ubuntu.20140613.085010.640322: Step 2 of 2)\r\n"
       ]
      },
      {
       "output_type": "stream",
       "stream": "stdout",
       "text": [
        "Job launched 15809.3s ago, status RUNNING: Running step (mr_weather_step12_a.ubuntu.20140613.085010.640322: Step 2 of 2)\r\n"
       ]
      },
      {
       "output_type": "stream",
       "stream": "stdout",
       "text": [
        "Job launched 15840.4s ago, status RUNNING: Running step (mr_weather_step12_a.ubuntu.20140613.085010.640322: Step 2 of 2)\r\n"
       ]
      },
      {
       "output_type": "stream",
       "stream": "stdout",
       "text": [
        "Job launched 15871.5s ago, status RUNNING: Running step (mr_weather_step12_a.ubuntu.20140613.085010.640322: Step 2 of 2)\r\n"
       ]
      },
      {
       "output_type": "stream",
       "stream": "stdout",
       "text": [
        "Job launched 15902.6s ago, status RUNNING: Running step (mr_weather_step12_a.ubuntu.20140613.085010.640322: Step 2 of 2)\r\n"
       ]
      },
      {
       "output_type": "stream",
       "stream": "stdout",
       "text": [
        "Job launched 15933.7s ago, status RUNNING: Running step (mr_weather_step12_a.ubuntu.20140613.085010.640322: Step 2 of 2)\r\n"
       ]
      },
      {
       "output_type": "stream",
       "stream": "stdout",
       "text": [
        "Job launched 15964.7s ago, status RUNNING: Running step (mr_weather_step12_a.ubuntu.20140613.085010.640322: Step 2 of 2)\r\n"
       ]
      },
      {
       "output_type": "stream",
       "stream": "stdout",
       "text": [
        "Job launched 15995.8s ago, status RUNNING: Running step (mr_weather_step12_a.ubuntu.20140613.085010.640322: Step 2 of 2)\r\n"
       ]
      },
      {
       "output_type": "stream",
       "stream": "stdout",
       "text": [
        "Job launched 16026.9s ago, status RUNNING: Running step (mr_weather_step12_a.ubuntu.20140613.085010.640322: Step 2 of 2)\r\n"
       ]
      },
      {
       "output_type": "stream",
       "stream": "stdout",
       "text": [
        "Job launched 16058.0s ago, status RUNNING: Running step (mr_weather_step12_a.ubuntu.20140613.085010.640322: Step 2 of 2)\r\n"
       ]
      },
      {
       "output_type": "stream",
       "stream": "stdout",
       "text": [
        "Job launched 16089.1s ago, status RUNNING: Running step (mr_weather_step12_a.ubuntu.20140613.085010.640322: Step 2 of 2)\r\n"
       ]
      },
      {
       "output_type": "stream",
       "stream": "stdout",
       "text": [
        "Job launched 16120.2s ago, status RUNNING: Running step (mr_weather_step12_a.ubuntu.20140613.085010.640322: Step 2 of 2)\r\n"
       ]
      },
      {
       "output_type": "stream",
       "stream": "stdout",
       "text": [
        "Job launched 16151.3s ago, status RUNNING: Running step (mr_weather_step12_a.ubuntu.20140613.085010.640322: Step 2 of 2)\r\n"
       ]
      },
      {
       "output_type": "stream",
       "stream": "stdout",
       "text": [
        "Job launched 16182.4s ago, status RUNNING: Running step (mr_weather_step12_a.ubuntu.20140613.085010.640322: Step 2 of 2)\r\n"
       ]
      },
      {
       "output_type": "stream",
       "stream": "stdout",
       "text": [
        "Job launched 16213.5s ago, status RUNNING: Running step (mr_weather_step12_a.ubuntu.20140613.085010.640322: Step 2 of 2)\r\n"
       ]
      },
      {
       "output_type": "stream",
       "stream": "stdout",
       "text": [
        "Job launched 16244.6s ago, status RUNNING: Running step (mr_weather_step12_a.ubuntu.20140613.085010.640322: Step 2 of 2)\r\n"
       ]
      },
      {
       "output_type": "stream",
       "stream": "stdout",
       "text": [
        "Job launched 16275.8s ago, status RUNNING: Running step (mr_weather_step12_a.ubuntu.20140613.085010.640322: Step 2 of 2)\r\n"
       ]
      },
      {
       "output_type": "stream",
       "stream": "stdout",
       "text": [
        "Job launched 16306.9s ago, status RUNNING: Running step (mr_weather_step12_a.ubuntu.20140613.085010.640322: Step 2 of 2)\r\n"
       ]
      },
      {
       "output_type": "stream",
       "stream": "stdout",
       "text": [
        "Job launched 16338.0s ago, status RUNNING: Running step (mr_weather_step12_a.ubuntu.20140613.085010.640322: Step 2 of 2)\r\n"
       ]
      },
      {
       "output_type": "stream",
       "stream": "stdout",
       "text": [
        "Job launched 16369.1s ago, status RUNNING: Running step (mr_weather_step12_a.ubuntu.20140613.085010.640322: Step 2 of 2)\r\n"
       ]
      },
      {
       "output_type": "stream",
       "stream": "stdout",
       "text": [
        "Job launched 16400.0s ago, status RUNNING: Running step (mr_weather_step12_a.ubuntu.20140613.085010.640322: Step 2 of 2)\r\n"
       ]
      },
      {
       "output_type": "stream",
       "stream": "stdout",
       "text": [
        "Job launched 16431.0s ago, status RUNNING: Running step (mr_weather_step12_a.ubuntu.20140613.085010.640322: Step 2 of 2)\r\n"
       ]
      },
      {
       "output_type": "stream",
       "stream": "stdout",
       "text": [
        "Job launched 16462.1s ago, status RUNNING: Running step (mr_weather_step12_a.ubuntu.20140613.085010.640322: Step 2 of 2)\r\n"
       ]
      },
      {
       "output_type": "stream",
       "stream": "stdout",
       "text": [
        "Job launched 16493.1s ago, status RUNNING: Running step (mr_weather_step12_a.ubuntu.20140613.085010.640322: Step 2 of 2)\r\n"
       ]
      },
      {
       "output_type": "stream",
       "stream": "stdout",
       "text": [
        "Job launched 16524.2s ago, status RUNNING: Running step (mr_weather_step12_a.ubuntu.20140613.085010.640322: Step 2 of 2)\r\n"
       ]
      },
      {
       "output_type": "stream",
       "stream": "stdout",
       "text": [
        "Job launched 16555.4s ago, status RUNNING: Running step (mr_weather_step12_a.ubuntu.20140613.085010.640322: Step 2 of 2)\r\n"
       ]
      },
      {
       "output_type": "stream",
       "stream": "stdout",
       "text": [
        "Job launched 16586.6s ago, status RUNNING: Running step (mr_weather_step12_a.ubuntu.20140613.085010.640322: Step 2 of 2)\r\n"
       ]
      },
      {
       "output_type": "stream",
       "stream": "stdout",
       "text": [
        "Job launched 16617.5s ago, status RUNNING: Running step (mr_weather_step12_a.ubuntu.20140613.085010.640322: Step 2 of 2)\r\n"
       ]
      },
      {
       "output_type": "stream",
       "stream": "stdout",
       "text": [
        "Job launched 16648.5s ago, status RUNNING: Running step (mr_weather_step12_a.ubuntu.20140613.085010.640322: Step 2 of 2)\r\n"
       ]
      },
      {
       "output_type": "stream",
       "stream": "stdout",
       "text": [
        "Job launched 16679.6s ago, status RUNNING: Running step (mr_weather_step12_a.ubuntu.20140613.085010.640322: Step 2 of 2)\r\n"
       ]
      },
      {
       "output_type": "stream",
       "stream": "stdout",
       "text": [
        "Job launched 16710.7s ago, status RUNNING: Running step (mr_weather_step12_a.ubuntu.20140613.085010.640322: Step 2 of 2)\r\n"
       ]
      },
      {
       "output_type": "stream",
       "stream": "stdout",
       "text": [
        "Job launched 16742.1s ago, status RUNNING: Running step (mr_weather_step12_a.ubuntu.20140613.085010.640322: Step 2 of 2)\r\n"
       ]
      },
      {
       "output_type": "stream",
       "stream": "stdout",
       "text": [
        "Job launched 16773.2s ago, status RUNNING: Running step (mr_weather_step12_a.ubuntu.20140613.085010.640322: Step 2 of 2)\r\n"
       ]
      },
      {
       "output_type": "stream",
       "stream": "stdout",
       "text": [
        "Job launched 16804.3s ago, status RUNNING: Running step (mr_weather_step12_a.ubuntu.20140613.085010.640322: Step 2 of 2)\r\n"
       ]
      },
      {
       "output_type": "stream",
       "stream": "stdout",
       "text": [
        "Job launched 16835.3s ago, status RUNNING: Running step (mr_weather_step12_a.ubuntu.20140613.085010.640322: Step 2 of 2)\r\n"
       ]
      },
      {
       "output_type": "stream",
       "stream": "stdout",
       "text": [
        "Job launched 16866.6s ago, status RUNNING: Running step (mr_weather_step12_a.ubuntu.20140613.085010.640322: Step 2 of 2)\r\n"
       ]
      },
      {
       "output_type": "stream",
       "stream": "stdout",
       "text": [
        "Job launched 16897.6s ago, status RUNNING: Running step (mr_weather_step12_a.ubuntu.20140613.085010.640322: Step 2 of 2)\r\n"
       ]
      },
      {
       "output_type": "stream",
       "stream": "stdout",
       "text": [
        "Job launched 16928.6s ago, status RUNNING: Running step (mr_weather_step12_a.ubuntu.20140613.085010.640322: Step 2 of 2)\r\n"
       ]
      },
      {
       "output_type": "stream",
       "stream": "stdout",
       "text": [
        "Job launched 16959.6s ago, status RUNNING: Running step (mr_weather_step12_a.ubuntu.20140613.085010.640322: Step 2 of 2)\r\n"
       ]
      },
      {
       "output_type": "stream",
       "stream": "stdout",
       "text": [
        "Job launched 16990.7s ago, status RUNNING: Running step (mr_weather_step12_a.ubuntu.20140613.085010.640322: Step 2 of 2)\r\n"
       ]
      },
      {
       "output_type": "stream",
       "stream": "stdout",
       "text": [
        "Job launched 17021.7s ago, status RUNNING: Running step (mr_weather_step12_a.ubuntu.20140613.085010.640322: Step 2 of 2)\r\n"
       ]
      },
      {
       "output_type": "stream",
       "stream": "stdout",
       "text": [
        "Job launched 17052.8s ago, status RUNNING: Running step (mr_weather_step12_a.ubuntu.20140613.085010.640322: Step 2 of 2)\r\n"
       ]
      },
      {
       "output_type": "stream",
       "stream": "stdout",
       "text": [
        "Job launched 17083.9s ago, status RUNNING: Running step (mr_weather_step12_a.ubuntu.20140613.085010.640322: Step 2 of 2)\r\n"
       ]
      },
      {
       "output_type": "stream",
       "stream": "stdout",
       "text": [
        "Job launched 17114.8s ago, status RUNNING: Running step (mr_weather_step12_a.ubuntu.20140613.085010.640322: Step 2 of 2)\r\n"
       ]
      },
      {
       "output_type": "stream",
       "stream": "stdout",
       "text": [
        "Job launched 17145.8s ago, status RUNNING: Running step (mr_weather_step12_a.ubuntu.20140613.085010.640322: Step 2 of 2)\r\n"
       ]
      },
      {
       "output_type": "stream",
       "stream": "stdout",
       "text": [
        "Job launched 17176.8s ago, status RUNNING: Running step (mr_weather_step12_a.ubuntu.20140613.085010.640322: Step 2 of 2)\r\n"
       ]
      },
      {
       "output_type": "stream",
       "stream": "stdout",
       "text": [
        "Job launched 17207.8s ago, status RUNNING: Running step (mr_weather_step12_a.ubuntu.20140613.085010.640322: Step 2 of 2)\r\n"
       ]
      },
      {
       "output_type": "stream",
       "stream": "stdout",
       "text": [
        "Job launched 17238.9s ago, status RUNNING: Running step (mr_weather_step12_a.ubuntu.20140613.085010.640322: Step 2 of 2)\r\n"
       ]
      },
      {
       "output_type": "stream",
       "stream": "stdout",
       "text": [
        "Job launched 17269.9s ago, status RUNNING: Running step (mr_weather_step12_a.ubuntu.20140613.085010.640322: Step 2 of 2)\r\n"
       ]
      },
      {
       "output_type": "stream",
       "stream": "stdout",
       "text": [
        "Job launched 17301.1s ago, status RUNNING: Running step (mr_weather_step12_a.ubuntu.20140613.085010.640322: Step 2 of 2)\r\n"
       ]
      },
      {
       "output_type": "stream",
       "stream": "stdout",
       "text": [
        "Job launched 17332.0s ago, status RUNNING: Running step (mr_weather_step12_a.ubuntu.20140613.085010.640322: Step 2 of 2)\r\n"
       ]
      },
      {
       "output_type": "stream",
       "stream": "stdout",
       "text": [
        "Job launched 17363.2s ago, status RUNNING: Running step (mr_weather_step12_a.ubuntu.20140613.085010.640322: Step 2 of 2)\r\n"
       ]
      },
      {
       "output_type": "stream",
       "stream": "stdout",
       "text": [
        "Job launched 17394.3s ago, status RUNNING: Running step (mr_weather_step12_a.ubuntu.20140613.085010.640322: Step 2 of 2)\r\n"
       ]
      },
      {
       "output_type": "stream",
       "stream": "stdout",
       "text": [
        "Job launched 17425.3s ago, status RUNNING: Running step (mr_weather_step12_a.ubuntu.20140613.085010.640322: Step 2 of 2)\r\n"
       ]
      },
      {
       "output_type": "stream",
       "stream": "stdout",
       "text": [
        "Job launched 17456.3s ago, status RUNNING: Running step (mr_weather_step12_a.ubuntu.20140613.085010.640322: Step 2 of 2)\r\n"
       ]
      },
      {
       "output_type": "stream",
       "stream": "stdout",
       "text": [
        "Job launched 17487.5s ago, status RUNNING: Running step (mr_weather_step12_a.ubuntu.20140613.085010.640322: Step 2 of 2)\r\n"
       ]
      },
      {
       "output_type": "stream",
       "stream": "stdout",
       "text": [
        "Job launched 17518.5s ago, status RUNNING: Running step (mr_weather_step12_a.ubuntu.20140613.085010.640322: Step 2 of 2)\r\n"
       ]
      },
      {
       "output_type": "stream",
       "stream": "stdout",
       "text": [
        "Job launched 17549.6s ago, status RUNNING: Running step (mr_weather_step12_a.ubuntu.20140613.085010.640322: Step 2 of 2)\r\n"
       ]
      },
      {
       "output_type": "stream",
       "stream": "stdout",
       "text": [
        "Job launched 17580.6s ago, status RUNNING: Running step (mr_weather_step12_a.ubuntu.20140613.085010.640322: Step 2 of 2)\r\n"
       ]
      },
      {
       "output_type": "stream",
       "stream": "stdout",
       "text": [
        "Job launched 17611.7s ago, status RUNNING: Running step (mr_weather_step12_a.ubuntu.20140613.085010.640322: Step 2 of 2)\r\n"
       ]
      },
      {
       "output_type": "stream",
       "stream": "stdout",
       "text": [
        "Job launched 17642.8s ago, status RUNNING: Running step (mr_weather_step12_a.ubuntu.20140613.085010.640322: Step 2 of 2)\r\n"
       ]
      },
      {
       "output_type": "stream",
       "stream": "stdout",
       "text": [
        "Job launched 17674.0s ago, status RUNNING: Running step (mr_weather_step12_a.ubuntu.20140613.085010.640322: Step 2 of 2)\r\n"
       ]
      },
      {
       "output_type": "stream",
       "stream": "stdout",
       "text": [
        "Job launched 17705.1s ago, status RUNNING: Running step (mr_weather_step12_a.ubuntu.20140613.085010.640322: Step 2 of 2)\r\n"
       ]
      },
      {
       "output_type": "stream",
       "stream": "stdout",
       "text": [
        "Job launched 17736.3s ago, status RUNNING: Running step (mr_weather_step12_a.ubuntu.20140613.085010.640322: Step 2 of 2)\r\n"
       ]
      },
      {
       "output_type": "stream",
       "stream": "stdout",
       "text": [
        "Job launched 17767.3s ago, status RUNNING: Running step (mr_weather_step12_a.ubuntu.20140613.085010.640322: Step 2 of 2)\r\n"
       ]
      },
      {
       "output_type": "stream",
       "stream": "stdout",
       "text": [
        "Job launched 17798.4s ago, status RUNNING: Running step (mr_weather_step12_a.ubuntu.20140613.085010.640322: Step 2 of 2)\r\n"
       ]
      },
      {
       "output_type": "stream",
       "stream": "stdout",
       "text": [
        "Job launched 17829.5s ago, status RUNNING: Running step (mr_weather_step12_a.ubuntu.20140613.085010.640322: Step 2 of 2)\r\n"
       ]
      },
      {
       "output_type": "stream",
       "stream": "stdout",
       "text": [
        "Job launched 17860.6s ago, status RUNNING: Running step (mr_weather_step12_a.ubuntu.20140613.085010.640322: Step 2 of 2)\r\n"
       ]
      },
      {
       "output_type": "stream",
       "stream": "stdout",
       "text": [
        "Job launched 17891.8s ago, status RUNNING: Running step (mr_weather_step12_a.ubuntu.20140613.085010.640322: Step 2 of 2)\r\n"
       ]
      },
      {
       "output_type": "stream",
       "stream": "stdout",
       "text": [
        "Job launched 17922.8s ago, status RUNNING: Running step (mr_weather_step12_a.ubuntu.20140613.085010.640322: Step 2 of 2)\r\n"
       ]
      },
      {
       "output_type": "stream",
       "stream": "stdout",
       "text": [
        "Job launched 17954.0s ago, status RUNNING: Running step (mr_weather_step12_a.ubuntu.20140613.085010.640322: Step 2 of 2)\r\n"
       ]
      },
      {
       "output_type": "stream",
       "stream": "stdout",
       "text": [
        "Job launched 17985.0s ago, status RUNNING: Running step (mr_weather_step12_a.ubuntu.20140613.085010.640322: Step 2 of 2)\r\n"
       ]
      },
      {
       "output_type": "stream",
       "stream": "stdout",
       "text": [
        "Job launched 18016.1s ago, status RUNNING: Running step (mr_weather_step12_a.ubuntu.20140613.085010.640322: Step 2 of 2)\r\n"
       ]
      },
      {
       "output_type": "stream",
       "stream": "stdout",
       "text": [
        "Job launched 18047.2s ago, status RUNNING: Running step (mr_weather_step12_a.ubuntu.20140613.085010.640322: Step 2 of 2)\r\n"
       ]
      },
      {
       "output_type": "stream",
       "stream": "stdout",
       "text": [
        "Job launched 18078.3s ago, status RUNNING: Running step (mr_weather_step12_a.ubuntu.20140613.085010.640322: Step 2 of 2)\r\n"
       ]
      },
      {
       "output_type": "stream",
       "stream": "stdout",
       "text": [
        "Job launched 18109.5s ago, status RUNNING: Running step (mr_weather_step12_a.ubuntu.20140613.085010.640322: Step 2 of 2)\r\n"
       ]
      },
      {
       "output_type": "stream",
       "stream": "stdout",
       "text": [
        "Job launched 18140.5s ago, status RUNNING: Running step (mr_weather_step12_a.ubuntu.20140613.085010.640322: Step 2 of 2)\r\n"
       ]
      },
      {
       "output_type": "stream",
       "stream": "stdout",
       "text": [
        "Job launched 18171.7s ago, status RUNNING: Running step (mr_weather_step12_a.ubuntu.20140613.085010.640322: Step 2 of 2)\r\n"
       ]
      },
      {
       "output_type": "stream",
       "stream": "stdout",
       "text": [
        "Job launched 18202.7s ago, status RUNNING: Running step (mr_weather_step12_a.ubuntu.20140613.085010.640322: Step 2 of 2)\r\n"
       ]
      },
      {
       "output_type": "stream",
       "stream": "stdout",
       "text": [
        "Job launched 18233.7s ago, status RUNNING: Running step (mr_weather_step12_a.ubuntu.20140613.085010.640322: Step 2 of 2)\r\n"
       ]
      },
      {
       "output_type": "stream",
       "stream": "stdout",
       "text": [
        "Job launched 18264.8s ago, status RUNNING: Running step (mr_weather_step12_a.ubuntu.20140613.085010.640322: Step 2 of 2)\r\n"
       ]
      },
      {
       "output_type": "stream",
       "stream": "stdout",
       "text": [
        "Job launched 18295.8s ago, status RUNNING: Running step (mr_weather_step12_a.ubuntu.20140613.085010.640322: Step 2 of 2)\r\n"
       ]
      },
      {
       "output_type": "stream",
       "stream": "stdout",
       "text": [
        "Job launched 18326.9s ago, status RUNNING: Running step (mr_weather_step12_a.ubuntu.20140613.085010.640322: Step 2 of 2)\r\n"
       ]
      },
      {
       "output_type": "stream",
       "stream": "stdout",
       "text": [
        "Job launched 18358.0s ago, status RUNNING: Running step (mr_weather_step12_a.ubuntu.20140613.085010.640322: Step 2 of 2)\r\n"
       ]
      },
      {
       "output_type": "stream",
       "stream": "stdout",
       "text": [
        "Job launched 18389.0s ago, status RUNNING: Running step (mr_weather_step12_a.ubuntu.20140613.085010.640322: Step 2 of 2)\r\n"
       ]
      },
      {
       "output_type": "stream",
       "stream": "stdout",
       "text": [
        "Job launched 18420.1s ago, status RUNNING: Running step (mr_weather_step12_a.ubuntu.20140613.085010.640322: Step 2 of 2)\r\n"
       ]
      },
      {
       "output_type": "stream",
       "stream": "stdout",
       "text": [
        "Job launched 18451.1s ago, status RUNNING: Running step (mr_weather_step12_a.ubuntu.20140613.085010.640322: Step 2 of 2)\r\n"
       ]
      },
      {
       "output_type": "stream",
       "stream": "stdout",
       "text": [
        "Job launched 18482.2s ago, status RUNNING: Running step (mr_weather_step12_a.ubuntu.20140613.085010.640322: Step 2 of 2)\r\n"
       ]
      },
      {
       "output_type": "stream",
       "stream": "stdout",
       "text": [
        "Job launched 18513.2s ago, status RUNNING: Running step (mr_weather_step12_a.ubuntu.20140613.085010.640322: Step 2 of 2)\r\n"
       ]
      },
      {
       "output_type": "stream",
       "stream": "stdout",
       "text": [
        "Job launched 18544.3s ago, status RUNNING: Running step (mr_weather_step12_a.ubuntu.20140613.085010.640322: Step 2 of 2)\r\n"
       ]
      },
      {
       "output_type": "stream",
       "stream": "stdout",
       "text": [
        "Job launched 18575.4s ago, status RUNNING: Running step (mr_weather_step12_a.ubuntu.20140613.085010.640322: Step 2 of 2)\r\n"
       ]
      },
      {
       "output_type": "stream",
       "stream": "stdout",
       "text": [
        "Job launched 18606.4s ago, status RUNNING: Running step (mr_weather_step12_a.ubuntu.20140613.085010.640322: Step 2 of 2)\r\n"
       ]
      },
      {
       "output_type": "stream",
       "stream": "stdout",
       "text": [
        "Job launched 18637.6s ago, status RUNNING: Running step (mr_weather_step12_a.ubuntu.20140613.085010.640322: Step 2 of 2)\r\n"
       ]
      },
      {
       "output_type": "stream",
       "stream": "stdout",
       "text": [
        "Job launched 18668.6s ago, status RUNNING: Running step (mr_weather_step12_a.ubuntu.20140613.085010.640322: Step 2 of 2)\r\n"
       ]
      },
      {
       "output_type": "stream",
       "stream": "stdout",
       "text": [
        "Job launched 18699.8s ago, status RUNNING: Running step (mr_weather_step12_a.ubuntu.20140613.085010.640322: Step 2 of 2)\r\n"
       ]
      },
      {
       "output_type": "stream",
       "stream": "stdout",
       "text": [
        "Job launched 18730.9s ago, status RUNNING: Running step (mr_weather_step12_a.ubuntu.20140613.085010.640322: Step 2 of 2)\r\n"
       ]
      },
      {
       "output_type": "stream",
       "stream": "stdout",
       "text": [
        "Job launched 18762.0s ago, status RUNNING: Running step (mr_weather_step12_a.ubuntu.20140613.085010.640322: Step 2 of 2)\r\n"
       ]
      },
      {
       "output_type": "stream",
       "stream": "stdout",
       "text": [
        "Job launched 18793.1s ago, status RUNNING: Running step (mr_weather_step12_a.ubuntu.20140613.085010.640322: Step 2 of 2)\r\n"
       ]
      },
      {
       "output_type": "stream",
       "stream": "stdout",
       "text": [
        "Job launched 18824.2s ago, status RUNNING: Running step (mr_weather_step12_a.ubuntu.20140613.085010.640322: Step 2 of 2)\r\n"
       ]
      },
      {
       "output_type": "stream",
       "stream": "stdout",
       "text": [
        "Job launched 18855.4s ago, status RUNNING: Running step (mr_weather_step12_a.ubuntu.20140613.085010.640322: Step 2 of 2)\r\n"
       ]
      },
      {
       "output_type": "stream",
       "stream": "stdout",
       "text": [
        "Job launched 18886.4s ago, status RUNNING: Running step (mr_weather_step12_a.ubuntu.20140613.085010.640322: Step 2 of 2)\r\n"
       ]
      },
      {
       "output_type": "stream",
       "stream": "stdout",
       "text": [
        "Job launched 18917.4s ago, status RUNNING: Running step (mr_weather_step12_a.ubuntu.20140613.085010.640322: Step 2 of 2)\r\n"
       ]
      },
      {
       "output_type": "stream",
       "stream": "stdout",
       "text": [
        "Job launched 18948.5s ago, status RUNNING: Running step (mr_weather_step12_a.ubuntu.20140613.085010.640322: Step 2 of 2)\r\n"
       ]
      },
      {
       "output_type": "stream",
       "stream": "stdout",
       "text": [
        "Job launched 18979.6s ago, status RUNNING: Running step (mr_weather_step12_a.ubuntu.20140613.085010.640322: Step 2 of 2)\r\n"
       ]
      },
      {
       "output_type": "stream",
       "stream": "stdout",
       "text": [
        "Job launched 19010.6s ago, status RUNNING: Running step (mr_weather_step12_a.ubuntu.20140613.085010.640322: Step 2 of 2)\r\n"
       ]
      },
      {
       "output_type": "stream",
       "stream": "stdout",
       "text": [
        "Job launched 19041.7s ago, status RUNNING: Running step (mr_weather_step12_a.ubuntu.20140613.085010.640322: Step 2 of 2)\r\n"
       ]
      },
      {
       "output_type": "stream",
       "stream": "stdout",
       "text": [
        "Job launched 19072.7s ago, status RUNNING: Running step (mr_weather_step12_a.ubuntu.20140613.085010.640322: Step 2 of 2)\r\n"
       ]
      },
      {
       "output_type": "stream",
       "stream": "stdout",
       "text": [
        "Job launched 19103.7s ago, status RUNNING: Running step (mr_weather_step12_a.ubuntu.20140613.085010.640322: Step 2 of 2)\r\n"
       ]
      },
      {
       "output_type": "stream",
       "stream": "stdout",
       "text": [
        "Job launched 19134.8s ago, status RUNNING: Running step (mr_weather_step12_a.ubuntu.20140613.085010.640322: Step 2 of 2)\r\n"
       ]
      },
      {
       "output_type": "stream",
       "stream": "stdout",
       "text": [
        "Job launched 19165.8s ago, status RUNNING: Running step (mr_weather_step12_a.ubuntu.20140613.085010.640322: Step 2 of 2)\r\n"
       ]
      },
      {
       "output_type": "stream",
       "stream": "stdout",
       "text": [
        "Job launched 19196.9s ago, status RUNNING: Running step (mr_weather_step12_a.ubuntu.20140613.085010.640322: Step 2 of 2)\r\n"
       ]
      },
      {
       "output_type": "stream",
       "stream": "stdout",
       "text": [
        "Job launched 19228.0s ago, status RUNNING: Running step (mr_weather_step12_a.ubuntu.20140613.085010.640322: Step 2 of 2)\r\n"
       ]
      },
      {
       "output_type": "stream",
       "stream": "stdout",
       "text": [
        "Job launched 19259.0s ago, status RUNNING: Running step (mr_weather_step12_a.ubuntu.20140613.085010.640322: Step 2 of 2)\r\n"
       ]
      },
      {
       "output_type": "stream",
       "stream": "stdout",
       "text": [
        "Job launched 19290.0s ago, status RUNNING: Running step (mr_weather_step12_a.ubuntu.20140613.085010.640322: Step 2 of 2)\r\n"
       ]
      },
      {
       "output_type": "stream",
       "stream": "stdout",
       "text": [
        "Job launched 19320.7s ago, status RUNNING: Running step (mr_weather_step12_a.ubuntu.20140613.085010.640322: Step 2 of 2)\r\n"
       ]
      },
      {
       "output_type": "stream",
       "stream": "stdout",
       "text": [
        "Job launched 19351.8s ago, status RUNNING: Running step (mr_weather_step12_a.ubuntu.20140613.085010.640322: Step 2 of 2)\r\n"
       ]
      },
      {
       "output_type": "stream",
       "stream": "stdout",
       "text": [
        "Job launched 19383.0s ago, status RUNNING: Running step (mr_weather_step12_a.ubuntu.20140613.085010.640322: Step 2 of 2)\r\n"
       ]
      },
      {
       "output_type": "stream",
       "stream": "stdout",
       "text": [
        "Job launched 19414.0s ago, status RUNNING: Running step (mr_weather_step12_a.ubuntu.20140613.085010.640322: Step 2 of 2)\r\n"
       ]
      },
      {
       "output_type": "stream",
       "stream": "stdout",
       "text": [
        "Job launched 19445.1s ago, status RUNNING: Running step (mr_weather_step12_a.ubuntu.20140613.085010.640322: Step 2 of 2)\r\n"
       ]
      },
      {
       "output_type": "stream",
       "stream": "stdout",
       "text": [
        "Job launched 19476.3s ago, status RUNNING: Running step (mr_weather_step12_a.ubuntu.20140613.085010.640322: Step 2 of 2)\r\n"
       ]
      },
      {
       "output_type": "stream",
       "stream": "stdout",
       "text": [
        "Job launched 19507.3s ago, status RUNNING: Running step (mr_weather_step12_a.ubuntu.20140613.085010.640322: Step 2 of 2)\r\n"
       ]
      },
      {
       "output_type": "stream",
       "stream": "stdout",
       "text": [
        "Job launched 19538.4s ago, status RUNNING: Running step (mr_weather_step12_a.ubuntu.20140613.085010.640322: Step 2 of 2)\r\n"
       ]
      },
      {
       "output_type": "stream",
       "stream": "stdout",
       "text": [
        "Job launched 19569.5s ago, status RUNNING: Running step (mr_weather_step12_a.ubuntu.20140613.085010.640322: Step 2 of 2)\r\n"
       ]
      },
      {
       "output_type": "stream",
       "stream": "stdout",
       "text": [
        "Job launched 19600.4s ago, status RUNNING: Running step (mr_weather_step12_a.ubuntu.20140613.085010.640322: Step 2 of 2)\r\n"
       ]
      },
      {
       "output_type": "stream",
       "stream": "stdout",
       "text": [
        "Job launched 19631.4s ago, status RUNNING: Running step (mr_weather_step12_a.ubuntu.20140613.085010.640322: Step 2 of 2)\r\n"
       ]
      },
      {
       "output_type": "stream",
       "stream": "stdout",
       "text": [
        "Job launched 19662.4s ago, status RUNNING: Running step (mr_weather_step12_a.ubuntu.20140613.085010.640322: Step 2 of 2)\r\n"
       ]
      },
      {
       "output_type": "stream",
       "stream": "stdout",
       "text": [
        "Job launched 19693.5s ago, status RUNNING: Running step (mr_weather_step12_a.ubuntu.20140613.085010.640322: Step 2 of 2)\r\n"
       ]
      },
      {
       "output_type": "stream",
       "stream": "stdout",
       "text": [
        "Job launched 19724.6s ago, status RUNNING: Running step (mr_weather_step12_a.ubuntu.20140613.085010.640322: Step 2 of 2)\r\n"
       ]
      },
      {
       "output_type": "stream",
       "stream": "stdout",
       "text": [
        "Job launched 19755.7s ago, status RUNNING: Running step (mr_weather_step12_a.ubuntu.20140613.085010.640322: Step 2 of 2)\r\n"
       ]
      },
      {
       "output_type": "stream",
       "stream": "stdout",
       "text": [
        "Job launched 19786.8s ago, status RUNNING: Running step (mr_weather_step12_a.ubuntu.20140613.085010.640322: Step 2 of 2)\r\n"
       ]
      },
      {
       "output_type": "stream",
       "stream": "stdout",
       "text": [
        "Job launched 19817.8s ago, status RUNNING: Running step (mr_weather_step12_a.ubuntu.20140613.085010.640322: Step 2 of 2)\r\n"
       ]
      },
      {
       "output_type": "stream",
       "stream": "stdout",
       "text": [
        "Job launched 19848.8s ago, status RUNNING: Running step (mr_weather_step12_a.ubuntu.20140613.085010.640322: Step 2 of 2)\r\n"
       ]
      },
      {
       "output_type": "stream",
       "stream": "stdout",
       "text": [
        "Job launched 19879.8s ago, status RUNNING: Running step (mr_weather_step12_a.ubuntu.20140613.085010.640322: Step 2 of 2)\r\n"
       ]
      },
      {
       "output_type": "stream",
       "stream": "stdout",
       "text": [
        "Job launched 19910.8s ago, status RUNNING: Running step (mr_weather_step12_a.ubuntu.20140613.085010.640322: Step 2 of 2)\r\n"
       ]
      },
      {
       "output_type": "stream",
       "stream": "stdout",
       "text": [
        "Job launched 19941.7s ago, status RUNNING: Running step (mr_weather_step12_a.ubuntu.20140613.085010.640322: Step 2 of 2)\r\n"
       ]
      },
      {
       "output_type": "stream",
       "stream": "stdout",
       "text": [
        "Job launched 19972.8s ago, status RUNNING: Running step (mr_weather_step12_a.ubuntu.20140613.085010.640322: Step 2 of 2)\r\n"
       ]
      },
      {
       "output_type": "stream",
       "stream": "stdout",
       "text": [
        "Job launched 20003.9s ago, status RUNNING: Running step (mr_weather_step12_a.ubuntu.20140613.085010.640322: Step 2 of 2)\r\n"
       ]
      },
      {
       "output_type": "stream",
       "stream": "stdout",
       "text": [
        "Job launched 20035.0s ago, status RUNNING: Running step (mr_weather_step12_a.ubuntu.20140613.085010.640322: Step 2 of 2)\r\n"
       ]
      },
      {
       "output_type": "stream",
       "stream": "stdout",
       "text": [
        "Job launched 20066.1s ago, status RUNNING: Running step (mr_weather_step12_a.ubuntu.20140613.085010.640322: Step 2 of 2)\r\n"
       ]
      },
      {
       "output_type": "stream",
       "stream": "stdout",
       "text": [
        "Job launched 20097.1s ago, status RUNNING: Running step (mr_weather_step12_a.ubuntu.20140613.085010.640322: Step 2 of 2)\r\n"
       ]
      },
      {
       "output_type": "stream",
       "stream": "stdout",
       "text": [
        "Job launched 20128.1s ago, status RUNNING: Running step (mr_weather_step12_a.ubuntu.20140613.085010.640322: Step 2 of 2)\r\n"
       ]
      },
      {
       "output_type": "stream",
       "stream": "stdout",
       "text": [
        "Job launched 20159.2s ago, status RUNNING: Running step (mr_weather_step12_a.ubuntu.20140613.085010.640322: Step 2 of 2)\r\n"
       ]
      },
      {
       "output_type": "stream",
       "stream": "stdout",
       "text": [
        "Job launched 20190.3s ago, status RUNNING: Running step (mr_weather_step12_a.ubuntu.20140613.085010.640322: Step 2 of 2)\r\n"
       ]
      },
      {
       "output_type": "stream",
       "stream": "stdout",
       "text": [
        "Job launched 20221.5s ago, status RUNNING: Running step (mr_weather_step12_a.ubuntu.20140613.085010.640322: Step 2 of 2)\r\n"
       ]
      },
      {
       "output_type": "stream",
       "stream": "stdout",
       "text": [
        "Job launched 20252.6s ago, status RUNNING: Running step (mr_weather_step12_a.ubuntu.20140613.085010.640322: Step 2 of 2)\r\n"
       ]
      },
      {
       "output_type": "stream",
       "stream": "stdout",
       "text": [
        "Job launched 20283.8s ago, status RUNNING: Running step (mr_weather_step12_a.ubuntu.20140613.085010.640322: Step 2 of 2)\r\n"
       ]
      },
      {
       "output_type": "stream",
       "stream": "stdout",
       "text": [
        "Job launched 20314.9s ago, status RUNNING: Running step (mr_weather_step12_a.ubuntu.20140613.085010.640322: Step 2 of 2)\r\n"
       ]
      },
      {
       "output_type": "stream",
       "stream": "stdout",
       "text": [
        "Job launched 20346.0s ago, status RUNNING: Running step (mr_weather_step12_a.ubuntu.20140613.085010.640322: Step 2 of 2)\r\n"
       ]
      },
      {
       "output_type": "stream",
       "stream": "stdout",
       "text": [
        "Job launched 20377.2s ago, status RUNNING: Running step (mr_weather_step12_a.ubuntu.20140613.085010.640322: Step 2 of 2)\r\n"
       ]
      },
      {
       "output_type": "stream",
       "stream": "stdout",
       "text": [
        "Job launched 20408.2s ago, status RUNNING: Running step (mr_weather_step12_a.ubuntu.20140613.085010.640322: Step 2 of 2)\r\n"
       ]
      },
      {
       "output_type": "stream",
       "stream": "stdout",
       "text": [
        "Job launched 20439.3s ago, status RUNNING: Running step (mr_weather_step12_a.ubuntu.20140613.085010.640322: Step 2 of 2)\r\n"
       ]
      },
      {
       "output_type": "stream",
       "stream": "stdout",
       "text": [
        "Job launched 20470.4s ago, status RUNNING: Running step (mr_weather_step12_a.ubuntu.20140613.085010.640322: Step 2 of 2)\r\n"
       ]
      },
      {
       "output_type": "stream",
       "stream": "stdout",
       "text": [
        "Job launched 20501.5s ago, status RUNNING: Running step (mr_weather_step12_a.ubuntu.20140613.085010.640322: Step 2 of 2)\r\n"
       ]
      },
      {
       "output_type": "stream",
       "stream": "stdout",
       "text": [
        "Job launched 20532.6s ago, status RUNNING: Running step (mr_weather_step12_a.ubuntu.20140613.085010.640322: Step 2 of 2)\r\n"
       ]
      },
      {
       "output_type": "stream",
       "stream": "stdout",
       "text": [
        "Job launched 20563.6s ago, status RUNNING: Running step (mr_weather_step12_a.ubuntu.20140613.085010.640322: Step 2 of 2)\r\n"
       ]
      },
      {
       "output_type": "stream",
       "stream": "stdout",
       "text": [
        "Job launched 20594.6s ago, status RUNNING: Running step (mr_weather_step12_a.ubuntu.20140613.085010.640322: Step 2 of 2)\r\n"
       ]
      },
      {
       "output_type": "stream",
       "stream": "stdout",
       "text": [
        "Job launched 20625.6s ago, status RUNNING: Running step (mr_weather_step12_a.ubuntu.20140613.085010.640322: Step 2 of 2)\r\n"
       ]
      },
      {
       "output_type": "stream",
       "stream": "stdout",
       "text": [
        "Job launched 20656.7s ago, status RUNNING: Running step (mr_weather_step12_a.ubuntu.20140613.085010.640322: Step 2 of 2)\r\n"
       ]
      },
      {
       "output_type": "stream",
       "stream": "stdout",
       "text": [
        "Job launched 20687.7s ago, status RUNNING: Running step (mr_weather_step12_a.ubuntu.20140613.085010.640322: Step 2 of 2)\r\n"
       ]
      },
      {
       "output_type": "stream",
       "stream": "stdout",
       "text": [
        "Job launched 20718.8s ago, status RUNNING: Running step (mr_weather_step12_a.ubuntu.20140613.085010.640322: Step 2 of 2)\r\n"
       ]
      },
      {
       "output_type": "stream",
       "stream": "stdout",
       "text": [
        "Job launched 20749.8s ago, status RUNNING: Running step (mr_weather_step12_a.ubuntu.20140613.085010.640322: Step 2 of 2)\r\n"
       ]
      },
      {
       "output_type": "stream",
       "stream": "stdout",
       "text": [
        "Job launched 20780.8s ago, status RUNNING: Running step (mr_weather_step12_a.ubuntu.20140613.085010.640322: Step 2 of 2)\r\n"
       ]
      },
      {
       "output_type": "stream",
       "stream": "stdout",
       "text": [
        "Job launched 20811.9s ago, status RUNNING: Running step (mr_weather_step12_a.ubuntu.20140613.085010.640322: Step 2 of 2)\r\n"
       ]
      },
      {
       "output_type": "stream",
       "stream": "stdout",
       "text": [
        "Job launched 20843.0s ago, status RUNNING: Running step (mr_weather_step12_a.ubuntu.20140613.085010.640322: Step 2 of 2)\r\n"
       ]
      },
      {
       "output_type": "stream",
       "stream": "stdout",
       "text": [
        "Job launched 20874.2s ago, status RUNNING: Running step (mr_weather_step12_a.ubuntu.20140613.085010.640322: Step 2 of 2)\r\n"
       ]
      },
      {
       "output_type": "stream",
       "stream": "stdout",
       "text": [
        "Job launched 20905.3s ago, status RUNNING: Running step (mr_weather_step12_a.ubuntu.20140613.085010.640322: Step 2 of 2)\r\n"
       ]
      },
      {
       "output_type": "stream",
       "stream": "stdout",
       "text": [
        "Job launched 20936.4s ago, status RUNNING: Running step (mr_weather_step12_a.ubuntu.20140613.085010.640322: Step 2 of 2)\r\n"
       ]
      },
      {
       "output_type": "stream",
       "stream": "stdout",
       "text": [
        "Job launched 20967.4s ago, status RUNNING: Running step (mr_weather_step12_a.ubuntu.20140613.085010.640322: Step 2 of 2)\r\n"
       ]
      },
      {
       "output_type": "stream",
       "stream": "stdout",
       "text": [
        "Job launched 20998.5s ago, status RUNNING: Running step (mr_weather_step12_a.ubuntu.20140613.085010.640322: Step 2 of 2)\r\n"
       ]
      },
      {
       "output_type": "stream",
       "stream": "stdout",
       "text": [
        "Job launched 21029.5s ago, status RUNNING: Running step (mr_weather_step12_a.ubuntu.20140613.085010.640322: Step 2 of 2)\r\n"
       ]
      },
      {
       "output_type": "stream",
       "stream": "stdout",
       "text": [
        "Job launched 21060.7s ago, status RUNNING: Running step (mr_weather_step12_a.ubuntu.20140613.085010.640322: Step 2 of 2)\r\n"
       ]
      },
      {
       "output_type": "stream",
       "stream": "stdout",
       "text": [
        "Job launched 21091.8s ago, status RUNNING: Running step (mr_weather_step12_a.ubuntu.20140613.085010.640322: Step 2 of 2)\r\n"
       ]
      },
      {
       "output_type": "stream",
       "stream": "stdout",
       "text": [
        "Job launched 21123.0s ago, status RUNNING: Running step (mr_weather_step12_a.ubuntu.20140613.085010.640322: Step 2 of 2)\r\n"
       ]
      },
      {
       "output_type": "stream",
       "stream": "stdout",
       "text": [
        "Job launched 21154.0s ago, status RUNNING: Running step (mr_weather_step12_a.ubuntu.20140613.085010.640322: Step 2 of 2)\r\n"
       ]
      },
      {
       "output_type": "stream",
       "stream": "stdout",
       "text": [
        "Job launched 21185.8s ago, status RUNNING: Running step (mr_weather_step12_a.ubuntu.20140613.085010.640322: Step 2 of 2)\r\n"
       ]
      },
      {
       "output_type": "stream",
       "stream": "stdout",
       "text": [
        "Job launched 21216.8s ago, status RUNNING: Running step (mr_weather_step12_a.ubuntu.20140613.085010.640322: Step 2 of 2)\r\n"
       ]
      },
      {
       "output_type": "stream",
       "stream": "stdout",
       "text": [
        "Job launched 21247.9s ago, status RUNNING: Running step (mr_weather_step12_a.ubuntu.20140613.085010.640322: Step 2 of 2)\r\n"
       ]
      },
      {
       "output_type": "stream",
       "stream": "stdout",
       "text": [
        "Job launched 21279.0s ago, status RUNNING: Running step (mr_weather_step12_a.ubuntu.20140613.085010.640322: Step 2 of 2)\r\n"
       ]
      },
      {
       "output_type": "stream",
       "stream": "stdout",
       "text": [
        "Job launched 21310.2s ago, status RUNNING: Running step (mr_weather_step12_a.ubuntu.20140613.085010.640322: Step 2 of 2)\r\n"
       ]
      },
      {
       "output_type": "stream",
       "stream": "stdout",
       "text": [
        "Job launched 21341.3s ago, status RUNNING: Running step (mr_weather_step12_a.ubuntu.20140613.085010.640322: Step 2 of 2)\r\n"
       ]
      },
      {
       "output_type": "stream",
       "stream": "stdout",
       "text": [
        "Job launched 21372.4s ago, status RUNNING: Running step (mr_weather_step12_a.ubuntu.20140613.085010.640322: Step 2 of 2)\r\n"
       ]
      },
      {
       "output_type": "stream",
       "stream": "stdout",
       "text": [
        "Job launched 21403.4s ago, status RUNNING: Running step (mr_weather_step12_a.ubuntu.20140613.085010.640322: Step 2 of 2)\r\n"
       ]
      },
      {
       "output_type": "stream",
       "stream": "stdout",
       "text": [
        "Job launched 21434.6s ago, status RUNNING: Running step (mr_weather_step12_a.ubuntu.20140613.085010.640322: Step 2 of 2)\r\n"
       ]
      },
      {
       "output_type": "stream",
       "stream": "stdout",
       "text": [
        "Job launched 21465.7s ago, status RUNNING: Running step (mr_weather_step12_a.ubuntu.20140613.085010.640322: Step 2 of 2)\r\n"
       ]
      },
      {
       "output_type": "stream",
       "stream": "stdout",
       "text": [
        "Job launched 21496.8s ago, status RUNNING: Running step (mr_weather_step12_a.ubuntu.20140613.085010.640322: Step 2 of 2)\r\n"
       ]
      },
      {
       "output_type": "stream",
       "stream": "stdout",
       "text": [
        "Job launched 21527.9s ago, status RUNNING: Running step (mr_weather_step12_a.ubuntu.20140613.085010.640322: Step 2 of 2)\r\n"
       ]
      },
      {
       "output_type": "stream",
       "stream": "stdout",
       "text": [
        "Job launched 21558.9s ago, status RUNNING: Running step (mr_weather_step12_a.ubuntu.20140613.085010.640322: Step 2 of 2)\r\n"
       ]
      },
      {
       "output_type": "stream",
       "stream": "stdout",
       "text": [
        "Job launched 21590.0s ago, status RUNNING: Running step (mr_weather_step12_a.ubuntu.20140613.085010.640322: Step 2 of 2)\r\n"
       ]
      },
      {
       "output_type": "stream",
       "stream": "stdout",
       "text": [
        "Job launched 21621.0s ago, status RUNNING: Running step (mr_weather_step12_a.ubuntu.20140613.085010.640322: Step 2 of 2)\r\n"
       ]
      },
      {
       "output_type": "stream",
       "stream": "stdout",
       "text": [
        "Job launched 21652.0s ago, status RUNNING: Running step (mr_weather_step12_a.ubuntu.20140613.085010.640322: Step 2 of 2)\r\n"
       ]
      },
      {
       "output_type": "stream",
       "stream": "stdout",
       "text": [
        "Job launched 21683.1s ago, status RUNNING: Running step (mr_weather_step12_a.ubuntu.20140613.085010.640322: Step 2 of 2)\r\n"
       ]
      },
      {
       "output_type": "stream",
       "stream": "stdout",
       "text": [
        "Job launched 21714.2s ago, status RUNNING: Running step (mr_weather_step12_a.ubuntu.20140613.085010.640322: Step 2 of 2)\r\n"
       ]
      },
      {
       "output_type": "stream",
       "stream": "stdout",
       "text": [
        "Job launched 21745.3s ago, status RUNNING: Running step (mr_weather_step12_a.ubuntu.20140613.085010.640322: Step 2 of 2)\r\n"
       ]
      },
      {
       "output_type": "stream",
       "stream": "stdout",
       "text": [
        "Job launched 21776.4s ago, status RUNNING: Running step (mr_weather_step12_a.ubuntu.20140613.085010.640322: Step 2 of 2)\r\n"
       ]
      },
      {
       "output_type": "stream",
       "stream": "stdout",
       "text": [
        "Job launched 21807.6s ago, status RUNNING: Running step (mr_weather_step12_a.ubuntu.20140613.085010.640322: Step 2 of 2)\r\n"
       ]
      },
      {
       "output_type": "stream",
       "stream": "stdout",
       "text": [
        "Job launched 21838.6s ago, status RUNNING: Running step (mr_weather_step12_a.ubuntu.20140613.085010.640322: Step 2 of 2)\r\n"
       ]
      },
      {
       "output_type": "stream",
       "stream": "stdout",
       "text": [
        "Job launched 21869.7s ago, status RUNNING: Running step (mr_weather_step12_a.ubuntu.20140613.085010.640322: Step 2 of 2)\r\n"
       ]
      },
      {
       "output_type": "stream",
       "stream": "stdout",
       "text": [
        "Job launched 21900.8s ago, status RUNNING: Running step (mr_weather_step12_a.ubuntu.20140613.085010.640322: Step 2 of 2)\r\n"
       ]
      },
      {
       "output_type": "stream",
       "stream": "stdout",
       "text": [
        "Job launched 21931.9s ago, status RUNNING: Running step (mr_weather_step12_a.ubuntu.20140613.085010.640322: Step 2 of 2)\r\n"
       ]
      },
      {
       "output_type": "stream",
       "stream": "stdout",
       "text": [
        "Job launched 21963.0s ago, status RUNNING: Running step (mr_weather_step12_a.ubuntu.20140613.085010.640322: Step 2 of 2)\r\n"
       ]
      },
      {
       "output_type": "stream",
       "stream": "stdout",
       "text": [
        "Job launched 21994.1s ago, status RUNNING: Running step (mr_weather_step12_a.ubuntu.20140613.085010.640322: Step 2 of 2)\r\n"
       ]
      },
      {
       "output_type": "stream",
       "stream": "stdout",
       "text": [
        "Job launched 22025.1s ago, status RUNNING: Running step (mr_weather_step12_a.ubuntu.20140613.085010.640322: Step 2 of 2)\r\n"
       ]
      },
      {
       "output_type": "stream",
       "stream": "stdout",
       "text": [
        "Job launched 22056.2s ago, status RUNNING: Running step (mr_weather_step12_a.ubuntu.20140613.085010.640322: Step 2 of 2)\r\n"
       ]
      },
      {
       "output_type": "stream",
       "stream": "stdout",
       "text": [
        "Job launched 22087.3s ago, status RUNNING: Running step (mr_weather_step12_a.ubuntu.20140613.085010.640322: Step 2 of 2)\r\n"
       ]
      },
      {
       "output_type": "stream",
       "stream": "stdout",
       "text": [
        "Job launched 22118.4s ago, status RUNNING: Running step (mr_weather_step12_a.ubuntu.20140613.085010.640322: Step 2 of 2)\r\n"
       ]
      },
      {
       "output_type": "stream",
       "stream": "stdout",
       "text": [
        "Job launched 22150.0s ago, status RUNNING: Running step (mr_weather_step12_a.ubuntu.20140613.085010.640322: Step 2 of 2)\r\n"
       ]
      },
      {
       "output_type": "stream",
       "stream": "stdout",
       "text": [
        "Job launched 22181.1s ago, status RUNNING: Running step (mr_weather_step12_a.ubuntu.20140613.085010.640322: Step 2 of 2)\r\n"
       ]
      },
      {
       "output_type": "stream",
       "stream": "stdout",
       "text": [
        "Job launched 22212.1s ago, status RUNNING: Running step (mr_weather_step12_a.ubuntu.20140613.085010.640322: Step 2 of 2)\r\n"
       ]
      },
      {
       "output_type": "stream",
       "stream": "stdout",
       "text": [
        "Job launched 22243.3s ago, status RUNNING: Running step (mr_weather_step12_a.ubuntu.20140613.085010.640322: Step 2 of 2)\r\n"
       ]
      },
      {
       "output_type": "stream",
       "stream": "stdout",
       "text": [
        "Job launched 22274.5s ago, status RUNNING: Running step (mr_weather_step12_a.ubuntu.20140613.085010.640322: Step 2 of 2)\r\n"
       ]
      },
      {
       "output_type": "stream",
       "stream": "stdout",
       "text": [
        "Job launched 22305.5s ago, status RUNNING: Running step (mr_weather_step12_a.ubuntu.20140613.085010.640322: Step 2 of 2)\r\n"
       ]
      },
      {
       "output_type": "stream",
       "stream": "stdout",
       "text": [
        "Job launched 22336.6s ago, status RUNNING: Running step (mr_weather_step12_a.ubuntu.20140613.085010.640322: Step 2 of 2)\r\n"
       ]
      },
      {
       "output_type": "stream",
       "stream": "stdout",
       "text": [
        "Job launched 22367.6s ago, status RUNNING: Running step (mr_weather_step12_a.ubuntu.20140613.085010.640322: Step 2 of 2)\r\n"
       ]
      },
      {
       "output_type": "stream",
       "stream": "stdout",
       "text": [
        "Job launched 22398.6s ago, status RUNNING: Running step (mr_weather_step12_a.ubuntu.20140613.085010.640322: Step 2 of 2)\r\n"
       ]
      },
      {
       "output_type": "stream",
       "stream": "stdout",
       "text": [
        "Job launched 22429.8s ago, status RUNNING: Running step (mr_weather_step12_a.ubuntu.20140613.085010.640322: Step 2 of 2)\r\n"
       ]
      },
      {
       "output_type": "stream",
       "stream": "stdout",
       "text": [
        "Job launched 22460.9s ago, status RUNNING: Running step (mr_weather_step12_a.ubuntu.20140613.085010.640322: Step 2 of 2)\r\n"
       ]
      },
      {
       "output_type": "stream",
       "stream": "stdout",
       "text": [
        "Job launched 22492.0s ago, status RUNNING: Running step (mr_weather_step12_a.ubuntu.20140613.085010.640322: Step 2 of 2)\r\n"
       ]
      },
      {
       "output_type": "stream",
       "stream": "stdout",
       "text": [
        "Job launched 22523.0s ago, status RUNNING: Running step (mr_weather_step12_a.ubuntu.20140613.085010.640322: Step 2 of 2)\r\n"
       ]
      },
      {
       "output_type": "stream",
       "stream": "stdout",
       "text": [
        "Job launched 22554.2s ago, status RUNNING: Running step (mr_weather_step12_a.ubuntu.20140613.085010.640322: Step 2 of 2)\r\n"
       ]
      },
      {
       "output_type": "stream",
       "stream": "stdout",
       "text": [
        "Job launched 22585.3s ago, status RUNNING: Running step (mr_weather_step12_a.ubuntu.20140613.085010.640322: Step 2 of 2)\r\n"
       ]
      },
      {
       "output_type": "stream",
       "stream": "stdout",
       "text": [
        "Job launched 22616.3s ago, status RUNNING: Running step (mr_weather_step12_a.ubuntu.20140613.085010.640322: Step 2 of 2)\r\n"
       ]
      },
      {
       "output_type": "stream",
       "stream": "stdout",
       "text": [
        "Job launched 22647.4s ago, status RUNNING: Running step (mr_weather_step12_a.ubuntu.20140613.085010.640322: Step 2 of 2)\r\n"
       ]
      },
      {
       "output_type": "stream",
       "stream": "stdout",
       "text": [
        "Job launched 22678.5s ago, status RUNNING: Running step (mr_weather_step12_a.ubuntu.20140613.085010.640322: Step 2 of 2)\r\n"
       ]
      },
      {
       "output_type": "stream",
       "stream": "stdout",
       "text": [
        "Job launched 22709.4s ago, status RUNNING: Running step (mr_weather_step12_a.ubuntu.20140613.085010.640322: Step 2 of 2)\r\n"
       ]
      },
      {
       "output_type": "stream",
       "stream": "stdout",
       "text": [
        "Job launched 22740.6s ago, status RUNNING: Running step (mr_weather_step12_a.ubuntu.20140613.085010.640322: Step 2 of 2)\r\n"
       ]
      },
      {
       "output_type": "stream",
       "stream": "stdout",
       "text": [
        "Job launched 22771.8s ago, status RUNNING: Running step (mr_weather_step12_a.ubuntu.20140613.085010.640322: Step 2 of 2)\r\n"
       ]
      },
      {
       "output_type": "stream",
       "stream": "stdout",
       "text": [
        "Job launched 22802.9s ago, status RUNNING: Running step (mr_weather_step12_a.ubuntu.20140613.085010.640322: Step 2 of 2)\r\n"
       ]
      },
      {
       "output_type": "stream",
       "stream": "stdout",
       "text": [
        "Job launched 22834.0s ago, status RUNNING: Running step (mr_weather_step12_a.ubuntu.20140613.085010.640322: Step 2 of 2)\r\n"
       ]
      },
      {
       "output_type": "stream",
       "stream": "stdout",
       "text": [
        "Job launched 22865.2s ago, status RUNNING: Running step (mr_weather_step12_a.ubuntu.20140613.085010.640322: Step 2 of 2)\r\n"
       ]
      },
      {
       "output_type": "stream",
       "stream": "stdout",
       "text": [
        "Job launched 22896.3s ago, status RUNNING: Running step (mr_weather_step12_a.ubuntu.20140613.085010.640322: Step 2 of 2)\r\n"
       ]
      },
      {
       "output_type": "stream",
       "stream": "stdout",
       "text": [
        "Job launched 22927.5s ago, status RUNNING: Running step (mr_weather_step12_a.ubuntu.20140613.085010.640322: Step 2 of 2)\r\n"
       ]
      },
      {
       "output_type": "stream",
       "stream": "stdout",
       "text": [
        "Job launched 22958.6s ago, status RUNNING: Running step (mr_weather_step12_a.ubuntu.20140613.085010.640322: Step 2 of 2)\r\n"
       ]
      },
      {
       "output_type": "stream",
       "stream": "stdout",
       "text": [
        "Job launched 22989.7s ago, status RUNNING: Running step (mr_weather_step12_a.ubuntu.20140613.085010.640322: Step 2 of 2)\r\n"
       ]
      },
      {
       "output_type": "stream",
       "stream": "stdout",
       "text": [
        "Job launched 23020.8s ago, status RUNNING: Running step (mr_weather_step12_a.ubuntu.20140613.085010.640322: Step 2 of 2)\r\n"
       ]
      },
      {
       "output_type": "stream",
       "stream": "stdout",
       "text": [
        "Job launched 23051.9s ago, status RUNNING: Running step (mr_weather_step12_a.ubuntu.20140613.085010.640322: Step 2 of 2)\r\n"
       ]
      },
      {
       "output_type": "stream",
       "stream": "stdout",
       "text": [
        "Job launched 23082.9s ago, status RUNNING: Running step (mr_weather_step12_a.ubuntu.20140613.085010.640322: Step 2 of 2)\r\n"
       ]
      },
      {
       "output_type": "stream",
       "stream": "stdout",
       "text": [
        "Job launched 23114.1s ago, status RUNNING: Running step (mr_weather_step12_a.ubuntu.20140613.085010.640322: Step 2 of 2)\r\n"
       ]
      },
      {
       "output_type": "stream",
       "stream": "stdout",
       "text": [
        "Job launched 23145.2s ago, status RUNNING: Running step (mr_weather_step12_a.ubuntu.20140613.085010.640322: Step 2 of 2)\r\n"
       ]
      },
      {
       "output_type": "stream",
       "stream": "stdout",
       "text": [
        "Job launched 23176.1s ago, status RUNNING: Running step (mr_weather_step12_a.ubuntu.20140613.085010.640322: Step 2 of 2)\r\n"
       ]
      },
      {
       "output_type": "stream",
       "stream": "stdout",
       "text": [
        "Job launched 23207.2s ago, status RUNNING: Running step (mr_weather_step12_a.ubuntu.20140613.085010.640322: Step 2 of 2)\r\n"
       ]
      },
      {
       "output_type": "stream",
       "stream": "stdout",
       "text": [
        "Job launched 23238.3s ago, status RUNNING: Running step (mr_weather_step12_a.ubuntu.20140613.085010.640322: Step 2 of 2)\r\n"
       ]
      },
      {
       "output_type": "stream",
       "stream": "stdout",
       "text": [
        "Job launched 23269.4s ago, status RUNNING: Running step (mr_weather_step12_a.ubuntu.20140613.085010.640322: Step 2 of 2)\r\n"
       ]
      },
      {
       "output_type": "stream",
       "stream": "stdout",
       "text": [
        "Job launched 23300.4s ago, status RUNNING: Running step (mr_weather_step12_a.ubuntu.20140613.085010.640322: Step 2 of 2)\r\n"
       ]
      },
      {
       "output_type": "stream",
       "stream": "stdout",
       "text": [
        "Job launched 23331.4s ago, status RUNNING: Running step (mr_weather_step12_a.ubuntu.20140613.085010.640322: Step 2 of 2)\r\n"
       ]
      },
      {
       "output_type": "stream",
       "stream": "stdout",
       "text": [
        "Job launched 23362.5s ago, status RUNNING: Running step (mr_weather_step12_a.ubuntu.20140613.085010.640322: Step 2 of 2)\r\n"
       ]
      },
      {
       "output_type": "stream",
       "stream": "stdout",
       "text": [
        "Job launched 23393.6s ago, status RUNNING: Running step (mr_weather_step12_a.ubuntu.20140613.085010.640322: Step 2 of 2)\r\n"
       ]
      },
      {
       "output_type": "stream",
       "stream": "stdout",
       "text": [
        "Job launched 23424.7s ago, status RUNNING: Running step (mr_weather_step12_a.ubuntu.20140613.085010.640322: Step 2 of 2)\r\n"
       ]
      },
      {
       "output_type": "stream",
       "stream": "stdout",
       "text": [
        "Job launched 23455.7s ago, status RUNNING: Running step (mr_weather_step12_a.ubuntu.20140613.085010.640322: Step 2 of 2)\r\n"
       ]
      },
      {
       "output_type": "stream",
       "stream": "stdout",
       "text": [
        "Job launched 23486.8s ago, status RUNNING: Running step (mr_weather_step12_a.ubuntu.20140613.085010.640322: Step 2 of 2)\r\n"
       ]
      },
      {
       "output_type": "stream",
       "stream": "stdout",
       "text": [
        "Job launched 23517.9s ago, status RUNNING: Running step (mr_weather_step12_a.ubuntu.20140613.085010.640322: Step 2 of 2)\r\n"
       ]
      },
      {
       "output_type": "stream",
       "stream": "stdout",
       "text": [
        "Job launched 23549.0s ago, status RUNNING: Running step (mr_weather_step12_a.ubuntu.20140613.085010.640322: Step 2 of 2)\r\n"
       ]
      },
      {
       "output_type": "stream",
       "stream": "stdout",
       "text": [
        "Job launched 23580.0s ago, status RUNNING: Running step (mr_weather_step12_a.ubuntu.20140613.085010.640322: Step 2 of 2)\r\n"
       ]
      },
      {
       "output_type": "stream",
       "stream": "stdout",
       "text": [
        "Job launched 23611.1s ago, status RUNNING: Running step (mr_weather_step12_a.ubuntu.20140613.085010.640322: Step 2 of 2)\r\n"
       ]
      },
      {
       "output_type": "stream",
       "stream": "stdout",
       "text": [
        "Job launched 23642.3s ago, status RUNNING: Running step (mr_weather_step12_a.ubuntu.20140613.085010.640322: Step 2 of 2)\r\n"
       ]
      },
      {
       "output_type": "stream",
       "stream": "stdout",
       "text": [
        "Job launched 23673.5s ago, status RUNNING: Running step (mr_weather_step12_a.ubuntu.20140613.085010.640322: Step 2 of 2)\r\n"
       ]
      },
      {
       "output_type": "stream",
       "stream": "stdout",
       "text": [
        "Job launched 23704.6s ago, status RUNNING: Running step (mr_weather_step12_a.ubuntu.20140613.085010.640322: Step 2 of 2)\r\n"
       ]
      },
      {
       "output_type": "stream",
       "stream": "stdout",
       "text": [
        "Job launched 23735.6s ago, status RUNNING: Running step (mr_weather_step12_a.ubuntu.20140613.085010.640322: Step 2 of 2)\r\n"
       ]
      },
      {
       "output_type": "stream",
       "stream": "stdout",
       "text": [
        "Job launched 23766.6s ago, status RUNNING: Running step (mr_weather_step12_a.ubuntu.20140613.085010.640322: Step 2 of 2)\r\n"
       ]
      },
      {
       "output_type": "stream",
       "stream": "stdout",
       "text": [
        "Job launched 23797.8s ago, status RUNNING: Running step (mr_weather_step12_a.ubuntu.20140613.085010.640322: Step 2 of 2)\r\n"
       ]
      },
      {
       "output_type": "stream",
       "stream": "stdout",
       "text": [
        "Job launched 23828.9s ago, status RUNNING: Running step (mr_weather_step12_a.ubuntu.20140613.085010.640322: Step 2 of 2)\r\n"
       ]
      },
      {
       "output_type": "stream",
       "stream": "stdout",
       "text": [
        "Job launched 23860.1s ago, status RUNNING: Running step (mr_weather_step12_a.ubuntu.20140613.085010.640322: Step 2 of 2)\r\n"
       ]
      },
      {
       "output_type": "stream",
       "stream": "stdout",
       "text": [
        "Job launched 23891.2s ago, status RUNNING: Running step (mr_weather_step12_a.ubuntu.20140613.085010.640322: Step 2 of 2)\r\n"
       ]
      },
      {
       "output_type": "stream",
       "stream": "stdout",
       "text": [
        "Job launched 23922.2s ago, status RUNNING: Running step (mr_weather_step12_a.ubuntu.20140613.085010.640322: Step 2 of 2)\r\n"
       ]
      },
      {
       "output_type": "stream",
       "stream": "stdout",
       "text": [
        "Job launched 23953.2s ago, status RUNNING: Running step (mr_weather_step12_a.ubuntu.20140613.085010.640322: Step 2 of 2)\r\n"
       ]
      },
      {
       "output_type": "stream",
       "stream": "stdout",
       "text": [
        "Job launched 23984.2s ago, status RUNNING: Running step (mr_weather_step12_a.ubuntu.20140613.085010.640322: Step 2 of 2)\r\n"
       ]
      },
      {
       "output_type": "stream",
       "stream": "stdout",
       "text": [
        "Job launched 24015.4s ago, status RUNNING: Running step (mr_weather_step12_a.ubuntu.20140613.085010.640322: Step 2 of 2)\r\n"
       ]
      },
      {
       "output_type": "stream",
       "stream": "stdout",
       "text": [
        "Job launched 24046.4s ago, status RUNNING: Running step (mr_weather_step12_a.ubuntu.20140613.085010.640322: Step 2 of 2)\r\n"
       ]
      },
      {
       "output_type": "stream",
       "stream": "stdout",
       "text": [
        "Job launched 24077.4s ago, status RUNNING: Running step (mr_weather_step12_a.ubuntu.20140613.085010.640322: Step 2 of 2)\r\n"
       ]
      },
      {
       "output_type": "stream",
       "stream": "stdout",
       "text": [
        "Job launched 24108.5s ago, status RUNNING: Running step (mr_weather_step12_a.ubuntu.20140613.085010.640322: Step 2 of 2)\r\n"
       ]
      },
      {
       "output_type": "stream",
       "stream": "stdout",
       "text": [
        "Job launched 24139.4s ago, status RUNNING: Running step (mr_weather_step12_a.ubuntu.20140613.085010.640322: Step 2 of 2)\r\n"
       ]
      },
      {
       "output_type": "stream",
       "stream": "stdout",
       "text": [
        "Job launched 24170.6s ago, status RUNNING: Running step (mr_weather_step12_a.ubuntu.20140613.085010.640322: Step 2 of 2)\r\n"
       ]
      },
      {
       "output_type": "stream",
       "stream": "stdout",
       "text": [
        "Job launched 24201.6s ago, status RUNNING: Running step (mr_weather_step12_a.ubuntu.20140613.085010.640322: Step 2 of 2)\r\n"
       ]
      },
      {
       "output_type": "stream",
       "stream": "stdout",
       "text": [
        "Job launched 24232.7s ago, status RUNNING: Running step (mr_weather_step12_a.ubuntu.20140613.085010.640322: Step 2 of 2)\r\n"
       ]
      },
      {
       "output_type": "stream",
       "stream": "stdout",
       "text": [
        "Job launched 24263.8s ago, status RUNNING: Running step (mr_weather_step12_a.ubuntu.20140613.085010.640322: Step 2 of 2)\r\n"
       ]
      },
      {
       "output_type": "stream",
       "stream": "stdout",
       "text": [
        "Job launched 24294.8s ago, status RUNNING: Running step (mr_weather_step12_a.ubuntu.20140613.085010.640322: Step 2 of 2)\r\n"
       ]
      },
      {
       "output_type": "stream",
       "stream": "stdout",
       "text": [
        "Job completed.\r\n",
        "Running time was 24281.0s (not counting time spent waiting for the EC2 instances)\r\n",
        "ec2_key_pair_file not specified, going to S3\r\n",
        "Fetching counters from S3...\r\n",
        "Waiting 5.0s for S3 eventual consistency\r\n"
       ]
      },
      {
       "output_type": "stream",
       "stream": "stdout",
       "text": [
        "Counters may not have been uploaded to S3 yet. Try again in 5 minutes with: mrjob fetch-logs --counters j-3TFYHEIHI9VOY\r\n",
        "Counters from step 1:\r\n",
        "  (no counters found)\r\n",
        "Counters from step 2:\r\n",
        "  (no counters found)\r\n",
        "Streaming final output from s3://yoav.hadoop/scratch/mr_weather_step12_a.ubuntu.20140613.085010.640322/output/\r\n"
       ]
      },
      {
       "output_type": "stream",
       "stream": "stdout",
       "text": [
        "removing tmp directory /tmp/mr_weather_step12_a.ubuntu.20140613.085010.640322\r\n",
        "Removing all files in s3://yoav.hadoop/scratch/mr_weather_step12_a.ubuntu.20140613.085010.640322/\r\n"
       ]
      }
     ],
     "prompt_number": 82
    },
    {
     "cell_type": "code",
     "collapsed": false,
     "input": [
      "!gzip -c cov_64.pkl > cov_64.pkl.gz"
     ],
     "language": "python",
     "metadata": {},
     "outputs": [],
     "prompt_number": 83
    },
    {
     "cell_type": "code",
     "collapsed": false,
     "input": [
      "cov_a = pd.read_table(\"cov_a.pkl\")"
     ],
     "language": "python",
     "metadata": {},
     "outputs": [],
     "prompt_number": 28
    },
    {
     "cell_type": "code",
     "collapsed": false,
     "input": [
      "cov_a.head()\n",
      "#cov_a[cov_a.ix[:,1] != float(NaN)]\n",
      "#print sum(isnan(cov_a.ix[:,1]))"
     ],
     "language": "python",
     "metadata": {},
     "outputs": [
      {
       "html": [
        "<div style=\"max-height:1000px;max-width:1500px;overflow:auto;\">\n",
        "<table border=\"1\" class=\"dataframe\">\n",
        "  <thead>\n",
        "    <tr style=\"text-align: right;\">\n",
        "      <th></th>\n",
        "      <th>[1065, 0, 104]</th>\n",
        "      <th>297.3008130081302</th>\n",
        "    </tr>\n",
        "  </thead>\n",
        "  <tbody>\n",
        "    <tr>\n",
        "      <th>0</th>\n",
        "      <td> [1065, 0, 115]</td>\n",
        "      <td> 478.896937</td>\n",
        "    </tr>\n",
        "    <tr>\n",
        "      <th>1</th>\n",
        "      <td> [1065, 0, 126]</td>\n",
        "      <td> 502.210166</td>\n",
        "    </tr>\n",
        "    <tr>\n",
        "      <th>2</th>\n",
        "      <td> [1065, 0, 137]</td>\n",
        "      <td> 155.652494</td>\n",
        "    </tr>\n",
        "    <tr>\n",
        "      <th>3</th>\n",
        "      <td> [1065, 0, 140]</td>\n",
        "      <td> 144.326497</td>\n",
        "    </tr>\n",
        "    <tr>\n",
        "      <th>4</th>\n",
        "      <td> [1065, 0, 148]</td>\n",
        "      <td> 481.604355</td>\n",
        "    </tr>\n",
        "  </tbody>\n",
        "</table>\n",
        "<p>5 rows \u00d7 2 columns</p>\n",
        "</div>"
       ],
       "metadata": {},
       "output_type": "pyout",
       "prompt_number": 29,
       "text": [
        "   [1065, 0, 104]  297.3008130081302\n",
        "0  [1065, 0, 115]         478.896937\n",
        "1  [1065, 0, 126]         502.210166\n",
        "2  [1065, 0, 137]         155.652494\n",
        "3  [1065, 0, 140]         144.326497\n",
        "4  [1065, 0, 148]         481.604355\n",
        "\n",
        "[5 rows x 2 columns]"
       ]
      }
     ],
     "prompt_number": 29
    },
    {
     "cell_type": "code",
     "collapsed": false,
     "input": [
      "dfCovs = pd.read_table('cov_64.pkl',header=None,delimiter=r\"[\\[\\]\\\",\\t]+\")#,names=['partitionID','Type','Mean'])\n",
      "dfCovs = dfCovs.drop(0,1)\n",
      "dfCovs.columns = ['partitionID','i','j','cov_ij']\n",
      "dfCovs = pd.pivot_table(dfCovs,values='cov_ij',rows=['partitionID','i'],cols='j')\n",
      "dfCovs.head()"
     ],
     "language": "python",
     "metadata": {},
     "outputs": []
    },
    {
     "cell_type": "code",
     "collapsed": false,
     "input": [
      "lines = 730 * 730"
     ],
     "language": "python",
     "metadata": {},
     "outputs": [],
     "prompt_number": 2
    },
    {
     "cell_type": "code",
     "collapsed": false,
     "input": [
      "!head -n $lines cov_64.pkl > cov_64.head.pkl"
     ],
     "language": "python",
     "metadata": {},
     "outputs": [],
     "prompt_number": 3
    },
    {
     "cell_type": "code",
     "collapsed": false,
     "input": [
      "dfCovs = pd.read_table('xab',header=None,delimiter=r\"[\\[\\]\\\",\\t]+\")#,names=['partitionID','Type','Mean'])\n",
      "dfCovs = dfCovs.drop(0,1)\n",
      "dfCovs.columns = ['partitionID','i','j','cov_ij']\n",
      "dfCovs = pd.pivot_table(dfCovs,values='cov_ij',rows=['partitionID','i'],cols='j')\n",
      "dfCovs.head()"
     ],
     "language": "python",
     "metadata": {},
     "outputs": [
      {
       "html": [
        "<div style=\"max-height:1000px;max-width:1500px;overflow:auto;\">\n",
        "<table border=\"1\" class=\"dataframe\">\n",
        "  <thead>\n",
        "    <tr style=\"text-align: right;\">\n",
        "      <th></th>\n",
        "      <th>j</th>\n",
        "      <th>0</th>\n",
        "      <th>1</th>\n",
        "      <th>2</th>\n",
        "      <th>3</th>\n",
        "      <th>4</th>\n",
        "      <th>5</th>\n",
        "      <th>6</th>\n",
        "      <th>7</th>\n",
        "      <th>8</th>\n",
        "      <th>9</th>\n",
        "      <th>10</th>\n",
        "      <th>11</th>\n",
        "      <th>12</th>\n",
        "      <th>13</th>\n",
        "      <th>14</th>\n",
        "      <th>15</th>\n",
        "      <th>16</th>\n",
        "      <th>17</th>\n",
        "      <th>18</th>\n",
        "      <th>19</th>\n",
        "      <th></th>\n",
        "    </tr>\n",
        "    <tr>\n",
        "      <th>partitionID</th>\n",
        "      <th>i</th>\n",
        "      <th></th>\n",
        "      <th></th>\n",
        "      <th></th>\n",
        "      <th></th>\n",
        "      <th></th>\n",
        "      <th></th>\n",
        "      <th></th>\n",
        "      <th></th>\n",
        "      <th></th>\n",
        "      <th></th>\n",
        "      <th></th>\n",
        "      <th></th>\n",
        "      <th></th>\n",
        "      <th></th>\n",
        "      <th></th>\n",
        "      <th></th>\n",
        "      <th></th>\n",
        "      <th></th>\n",
        "      <th></th>\n",
        "      <th></th>\n",
        "    </tr>\n",
        "  </thead>\n",
        "  <tbody>\n",
        "    <tr>\n",
        "      <th rowspan=\"5\" valign=\"top\">515</th>\n",
        "      <th>9 </th>\n",
        "      <td>NaN</td>\n",
        "      <td>NaN</td>\n",
        "      <td>NaN</td>\n",
        "      <td>NaN</td>\n",
        "      <td>NaN</td>\n",
        "      <td>NaN</td>\n",
        "      <td>NaN</td>\n",
        "      <td>NaN</td>\n",
        "      <td>NaN</td>\n",
        "      <td>NaN</td>\n",
        "      <td>NaN</td>\n",
        "      <td>NaN</td>\n",
        "      <td>NaN</td>\n",
        "      <td>NaN</td>\n",
        "      <td>NaN</td>\n",
        "      <td>NaN</td>\n",
        "      <td>NaN</td>\n",
        "      <td>NaN</td>\n",
        "      <td>NaN</td>\n",
        "      <td>NaN</td>\n",
        "    </tr>\n",
        "    <tr>\n",
        "      <th>90</th>\n",
        "      <td>NaN</td>\n",
        "      <td>NaN</td>\n",
        "      <td>NaN</td>\n",
        "      <td>NaN</td>\n",
        "      <td>NaN</td>\n",
        "      <td>NaN</td>\n",
        "      <td>NaN</td>\n",
        "      <td>NaN</td>\n",
        "      <td>NaN</td>\n",
        "      <td>NaN</td>\n",
        "      <td>NaN</td>\n",
        "      <td>NaN</td>\n",
        "      <td>NaN</td>\n",
        "      <td>NaN</td>\n",
        "      <td>NaN</td>\n",
        "      <td>NaN</td>\n",
        "      <td>NaN</td>\n",
        "      <td>NaN</td>\n",
        "      <td>NaN</td>\n",
        "      <td>NaN</td>\n",
        "    </tr>\n",
        "    <tr>\n",
        "      <th>91</th>\n",
        "      <td>NaN</td>\n",
        "      <td>NaN</td>\n",
        "      <td>NaN</td>\n",
        "      <td>NaN</td>\n",
        "      <td>NaN</td>\n",
        "      <td>NaN</td>\n",
        "      <td>NaN</td>\n",
        "      <td>NaN</td>\n",
        "      <td>NaN</td>\n",
        "      <td>NaN</td>\n",
        "      <td>NaN</td>\n",
        "      <td>NaN</td>\n",
        "      <td>NaN</td>\n",
        "      <td>NaN</td>\n",
        "      <td>NaN</td>\n",
        "      <td>NaN</td>\n",
        "      <td>NaN</td>\n",
        "      <td>NaN</td>\n",
        "      <td>NaN</td>\n",
        "      <td>NaN</td>\n",
        "    </tr>\n",
        "    <tr>\n",
        "      <th>92</th>\n",
        "      <td>NaN</td>\n",
        "      <td>NaN</td>\n",
        "      <td>NaN</td>\n",
        "      <td>NaN</td>\n",
        "      <td>NaN</td>\n",
        "      <td>NaN</td>\n",
        "      <td>NaN</td>\n",
        "      <td>NaN</td>\n",
        "      <td>NaN</td>\n",
        "      <td>NaN</td>\n",
        "      <td>NaN</td>\n",
        "      <td>NaN</td>\n",
        "      <td>NaN</td>\n",
        "      <td>NaN</td>\n",
        "      <td>NaN</td>\n",
        "      <td>NaN</td>\n",
        "      <td>NaN</td>\n",
        "      <td>NaN</td>\n",
        "      <td>NaN</td>\n",
        "      <td>NaN</td>\n",
        "    </tr>\n",
        "    <tr>\n",
        "      <th>93</th>\n",
        "      <td>NaN</td>\n",
        "      <td>NaN</td>\n",
        "      <td>NaN</td>\n",
        "      <td>NaN</td>\n",
        "      <td>NaN</td>\n",
        "      <td>NaN</td>\n",
        "      <td>NaN</td>\n",
        "      <td>NaN</td>\n",
        "      <td>NaN</td>\n",
        "      <td>NaN</td>\n",
        "      <td>NaN</td>\n",
        "      <td>NaN</td>\n",
        "      <td>NaN</td>\n",
        "      <td>NaN</td>\n",
        "      <td>NaN</td>\n",
        "      <td>NaN</td>\n",
        "      <td>NaN</td>\n",
        "      <td>NaN</td>\n",
        "      <td>NaN</td>\n",
        "      <td>NaN</td>\n",
        "    </tr>\n",
        "  </tbody>\n",
        "</table>\n",
        "<p>5 rows \u00d7 730 columns</p>\n",
        "</div>"
       ],
       "metadata": {},
       "output_type": "pyout",
       "prompt_number": 12,
       "text": [
        "j               0   1   2   3   4   5   6   7   8   9   10  11  12  13  14  \\\n",
        "partitionID i                                                                \n",
        "515         9  NaN NaN NaN NaN NaN NaN NaN NaN NaN NaN NaN NaN NaN NaN NaN   \n",
        "            90 NaN NaN NaN NaN NaN NaN NaN NaN NaN NaN NaN NaN NaN NaN NaN   \n",
        "            91 NaN NaN NaN NaN NaN NaN NaN NaN NaN NaN NaN NaN NaN NaN NaN   \n",
        "            92 NaN NaN NaN NaN NaN NaN NaN NaN NaN NaN NaN NaN NaN NaN NaN   \n",
        "            93 NaN NaN NaN NaN NaN NaN NaN NaN NaN NaN NaN NaN NaN NaN NaN   \n",
        "\n",
        "j               15  16  17  18  19      \n",
        "partitionID i                           \n",
        "515         9  NaN NaN NaN NaN NaN ...  \n",
        "            90 NaN NaN NaN NaN NaN ...  \n",
        "            91 NaN NaN NaN NaN NaN ...  \n",
        "            92 NaN NaN NaN NaN NaN ...  \n",
        "            93 NaN NaN NaN NaN NaN ...  \n",
        "\n",
        "[5 rows x 730 columns]"
       ]
      }
     ],
     "prompt_number": 12
    },
    {
     "cell_type": "code",
     "collapsed": false,
     "input": [
      "dfCovs = pd.read_table('cov_64.head.pkl',header=None,delimiter=r\"[\\[\\]\\\",\\t]+\")#,names=['partitionID','Type','Mean'])\n",
      "dfCovs = dfCovs.drop(0,1)\n",
      "dfCovs.columns = ['partitionID','i','j','cov_ij']\n",
      "dfCovs = pd.pivot_table(dfCovs,values='cov_ij',rows=['partitionID','i'],cols='j')\n",
      "dfCovs.head()"
     ],
     "language": "python",
     "metadata": {},
     "outputs": [
      {
       "html": [
        "<div style=\"max-height:1000px;max-width:1500px;overflow:auto;\">\n",
        "<table border=\"1\" class=\"dataframe\">\n",
        "  <thead>\n",
        "    <tr style=\"text-align: right;\">\n",
        "      <th></th>\n",
        "      <th>j</th>\n",
        "      <th>0</th>\n",
        "      <th>1</th>\n",
        "      <th>2</th>\n",
        "      <th>3</th>\n",
        "      <th>4</th>\n",
        "      <th>5</th>\n",
        "      <th>6</th>\n",
        "      <th>7</th>\n",
        "      <th>8</th>\n",
        "      <th>9</th>\n",
        "      <th>10</th>\n",
        "      <th>11</th>\n",
        "      <th>12</th>\n",
        "      <th>13</th>\n",
        "      <th>14</th>\n",
        "      <th>15</th>\n",
        "      <th>16</th>\n",
        "      <th>17</th>\n",
        "      <th>18</th>\n",
        "      <th>19</th>\n",
        "      <th></th>\n",
        "    </tr>\n",
        "    <tr>\n",
        "      <th>partitionID</th>\n",
        "      <th>i</th>\n",
        "      <th></th>\n",
        "      <th></th>\n",
        "      <th></th>\n",
        "      <th></th>\n",
        "      <th></th>\n",
        "      <th></th>\n",
        "      <th></th>\n",
        "      <th></th>\n",
        "      <th></th>\n",
        "      <th></th>\n",
        "      <th></th>\n",
        "      <th></th>\n",
        "      <th></th>\n",
        "      <th></th>\n",
        "      <th></th>\n",
        "      <th></th>\n",
        "      <th></th>\n",
        "      <th></th>\n",
        "      <th></th>\n",
        "      <th></th>\n",
        "    </tr>\n",
        "  </thead>\n",
        "  <tbody>\n",
        "    <tr>\n",
        "      <th rowspan=\"5\" valign=\"top\">511</th>\n",
        "      <th>0</th>\n",
        "      <td>NaN</td>\n",
        "      <td>NaN</td>\n",
        "      <td> 47358.351955</td>\n",
        "      <td>          NaN</td>\n",
        "      <td>          NaN</td>\n",
        "      <td>          NaN</td>\n",
        "      <td>          NaN</td>\n",
        "      <td>NaN</td>\n",
        "      <td>NaN</td>\n",
        "      <td>NaN</td>\n",
        "      <td>          NaN</td>\n",
        "      <td> 47517.539171</td>\n",
        "      <td>NaN</td>\n",
        "      <td>NaN</td>\n",
        "      <td>NaN</td>\n",
        "      <td>          NaN</td>\n",
        "      <td>          NaN</td>\n",
        "      <td>          NaN</td>\n",
        "      <td>          NaN</td>\n",
        "      <td> 47918.040439</td>\n",
        "    </tr>\n",
        "    <tr>\n",
        "      <th>1</th>\n",
        "      <td>NaN</td>\n",
        "      <td>NaN</td>\n",
        "      <td>          NaN</td>\n",
        "      <td> 47525.412347</td>\n",
        "      <td>          NaN</td>\n",
        "      <td>          NaN</td>\n",
        "      <td>          NaN</td>\n",
        "      <td>NaN</td>\n",
        "      <td>NaN</td>\n",
        "      <td>NaN</td>\n",
        "      <td> 48090.984321</td>\n",
        "      <td>          NaN</td>\n",
        "      <td>NaN</td>\n",
        "      <td>NaN</td>\n",
        "      <td>NaN</td>\n",
        "      <td>          NaN</td>\n",
        "      <td>          NaN</td>\n",
        "      <td>          NaN</td>\n",
        "      <td> 48363.295738</td>\n",
        "      <td>          NaN</td>\n",
        "    </tr>\n",
        "    <tr>\n",
        "      <th>2</th>\n",
        "      <td>NaN</td>\n",
        "      <td>NaN</td>\n",
        "      <td>          NaN</td>\n",
        "      <td>          NaN</td>\n",
        "      <td> 47884.832936</td>\n",
        "      <td>          NaN</td>\n",
        "      <td>          NaN</td>\n",
        "      <td>NaN</td>\n",
        "      <td>NaN</td>\n",
        "      <td>NaN</td>\n",
        "      <td>          NaN</td>\n",
        "      <td>          NaN</td>\n",
        "      <td>NaN</td>\n",
        "      <td>NaN</td>\n",
        "      <td>NaN</td>\n",
        "      <td>          NaN</td>\n",
        "      <td>          NaN</td>\n",
        "      <td> 48688.405669</td>\n",
        "      <td>          NaN</td>\n",
        "      <td>          NaN</td>\n",
        "    </tr>\n",
        "    <tr>\n",
        "      <th>3</th>\n",
        "      <td>NaN</td>\n",
        "      <td>NaN</td>\n",
        "      <td>          NaN</td>\n",
        "      <td>          NaN</td>\n",
        "      <td>          NaN</td>\n",
        "      <td> 47236.427273</td>\n",
        "      <td>          NaN</td>\n",
        "      <td>NaN</td>\n",
        "      <td>NaN</td>\n",
        "      <td>NaN</td>\n",
        "      <td>          NaN</td>\n",
        "      <td>          NaN</td>\n",
        "      <td>NaN</td>\n",
        "      <td>NaN</td>\n",
        "      <td>NaN</td>\n",
        "      <td>          NaN</td>\n",
        "      <td> 47682.806303</td>\n",
        "      <td>          NaN</td>\n",
        "      <td>          NaN</td>\n",
        "      <td>          NaN</td>\n",
        "    </tr>\n",
        "    <tr>\n",
        "      <th>4</th>\n",
        "      <td>NaN</td>\n",
        "      <td>NaN</td>\n",
        "      <td>          NaN</td>\n",
        "      <td>          NaN</td>\n",
        "      <td>          NaN</td>\n",
        "      <td>          NaN</td>\n",
        "      <td> 47614.812067</td>\n",
        "      <td>NaN</td>\n",
        "      <td>NaN</td>\n",
        "      <td>NaN</td>\n",
        "      <td>          NaN</td>\n",
        "      <td>          NaN</td>\n",
        "      <td>NaN</td>\n",
        "      <td>NaN</td>\n",
        "      <td>NaN</td>\n",
        "      <td> 48157.942301</td>\n",
        "      <td>          NaN</td>\n",
        "      <td>          NaN</td>\n",
        "      <td>          NaN</td>\n",
        "      <td>          NaN</td>\n",
        "    </tr>\n",
        "  </tbody>\n",
        "</table>\n",
        "<p>5 rows \u00d7 730 columns</p>\n",
        "</div>"
       ],
       "metadata": {},
       "output_type": "pyout",
       "prompt_number": 4,
       "text": [
        "j              0   1             2             3             4             5   \\\n",
        "partitionID i                                                                   \n",
        "511         0 NaN NaN  47358.351955           NaN           NaN           NaN   \n",
        "            1 NaN NaN           NaN  47525.412347           NaN           NaN   \n",
        "            2 NaN NaN           NaN           NaN  47884.832936           NaN   \n",
        "            3 NaN NaN           NaN           NaN           NaN  47236.427273   \n",
        "            4 NaN NaN           NaN           NaN           NaN           NaN   \n",
        "\n",
        "j                        6   7   8   9             10            11  12  13  \\\n",
        "partitionID i                                                                 \n",
        "511         0           NaN NaN NaN NaN           NaN  47517.539171 NaN NaN   \n",
        "            1           NaN NaN NaN NaN  48090.984321           NaN NaN NaN   \n",
        "            2           NaN NaN NaN NaN           NaN           NaN NaN NaN   \n",
        "            3           NaN NaN NaN NaN           NaN           NaN NaN NaN   \n",
        "            4  47614.812067 NaN NaN NaN           NaN           NaN NaN NaN   \n",
        "\n",
        "j              14            15            16            17            18  \\\n",
        "partitionID i                                                               \n",
        "511         0 NaN           NaN           NaN           NaN           NaN   \n",
        "            1 NaN           NaN           NaN           NaN  48363.295738   \n",
        "            2 NaN           NaN           NaN  48688.405669           NaN   \n",
        "            3 NaN           NaN  47682.806303           NaN           NaN   \n",
        "            4 NaN  48157.942301           NaN           NaN           NaN   \n",
        "\n",
        "j                        19      \n",
        "partitionID i                    \n",
        "511         0  47918.040439 ...  \n",
        "            1           NaN ...  \n",
        "            2           NaN ...  \n",
        "            3           NaN ...  \n",
        "            4           NaN ...  \n",
        "\n",
        "[5 rows x 730 columns]"
       ]
      }
     ],
     "prompt_number": 4
    },
    {
     "cell_type": "code",
     "collapsed": false,
     "input": [
      "dfCovs.ix[1002,:]"
     ],
     "language": "python",
     "metadata": {},
     "outputs": [
      {
       "html": [
        "<div style=\"max-height:1000px;max-width:1500px;overflow:auto;\">\n",
        "<table border=\"1\" class=\"dataframe\">\n",
        "  <thead>\n",
        "    <tr style=\"text-align: right;\">\n",
        "      <th>j</th>\n",
        "      <th>0</th>\n",
        "      <th>1</th>\n",
        "      <th>2</th>\n",
        "      <th>3</th>\n",
        "      <th>4</th>\n",
        "      <th>5</th>\n",
        "      <th>6</th>\n",
        "      <th>7</th>\n",
        "      <th>8</th>\n",
        "      <th>9</th>\n",
        "      <th>10</th>\n",
        "      <th>11</th>\n",
        "      <th>12</th>\n",
        "      <th>13</th>\n",
        "      <th>14</th>\n",
        "      <th>15</th>\n",
        "      <th>16</th>\n",
        "      <th>17</th>\n",
        "      <th>18</th>\n",
        "      <th>19</th>\n",
        "      <th></th>\n",
        "    </tr>\n",
        "    <tr>\n",
        "      <th>i</th>\n",
        "      <th></th>\n",
        "      <th></th>\n",
        "      <th></th>\n",
        "      <th></th>\n",
        "      <th></th>\n",
        "      <th></th>\n",
        "      <th></th>\n",
        "      <th></th>\n",
        "      <th></th>\n",
        "      <th></th>\n",
        "      <th></th>\n",
        "      <th></th>\n",
        "      <th></th>\n",
        "      <th></th>\n",
        "      <th></th>\n",
        "      <th></th>\n",
        "      <th></th>\n",
        "      <th></th>\n",
        "      <th></th>\n",
        "      <th></th>\n",
        "    </tr>\n",
        "  </thead>\n",
        "  <tbody>\n",
        "    <tr>\n",
        "      <th>0 </th>\n",
        "      <td>NaN</td>\n",
        "      <td>NaN</td>\n",
        "      <td> 3172.350348</td>\n",
        "      <td>         NaN</td>\n",
        "      <td>         NaN</td>\n",
        "      <td>         NaN</td>\n",
        "      <td>         NaN</td>\n",
        "      <td>         NaN</td>\n",
        "      <td>         NaN</td>\n",
        "      <td>         NaN</td>\n",
        "      <td>         NaN</td>\n",
        "      <td> 1944.978464</td>\n",
        "      <td>         NaN</td>\n",
        "      <td>         NaN</td>\n",
        "      <td>         NaN</td>\n",
        "      <td>         NaN</td>\n",
        "      <td>         NaN</td>\n",
        "      <td>         NaN</td>\n",
        "      <td>         NaN</td>\n",
        "      <td> 2120.300066</td>\n",
        "      <td>...</td>\n",
        "    </tr>\n",
        "    <tr>\n",
        "      <th>1 </th>\n",
        "      <td>NaN</td>\n",
        "      <td>NaN</td>\n",
        "      <td>         NaN</td>\n",
        "      <td> 4371.089785</td>\n",
        "      <td>         NaN</td>\n",
        "      <td>         NaN</td>\n",
        "      <td>         NaN</td>\n",
        "      <td>         NaN</td>\n",
        "      <td>         NaN</td>\n",
        "      <td>         NaN</td>\n",
        "      <td> 2483.344148</td>\n",
        "      <td>         NaN</td>\n",
        "      <td>         NaN</td>\n",
        "      <td>         NaN</td>\n",
        "      <td>         NaN</td>\n",
        "      <td>         NaN</td>\n",
        "      <td>         NaN</td>\n",
        "      <td>         NaN</td>\n",
        "      <td> 1782.399633</td>\n",
        "      <td>         NaN</td>\n",
        "      <td>...</td>\n",
        "    </tr>\n",
        "    <tr>\n",
        "      <th>2 </th>\n",
        "      <td>NaN</td>\n",
        "      <td>NaN</td>\n",
        "      <td>         NaN</td>\n",
        "      <td>         NaN</td>\n",
        "      <td> 4426.866925</td>\n",
        "      <td>         NaN</td>\n",
        "      <td>         NaN</td>\n",
        "      <td>         NaN</td>\n",
        "      <td>         NaN</td>\n",
        "      <td>         NaN</td>\n",
        "      <td>         NaN</td>\n",
        "      <td>         NaN</td>\n",
        "      <td>         NaN</td>\n",
        "      <td>         NaN</td>\n",
        "      <td>         NaN</td>\n",
        "      <td>         NaN</td>\n",
        "      <td>         NaN</td>\n",
        "      <td> 1851.291426</td>\n",
        "      <td>         NaN</td>\n",
        "      <td>         NaN</td>\n",
        "      <td>...</td>\n",
        "    </tr>\n",
        "    <tr>\n",
        "      <th>3 </th>\n",
        "      <td>NaN</td>\n",
        "      <td>NaN</td>\n",
        "      <td>         NaN</td>\n",
        "      <td>         NaN</td>\n",
        "      <td>         NaN</td>\n",
        "      <td> 5222.522112</td>\n",
        "      <td>         NaN</td>\n",
        "      <td>         NaN</td>\n",
        "      <td>         NaN</td>\n",
        "      <td>         NaN</td>\n",
        "      <td>         NaN</td>\n",
        "      <td>         NaN</td>\n",
        "      <td>         NaN</td>\n",
        "      <td>         NaN</td>\n",
        "      <td>         NaN</td>\n",
        "      <td>         NaN</td>\n",
        "      <td> 2138.289189</td>\n",
        "      <td>         NaN</td>\n",
        "      <td>         NaN</td>\n",
        "      <td>         NaN</td>\n",
        "      <td>...</td>\n",
        "    </tr>\n",
        "    <tr>\n",
        "      <th>4 </th>\n",
        "      <td>NaN</td>\n",
        "      <td>NaN</td>\n",
        "      <td>         NaN</td>\n",
        "      <td>         NaN</td>\n",
        "      <td>         NaN</td>\n",
        "      <td>         NaN</td>\n",
        "      <td> 4588.110346</td>\n",
        "      <td>         NaN</td>\n",
        "      <td>         NaN</td>\n",
        "      <td>         NaN</td>\n",
        "      <td>         NaN</td>\n",
        "      <td>         NaN</td>\n",
        "      <td>         NaN</td>\n",
        "      <td>         NaN</td>\n",
        "      <td>         NaN</td>\n",
        "      <td> 2190.974573</td>\n",
        "      <td>         NaN</td>\n",
        "      <td>         NaN</td>\n",
        "      <td>         NaN</td>\n",
        "      <td>         NaN</td>\n",
        "      <td>...</td>\n",
        "    </tr>\n",
        "    <tr>\n",
        "      <th>5 </th>\n",
        "      <td>NaN</td>\n",
        "      <td>NaN</td>\n",
        "      <td>         NaN</td>\n",
        "      <td>         NaN</td>\n",
        "      <td>         NaN</td>\n",
        "      <td>         NaN</td>\n",
        "      <td>         NaN</td>\n",
        "      <td> 4702.538465</td>\n",
        "      <td>         NaN</td>\n",
        "      <td>         NaN</td>\n",
        "      <td>         NaN</td>\n",
        "      <td>         NaN</td>\n",
        "      <td>         NaN</td>\n",
        "      <td>         NaN</td>\n",
        "      <td> 2577.564109</td>\n",
        "      <td>         NaN</td>\n",
        "      <td>         NaN</td>\n",
        "      <td>         NaN</td>\n",
        "      <td>         NaN</td>\n",
        "      <td>         NaN</td>\n",
        "      <td>...</td>\n",
        "    </tr>\n",
        "    <tr>\n",
        "      <th>6 </th>\n",
        "      <td>NaN</td>\n",
        "      <td>NaN</td>\n",
        "      <td>         NaN</td>\n",
        "      <td>         NaN</td>\n",
        "      <td>         NaN</td>\n",
        "      <td>         NaN</td>\n",
        "      <td>         NaN</td>\n",
        "      <td>         NaN</td>\n",
        "      <td> 5127.344645</td>\n",
        "      <td>         NaN</td>\n",
        "      <td>         NaN</td>\n",
        "      <td>         NaN</td>\n",
        "      <td>         NaN</td>\n",
        "      <td> 2096.343459</td>\n",
        "      <td>         NaN</td>\n",
        "      <td>         NaN</td>\n",
        "      <td>         NaN</td>\n",
        "      <td>         NaN</td>\n",
        "      <td>         NaN</td>\n",
        "      <td>         NaN</td>\n",
        "      <td>...</td>\n",
        "    </tr>\n",
        "    <tr>\n",
        "      <th>7 </th>\n",
        "      <td>NaN</td>\n",
        "      <td>NaN</td>\n",
        "      <td>         NaN</td>\n",
        "      <td>         NaN</td>\n",
        "      <td>         NaN</td>\n",
        "      <td>         NaN</td>\n",
        "      <td>         NaN</td>\n",
        "      <td>         NaN</td>\n",
        "      <td>         NaN</td>\n",
        "      <td> 4579.723309</td>\n",
        "      <td>         NaN</td>\n",
        "      <td>         NaN</td>\n",
        "      <td> 2247.733287</td>\n",
        "      <td>         NaN</td>\n",
        "      <td>         NaN</td>\n",
        "      <td>         NaN</td>\n",
        "      <td>         NaN</td>\n",
        "      <td>         NaN</td>\n",
        "      <td>         NaN</td>\n",
        "      <td>         NaN</td>\n",
        "      <td>...</td>\n",
        "    </tr>\n",
        "    <tr>\n",
        "      <th>8 </th>\n",
        "      <td>NaN</td>\n",
        "      <td>NaN</td>\n",
        "      <td>         NaN</td>\n",
        "      <td>         NaN</td>\n",
        "      <td>         NaN</td>\n",
        "      <td>         NaN</td>\n",
        "      <td>         NaN</td>\n",
        "      <td>         NaN</td>\n",
        "      <td>         NaN</td>\n",
        "      <td>         NaN</td>\n",
        "      <td>         NaN</td>\n",
        "      <td> 3229.684940</td>\n",
        "      <td>         NaN</td>\n",
        "      <td>         NaN</td>\n",
        "      <td>         NaN</td>\n",
        "      <td>         NaN</td>\n",
        "      <td>         NaN</td>\n",
        "      <td>         NaN</td>\n",
        "      <td>         NaN</td>\n",
        "      <td> 3040.957884</td>\n",
        "      <td>...</td>\n",
        "    </tr>\n",
        "    <tr>\n",
        "      <th>9 </th>\n",
        "      <td>NaN</td>\n",
        "      <td>NaN</td>\n",
        "      <td>         NaN</td>\n",
        "      <td>         NaN</td>\n",
        "      <td>         NaN</td>\n",
        "      <td>         NaN</td>\n",
        "      <td>         NaN</td>\n",
        "      <td>         NaN</td>\n",
        "      <td>         NaN</td>\n",
        "      <td>         NaN</td>\n",
        "      <td> 4888.396327</td>\n",
        "      <td>         NaN</td>\n",
        "      <td>         NaN</td>\n",
        "      <td>         NaN</td>\n",
        "      <td>         NaN</td>\n",
        "      <td>         NaN</td>\n",
        "      <td>         NaN</td>\n",
        "      <td>         NaN</td>\n",
        "      <td> 3298.170000</td>\n",
        "      <td>         NaN</td>\n",
        "      <td>...</td>\n",
        "    </tr>\n",
        "    <tr>\n",
        "      <th>10</th>\n",
        "      <td>NaN</td>\n",
        "      <td>NaN</td>\n",
        "      <td>         NaN</td>\n",
        "      <td>         NaN</td>\n",
        "      <td>         NaN</td>\n",
        "      <td>         NaN</td>\n",
        "      <td>         NaN</td>\n",
        "      <td>         NaN</td>\n",
        "      <td>         NaN</td>\n",
        "      <td>         NaN</td>\n",
        "      <td>         NaN</td>\n",
        "      <td>         NaN</td>\n",
        "      <td>         NaN</td>\n",
        "      <td>         NaN</td>\n",
        "      <td> 2439.974874</td>\n",
        "      <td>         NaN</td>\n",
        "      <td>         NaN</td>\n",
        "      <td>         NaN</td>\n",
        "      <td>         NaN</td>\n",
        "      <td>         NaN</td>\n",
        "      <td>...</td>\n",
        "    </tr>\n",
        "    <tr>\n",
        "      <th>11</th>\n",
        "      <td>NaN</td>\n",
        "      <td>NaN</td>\n",
        "      <td>         NaN</td>\n",
        "      <td>         NaN</td>\n",
        "      <td>         NaN</td>\n",
        "      <td>         NaN</td>\n",
        "      <td>         NaN</td>\n",
        "      <td>         NaN</td>\n",
        "      <td>         NaN</td>\n",
        "      <td>         NaN</td>\n",
        "      <td>         NaN</td>\n",
        "      <td>         NaN</td>\n",
        "      <td>         NaN</td>\n",
        "      <td> 2609.634145</td>\n",
        "      <td>         NaN</td>\n",
        "      <td>         NaN</td>\n",
        "      <td>         NaN</td>\n",
        "      <td>         NaN</td>\n",
        "      <td>         NaN</td>\n",
        "      <td>         NaN</td>\n",
        "      <td>...</td>\n",
        "    </tr>\n",
        "    <tr>\n",
        "      <th>12</th>\n",
        "      <td>NaN</td>\n",
        "      <td>NaN</td>\n",
        "      <td>         NaN</td>\n",
        "      <td>         NaN</td>\n",
        "      <td>         NaN</td>\n",
        "      <td>         NaN</td>\n",
        "      <td>         NaN</td>\n",
        "      <td>         NaN</td>\n",
        "      <td>         NaN</td>\n",
        "      <td>         NaN</td>\n",
        "      <td>         NaN</td>\n",
        "      <td>         NaN</td>\n",
        "      <td> 3789.447166</td>\n",
        "      <td>         NaN</td>\n",
        "      <td>         NaN</td>\n",
        "      <td>         NaN</td>\n",
        "      <td>         NaN</td>\n",
        "      <td>         NaN</td>\n",
        "      <td>         NaN</td>\n",
        "      <td>         NaN</td>\n",
        "      <td>...</td>\n",
        "    </tr>\n",
        "    <tr>\n",
        "      <th>13</th>\n",
        "      <td>NaN</td>\n",
        "      <td>NaN</td>\n",
        "      <td>         NaN</td>\n",
        "      <td>         NaN</td>\n",
        "      <td>         NaN</td>\n",
        "      <td>         NaN</td>\n",
        "      <td>         NaN</td>\n",
        "      <td>         NaN</td>\n",
        "      <td>         NaN</td>\n",
        "      <td>         NaN</td>\n",
        "      <td>         NaN</td>\n",
        "      <td>         NaN</td>\n",
        "      <td>         NaN</td>\n",
        "      <td>         NaN</td>\n",
        "      <td>         NaN</td>\n",
        "      <td>         NaN</td>\n",
        "      <td>         NaN</td>\n",
        "      <td>         NaN</td>\n",
        "      <td>         NaN</td>\n",
        "      <td> 1809.807189</td>\n",
        "      <td>...</td>\n",
        "    </tr>\n",
        "    <tr>\n",
        "      <th>14</th>\n",
        "      <td>NaN</td>\n",
        "      <td>NaN</td>\n",
        "      <td>         NaN</td>\n",
        "      <td>         NaN</td>\n",
        "      <td>         NaN</td>\n",
        "      <td>         NaN</td>\n",
        "      <td>         NaN</td>\n",
        "      <td>         NaN</td>\n",
        "      <td>         NaN</td>\n",
        "      <td>         NaN</td>\n",
        "      <td>         NaN</td>\n",
        "      <td>         NaN</td>\n",
        "      <td>         NaN</td>\n",
        "      <td>         NaN</td>\n",
        "      <td>         NaN</td>\n",
        "      <td>         NaN</td>\n",
        "      <td>         NaN</td>\n",
        "      <td>         NaN</td>\n",
        "      <td> 3032.854797</td>\n",
        "      <td>         NaN</td>\n",
        "      <td>...</td>\n",
        "    </tr>\n",
        "    <tr>\n",
        "      <th>15</th>\n",
        "      <td>NaN</td>\n",
        "      <td>NaN</td>\n",
        "      <td>         NaN</td>\n",
        "      <td>         NaN</td>\n",
        "      <td>         NaN</td>\n",
        "      <td>         NaN</td>\n",
        "      <td>         NaN</td>\n",
        "      <td>         NaN</td>\n",
        "      <td>         NaN</td>\n",
        "      <td>         NaN</td>\n",
        "      <td>         NaN</td>\n",
        "      <td>         NaN</td>\n",
        "      <td>         NaN</td>\n",
        "      <td>         NaN</td>\n",
        "      <td>         NaN</td>\n",
        "      <td>         NaN</td>\n",
        "      <td>         NaN</td>\n",
        "      <td> 4150.817197</td>\n",
        "      <td>         NaN</td>\n",
        "      <td>         NaN</td>\n",
        "      <td>...</td>\n",
        "    </tr>\n",
        "    <tr>\n",
        "      <th>16</th>\n",
        "      <td>NaN</td>\n",
        "      <td>NaN</td>\n",
        "      <td>         NaN</td>\n",
        "      <td>         NaN</td>\n",
        "      <td>         NaN</td>\n",
        "      <td>         NaN</td>\n",
        "      <td>         NaN</td>\n",
        "      <td>         NaN</td>\n",
        "      <td>         NaN</td>\n",
        "      <td>         NaN</td>\n",
        "      <td>         NaN</td>\n",
        "      <td>         NaN</td>\n",
        "      <td>         NaN</td>\n",
        "      <td>         NaN</td>\n",
        "      <td>         NaN</td>\n",
        "      <td>         NaN</td>\n",
        "      <td> 5342.410271</td>\n",
        "      <td>         NaN</td>\n",
        "      <td>         NaN</td>\n",
        "      <td>         NaN</td>\n",
        "      <td>...</td>\n",
        "    </tr>\n",
        "    <tr>\n",
        "      <th>17</th>\n",
        "      <td>NaN</td>\n",
        "      <td>NaN</td>\n",
        "      <td>         NaN</td>\n",
        "      <td>         NaN</td>\n",
        "      <td>         NaN</td>\n",
        "      <td>         NaN</td>\n",
        "      <td>         NaN</td>\n",
        "      <td>         NaN</td>\n",
        "      <td>         NaN</td>\n",
        "      <td>         NaN</td>\n",
        "      <td>         NaN</td>\n",
        "      <td>         NaN</td>\n",
        "      <td>         NaN</td>\n",
        "      <td>         NaN</td>\n",
        "      <td>         NaN</td>\n",
        "      <td>         NaN</td>\n",
        "      <td>         NaN</td>\n",
        "      <td>         NaN</td>\n",
        "      <td>         NaN</td>\n",
        "      <td>         NaN</td>\n",
        "      <td>...</td>\n",
        "    </tr>\n",
        "    <tr>\n",
        "      <th>18</th>\n",
        "      <td>NaN</td>\n",
        "      <td>NaN</td>\n",
        "      <td>         NaN</td>\n",
        "      <td>         NaN</td>\n",
        "      <td>         NaN</td>\n",
        "      <td>         NaN</td>\n",
        "      <td>         NaN</td>\n",
        "      <td>         NaN</td>\n",
        "      <td>         NaN</td>\n",
        "      <td>         NaN</td>\n",
        "      <td>         NaN</td>\n",
        "      <td>         NaN</td>\n",
        "      <td>         NaN</td>\n",
        "      <td>         NaN</td>\n",
        "      <td>         NaN</td>\n",
        "      <td>         NaN</td>\n",
        "      <td>         NaN</td>\n",
        "      <td>         NaN</td>\n",
        "      <td>         NaN</td>\n",
        "      <td>         NaN</td>\n",
        "      <td>...</td>\n",
        "    </tr>\n",
        "    <tr>\n",
        "      <th>19</th>\n",
        "      <td>NaN</td>\n",
        "      <td>NaN</td>\n",
        "      <td>         NaN</td>\n",
        "      <td>         NaN</td>\n",
        "      <td>         NaN</td>\n",
        "      <td>         NaN</td>\n",
        "      <td>         NaN</td>\n",
        "      <td>         NaN</td>\n",
        "      <td>         NaN</td>\n",
        "      <td>         NaN</td>\n",
        "      <td>         NaN</td>\n",
        "      <td>         NaN</td>\n",
        "      <td>         NaN</td>\n",
        "      <td>         NaN</td>\n",
        "      <td>         NaN</td>\n",
        "      <td>         NaN</td>\n",
        "      <td>         NaN</td>\n",
        "      <td>         NaN</td>\n",
        "      <td>         NaN</td>\n",
        "      <td>         NaN</td>\n",
        "      <td>...</td>\n",
        "    </tr>\n",
        "    <tr>\n",
        "      <th>20</th>\n",
        "      <td>NaN</td>\n",
        "      <td>NaN</td>\n",
        "      <td>         NaN</td>\n",
        "      <td>         NaN</td>\n",
        "      <td>         NaN</td>\n",
        "      <td>         NaN</td>\n",
        "      <td>         NaN</td>\n",
        "      <td>         NaN</td>\n",
        "      <td>         NaN</td>\n",
        "      <td>         NaN</td>\n",
        "      <td>         NaN</td>\n",
        "      <td>         NaN</td>\n",
        "      <td>         NaN</td>\n",
        "      <td>         NaN</td>\n",
        "      <td>         NaN</td>\n",
        "      <td>         NaN</td>\n",
        "      <td>         NaN</td>\n",
        "      <td>         NaN</td>\n",
        "      <td>         NaN</td>\n",
        "      <td>         NaN</td>\n",
        "      <td>...</td>\n",
        "    </tr>\n",
        "    <tr>\n",
        "      <th>21</th>\n",
        "      <td>NaN</td>\n",
        "      <td>NaN</td>\n",
        "      <td>         NaN</td>\n",
        "      <td>         NaN</td>\n",
        "      <td>         NaN</td>\n",
        "      <td>         NaN</td>\n",
        "      <td>         NaN</td>\n",
        "      <td>         NaN</td>\n",
        "      <td>         NaN</td>\n",
        "      <td>         NaN</td>\n",
        "      <td>         NaN</td>\n",
        "      <td>         NaN</td>\n",
        "      <td>         NaN</td>\n",
        "      <td>         NaN</td>\n",
        "      <td>         NaN</td>\n",
        "      <td>         NaN</td>\n",
        "      <td>         NaN</td>\n",
        "      <td>         NaN</td>\n",
        "      <td>         NaN</td>\n",
        "      <td>         NaN</td>\n",
        "      <td>...</td>\n",
        "    </tr>\n",
        "    <tr>\n",
        "      <th>22</th>\n",
        "      <td>NaN</td>\n",
        "      <td>NaN</td>\n",
        "      <td>         NaN</td>\n",
        "      <td>         NaN</td>\n",
        "      <td>         NaN</td>\n",
        "      <td>         NaN</td>\n",
        "      <td>         NaN</td>\n",
        "      <td>         NaN</td>\n",
        "      <td>         NaN</td>\n",
        "      <td>         NaN</td>\n",
        "      <td>         NaN</td>\n",
        "      <td>         NaN</td>\n",
        "      <td>         NaN</td>\n",
        "      <td>         NaN</td>\n",
        "      <td>         NaN</td>\n",
        "      <td>         NaN</td>\n",
        "      <td>         NaN</td>\n",
        "      <td>         NaN</td>\n",
        "      <td>         NaN</td>\n",
        "      <td>         NaN</td>\n",
        "      <td>...</td>\n",
        "    </tr>\n",
        "    <tr>\n",
        "      <th>23</th>\n",
        "      <td>NaN</td>\n",
        "      <td>NaN</td>\n",
        "      <td>         NaN</td>\n",
        "      <td>         NaN</td>\n",
        "      <td>         NaN</td>\n",
        "      <td>         NaN</td>\n",
        "      <td>         NaN</td>\n",
        "      <td>         NaN</td>\n",
        "      <td>         NaN</td>\n",
        "      <td>         NaN</td>\n",
        "      <td>         NaN</td>\n",
        "      <td>         NaN</td>\n",
        "      <td>         NaN</td>\n",
        "      <td>         NaN</td>\n",
        "      <td>         NaN</td>\n",
        "      <td>         NaN</td>\n",
        "      <td>         NaN</td>\n",
        "      <td>         NaN</td>\n",
        "      <td>         NaN</td>\n",
        "      <td>         NaN</td>\n",
        "      <td>...</td>\n",
        "    </tr>\n",
        "    <tr>\n",
        "      <th>24</th>\n",
        "      <td>NaN</td>\n",
        "      <td>NaN</td>\n",
        "      <td>         NaN</td>\n",
        "      <td>         NaN</td>\n",
        "      <td>         NaN</td>\n",
        "      <td>         NaN</td>\n",
        "      <td>         NaN</td>\n",
        "      <td>         NaN</td>\n",
        "      <td>         NaN</td>\n",
        "      <td>         NaN</td>\n",
        "      <td>         NaN</td>\n",
        "      <td>         NaN</td>\n",
        "      <td>         NaN</td>\n",
        "      <td>         NaN</td>\n",
        "      <td>         NaN</td>\n",
        "      <td>         NaN</td>\n",
        "      <td>         NaN</td>\n",
        "      <td>         NaN</td>\n",
        "      <td>         NaN</td>\n",
        "      <td>         NaN</td>\n",
        "      <td>...</td>\n",
        "    </tr>\n",
        "    <tr>\n",
        "      <th>25</th>\n",
        "      <td>NaN</td>\n",
        "      <td>NaN</td>\n",
        "      <td>         NaN</td>\n",
        "      <td>         NaN</td>\n",
        "      <td>         NaN</td>\n",
        "      <td>         NaN</td>\n",
        "      <td>         NaN</td>\n",
        "      <td>         NaN</td>\n",
        "      <td>         NaN</td>\n",
        "      <td>         NaN</td>\n",
        "      <td>         NaN</td>\n",
        "      <td>         NaN</td>\n",
        "      <td>         NaN</td>\n",
        "      <td>         NaN</td>\n",
        "      <td>         NaN</td>\n",
        "      <td>         NaN</td>\n",
        "      <td>         NaN</td>\n",
        "      <td>         NaN</td>\n",
        "      <td>         NaN</td>\n",
        "      <td>         NaN</td>\n",
        "      <td>...</td>\n",
        "    </tr>\n",
        "    <tr>\n",
        "      <th>26</th>\n",
        "      <td>NaN</td>\n",
        "      <td>NaN</td>\n",
        "      <td>         NaN</td>\n",
        "      <td>         NaN</td>\n",
        "      <td>         NaN</td>\n",
        "      <td>         NaN</td>\n",
        "      <td>         NaN</td>\n",
        "      <td>         NaN</td>\n",
        "      <td>         NaN</td>\n",
        "      <td>         NaN</td>\n",
        "      <td>         NaN</td>\n",
        "      <td>         NaN</td>\n",
        "      <td>         NaN</td>\n",
        "      <td>         NaN</td>\n",
        "      <td>         NaN</td>\n",
        "      <td>         NaN</td>\n",
        "      <td>         NaN</td>\n",
        "      <td>         NaN</td>\n",
        "      <td>         NaN</td>\n",
        "      <td>         NaN</td>\n",
        "      <td>...</td>\n",
        "    </tr>\n",
        "    <tr>\n",
        "      <th>27</th>\n",
        "      <td>NaN</td>\n",
        "      <td>NaN</td>\n",
        "      <td>         NaN</td>\n",
        "      <td>         NaN</td>\n",
        "      <td>         NaN</td>\n",
        "      <td>         NaN</td>\n",
        "      <td>         NaN</td>\n",
        "      <td>         NaN</td>\n",
        "      <td>         NaN</td>\n",
        "      <td>         NaN</td>\n",
        "      <td>         NaN</td>\n",
        "      <td>         NaN</td>\n",
        "      <td>         NaN</td>\n",
        "      <td>         NaN</td>\n",
        "      <td>         NaN</td>\n",
        "      <td>         NaN</td>\n",
        "      <td>         NaN</td>\n",
        "      <td>         NaN</td>\n",
        "      <td>         NaN</td>\n",
        "      <td>         NaN</td>\n",
        "      <td>...</td>\n",
        "    </tr>\n",
        "    <tr>\n",
        "      <th>28</th>\n",
        "      <td>NaN</td>\n",
        "      <td>NaN</td>\n",
        "      <td>         NaN</td>\n",
        "      <td>         NaN</td>\n",
        "      <td>         NaN</td>\n",
        "      <td>         NaN</td>\n",
        "      <td>         NaN</td>\n",
        "      <td>         NaN</td>\n",
        "      <td>         NaN</td>\n",
        "      <td>         NaN</td>\n",
        "      <td>         NaN</td>\n",
        "      <td>         NaN</td>\n",
        "      <td>         NaN</td>\n",
        "      <td>         NaN</td>\n",
        "      <td>         NaN</td>\n",
        "      <td>         NaN</td>\n",
        "      <td>         NaN</td>\n",
        "      <td>         NaN</td>\n",
        "      <td>         NaN</td>\n",
        "      <td>         NaN</td>\n",
        "      <td>...</td>\n",
        "    </tr>\n",
        "    <tr>\n",
        "      <th>29</th>\n",
        "      <td>NaN</td>\n",
        "      <td>NaN</td>\n",
        "      <td>         NaN</td>\n",
        "      <td>         NaN</td>\n",
        "      <td>         NaN</td>\n",
        "      <td>         NaN</td>\n",
        "      <td>         NaN</td>\n",
        "      <td>         NaN</td>\n",
        "      <td>         NaN</td>\n",
        "      <td>         NaN</td>\n",
        "      <td>         NaN</td>\n",
        "      <td>         NaN</td>\n",
        "      <td>         NaN</td>\n",
        "      <td>         NaN</td>\n",
        "      <td>         NaN</td>\n",
        "      <td>         NaN</td>\n",
        "      <td>         NaN</td>\n",
        "      <td>         NaN</td>\n",
        "      <td>         NaN</td>\n",
        "      <td>         NaN</td>\n",
        "      <td>...</td>\n",
        "    </tr>\n",
        "    <tr>\n",
        "      <th>30</th>\n",
        "      <td>NaN</td>\n",
        "      <td>NaN</td>\n",
        "      <td>         NaN</td>\n",
        "      <td>         NaN</td>\n",
        "      <td>         NaN</td>\n",
        "      <td>         NaN</td>\n",
        "      <td>         NaN</td>\n",
        "      <td>         NaN</td>\n",
        "      <td>         NaN</td>\n",
        "      <td>         NaN</td>\n",
        "      <td>         NaN</td>\n",
        "      <td>         NaN</td>\n",
        "      <td>         NaN</td>\n",
        "      <td>         NaN</td>\n",
        "      <td>         NaN</td>\n",
        "      <td>         NaN</td>\n",
        "      <td>         NaN</td>\n",
        "      <td>         NaN</td>\n",
        "      <td>         NaN</td>\n",
        "      <td>         NaN</td>\n",
        "      <td>...</td>\n",
        "    </tr>\n",
        "    <tr>\n",
        "      <th>31</th>\n",
        "      <td>NaN</td>\n",
        "      <td>NaN</td>\n",
        "      <td>         NaN</td>\n",
        "      <td>         NaN</td>\n",
        "      <td>         NaN</td>\n",
        "      <td>         NaN</td>\n",
        "      <td>         NaN</td>\n",
        "      <td>         NaN</td>\n",
        "      <td>         NaN</td>\n",
        "      <td>         NaN</td>\n",
        "      <td>         NaN</td>\n",
        "      <td>         NaN</td>\n",
        "      <td>         NaN</td>\n",
        "      <td>         NaN</td>\n",
        "      <td>         NaN</td>\n",
        "      <td>         NaN</td>\n",
        "      <td>         NaN</td>\n",
        "      <td>         NaN</td>\n",
        "      <td>         NaN</td>\n",
        "      <td>         NaN</td>\n",
        "      <td>...</td>\n",
        "    </tr>\n",
        "    <tr>\n",
        "      <th>32</th>\n",
        "      <td>NaN</td>\n",
        "      <td>NaN</td>\n",
        "      <td>         NaN</td>\n",
        "      <td>         NaN</td>\n",
        "      <td>         NaN</td>\n",
        "      <td>         NaN</td>\n",
        "      <td>         NaN</td>\n",
        "      <td>         NaN</td>\n",
        "      <td>         NaN</td>\n",
        "      <td>         NaN</td>\n",
        "      <td>         NaN</td>\n",
        "      <td>         NaN</td>\n",
        "      <td>         NaN</td>\n",
        "      <td>         NaN</td>\n",
        "      <td>         NaN</td>\n",
        "      <td>         NaN</td>\n",
        "      <td>         NaN</td>\n",
        "      <td>         NaN</td>\n",
        "      <td>         NaN</td>\n",
        "      <td>         NaN</td>\n",
        "      <td>...</td>\n",
        "    </tr>\n",
        "    <tr>\n",
        "      <th>33</th>\n",
        "      <td>NaN</td>\n",
        "      <td>NaN</td>\n",
        "      <td>         NaN</td>\n",
        "      <td>         NaN</td>\n",
        "      <td>         NaN</td>\n",
        "      <td>         NaN</td>\n",
        "      <td>         NaN</td>\n",
        "      <td>         NaN</td>\n",
        "      <td>         NaN</td>\n",
        "      <td>         NaN</td>\n",
        "      <td>         NaN</td>\n",
        "      <td>         NaN</td>\n",
        "      <td>         NaN</td>\n",
        "      <td>         NaN</td>\n",
        "      <td>         NaN</td>\n",
        "      <td>         NaN</td>\n",
        "      <td>         NaN</td>\n",
        "      <td>         NaN</td>\n",
        "      <td>         NaN</td>\n",
        "      <td>         NaN</td>\n",
        "      <td>...</td>\n",
        "    </tr>\n",
        "    <tr>\n",
        "      <th>34</th>\n",
        "      <td>NaN</td>\n",
        "      <td>NaN</td>\n",
        "      <td>         NaN</td>\n",
        "      <td>         NaN</td>\n",
        "      <td>         NaN</td>\n",
        "      <td>         NaN</td>\n",
        "      <td>         NaN</td>\n",
        "      <td>         NaN</td>\n",
        "      <td>         NaN</td>\n",
        "      <td>         NaN</td>\n",
        "      <td>         NaN</td>\n",
        "      <td>         NaN</td>\n",
        "      <td>         NaN</td>\n",
        "      <td>         NaN</td>\n",
        "      <td>         NaN</td>\n",
        "      <td>         NaN</td>\n",
        "      <td>         NaN</td>\n",
        "      <td>         NaN</td>\n",
        "      <td>         NaN</td>\n",
        "      <td>         NaN</td>\n",
        "      <td>...</td>\n",
        "    </tr>\n",
        "    <tr>\n",
        "      <th>35</th>\n",
        "      <td>NaN</td>\n",
        "      <td>NaN</td>\n",
        "      <td>         NaN</td>\n",
        "      <td>         NaN</td>\n",
        "      <td>         NaN</td>\n",
        "      <td>         NaN</td>\n",
        "      <td>         NaN</td>\n",
        "      <td>         NaN</td>\n",
        "      <td>         NaN</td>\n",
        "      <td>         NaN</td>\n",
        "      <td>         NaN</td>\n",
        "      <td>         NaN</td>\n",
        "      <td>         NaN</td>\n",
        "      <td>         NaN</td>\n",
        "      <td>         NaN</td>\n",
        "      <td>         NaN</td>\n",
        "      <td>         NaN</td>\n",
        "      <td>         NaN</td>\n",
        "      <td>         NaN</td>\n",
        "      <td>         NaN</td>\n",
        "      <td>...</td>\n",
        "    </tr>\n",
        "    <tr>\n",
        "      <th>36</th>\n",
        "      <td>NaN</td>\n",
        "      <td>NaN</td>\n",
        "      <td>         NaN</td>\n",
        "      <td>         NaN</td>\n",
        "      <td>         NaN</td>\n",
        "      <td>         NaN</td>\n",
        "      <td>         NaN</td>\n",
        "      <td>         NaN</td>\n",
        "      <td>         NaN</td>\n",
        "      <td>         NaN</td>\n",
        "      <td>         NaN</td>\n",
        "      <td>         NaN</td>\n",
        "      <td>         NaN</td>\n",
        "      <td>         NaN</td>\n",
        "      <td>         NaN</td>\n",
        "      <td>         NaN</td>\n",
        "      <td>         NaN</td>\n",
        "      <td>         NaN</td>\n",
        "      <td>         NaN</td>\n",
        "      <td>         NaN</td>\n",
        "      <td>...</td>\n",
        "    </tr>\n",
        "    <tr>\n",
        "      <th>37</th>\n",
        "      <td>NaN</td>\n",
        "      <td>NaN</td>\n",
        "      <td>         NaN</td>\n",
        "      <td>         NaN</td>\n",
        "      <td>         NaN</td>\n",
        "      <td>         NaN</td>\n",
        "      <td>         NaN</td>\n",
        "      <td>         NaN</td>\n",
        "      <td>         NaN</td>\n",
        "      <td>         NaN</td>\n",
        "      <td>         NaN</td>\n",
        "      <td>         NaN</td>\n",
        "      <td>         NaN</td>\n",
        "      <td>         NaN</td>\n",
        "      <td>         NaN</td>\n",
        "      <td>         NaN</td>\n",
        "      <td>         NaN</td>\n",
        "      <td>         NaN</td>\n",
        "      <td>         NaN</td>\n",
        "      <td>         NaN</td>\n",
        "      <td>...</td>\n",
        "    </tr>\n",
        "    <tr>\n",
        "      <th>38</th>\n",
        "      <td>NaN</td>\n",
        "      <td>NaN</td>\n",
        "      <td>         NaN</td>\n",
        "      <td>         NaN</td>\n",
        "      <td>         NaN</td>\n",
        "      <td>         NaN</td>\n",
        "      <td>         NaN</td>\n",
        "      <td>         NaN</td>\n",
        "      <td>         NaN</td>\n",
        "      <td>         NaN</td>\n",
        "      <td>         NaN</td>\n",
        "      <td>         NaN</td>\n",
        "      <td>         NaN</td>\n",
        "      <td>         NaN</td>\n",
        "      <td>         NaN</td>\n",
        "      <td>         NaN</td>\n",
        "      <td>         NaN</td>\n",
        "      <td>         NaN</td>\n",
        "      <td>         NaN</td>\n",
        "      <td>         NaN</td>\n",
        "      <td>...</td>\n",
        "    </tr>\n",
        "    <tr>\n",
        "      <th>39</th>\n",
        "      <td>NaN</td>\n",
        "      <td>NaN</td>\n",
        "      <td>         NaN</td>\n",
        "      <td>         NaN</td>\n",
        "      <td>         NaN</td>\n",
        "      <td>         NaN</td>\n",
        "      <td>         NaN</td>\n",
        "      <td>         NaN</td>\n",
        "      <td>         NaN</td>\n",
        "      <td>         NaN</td>\n",
        "      <td>         NaN</td>\n",
        "      <td>         NaN</td>\n",
        "      <td>         NaN</td>\n",
        "      <td>         NaN</td>\n",
        "      <td>         NaN</td>\n",
        "      <td>         NaN</td>\n",
        "      <td>         NaN</td>\n",
        "      <td>         NaN</td>\n",
        "      <td>         NaN</td>\n",
        "      <td>         NaN</td>\n",
        "      <td>...</td>\n",
        "    </tr>\n",
        "    <tr>\n",
        "      <th>40</th>\n",
        "      <td>NaN</td>\n",
        "      <td>NaN</td>\n",
        "      <td>         NaN</td>\n",
        "      <td>         NaN</td>\n",
        "      <td>         NaN</td>\n",
        "      <td>         NaN</td>\n",
        "      <td>         NaN</td>\n",
        "      <td>         NaN</td>\n",
        "      <td>         NaN</td>\n",
        "      <td>         NaN</td>\n",
        "      <td>         NaN</td>\n",
        "      <td>         NaN</td>\n",
        "      <td>         NaN</td>\n",
        "      <td>         NaN</td>\n",
        "      <td>         NaN</td>\n",
        "      <td>         NaN</td>\n",
        "      <td>         NaN</td>\n",
        "      <td>         NaN</td>\n",
        "      <td>         NaN</td>\n",
        "      <td>         NaN</td>\n",
        "      <td>...</td>\n",
        "    </tr>\n",
        "    <tr>\n",
        "      <th>41</th>\n",
        "      <td>NaN</td>\n",
        "      <td>NaN</td>\n",
        "      <td>         NaN</td>\n",
        "      <td>         NaN</td>\n",
        "      <td>         NaN</td>\n",
        "      <td>         NaN</td>\n",
        "      <td>         NaN</td>\n",
        "      <td>         NaN</td>\n",
        "      <td>         NaN</td>\n",
        "      <td>         NaN</td>\n",
        "      <td>         NaN</td>\n",
        "      <td>         NaN</td>\n",
        "      <td>         NaN</td>\n",
        "      <td>         NaN</td>\n",
        "      <td>         NaN</td>\n",
        "      <td>         NaN</td>\n",
        "      <td>         NaN</td>\n",
        "      <td>         NaN</td>\n",
        "      <td>         NaN</td>\n",
        "      <td>         NaN</td>\n",
        "      <td>...</td>\n",
        "    </tr>\n",
        "    <tr>\n",
        "      <th>42</th>\n",
        "      <td>NaN</td>\n",
        "      <td>NaN</td>\n",
        "      <td>         NaN</td>\n",
        "      <td>         NaN</td>\n",
        "      <td>         NaN</td>\n",
        "      <td>         NaN</td>\n",
        "      <td>         NaN</td>\n",
        "      <td>         NaN</td>\n",
        "      <td>         NaN</td>\n",
        "      <td>         NaN</td>\n",
        "      <td>         NaN</td>\n",
        "      <td>         NaN</td>\n",
        "      <td>         NaN</td>\n",
        "      <td>         NaN</td>\n",
        "      <td>         NaN</td>\n",
        "      <td>         NaN</td>\n",
        "      <td>         NaN</td>\n",
        "      <td>         NaN</td>\n",
        "      <td>         NaN</td>\n",
        "      <td>         NaN</td>\n",
        "      <td>...</td>\n",
        "    </tr>\n",
        "    <tr>\n",
        "      <th>43</th>\n",
        "      <td>NaN</td>\n",
        "      <td>NaN</td>\n",
        "      <td>         NaN</td>\n",
        "      <td>         NaN</td>\n",
        "      <td>         NaN</td>\n",
        "      <td>         NaN</td>\n",
        "      <td>         NaN</td>\n",
        "      <td>         NaN</td>\n",
        "      <td>         NaN</td>\n",
        "      <td>         NaN</td>\n",
        "      <td>         NaN</td>\n",
        "      <td>         NaN</td>\n",
        "      <td>         NaN</td>\n",
        "      <td>         NaN</td>\n",
        "      <td>         NaN</td>\n",
        "      <td>         NaN</td>\n",
        "      <td>         NaN</td>\n",
        "      <td>         NaN</td>\n",
        "      <td>         NaN</td>\n",
        "      <td>         NaN</td>\n",
        "      <td>...</td>\n",
        "    </tr>\n",
        "    <tr>\n",
        "      <th>44</th>\n",
        "      <td>NaN</td>\n",
        "      <td>NaN</td>\n",
        "      <td>         NaN</td>\n",
        "      <td>         NaN</td>\n",
        "      <td>         NaN</td>\n",
        "      <td>         NaN</td>\n",
        "      <td>         NaN</td>\n",
        "      <td>         NaN</td>\n",
        "      <td>         NaN</td>\n",
        "      <td>         NaN</td>\n",
        "      <td>         NaN</td>\n",
        "      <td>         NaN</td>\n",
        "      <td>         NaN</td>\n",
        "      <td>         NaN</td>\n",
        "      <td>         NaN</td>\n",
        "      <td>         NaN</td>\n",
        "      <td>         NaN</td>\n",
        "      <td>         NaN</td>\n",
        "      <td>         NaN</td>\n",
        "      <td>         NaN</td>\n",
        "      <td>...</td>\n",
        "    </tr>\n",
        "    <tr>\n",
        "      <th>45</th>\n",
        "      <td>NaN</td>\n",
        "      <td>NaN</td>\n",
        "      <td>         NaN</td>\n",
        "      <td>         NaN</td>\n",
        "      <td>         NaN</td>\n",
        "      <td>         NaN</td>\n",
        "      <td>         NaN</td>\n",
        "      <td>         NaN</td>\n",
        "      <td>         NaN</td>\n",
        "      <td>         NaN</td>\n",
        "      <td>         NaN</td>\n",
        "      <td>         NaN</td>\n",
        "      <td>         NaN</td>\n",
        "      <td>         NaN</td>\n",
        "      <td>         NaN</td>\n",
        "      <td>         NaN</td>\n",
        "      <td>         NaN</td>\n",
        "      <td>         NaN</td>\n",
        "      <td>         NaN</td>\n",
        "      <td>         NaN</td>\n",
        "      <td>...</td>\n",
        "    </tr>\n",
        "    <tr>\n",
        "      <th>46</th>\n",
        "      <td>NaN</td>\n",
        "      <td>NaN</td>\n",
        "      <td>         NaN</td>\n",
        "      <td>         NaN</td>\n",
        "      <td>         NaN</td>\n",
        "      <td>         NaN</td>\n",
        "      <td>         NaN</td>\n",
        "      <td>         NaN</td>\n",
        "      <td>         NaN</td>\n",
        "      <td>         NaN</td>\n",
        "      <td>         NaN</td>\n",
        "      <td>         NaN</td>\n",
        "      <td>         NaN</td>\n",
        "      <td>         NaN</td>\n",
        "      <td>         NaN</td>\n",
        "      <td>         NaN</td>\n",
        "      <td>         NaN</td>\n",
        "      <td>         NaN</td>\n",
        "      <td>         NaN</td>\n",
        "      <td>         NaN</td>\n",
        "      <td>...</td>\n",
        "    </tr>\n",
        "    <tr>\n",
        "      <th>47</th>\n",
        "      <td>NaN</td>\n",
        "      <td>NaN</td>\n",
        "      <td>         NaN</td>\n",
        "      <td>         NaN</td>\n",
        "      <td>         NaN</td>\n",
        "      <td>         NaN</td>\n",
        "      <td>         NaN</td>\n",
        "      <td>         NaN</td>\n",
        "      <td>         NaN</td>\n",
        "      <td>         NaN</td>\n",
        "      <td>         NaN</td>\n",
        "      <td>         NaN</td>\n",
        "      <td>         NaN</td>\n",
        "      <td>         NaN</td>\n",
        "      <td>         NaN</td>\n",
        "      <td>         NaN</td>\n",
        "      <td>         NaN</td>\n",
        "      <td>         NaN</td>\n",
        "      <td>         NaN</td>\n",
        "      <td>         NaN</td>\n",
        "      <td>...</td>\n",
        "    </tr>\n",
        "    <tr>\n",
        "      <th>48</th>\n",
        "      <td>NaN</td>\n",
        "      <td>NaN</td>\n",
        "      <td>         NaN</td>\n",
        "      <td>         NaN</td>\n",
        "      <td>         NaN</td>\n",
        "      <td>         NaN</td>\n",
        "      <td>         NaN</td>\n",
        "      <td>         NaN</td>\n",
        "      <td>         NaN</td>\n",
        "      <td>         NaN</td>\n",
        "      <td>         NaN</td>\n",
        "      <td>         NaN</td>\n",
        "      <td>         NaN</td>\n",
        "      <td>         NaN</td>\n",
        "      <td>         NaN</td>\n",
        "      <td>         NaN</td>\n",
        "      <td>         NaN</td>\n",
        "      <td>         NaN</td>\n",
        "      <td>         NaN</td>\n",
        "      <td>         NaN</td>\n",
        "      <td>...</td>\n",
        "    </tr>\n",
        "    <tr>\n",
        "      <th>49</th>\n",
        "      <td>NaN</td>\n",
        "      <td>NaN</td>\n",
        "      <td>         NaN</td>\n",
        "      <td>         NaN</td>\n",
        "      <td>         NaN</td>\n",
        "      <td>         NaN</td>\n",
        "      <td>         NaN</td>\n",
        "      <td>         NaN</td>\n",
        "      <td>         NaN</td>\n",
        "      <td>         NaN</td>\n",
        "      <td>         NaN</td>\n",
        "      <td>         NaN</td>\n",
        "      <td>         NaN</td>\n",
        "      <td>         NaN</td>\n",
        "      <td>         NaN</td>\n",
        "      <td>         NaN</td>\n",
        "      <td>         NaN</td>\n",
        "      <td>         NaN</td>\n",
        "      <td>         NaN</td>\n",
        "      <td>         NaN</td>\n",
        "      <td>...</td>\n",
        "    </tr>\n",
        "    <tr>\n",
        "      <th>50</th>\n",
        "      <td>NaN</td>\n",
        "      <td>NaN</td>\n",
        "      <td>         NaN</td>\n",
        "      <td>         NaN</td>\n",
        "      <td>         NaN</td>\n",
        "      <td>         NaN</td>\n",
        "      <td>         NaN</td>\n",
        "      <td>         NaN</td>\n",
        "      <td>         NaN</td>\n",
        "      <td>         NaN</td>\n",
        "      <td>         NaN</td>\n",
        "      <td>         NaN</td>\n",
        "      <td>         NaN</td>\n",
        "      <td>         NaN</td>\n",
        "      <td>         NaN</td>\n",
        "      <td>         NaN</td>\n",
        "      <td>         NaN</td>\n",
        "      <td>         NaN</td>\n",
        "      <td>         NaN</td>\n",
        "      <td>         NaN</td>\n",
        "      <td>...</td>\n",
        "    </tr>\n",
        "    <tr>\n",
        "      <th>51</th>\n",
        "      <td>NaN</td>\n",
        "      <td>NaN</td>\n",
        "      <td>         NaN</td>\n",
        "      <td>         NaN</td>\n",
        "      <td>         NaN</td>\n",
        "      <td>         NaN</td>\n",
        "      <td>         NaN</td>\n",
        "      <td>         NaN</td>\n",
        "      <td>         NaN</td>\n",
        "      <td>         NaN</td>\n",
        "      <td>         NaN</td>\n",
        "      <td>         NaN</td>\n",
        "      <td>         NaN</td>\n",
        "      <td>         NaN</td>\n",
        "      <td>         NaN</td>\n",
        "      <td>         NaN</td>\n",
        "      <td>         NaN</td>\n",
        "      <td>         NaN</td>\n",
        "      <td>         NaN</td>\n",
        "      <td>         NaN</td>\n",
        "      <td>...</td>\n",
        "    </tr>\n",
        "    <tr>\n",
        "      <th>52</th>\n",
        "      <td>NaN</td>\n",
        "      <td>NaN</td>\n",
        "      <td>         NaN</td>\n",
        "      <td>         NaN</td>\n",
        "      <td>         NaN</td>\n",
        "      <td>         NaN</td>\n",
        "      <td>         NaN</td>\n",
        "      <td>         NaN</td>\n",
        "      <td>         NaN</td>\n",
        "      <td>         NaN</td>\n",
        "      <td>         NaN</td>\n",
        "      <td>         NaN</td>\n",
        "      <td>         NaN</td>\n",
        "      <td>         NaN</td>\n",
        "      <td>         NaN</td>\n",
        "      <td>         NaN</td>\n",
        "      <td>         NaN</td>\n",
        "      <td>         NaN</td>\n",
        "      <td>         NaN</td>\n",
        "      <td>         NaN</td>\n",
        "      <td>...</td>\n",
        "    </tr>\n",
        "    <tr>\n",
        "      <th>53</th>\n",
        "      <td>NaN</td>\n",
        "      <td>NaN</td>\n",
        "      <td>         NaN</td>\n",
        "      <td>         NaN</td>\n",
        "      <td>         NaN</td>\n",
        "      <td>         NaN</td>\n",
        "      <td>         NaN</td>\n",
        "      <td>         NaN</td>\n",
        "      <td>         NaN</td>\n",
        "      <td>         NaN</td>\n",
        "      <td>         NaN</td>\n",
        "      <td>         NaN</td>\n",
        "      <td>         NaN</td>\n",
        "      <td>         NaN</td>\n",
        "      <td>         NaN</td>\n",
        "      <td>         NaN</td>\n",
        "      <td>         NaN</td>\n",
        "      <td>         NaN</td>\n",
        "      <td>         NaN</td>\n",
        "      <td>         NaN</td>\n",
        "      <td>...</td>\n",
        "    </tr>\n",
        "    <tr>\n",
        "      <th>54</th>\n",
        "      <td>NaN</td>\n",
        "      <td>NaN</td>\n",
        "      <td>         NaN</td>\n",
        "      <td>         NaN</td>\n",
        "      <td>         NaN</td>\n",
        "      <td>         NaN</td>\n",
        "      <td>         NaN</td>\n",
        "      <td>         NaN</td>\n",
        "      <td>         NaN</td>\n",
        "      <td>         NaN</td>\n",
        "      <td>         NaN</td>\n",
        "      <td>         NaN</td>\n",
        "      <td>         NaN</td>\n",
        "      <td>         NaN</td>\n",
        "      <td>         NaN</td>\n",
        "      <td>         NaN</td>\n",
        "      <td>         NaN</td>\n",
        "      <td>         NaN</td>\n",
        "      <td>         NaN</td>\n",
        "      <td>         NaN</td>\n",
        "      <td>...</td>\n",
        "    </tr>\n",
        "    <tr>\n",
        "      <th>55</th>\n",
        "      <td>NaN</td>\n",
        "      <td>NaN</td>\n",
        "      <td>         NaN</td>\n",
        "      <td>         NaN</td>\n",
        "      <td>         NaN</td>\n",
        "      <td>         NaN</td>\n",
        "      <td>         NaN</td>\n",
        "      <td>         NaN</td>\n",
        "      <td>         NaN</td>\n",
        "      <td>         NaN</td>\n",
        "      <td>         NaN</td>\n",
        "      <td>         NaN</td>\n",
        "      <td>         NaN</td>\n",
        "      <td>         NaN</td>\n",
        "      <td>         NaN</td>\n",
        "      <td>         NaN</td>\n",
        "      <td>         NaN</td>\n",
        "      <td>         NaN</td>\n",
        "      <td>         NaN</td>\n",
        "      <td>         NaN</td>\n",
        "      <td>...</td>\n",
        "    </tr>\n",
        "    <tr>\n",
        "      <th>56</th>\n",
        "      <td>NaN</td>\n",
        "      <td>NaN</td>\n",
        "      <td>         NaN</td>\n",
        "      <td>         NaN</td>\n",
        "      <td>         NaN</td>\n",
        "      <td>         NaN</td>\n",
        "      <td>         NaN</td>\n",
        "      <td>         NaN</td>\n",
        "      <td>         NaN</td>\n",
        "      <td>         NaN</td>\n",
        "      <td>         NaN</td>\n",
        "      <td>         NaN</td>\n",
        "      <td>         NaN</td>\n",
        "      <td>         NaN</td>\n",
        "      <td>         NaN</td>\n",
        "      <td>         NaN</td>\n",
        "      <td>         NaN</td>\n",
        "      <td>         NaN</td>\n",
        "      <td>         NaN</td>\n",
        "      <td>         NaN</td>\n",
        "      <td>...</td>\n",
        "    </tr>\n",
        "    <tr>\n",
        "      <th>57</th>\n",
        "      <td>NaN</td>\n",
        "      <td>NaN</td>\n",
        "      <td>         NaN</td>\n",
        "      <td>         NaN</td>\n",
        "      <td>         NaN</td>\n",
        "      <td>         NaN</td>\n",
        "      <td>         NaN</td>\n",
        "      <td>         NaN</td>\n",
        "      <td>         NaN</td>\n",
        "      <td>         NaN</td>\n",
        "      <td>         NaN</td>\n",
        "      <td>         NaN</td>\n",
        "      <td>         NaN</td>\n",
        "      <td>         NaN</td>\n",
        "      <td>         NaN</td>\n",
        "      <td>         NaN</td>\n",
        "      <td>         NaN</td>\n",
        "      <td>         NaN</td>\n",
        "      <td>         NaN</td>\n",
        "      <td>         NaN</td>\n",
        "      <td>...</td>\n",
        "    </tr>\n",
        "    <tr>\n",
        "      <th>58</th>\n",
        "      <td>NaN</td>\n",
        "      <td>NaN</td>\n",
        "      <td>         NaN</td>\n",
        "      <td>         NaN</td>\n",
        "      <td>         NaN</td>\n",
        "      <td>         NaN</td>\n",
        "      <td>         NaN</td>\n",
        "      <td>         NaN</td>\n",
        "      <td>         NaN</td>\n",
        "      <td>         NaN</td>\n",
        "      <td>         NaN</td>\n",
        "      <td>         NaN</td>\n",
        "      <td>         NaN</td>\n",
        "      <td>         NaN</td>\n",
        "      <td>         NaN</td>\n",
        "      <td>         NaN</td>\n",
        "      <td>         NaN</td>\n",
        "      <td>         NaN</td>\n",
        "      <td>         NaN</td>\n",
        "      <td>         NaN</td>\n",
        "      <td>...</td>\n",
        "    </tr>\n",
        "    <tr>\n",
        "      <th>59</th>\n",
        "      <td>NaN</td>\n",
        "      <td>NaN</td>\n",
        "      <td>         NaN</td>\n",
        "      <td>         NaN</td>\n",
        "      <td>         NaN</td>\n",
        "      <td>         NaN</td>\n",
        "      <td>         NaN</td>\n",
        "      <td>         NaN</td>\n",
        "      <td>         NaN</td>\n",
        "      <td>         NaN</td>\n",
        "      <td>         NaN</td>\n",
        "      <td>         NaN</td>\n",
        "      <td>         NaN</td>\n",
        "      <td>         NaN</td>\n",
        "      <td>         NaN</td>\n",
        "      <td>         NaN</td>\n",
        "      <td>         NaN</td>\n",
        "      <td>         NaN</td>\n",
        "      <td>         NaN</td>\n",
        "      <td>         NaN</td>\n",
        "      <td>...</td>\n",
        "    </tr>\n",
        "    <tr>\n",
        "      <th></th>\n",
        "      <td>...</td>\n",
        "      <td>...</td>\n",
        "      <td>...</td>\n",
        "      <td>...</td>\n",
        "      <td>...</td>\n",
        "      <td>...</td>\n",
        "      <td>...</td>\n",
        "      <td>...</td>\n",
        "      <td>...</td>\n",
        "      <td>...</td>\n",
        "      <td>...</td>\n",
        "      <td>...</td>\n",
        "      <td>...</td>\n",
        "      <td>...</td>\n",
        "      <td>...</td>\n",
        "      <td>...</td>\n",
        "      <td>...</td>\n",
        "      <td>...</td>\n",
        "      <td>...</td>\n",
        "      <td>...</td>\n",
        "    </tr>\n",
        "  </tbody>\n",
        "</table>\n",
        "<p>728 rows \u00d7 730 columns</p>\n",
        "</div>"
       ],
       "metadata": {},
       "output_type": "pyout",
       "prompt_number": 10,
       "text": [
        "j   0   1            2            3            4            5            6   \\\n",
        "i                                                                             \n",
        "0  NaN NaN  3172.350348          NaN          NaN          NaN          NaN   \n",
        "1  NaN NaN          NaN  4371.089785          NaN          NaN          NaN   \n",
        "2  NaN NaN          NaN          NaN  4426.866925          NaN          NaN   \n",
        "3  NaN NaN          NaN          NaN          NaN  5222.522112          NaN   \n",
        "4  NaN NaN          NaN          NaN          NaN          NaN  4588.110346   \n",
        "5  NaN NaN          NaN          NaN          NaN          NaN          NaN   \n",
        "6  NaN NaN          NaN          NaN          NaN          NaN          NaN   \n",
        "7  NaN NaN          NaN          NaN          NaN          NaN          NaN   \n",
        "8  NaN NaN          NaN          NaN          NaN          NaN          NaN   \n",
        "9  NaN NaN          NaN          NaN          NaN          NaN          NaN   \n",
        "10 NaN NaN          NaN          NaN          NaN          NaN          NaN   \n",
        "11 NaN NaN          NaN          NaN          NaN          NaN          NaN   \n",
        "12 NaN NaN          NaN          NaN          NaN          NaN          NaN   \n",
        "13 NaN NaN          NaN          NaN          NaN          NaN          NaN   \n",
        "14 NaN NaN          NaN          NaN          NaN          NaN          NaN   \n",
        "15 NaN NaN          NaN          NaN          NaN          NaN          NaN   \n",
        "16 NaN NaN          NaN          NaN          NaN          NaN          NaN   \n",
        "17 NaN NaN          NaN          NaN          NaN          NaN          NaN   \n",
        "18 NaN NaN          NaN          NaN          NaN          NaN          NaN   \n",
        "19 NaN NaN          NaN          NaN          NaN          NaN          NaN   \n",
        "20 NaN NaN          NaN          NaN          NaN          NaN          NaN   \n",
        "21 NaN NaN          NaN          NaN          NaN          NaN          NaN   \n",
        "22 NaN NaN          NaN          NaN          NaN          NaN          NaN   \n",
        "23 NaN NaN          NaN          NaN          NaN          NaN          NaN   \n",
        "24 NaN NaN          NaN          NaN          NaN          NaN          NaN   \n",
        "25 NaN NaN          NaN          NaN          NaN          NaN          NaN   \n",
        "26 NaN NaN          NaN          NaN          NaN          NaN          NaN   \n",
        "27 NaN NaN          NaN          NaN          NaN          NaN          NaN   \n",
        "28 NaN NaN          NaN          NaN          NaN          NaN          NaN   \n",
        "29 NaN NaN          NaN          NaN          NaN          NaN          NaN   \n",
        "30 NaN NaN          NaN          NaN          NaN          NaN          NaN   \n",
        "31 NaN NaN          NaN          NaN          NaN          NaN          NaN   \n",
        "32 NaN NaN          NaN          NaN          NaN          NaN          NaN   \n",
        "33 NaN NaN          NaN          NaN          NaN          NaN          NaN   \n",
        "34 NaN NaN          NaN          NaN          NaN          NaN          NaN   \n",
        "35 NaN NaN          NaN          NaN          NaN          NaN          NaN   \n",
        "36 NaN NaN          NaN          NaN          NaN          NaN          NaN   \n",
        "37 NaN NaN          NaN          NaN          NaN          NaN          NaN   \n",
        "38 NaN NaN          NaN          NaN          NaN          NaN          NaN   \n",
        "39 NaN NaN          NaN          NaN          NaN          NaN          NaN   \n",
        "40 NaN NaN          NaN          NaN          NaN          NaN          NaN   \n",
        "41 NaN NaN          NaN          NaN          NaN          NaN          NaN   \n",
        "42 NaN NaN          NaN          NaN          NaN          NaN          NaN   \n",
        "43 NaN NaN          NaN          NaN          NaN          NaN          NaN   \n",
        "44 NaN NaN          NaN          NaN          NaN          NaN          NaN   \n",
        "45 NaN NaN          NaN          NaN          NaN          NaN          NaN   \n",
        "46 NaN NaN          NaN          NaN          NaN          NaN          NaN   \n",
        "47 NaN NaN          NaN          NaN          NaN          NaN          NaN   \n",
        "48 NaN NaN          NaN          NaN          NaN          NaN          NaN   \n",
        "49 NaN NaN          NaN          NaN          NaN          NaN          NaN   \n",
        "50 NaN NaN          NaN          NaN          NaN          NaN          NaN   \n",
        "51 NaN NaN          NaN          NaN          NaN          NaN          NaN   \n",
        "52 NaN NaN          NaN          NaN          NaN          NaN          NaN   \n",
        "53 NaN NaN          NaN          NaN          NaN          NaN          NaN   \n",
        "54 NaN NaN          NaN          NaN          NaN          NaN          NaN   \n",
        "55 NaN NaN          NaN          NaN          NaN          NaN          NaN   \n",
        "56 NaN NaN          NaN          NaN          NaN          NaN          NaN   \n",
        "57 NaN NaN          NaN          NaN          NaN          NaN          NaN   \n",
        "58 NaN NaN          NaN          NaN          NaN          NaN          NaN   \n",
        "59 NaN NaN          NaN          NaN          NaN          NaN          NaN   \n",
        "   ... ...          ...          ...          ...          ...          ...   \n",
        "\n",
        "j            7            8            9            10           11  \\\n",
        "i                                                                     \n",
        "0           NaN          NaN          NaN          NaN  1944.978464   \n",
        "1           NaN          NaN          NaN  2483.344148          NaN   \n",
        "2           NaN          NaN          NaN          NaN          NaN   \n",
        "3           NaN          NaN          NaN          NaN          NaN   \n",
        "4           NaN          NaN          NaN          NaN          NaN   \n",
        "5   4702.538465          NaN          NaN          NaN          NaN   \n",
        "6           NaN  5127.344645          NaN          NaN          NaN   \n",
        "7           NaN          NaN  4579.723309          NaN          NaN   \n",
        "8           NaN          NaN          NaN          NaN  3229.684940   \n",
        "9           NaN          NaN          NaN  4888.396327          NaN   \n",
        "10          NaN          NaN          NaN          NaN          NaN   \n",
        "11          NaN          NaN          NaN          NaN          NaN   \n",
        "12          NaN          NaN          NaN          NaN          NaN   \n",
        "13          NaN          NaN          NaN          NaN          NaN   \n",
        "14          NaN          NaN          NaN          NaN          NaN   \n",
        "15          NaN          NaN          NaN          NaN          NaN   \n",
        "16          NaN          NaN          NaN          NaN          NaN   \n",
        "17          NaN          NaN          NaN          NaN          NaN   \n",
        "18          NaN          NaN          NaN          NaN          NaN   \n",
        "19          NaN          NaN          NaN          NaN          NaN   \n",
        "20          NaN          NaN          NaN          NaN          NaN   \n",
        "21          NaN          NaN          NaN          NaN          NaN   \n",
        "22          NaN          NaN          NaN          NaN          NaN   \n",
        "23          NaN          NaN          NaN          NaN          NaN   \n",
        "24          NaN          NaN          NaN          NaN          NaN   \n",
        "25          NaN          NaN          NaN          NaN          NaN   \n",
        "26          NaN          NaN          NaN          NaN          NaN   \n",
        "27          NaN          NaN          NaN          NaN          NaN   \n",
        "28          NaN          NaN          NaN          NaN          NaN   \n",
        "29          NaN          NaN          NaN          NaN          NaN   \n",
        "30          NaN          NaN          NaN          NaN          NaN   \n",
        "31          NaN          NaN          NaN          NaN          NaN   \n",
        "32          NaN          NaN          NaN          NaN          NaN   \n",
        "33          NaN          NaN          NaN          NaN          NaN   \n",
        "34          NaN          NaN          NaN          NaN          NaN   \n",
        "35          NaN          NaN          NaN          NaN          NaN   \n",
        "36          NaN          NaN          NaN          NaN          NaN   \n",
        "37          NaN          NaN          NaN          NaN          NaN   \n",
        "38          NaN          NaN          NaN          NaN          NaN   \n",
        "39          NaN          NaN          NaN          NaN          NaN   \n",
        "40          NaN          NaN          NaN          NaN          NaN   \n",
        "41          NaN          NaN          NaN          NaN          NaN   \n",
        "42          NaN          NaN          NaN          NaN          NaN   \n",
        "43          NaN          NaN          NaN          NaN          NaN   \n",
        "44          NaN          NaN          NaN          NaN          NaN   \n",
        "45          NaN          NaN          NaN          NaN          NaN   \n",
        "46          NaN          NaN          NaN          NaN          NaN   \n",
        "47          NaN          NaN          NaN          NaN          NaN   \n",
        "48          NaN          NaN          NaN          NaN          NaN   \n",
        "49          NaN          NaN          NaN          NaN          NaN   \n",
        "50          NaN          NaN          NaN          NaN          NaN   \n",
        "51          NaN          NaN          NaN          NaN          NaN   \n",
        "52          NaN          NaN          NaN          NaN          NaN   \n",
        "53          NaN          NaN          NaN          NaN          NaN   \n",
        "54          NaN          NaN          NaN          NaN          NaN   \n",
        "55          NaN          NaN          NaN          NaN          NaN   \n",
        "56          NaN          NaN          NaN          NaN          NaN   \n",
        "57          NaN          NaN          NaN          NaN          NaN   \n",
        "58          NaN          NaN          NaN          NaN          NaN   \n",
        "59          NaN          NaN          NaN          NaN          NaN   \n",
        "            ...          ...          ...          ...          ...   \n",
        "\n",
        "j            12           13           14           15           16  \\\n",
        "i                                                                     \n",
        "0           NaN          NaN          NaN          NaN          NaN   \n",
        "1           NaN          NaN          NaN          NaN          NaN   \n",
        "2           NaN          NaN          NaN          NaN          NaN   \n",
        "3           NaN          NaN          NaN          NaN  2138.289189   \n",
        "4           NaN          NaN          NaN  2190.974573          NaN   \n",
        "5           NaN          NaN  2577.564109          NaN          NaN   \n",
        "6           NaN  2096.343459          NaN          NaN          NaN   \n",
        "7   2247.733287          NaN          NaN          NaN          NaN   \n",
        "8           NaN          NaN          NaN          NaN          NaN   \n",
        "9           NaN          NaN          NaN          NaN          NaN   \n",
        "10          NaN          NaN  2439.974874          NaN          NaN   \n",
        "11          NaN  2609.634145          NaN          NaN          NaN   \n",
        "12  3789.447166          NaN          NaN          NaN          NaN   \n",
        "13          NaN          NaN          NaN          NaN          NaN   \n",
        "14          NaN          NaN          NaN          NaN          NaN   \n",
        "15          NaN          NaN          NaN          NaN          NaN   \n",
        "16          NaN          NaN          NaN          NaN  5342.410271   \n",
        "17          NaN          NaN          NaN          NaN          NaN   \n",
        "18          NaN          NaN          NaN          NaN          NaN   \n",
        "19          NaN          NaN          NaN          NaN          NaN   \n",
        "20          NaN          NaN          NaN          NaN          NaN   \n",
        "21          NaN          NaN          NaN          NaN          NaN   \n",
        "22          NaN          NaN          NaN          NaN          NaN   \n",
        "23          NaN          NaN          NaN          NaN          NaN   \n",
        "24          NaN          NaN          NaN          NaN          NaN   \n",
        "25          NaN          NaN          NaN          NaN          NaN   \n",
        "26          NaN          NaN          NaN          NaN          NaN   \n",
        "27          NaN          NaN          NaN          NaN          NaN   \n",
        "28          NaN          NaN          NaN          NaN          NaN   \n",
        "29          NaN          NaN          NaN          NaN          NaN   \n",
        "30          NaN          NaN          NaN          NaN          NaN   \n",
        "31          NaN          NaN          NaN          NaN          NaN   \n",
        "32          NaN          NaN          NaN          NaN          NaN   \n",
        "33          NaN          NaN          NaN          NaN          NaN   \n",
        "34          NaN          NaN          NaN          NaN          NaN   \n",
        "35          NaN          NaN          NaN          NaN          NaN   \n",
        "36          NaN          NaN          NaN          NaN          NaN   \n",
        "37          NaN          NaN          NaN          NaN          NaN   \n",
        "38          NaN          NaN          NaN          NaN          NaN   \n",
        "39          NaN          NaN          NaN          NaN          NaN   \n",
        "40          NaN          NaN          NaN          NaN          NaN   \n",
        "41          NaN          NaN          NaN          NaN          NaN   \n",
        "42          NaN          NaN          NaN          NaN          NaN   \n",
        "43          NaN          NaN          NaN          NaN          NaN   \n",
        "44          NaN          NaN          NaN          NaN          NaN   \n",
        "45          NaN          NaN          NaN          NaN          NaN   \n",
        "46          NaN          NaN          NaN          NaN          NaN   \n",
        "47          NaN          NaN          NaN          NaN          NaN   \n",
        "48          NaN          NaN          NaN          NaN          NaN   \n",
        "49          NaN          NaN          NaN          NaN          NaN   \n",
        "50          NaN          NaN          NaN          NaN          NaN   \n",
        "51          NaN          NaN          NaN          NaN          NaN   \n",
        "52          NaN          NaN          NaN          NaN          NaN   \n",
        "53          NaN          NaN          NaN          NaN          NaN   \n",
        "54          NaN          NaN          NaN          NaN          NaN   \n",
        "55          NaN          NaN          NaN          NaN          NaN   \n",
        "56          NaN          NaN          NaN          NaN          NaN   \n",
        "57          NaN          NaN          NaN          NaN          NaN   \n",
        "58          NaN          NaN          NaN          NaN          NaN   \n",
        "59          NaN          NaN          NaN          NaN          NaN   \n",
        "            ...          ...          ...          ...          ...   \n",
        "\n",
        "j            17           18           19      \n",
        "i                                              \n",
        "0           NaN          NaN  2120.300066 ...  \n",
        "1           NaN  1782.399633          NaN ...  \n",
        "2   1851.291426          NaN          NaN ...  \n",
        "3           NaN          NaN          NaN ...  \n",
        "4           NaN          NaN          NaN ...  \n",
        "5           NaN          NaN          NaN ...  \n",
        "6           NaN          NaN          NaN ...  \n",
        "7           NaN          NaN          NaN ...  \n",
        "8           NaN          NaN  3040.957884 ...  \n",
        "9           NaN  3298.170000          NaN ...  \n",
        "10          NaN          NaN          NaN ...  \n",
        "11          NaN          NaN          NaN ...  \n",
        "12          NaN          NaN          NaN ...  \n",
        "13          NaN          NaN  1809.807189 ...  \n",
        "14          NaN  3032.854797          NaN ...  \n",
        "15  4150.817197          NaN          NaN ...  \n",
        "16          NaN          NaN          NaN ...  \n",
        "17          NaN          NaN          NaN ...  \n",
        "18          NaN          NaN          NaN ...  \n",
        "19          NaN          NaN          NaN ...  \n",
        "20          NaN          NaN          NaN ...  \n",
        "21          NaN          NaN          NaN ...  \n",
        "22          NaN          NaN          NaN ...  \n",
        "23          NaN          NaN          NaN ...  \n",
        "24          NaN          NaN          NaN ...  \n",
        "25          NaN          NaN          NaN ...  \n",
        "26          NaN          NaN          NaN ...  \n",
        "27          NaN          NaN          NaN ...  \n",
        "28          NaN          NaN          NaN ...  \n",
        "29          NaN          NaN          NaN ...  \n",
        "30          NaN          NaN          NaN ...  \n",
        "31          NaN          NaN          NaN ...  \n",
        "32          NaN          NaN          NaN ...  \n",
        "33          NaN          NaN          NaN ...  \n",
        "34          NaN          NaN          NaN ...  \n",
        "35          NaN          NaN          NaN ...  \n",
        "36          NaN          NaN          NaN ...  \n",
        "37          NaN          NaN          NaN ...  \n",
        "38          NaN          NaN          NaN ...  \n",
        "39          NaN          NaN          NaN ...  \n",
        "40          NaN          NaN          NaN ...  \n",
        "41          NaN          NaN          NaN ...  \n",
        "42          NaN          NaN          NaN ...  \n",
        "43          NaN          NaN          NaN ...  \n",
        "44          NaN          NaN          NaN ...  \n",
        "45          NaN          NaN          NaN ...  \n",
        "46          NaN          NaN          NaN ...  \n",
        "47          NaN          NaN          NaN ...  \n",
        "48          NaN          NaN          NaN ...  \n",
        "49          NaN          NaN          NaN ...  \n",
        "50          NaN          NaN          NaN ...  \n",
        "51          NaN          NaN          NaN ...  \n",
        "52          NaN          NaN          NaN ...  \n",
        "53          NaN          NaN          NaN ...  \n",
        "54          NaN          NaN          NaN ...  \n",
        "55          NaN          NaN          NaN ...  \n",
        "56          NaN          NaN          NaN ...  \n",
        "57          NaN          NaN          NaN ...  \n",
        "58          NaN          NaN          NaN ...  \n",
        "59          NaN          NaN          NaN ...  \n",
        "            ...          ...          ...      \n",
        "\n",
        "[728 rows x 730 columns]"
       ]
      }
     ],
     "prompt_number": 10
    },
    {
     "cell_type": "code",
     "collapsed": false,
     "input": [
      "dfCovs = pd.read_table('cov_a.pkl',header=None,delimiter=r\"[\\[\\]\\\",\\t]+\")#,names=['partitionID','Type','Mean'])\n",
      "dfCovs = dfCovs.drop(0,1)\n",
      "dfCovs.columns = ['partitionID','i','j','cov_ij']\n",
      "dfCovs = pd.pivot_table(dfCovs,values='cov_ij',rows=['partitionID','i'],cols='j')\n",
      "dfCovs.head()"
     ],
     "language": "python",
     "metadata": {},
     "outputs": [
      {
       "html": [
        "<div style=\"max-height:1000px;max-width:1500px;overflow:auto;\">\n",
        "<table border=\"1\" class=\"dataframe\">\n",
        "  <thead>\n",
        "    <tr style=\"text-align: right;\">\n",
        "      <th></th>\n",
        "      <th>j</th>\n",
        "      <th>0</th>\n",
        "      <th>1</th>\n",
        "      <th>2</th>\n",
        "      <th>3</th>\n",
        "      <th>4</th>\n",
        "      <th>5</th>\n",
        "      <th>6</th>\n",
        "      <th>7</th>\n",
        "      <th>8</th>\n",
        "      <th>9</th>\n",
        "      <th>10</th>\n",
        "      <th>11</th>\n",
        "      <th>12</th>\n",
        "      <th>13</th>\n",
        "      <th>14</th>\n",
        "      <th>15</th>\n",
        "      <th>16</th>\n",
        "      <th>17</th>\n",
        "      <th>18</th>\n",
        "      <th>19</th>\n",
        "      <th></th>\n",
        "    </tr>\n",
        "    <tr>\n",
        "      <th>partitionID</th>\n",
        "      <th>i</th>\n",
        "      <th></th>\n",
        "      <th></th>\n",
        "      <th></th>\n",
        "      <th></th>\n",
        "      <th></th>\n",
        "      <th></th>\n",
        "      <th></th>\n",
        "      <th></th>\n",
        "      <th></th>\n",
        "      <th></th>\n",
        "      <th></th>\n",
        "      <th></th>\n",
        "      <th></th>\n",
        "      <th></th>\n",
        "      <th></th>\n",
        "      <th></th>\n",
        "      <th></th>\n",
        "      <th></th>\n",
        "      <th></th>\n",
        "      <th></th>\n",
        "    </tr>\n",
        "  </thead>\n",
        "  <tbody>\n",
        "    <tr>\n",
        "      <th rowspan=\"5\" valign=\"top\">1065</th>\n",
        "      <th>0</th>\n",
        "      <td> 1083.955979</td>\n",
        "      <td>  798.950030</td>\n",
        "      <td>  628.352171</td>\n",
        "      <td>  603.387864</td>\n",
        "      <td>  414.265318</td>\n",
        "      <td> 168.958953</td>\n",
        "      <td>  20.053540</td>\n",
        "      <td> -37.037478</td>\n",
        "      <td>  18.575253</td>\n",
        "      <td>  38.280785</td>\n",
        "      <td> 156.392029</td>\n",
        "      <td> 246.745985</td>\n",
        "      <td> 253.230220</td>\n",
        "      <td> 234.699584</td>\n",
        "      <td> 375.383700</td>\n",
        "      <td> 479.185009</td>\n",
        "      <td> 494.249851</td>\n",
        "      <td> 478.224866</td>\n",
        "      <td> 525.029744</td>\n",
        "      <td> 291.522903</td>\n",
        "    </tr>\n",
        "    <tr>\n",
        "      <th>1</th>\n",
        "      <td>         NaN</td>\n",
        "      <td> 1206.329566</td>\n",
        "      <td>  492.790006</td>\n",
        "      <td>  429.000595</td>\n",
        "      <td>  410.823914</td>\n",
        "      <td> 183.126115</td>\n",
        "      <td>  64.193932</td>\n",
        "      <td>-139.765021</td>\n",
        "      <td> 170.020821</td>\n",
        "      <td> 104.637121</td>\n",
        "      <td> -45.104105</td>\n",
        "      <td> -90.588935</td>\n",
        "      <td>  19.009518</td>\n",
        "      <td> -72.028554</td>\n",
        "      <td>-140.187388</td>\n",
        "      <td> 121.362284</td>\n",
        "      <td> 124.303391</td>\n",
        "      <td>  59.102320</td>\n",
        "      <td> 199.809637</td>\n",
        "      <td> 151.204640</td>\n",
        "    </tr>\n",
        "    <tr>\n",
        "      <th>2</th>\n",
        "      <td>         NaN</td>\n",
        "      <td>         NaN</td>\n",
        "      <td> 1108.060678</td>\n",
        "      <td>  821.799524</td>\n",
        "      <td>  733.560381</td>\n",
        "      <td> 200.401547</td>\n",
        "      <td> -35.550268</td>\n",
        "      <td> -82.968471</td>\n",
        "      <td> 142.007733</td>\n",
        "      <td> -32.831648</td>\n",
        "      <td> 118.254015</td>\n",
        "      <td>  67.007733</td>\n",
        "      <td> 181.719215</td>\n",
        "      <td> 138.988697</td>\n",
        "      <td> 175.954789</td>\n",
        "      <td> 285.300416</td>\n",
        "      <td> 361.318263</td>\n",
        "      <td> 226.201071</td>\n",
        "      <td> 380.005949</td>\n",
        "      <td> 144.646044</td>\n",
        "    </tr>\n",
        "    <tr>\n",
        "      <th>3</th>\n",
        "      <td>         NaN</td>\n",
        "      <td>         NaN</td>\n",
        "      <td>         NaN</td>\n",
        "      <td> 1270.440214</td>\n",
        "      <td>  899.940512</td>\n",
        "      <td> 480.154670</td>\n",
        "      <td> 202.534206</td>\n",
        "      <td>-124.651993</td>\n",
        "      <td> 113.334325</td>\n",
        "      <td> 214.640095</td>\n",
        "      <td> 178.450327</td>\n",
        "      <td> 283.700178</td>\n",
        "      <td> 418.994646</td>\n",
        "      <td> 261.064842</td>\n",
        "      <td> 484.381321</td>\n",
        "      <td> 403.456276</td>\n",
        "      <td> 723.875074</td>\n",
        "      <td> 678.180250</td>\n",
        "      <td> 645.472933</td>\n",
        "      <td> 229.848305</td>\n",
        "    </tr>\n",
        "    <tr>\n",
        "      <th>4</th>\n",
        "      <td>         NaN</td>\n",
        "      <td>         NaN</td>\n",
        "      <td>         NaN</td>\n",
        "      <td>         NaN</td>\n",
        "      <td> 1223.950030</td>\n",
        "      <td> 582.022606</td>\n",
        "      <td> 133.777513</td>\n",
        "      <td>  11.014277</td>\n",
        "      <td> 197.064247</td>\n",
        "      <td>  68.848899</td>\n",
        "      <td> 243.093397</td>\n",
        "      <td> 111.576443</td>\n",
        "      <td> 427.462820</td>\n",
        "      <td>  10.416419</td>\n",
        "      <td> 219.592504</td>\n",
        "      <td> 243.771565</td>\n",
        "      <td> 342.636526</td>\n",
        "      <td> 343.987507</td>\n",
        "      <td> 421.841166</td>\n",
        "      <td>  77.706722</td>\n",
        "    </tr>\n",
        "  </tbody>\n",
        "</table>\n",
        "<p>5 rows \u00d7 730 columns</p>\n",
        "</div>"
       ],
       "metadata": {},
       "output_type": "pyout",
       "prompt_number": 30,
       "text": [
        "j                       0            1            2            3   \\\n",
        "partitionID i                                                       \n",
        "1065        0  1083.955979   798.950030   628.352171   603.387864   \n",
        "            1          NaN  1206.329566   492.790006   429.000595   \n",
        "            2          NaN          NaN  1108.060678   821.799524   \n",
        "            3          NaN          NaN          NaN  1270.440214   \n",
        "            4          NaN          NaN          NaN          NaN   \n",
        "\n",
        "j                       4           5           6           7           8   \\\n",
        "partitionID i                                                                \n",
        "1065        0   414.265318  168.958953   20.053540  -37.037478   18.575253   \n",
        "            1   410.823914  183.126115   64.193932 -139.765021  170.020821   \n",
        "            2   733.560381  200.401547  -35.550268  -82.968471  142.007733   \n",
        "            3   899.940512  480.154670  202.534206 -124.651993  113.334325   \n",
        "            4  1223.950030  582.022606  133.777513   11.014277  197.064247   \n",
        "\n",
        "j                      9           10          11          12          13  \\\n",
        "partitionID i                                                               \n",
        "1065        0   38.280785  156.392029  246.745985  253.230220  234.699584   \n",
        "            1  104.637121  -45.104105  -90.588935   19.009518  -72.028554   \n",
        "            2  -32.831648  118.254015   67.007733  181.719215  138.988697   \n",
        "            3  214.640095  178.450327  283.700178  418.994646  261.064842   \n",
        "            4   68.848899  243.093397  111.576443  427.462820   10.416419   \n",
        "\n",
        "j                      14          15          16          17          18  \\\n",
        "partitionID i                                                               \n",
        "1065        0  375.383700  479.185009  494.249851  478.224866  525.029744   \n",
        "            1 -140.187388  121.362284  124.303391   59.102320  199.809637   \n",
        "            2  175.954789  285.300416  361.318263  226.201071  380.005949   \n",
        "            3  484.381321  403.456276  723.875074  678.180250  645.472933   \n",
        "            4  219.592504  243.771565  342.636526  343.987507  421.841166   \n",
        "\n",
        "j                      19      \n",
        "partitionID i                  \n",
        "1065        0  291.522903 ...  \n",
        "            1  151.204640 ...  \n",
        "            2  144.646044 ...  \n",
        "            3  229.848305 ...  \n",
        "            4   77.706722 ...  \n",
        "\n",
        "[5 rows x 730 columns]"
       ]
      }
     ],
     "prompt_number": 30
    },
    {
     "cell_type": "code",
     "collapsed": false,
     "input": [
      "def fill_cov(cov):\n",
      "    for i in xrange(1,shape(cov)[0]):\n",
      "        for j in xrange(i):\n",
      "            cov[i][j] = cov[j][i]        \n",
      "    return cov"
     ],
     "language": "python",
     "metadata": {},
     "outputs": [],
     "prompt_number": 31
    },
    {
     "cell_type": "code",
     "collapsed": false,
     "input": [
      "{1065, 1282, 1343, 1462, 1531, 2040}"
     ],
     "language": "python",
     "metadata": {},
     "outputs": []
    },
    {
     "cell_type": "code",
     "collapsed": false,
     "input": [
      "!cat /home/ubuntu/data/weather/ALL.tmax3.csv"
     ],
     "language": "python",
     "metadata": {},
     "outputs": [
      {
       "output_type": "stream",
       "stream": "stdout",
       "text": [
        "USC00211063,TMAX,1973,,,,,,,,,,,,,,,,,,,,,,,,,,,,,,,,,,,,,,,,,,,,,,,,,,,,,,,,,,,,,,,,,,,,,,,,,,,,,,,,,,,,,,,,,,,,,,,,,,,,,,,,,,,,,,,,,,,,,,,,,,,,,,,,,,,,,,,,,,,,,,,,,,,,,,,,,,,,,,,,,,,,,,,,,,,,,,,,,,,,,,,,,,,,,,,,,,,,,,,,,,,,,,,,,,,,,,,,,,,,,,,,,,,,,,,,,,,,,,,,,,,,,,,,,,,,,,,,,,,,,,,,,,,,,,,,,,,,,,,,,,,,,,,,,,,,,,,,,,,,,,,,,,,,,,,,,,,,,,,,,,,,,,,,,,,,,,,,33,67,-28,-67,-89,-28,78,67,-89,-89,-17,-22,-128,-106,-117,-89,-61,-78,-111,-128,-83,11,-39,-39,-39,-39,-33,-61,-150,-206\r\n",
        "USC00211063,TMAX,1974,-239,-178,-133,-117,-94,-144,-133,-200,-172,-150,-194,-206,-178,11,22,61,33,11,-89,-33,-22,-39,-17,-44,39,39,-11,-17,-11,67,39,-156,-144,-94,-206,-94,-78,-100,-72,-78,17,0,83,50,-117,-78,39,67,39,33,67,22,-11,-50,-94,-50,17,39,83,-6,61,61,61,0,106,61,-17,22,28,61,44,44,72,111,-11,-78,17,-17,-50,-39,-100,-111,-89,-11,-33,61,22,39,56,17,17,61,22,6,50,122,122,50,139,161,133,89,72,44,106,111,167,178,144,233,211,144,67,133,222,250,272,222,200,89,172,283,183,133,156,156,172,83,117,,111,167,133,78,83,133,189,122,172,211,306,156,150,117,150,161,211,267,261,211,156,194,244,261,294,267,233,250,256,206,200,200,244,256,250,206,183,228,261,289,311,283,261,256,267,278,294,322,339,317,300,367,322,256,283,350,378,383,339,322,339,322,333,383,294,311,350,356,306,339,350,333,333,328,311,322,283,311,272,261,272,289,,300,200,233,267,289,300,283,283,256,200,267,250,261,306,261,261,267,289,328,333,244,222,256,306,344,233,239,211,200,200,183,178,144,217,261,239,217,300,200,144,200,178,128,178,283,194,317,228,322,211,189,156,172,261,239,289,350,139,150,150,106,61,161,233,167,83,50,183,161,256,311,228,144,228,89,172,256,200,183,139,128,261,139,183,200,178,233,244,206,139,150,144,61,67,67,72,33,150,178,144,111,111,33,28,-11,-17,67,83,94,83,72,39,44,133,-6,0,-6,56,-6,-33,-22,-17,0,-6,-44,0,-11,39,-33,-61,39,100,72,44,-28,-6,-11,-50,-56,-17,-33,-56,-22,6,-44,-72,6,50,56,78,-6,67\r\n",
        "USC00211063,TMAX,1975,11,39,28,-28,11,-28,-17,-50,-22,-6,-94,-211,-167,-144,-28,-28,-33,6,-44,-56,39,-161,11,22,56,-39,-72,-72,-72,-89,-94,-128,-94,-6,-6,-94,-133,-111,-94,-189,-133,-133,-94,-167,-139,-78,-94,-50,6,-22,22,22,39,-17,-33,56,17,0,-11,-22,-61,-89,-78,50,11,-22,-44,-67,-78,-78,11,-72,-39,22,83,89,50,67,161,39,106,17,-6,-67,-39,-39,17,22,-44,-11,-78,-56,-44,-17,11,17,33,39,6,17,50,50,83,83,67,89,83,94,72,44,89,89,122,100,89,139,94,100,133,89,83,122,189,172,211,211,200,117,167,217,239,206,211,239,150,206,283,283,289,278,228,183,233,261,289,222,200,233,244,222,200,200,228,228,272,256,244,211,233,189,144,183,206,267,250,156,194,228,217,228,289,300,272,256,294,289,311,272,283,344,311,333,344,361,317,356,317,311,322,256,267,222,228,233,294,333,361,378,372,322,311,294,350,339,272,250,306,317,333,389,394,361,356,261,294,333,289,250,278,317,294,317,294,339,328,272,256,272,244,206,228,211,311,217,233,311,350,239,233,267,289,217,233,317,233,283,228,206,233,161,189,189,250,322,150,156,222,256,261,206,194,156,128,100,167,194,161,189,211,233,122,156,200,100,122,233,272,317,211,267,306,272,78,89,172,239,222,144,128,139,183,206,178,194,156,156,50,39,89,106,89,44,111,183,144,172,183,178,239,256,211,122,144,67,94,72,-39,-6,117,178,144,117,44,17,-11,-44,-17,-50,-89,-78,-78,-61,-6,-39,-50,-94,-78,6,61,28,-78,6,-22,39,0,-44,0,0,-178,-50,-161,-189,-17,44,-83,33,-72,-39,-11,-56,-44,-11,11,44,17\r\n"
       ]
      }
     ],
     "prompt_number": 66
    },
    {
     "cell_type": "code",
     "collapsed": false,
     "input": [
      "dfPartitions = pd.read_pickle(\"dfPartition.pkl\")"
     ],
     "language": "python",
     "metadata": {},
     "outputs": [],
     "prompt_number": 67
    },
    {
     "cell_type": "code",
     "collapsed": false,
     "input": [
      "dfPartitions[dfPartitions['Station'] == 'USC00211063']"
     ],
     "language": "python",
     "metadata": {},
     "outputs": [
      {
       "html": [
        "<div style=\"max-height:1000px;max-width:1500px;overflow:auto;\">\n",
        "<table border=\"1\" class=\"dataframe\">\n",
        "  <thead>\n",
        "    <tr style=\"text-align: right;\">\n",
        "      <th></th>\n",
        "      <th>Station</th>\n",
        "      <th>partitionID</th>\n",
        "      <th>lat_min</th>\n",
        "      <th>lat_max</th>\n",
        "      <th>lon_min</th>\n",
        "      <th>lon_max</th>\n",
        "      <th>AWND</th>\n",
        "      <th>PRCP</th>\n",
        "      <th>SNOW</th>\n",
        "      <th>SNWD</th>\n",
        "      <th>TMAX</th>\n",
        "      <th>TMIN</th>\n",
        "      <th>latitude</th>\n",
        "      <th>longitude</th>\n",
        "      <th>elevation</th>\n",
        "      <th>state</th>\n",
        "      <th>name</th>\n",
        "      <th>GSNFLAG</th>\n",
        "      <th>HCNFLAG</th>\n",
        "      <th>WMOID</th>\n",
        "    </tr>\n",
        "  </thead>\n",
        "  <tbody>\n",
        "    <tr>\n",
        "      <th>60211</th>\n",
        "      <td> USC00211063</td>\n",
        "      <td> 730</td>\n",
        "      <td> 44.6801</td>\n",
        "      <td> 45.89015</td>\n",
        "      <td>-97.05085</td>\n",
        "      <td>-94.80945</td>\n",
        "      <td>NaN</td>\n",
        "      <td> 39</td>\n",
        "      <td> 38</td>\n",
        "      <td> 36</td>\n",
        "      <td> 39</td>\n",
        "      <td> 39</td>\n",
        "      <td> 45.5939</td>\n",
        "      <td>-96.8278</td>\n",
        "      <td> 303.9</td>\n",
        "      <td> N</td>\n",
        "      <td> BROWNS VALLEY</td>\n",
        "      <td> NaN</td>\n",
        "      <td> NaN</td>\n",
        "      <td>NaN</td>\n",
        "    </tr>\n",
        "  </tbody>\n",
        "</table>\n",
        "<p>1 rows \u00d7 20 columns</p>\n",
        "</div>"
       ],
       "metadata": {},
       "output_type": "pyout",
       "prompt_number": 68,
       "text": [
        "           Station  partitionID  lat_min   lat_max   lon_min   lon_max  AWND  \\\n",
        "60211  USC00211063          730  44.6801  45.89015 -97.05085 -94.80945   NaN   \n",
        "\n",
        "       PRCP  SNOW  SNWD  TMAX  TMIN  latitude  longitude  elevation state  \\\n",
        "60211    39    38    36    39    39   45.5939   -96.8278      303.9     N   \n",
        "\n",
        "                name GSNFLAG HCNFLAG  WMOID  \n",
        "60211  BROWNS VALLEY     NaN     NaN    NaN  \n",
        "\n",
        "[1 rows x 20 columns]"
       ]
      }
     ],
     "prompt_number": 68
    },
    {
     "cell_type": "code",
     "collapsed": false,
     "input": [
      "cov = np.array(dfCovs.ix[1065,:])\n",
      "cov = fill_cov(cov)"
     ],
     "language": "python",
     "metadata": {},
     "outputs": [],
     "prompt_number": 34
    },
    {
     "cell_type": "code",
     "collapsed": false,
     "input": [
      "cov = cov[:, range(0, 364) + range(365, 728)]"
     ],
     "language": "python",
     "metadata": {},
     "outputs": [],
     "prompt_number": 53
    },
    {
     "cell_type": "code",
     "collapsed": false,
     "input": [
      "for i in xrange(727):\n",
      "    for j in xrange(727):\n",
      "        if isnan(cov[i, j]):\n",
      "            print i, j"
     ],
     "language": "python",
     "metadata": {},
     "outputs": [],
     "prompt_number": 55
    },
    {
     "cell_type": "code",
     "collapsed": false,
     "input": [
      "U,S,V=np.linalg.svd(cov)\n",
      "\n",
      "explainedVar = cumsum(S)/sum(S)\n",
      "plot(explainedVar)\n",
      "xlabel('Number of eigenvectors')\n",
      "ylabel('Explained variance')\n",
      "xlim([1,len(S)])\n",
      "grid()\n",
      "\n",
      "k = find(explainedVar>=0.99)[0]\n",
      "print k"
     ],
     "language": "python",
     "metadata": {},
     "outputs": [
      {
       "output_type": "stream",
       "stream": "stdout",
       "text": [
        "196\n"
       ]
      },
      {
       "metadata": {},
       "output_type": "display_data",
       "png": "[encoded data removed]",
       "text": [
        "<matplotlib.figure.Figure at 0x44bb2d0>"
       ]
      }
     ],
     "prompt_number": 56
    },
    {
     "cell_type": "code",
     "collapsed": false,
     "input": [
      "data:image/png;base64,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tracker = []\n",
      "for line in cov_a.ix[:,0]:\n",
      "    row = eval(line)\n",
      "    try:\n",
      "        tracker.append(row[0])\n",
      "    except Exception, e:\n",
      "        print row, str(e)"
     ],
     "language": "python",
     "metadata": {},
     "outputs": [],
     "prompt_number": 62
    },
    {
     "cell_type": "code",
     "collapsed": false,
     "input": [
      "set(tracker)"
     ],
     "language": "python",
     "metadata": {},
     "outputs": [
      {
       "metadata": {},
       "output_type": "pyout",
       "prompt_number": 64,
       "text": [
        "{1065, 1282, 1343, 1462, 1531, 2040}"
       ]
      }
     ],
     "prompt_number": 64
    },
    {
     "cell_type": "code",
     "collapsed": false,
     "input": [
      "value = [nan, nan, nan]\n",
      "M = np.array(value)\n",
      "M_mask = np.ma.masked_array(M,np.isnan(M))\n",
      "M_mean = np.mean(M_mask)\n",
      "print float(M_mean)\n",
      "#M_mean_value = M_mean.filled(np.nan)"
     ],
     "language": "python",
     "metadata": {},
     "outputs": [
      {
       "output_type": "stream",
       "stream": "stdout",
       "text": [
        "nan\n"
       ]
      },
      {
       "output_type": "stream",
       "stream": "stderr",
       "text": [
        "/usr/local/lib/python2.7/dist-packages/numpy/ma/core.py:3847: UserWarning: Warning: converting a masked element to nan.\n",
        "  warnings.warn(\"Warning: converting a masked element to nan.\")\n"
       ]
      }
     ],
     "prompt_number": 36
    },
    {
     "cell_type": "code",
     "collapsed": false,
     "input": [
      "shape(eval(cov_a.ix[1,1]))"
     ],
     "language": "python",
     "metadata": {},
     "outputs": [
      {
       "metadata": {},
       "output_type": "pyout",
       "prompt_number": 72,
       "text": [
        "(367,)"
       ]
      }
     ],
     "prompt_number": 72
    },
    {
     "cell_type": "code",
     "collapsed": false,
     "input": [
      "#dfMeans = pd.read_table('mean.pkl',header=None,delimiter=r\"[\\[\\]\\\",\\t]+\")#,names=['partitionID','Type','Mean'])\n",
      "#dfMeans = dfMeans.drop([0,2,368],1)\n",
      "#dfMeans.columns = [\"partitionID\", \"Type\"] + range(1,366)"
     ],
     "language": "python",
     "metadata": {},
     "outputs": [],
     "prompt_number": 15
    },
    {
     "cell_type": "code",
     "collapsed": false,
     "input": [
      "dfMeans = pd.read_pickle(\"dfMeans.pkl\")"
     ],
     "language": "python",
     "metadata": {},
     "outputs": [],
     "prompt_number": 69
    },
    {
     "cell_type": "code",
     "collapsed": false,
     "input": [
      "dfMeans.head()"
     ],
     "language": "python",
     "metadata": {},
     "outputs": [
      {
       "html": [
        "<div style=\"max-height:1000px;max-width:1500px;overflow:auto;\">\n",
        "<table border=\"1\" class=\"dataframe\">\n",
        "  <thead>\n",
        "    <tr style=\"text-align: right;\">\n",
        "      <th></th>\n",
        "      <th>partitionID</th>\n",
        "      <th>Type</th>\n",
        "      <th>1</th>\n",
        "      <th>2</th>\n",
        "      <th>3</th>\n",
        "      <th>4</th>\n",
        "      <th>5</th>\n",
        "      <th>6</th>\n",
        "      <th>7</th>\n",
        "      <th>8</th>\n",
        "      <th>9</th>\n",
        "      <th>10</th>\n",
        "      <th>11</th>\n",
        "      <th>12</th>\n",
        "      <th>13</th>\n",
        "      <th>14</th>\n",
        "      <th>15</th>\n",
        "      <th>16</th>\n",
        "      <th>17</th>\n",
        "      <th>18</th>\n",
        "      <th></th>\n",
        "    </tr>\n",
        "  </thead>\n",
        "  <tbody>\n",
        "    <tr>\n",
        "      <th>0</th>\n",
        "      <td> 511</td>\n",
        "      <td> TMAX</td>\n",
        "      <td> 24.486853</td>\n",
        "      <td> 24.545393</td>\n",
        "      <td> 24.577375</td>\n",
        "      <td> 24.412443</td>\n",
        "      <td> 24.432747</td>\n",
        "      <td> 24.335968</td>\n",
        "      <td> 24.344699</td>\n",
        "      <td> 24.346073</td>\n",
        "      <td> 24.372003</td>\n",
        "      <td> 24.360628</td>\n",
        "      <td> 24.354444</td>\n",
        "      <td> 24.338371</td>\n",
        "      <td> 24.354522</td>\n",
        "      <td> 24.412590</td>\n",
        "      <td> 24.434661</td>\n",
        "      <td> 24.532407</td>\n",
        "      <td> 24.485611</td>\n",
        "      <td> 24.511206</td>\n",
        "      <td>...</td>\n",
        "    </tr>\n",
        "    <tr>\n",
        "      <th>1</th>\n",
        "      <td> 511</td>\n",
        "      <td> TMIN</td>\n",
        "      <td> 16.599303</td>\n",
        "      <td> 16.553473</td>\n",
        "      <td> 16.570237</td>\n",
        "      <td> 16.546767</td>\n",
        "      <td> 16.416504</td>\n",
        "      <td> 16.349277</td>\n",
        "      <td> 16.275997</td>\n",
        "      <td> 16.381184</td>\n",
        "      <td> 16.292373</td>\n",
        "      <td> 16.380588</td>\n",
        "      <td> 16.394899</td>\n",
        "      <td> 16.290405</td>\n",
        "      <td> 16.367059</td>\n",
        "      <td> 16.374263</td>\n",
        "      <td> 16.367770</td>\n",
        "      <td> 16.405765</td>\n",
        "      <td> 16.293548</td>\n",
        "      <td> 16.378920</td>\n",
        "      <td>...</td>\n",
        "    </tr>\n",
        "    <tr>\n",
        "      <th>2</th>\n",
        "      <td> 512</td>\n",
        "      <td> TMAX</td>\n",
        "      <td> 23.864088</td>\n",
        "      <td> 23.785105</td>\n",
        "      <td> 23.785253</td>\n",
        "      <td> 23.554115</td>\n",
        "      <td> 23.600773</td>\n",
        "      <td> 23.660039</td>\n",
        "      <td> 23.651499</td>\n",
        "      <td> 23.503689</td>\n",
        "      <td> 23.633856</td>\n",
        "      <td> 23.597582</td>\n",
        "      <td> 23.569141</td>\n",
        "      <td> 23.645212</td>\n",
        "      <td> 23.612492</td>\n",
        "      <td> 23.646089</td>\n",
        "      <td> 23.791299</td>\n",
        "      <td> 23.866645</td>\n",
        "      <td> 23.836488</td>\n",
        "      <td> 23.835176</td>\n",
        "      <td>...</td>\n",
        "    </tr>\n",
        "    <tr>\n",
        "      <th>3</th>\n",
        "      <td> 512</td>\n",
        "      <td> TMIN</td>\n",
        "      <td> 15.358942</td>\n",
        "      <td> 15.237860</td>\n",
        "      <td> 15.143325</td>\n",
        "      <td> 15.327110</td>\n",
        "      <td> 15.026633</td>\n",
        "      <td> 14.812947</td>\n",
        "      <td> 15.023092</td>\n",
        "      <td> 14.873015</td>\n",
        "      <td> 14.936464</td>\n",
        "      <td> 14.840903</td>\n",
        "      <td> 14.909619</td>\n",
        "      <td> 15.027688</td>\n",
        "      <td> 14.944710</td>\n",
        "      <td> 14.969961</td>\n",
        "      <td> 14.998096</td>\n",
        "      <td> 14.949579</td>\n",
        "      <td> 15.015653</td>\n",
        "      <td> 15.114836</td>\n",
        "      <td>...</td>\n",
        "    </tr>\n",
        "    <tr>\n",
        "      <th>4</th>\n",
        "      <td> 513</td>\n",
        "      <td> TMAX</td>\n",
        "      <td> 25.348338</td>\n",
        "      <td> 25.342730</td>\n",
        "      <td> 25.316409</td>\n",
        "      <td> 25.290467</td>\n",
        "      <td> 25.276021</td>\n",
        "      <td> 25.134172</td>\n",
        "      <td> 25.140690</td>\n",
        "      <td> 25.152845</td>\n",
        "      <td> 25.188444</td>\n",
        "      <td> 25.205006</td>\n",
        "      <td> 25.057216</td>\n",
        "      <td> 25.112756</td>\n",
        "      <td> 25.158499</td>\n",
        "      <td> 25.082911</td>\n",
        "      <td> 25.039921</td>\n",
        "      <td> 25.019819</td>\n",
        "      <td> 24.995078</td>\n",
        "      <td> 25.130913</td>\n",
        "      <td>...</td>\n",
        "    </tr>\n",
        "  </tbody>\n",
        "</table>\n",
        "<p>5 rows \u00d7 367 columns</p>\n",
        "</div>"
       ],
       "metadata": {},
       "output_type": "pyout",
       "prompt_number": 70,
       "text": [
        "   partitionID  Type          1          2          3          4          5  \\\n",
        "0          511  TMAX  24.486853  24.545393  24.577375  24.412443  24.432747   \n",
        "1          511  TMIN  16.599303  16.553473  16.570237  16.546767  16.416504   \n",
        "2          512  TMAX  23.864088  23.785105  23.785253  23.554115  23.600773   \n",
        "3          512  TMIN  15.358942  15.237860  15.143325  15.327110  15.026633   \n",
        "4          513  TMAX  25.348338  25.342730  25.316409  25.290467  25.276021   \n",
        "\n",
        "           6          7          8          9         10         11  \\\n",
        "0  24.335968  24.344699  24.346073  24.372003  24.360628  24.354444   \n",
        "1  16.349277  16.275997  16.381184  16.292373  16.380588  16.394899   \n",
        "2  23.660039  23.651499  23.503689  23.633856  23.597582  23.569141   \n",
        "3  14.812947  15.023092  14.873015  14.936464  14.840903  14.909619   \n",
        "4  25.134172  25.140690  25.152845  25.188444  25.205006  25.057216   \n",
        "\n",
        "          12         13         14         15         16         17  \\\n",
        "0  24.338371  24.354522  24.412590  24.434661  24.532407  24.485611   \n",
        "1  16.290405  16.367059  16.374263  16.367770  16.405765  16.293548   \n",
        "2  23.645212  23.612492  23.646089  23.791299  23.866645  23.836488   \n",
        "3  15.027688  14.944710  14.969961  14.998096  14.949579  15.015653   \n",
        "4  25.112756  25.158499  25.082911  25.039921  25.019819  24.995078   \n",
        "\n",
        "          18      \n",
        "0  24.511206 ...  \n",
        "1  16.378920 ...  \n",
        "2  23.835176 ...  \n",
        "3  15.114836 ...  \n",
        "4  25.130913 ...  \n",
        "\n",
        "[5 rows x 367 columns]"
       ]
      }
     ],
     "prompt_number": 70
    },
    {
     "cell_type": "code",
     "collapsed": false,
     "input": [
      "two = dfMeans[dfMeans['partitionID'] == 2040]"
     ],
     "language": "python",
     "metadata": {},
     "outputs": [],
     "prompt_number": 153
    },
    {
     "cell_type": "code",
     "collapsed": false,
     "input": [
      "two"
     ],
     "language": "python",
     "metadata": {},
     "outputs": [
      {
       "html": [
        "<div style=\"max-height:1000px;max-width:1500px;overflow:auto;\">\n",
        "<table border=\"1\" class=\"dataframe\">\n",
        "  <thead>\n",
        "    <tr style=\"text-align: right;\">\n",
        "      <th></th>\n",
        "      <th>partitionID</th>\n",
        "      <th>Var</th>\n",
        "      <th>1</th>\n",
        "      <th>2</th>\n",
        "      <th>3</th>\n",
        "      <th>4</th>\n",
        "      <th>5</th>\n",
        "      <th>6</th>\n",
        "      <th>7</th>\n",
        "      <th>8</th>\n",
        "      <th>9</th>\n",
        "      <th>10</th>\n",
        "      <th>11</th>\n",
        "      <th>12</th>\n",
        "      <th>13</th>\n",
        "      <th>14</th>\n",
        "      <th>15</th>\n",
        "      <th>16</th>\n",
        "      <th>17</th>\n",
        "      <th>18</th>\n",
        "      <th></th>\n",
        "    </tr>\n",
        "  </thead>\n",
        "  <tbody>\n",
        "    <tr>\n",
        "      <th>2</th>\n",
        "      <td> 2040</td>\n",
        "      <td> TMAX</td>\n",
        "      <td>-262.142857</td>\n",
        "      <td>-249.6</td>\n",
        "      <td>-244.769231</td>\n",
        "      <td>-246.307692</td>\n",
        "      <td>-258.666667</td>\n",
        "      <td>-229.933333</td>\n",
        "      <td>-228.666667</td>\n",
        "      <td>-236.714286</td>\n",
        "      <td>-267.923077</td>\n",
        "      <td>-248.428571</td>\n",
        "      <td>-248.071429</td>\n",
        "      <td>-304.714286</td>\n",
        "      <td>-283</td>\n",
        "      <td>-281.357143</td>\n",
        "      <td>-317.071429</td>\n",
        "      <td>-291.357143</td>\n",
        "      <td>-266.133333</td>\n",
        "      <td>-265.692308</td>\n",
        "      <td>...</td>\n",
        "    </tr>\n",
        "  </tbody>\n",
        "</table>\n",
        "<p>1 rows \u00d7 367 columns</p>\n",
        "</div>"
       ],
       "metadata": {},
       "output_type": "pyout",
       "prompt_number": 154,
       "text": [
        "   partitionID   Var           1      2           3           4           5  \\\n",
        "2         2040  TMAX -262.142857 -249.6 -244.769231 -246.307692 -258.666667   \n",
        "\n",
        "            6           7           8           9          10          11  \\\n",
        "2 -229.933333 -228.666667 -236.714286 -267.923077 -248.428571 -248.071429   \n",
        "\n",
        "           12   13          14          15          16          17  \\\n",
        "2 -304.714286 -283 -281.357143 -317.071429 -291.357143 -266.133333   \n",
        "\n",
        "           18      \n",
        "2 -265.692308 ...  \n",
        "\n",
        "[1 rows x 367 columns]"
       ]
      }
     ],
     "prompt_number": 154
    },
    {
     "cell_type": "code",
     "collapsed": false,
     "input": [
      "two_min = two[two[\"Type\"]=='TMAX']\n",
      "len(two_min)"
     ],
     "language": "python",
     "metadata": {},
     "outputs": [
      {
       "metadata": {},
       "output_type": "pyout",
       "prompt_number": 174,
       "text": [
        "1"
       ]
      }
     ],
     "prompt_number": 174
    },
    {
     "cell_type": "code",
     "collapsed": false,
     "input": [
      "cov_a.head()"
     ],
     "language": "python",
     "metadata": {},
     "outputs": [
      {
       "html": [
        "<div style=\"max-height:1000px;max-width:1500px;overflow:auto;\">\n",
        "<table border=\"1\" class=\"dataframe\">\n",
        "  <thead>\n",
        "    <tr style=\"text-align: right;\">\n",
        "      <th></th>\n",
        "      <th>[1065, 0, 104]</th>\n",
        "      <th>297.3008130081302</th>\n",
        "    </tr>\n",
        "  </thead>\n",
        "  <tbody>\n",
        "    <tr>\n",
        "      <th>0</th>\n",
        "      <td> [1065, 0, 115]</td>\n",
        "      <td> 478.896937</td>\n",
        "    </tr>\n",
        "    <tr>\n",
        "      <th>1</th>\n",
        "      <td> [1065, 0, 126]</td>\n",
        "      <td> 502.210166</td>\n",
        "    </tr>\n",
        "    <tr>\n",
        "      <th>2</th>\n",
        "      <td> [1065, 0, 137]</td>\n",
        "      <td> 155.652494</td>\n",
        "    </tr>\n",
        "    <tr>\n",
        "      <th>3</th>\n",
        "      <td> [1065, 0, 140]</td>\n",
        "      <td> 144.326497</td>\n",
        "    </tr>\n",
        "    <tr>\n",
        "      <th>4</th>\n",
        "      <td> [1065, 0, 148]</td>\n",
        "      <td> 481.604355</td>\n",
        "    </tr>\n",
        "  </tbody>\n",
        "</table>\n",
        "<p>5 rows \u00d7 2 columns</p>\n",
        "</div>"
       ],
       "metadata": {},
       "output_type": "pyout",
       "prompt_number": 66,
       "text": [
        "   [1065, 0, 104]  297.3008130081302\n",
        "0  [1065, 0, 115]         478.896937\n",
        "1  [1065, 0, 126]         502.210166\n",
        "2  [1065, 0, 137]         155.652494\n",
        "3  [1065, 0, 140]         144.326497\n",
        "4  [1065, 0, 148]         481.604355\n",
        "\n",
        "[5 rows x 2 columns]"
       ]
      }
     ],
     "prompt_number": 66
    },
    {
     "cell_type": "code",
     "collapsed": false,
     "input": [
      "len(set(tracker))"
     ],
     "language": "python",
     "metadata": {},
     "outputs": [
      {
       "metadata": {},
       "output_type": "pyout",
       "prompt_number": 72,
       "text": [
        "6"
       ]
      }
     ],
     "prompt_number": 72
    },
    {
     "cell_type": "code",
     "collapsed": false,
     "input": [
      "len(cov_a)"
     ],
     "language": "python",
     "metadata": {},
     "outputs": [
      {
       "metadata": {},
       "output_type": "pyout",
       "prompt_number": 73,
       "text": [
        "1600889"
       ]
      }
     ],
     "prompt_number": 73
    },
    {
     "cell_type": "code",
     "collapsed": false,
     "input": [
      "cov_matrices = {}\n",
      "for line in xrange(len(cov_a)):\n",
      "    row = cov_a.ix[line,0].split()\n",
      "    partitionID = int(row[0][1:-1])\n",
      "    i = int(row[1][:-1])\n",
      "    j = int(row[2][:-1])\n",
      "    if cov_matrices.has_key(partitionID) == False:\n",
      "        cov_matrices[partitionID] = numpy.empty(shape=(730,730))\n",
      "    cov_matrices[partitionID][i, j] = cov_a.ix[line,1]"
     ],
     "language": "python",
     "metadata": {},
     "outputs": [
      {
       "ename": "KeyboardInterrupt",
       "evalue": "",
       "output_type": "pyerr",
       "traceback": [
        "\u001b[1;31m---------------------------------------------------------------------------\u001b[0m\n\u001b[1;31mKeyboardInterrupt\u001b[0m                         Traceback (most recent call last)",
        "\u001b[1;32m<ipython-input-86-8fbaea7f05e3>\u001b[0m in \u001b[0;36m<module>\u001b[1;34m()\u001b[0m\n\u001b[0;32m      7\u001b[0m     \u001b[1;32mif\u001b[0m \u001b[0mcov_matrices\u001b[0m\u001b[1;33m.\u001b[0m\u001b[0mhas_key\u001b[0m\u001b[1;33m(\u001b[0m\u001b[0mpartitionID\u001b[0m\u001b[1;33m)\u001b[0m \u001b[1;33m==\u001b[0m \u001b[0mFalse\u001b[0m\u001b[1;33m:\u001b[0m\u001b[1;33m\u001b[0m\u001b[0m\n\u001b[0;32m      8\u001b[0m         \u001b[0mcov_matrices\u001b[0m\u001b[1;33m[\u001b[0m\u001b[0mpartitionID\u001b[0m\u001b[1;33m]\u001b[0m \u001b[1;33m=\u001b[0m \u001b[0mnumpy\u001b[0m\u001b[1;33m.\u001b[0m\u001b[0mempty\u001b[0m\u001b[1;33m(\u001b[0m\u001b[0mshape\u001b[0m\u001b[1;33m=\u001b[0m\u001b[1;33m(\u001b[0m\u001b[1;36m730\u001b[0m\u001b[1;33m,\u001b[0m\u001b[1;36m730\u001b[0m\u001b[1;33m)\u001b[0m\u001b[1;33m)\u001b[0m\u001b[1;33m\u001b[0m\u001b[0m\n\u001b[1;32m----> 9\u001b[1;33m     \u001b[0mcov_matrices\u001b[0m\u001b[1;33m[\u001b[0m\u001b[0mpartitionID\u001b[0m\u001b[1;33m]\u001b[0m\u001b[1;33m[\u001b[0m\u001b[0mi\u001b[0m\u001b[1;33m,\u001b[0m \u001b[0mj\u001b[0m\u001b[1;33m]\u001b[0m \u001b[1;33m=\u001b[0m \u001b[0mcov_a\u001b[0m\u001b[1;33m.\u001b[0m\u001b[0mix\u001b[0m\u001b[1;33m[\u001b[0m\u001b[0mline\u001b[0m\u001b[1;33m,\u001b[0m\u001b[1;36m1\u001b[0m\u001b[1;33m]\u001b[0m\u001b[1;33m\u001b[0m\u001b[0m\n\u001b[0m",
        "\u001b[1;32m/home/ubuntu/anaconda/lib/python2.7/site-packages/pandas/core/indexing.pyc\u001b[0m in \u001b[0;36m__getitem__\u001b[1;34m(self, key)\u001b[0m\n\u001b[0;32m     52\u001b[0m                 \u001b[1;32mpass\u001b[0m\u001b[1;33m\u001b[0m\u001b[0m\n\u001b[0;32m     53\u001b[0m \u001b[1;33m\u001b[0m\u001b[0m\n\u001b[1;32m---> 54\u001b[1;33m             \u001b[1;32mreturn\u001b[0m \u001b[0mself\u001b[0m\u001b[1;33m.\u001b[0m\u001b[0m_getitem_tuple\u001b[0m\u001b[1;33m(\u001b[0m\u001b[0mkey\u001b[0m\u001b[1;33m)\u001b[0m\u001b[1;33m\u001b[0m\u001b[0m\n\u001b[0m\u001b[0;32m     55\u001b[0m         \u001b[1;32melse\u001b[0m\u001b[1;33m:\u001b[0m\u001b[1;33m\u001b[0m\u001b[0m\n\u001b[0;32m     56\u001b[0m             \u001b[1;32mreturn\u001b[0m \u001b[0mself\u001b[0m\u001b[1;33m.\u001b[0m\u001b[0m_getitem_axis\u001b[0m\u001b[1;33m(\u001b[0m\u001b[0mkey\u001b[0m\u001b[1;33m,\u001b[0m \u001b[0maxis\u001b[0m\u001b[1;33m=\u001b[0m\u001b[1;36m0\u001b[0m\u001b[1;33m)\u001b[0m\u001b[1;33m\u001b[0m\u001b[0m\n",
        "\u001b[1;32m/home/ubuntu/anaconda/lib/python2.7/site-packages/pandas/core/indexing.pyc\u001b[0m in \u001b[0;36m_getitem_tuple\u001b[1;34m(self, tup)\u001b[0m\n\u001b[0;32m    595\u001b[0m     \u001b[1;32mdef\u001b[0m \u001b[0m_getitem_tuple\u001b[0m\u001b[1;33m(\u001b[0m\u001b[0mself\u001b[0m\u001b[1;33m,\u001b[0m \u001b[0mtup\u001b[0m\u001b[1;33m)\u001b[0m\u001b[1;33m:\u001b[0m\u001b[1;33m\u001b[0m\u001b[0m\n\u001b[0;32m    596\u001b[0m         \u001b[1;32mtry\u001b[0m\u001b[1;33m:\u001b[0m\u001b[1;33m\u001b[0m\u001b[0m\n\u001b[1;32m--> 597\u001b[1;33m             \u001b[1;32mreturn\u001b[0m \u001b[0mself\u001b[0m\u001b[1;33m.\u001b[0m\u001b[0m_getitem_lowerdim\u001b[0m\u001b[1;33m(\u001b[0m\u001b[0mtup\u001b[0m\u001b[1;33m)\u001b[0m\u001b[1;33m\u001b[0m\u001b[0m\n\u001b[0m\u001b[0;32m    598\u001b[0m         \u001b[1;32mexcept\u001b[0m \u001b[0mIndexingError\u001b[0m\u001b[1;33m:\u001b[0m\u001b[1;33m\u001b[0m\u001b[0m\n\u001b[0;32m    599\u001b[0m             \u001b[1;32mpass\u001b[0m\u001b[1;33m\u001b[0m\u001b[0m\n",
        "\u001b[1;32m/home/ubuntu/anaconda/lib/python2.7/site-packages/pandas/core/indexing.pyc\u001b[0m in \u001b[0;36m_getitem_lowerdim\u001b[1;34m(self, tup)\u001b[0m\n\u001b[0;32m    702\u001b[0m         \u001b[1;32mfor\u001b[0m \u001b[0mi\u001b[0m\u001b[1;33m,\u001b[0m \u001b[0mkey\u001b[0m \u001b[1;32min\u001b[0m \u001b[0menumerate\u001b[0m\u001b[1;33m(\u001b[0m\u001b[0mtup\u001b[0m\u001b[1;33m)\u001b[0m\u001b[1;33m:\u001b[0m\u001b[1;33m\u001b[0m\u001b[0m\n\u001b[0;32m    703\u001b[0m             \u001b[1;32mif\u001b[0m \u001b[0m_is_label_like\u001b[0m\u001b[1;33m(\u001b[0m\u001b[0mkey\u001b[0m\u001b[1;33m)\u001b[0m \u001b[1;32mor\u001b[0m \u001b[0misinstance\u001b[0m\u001b[1;33m(\u001b[0m\u001b[0mkey\u001b[0m\u001b[1;33m,\u001b[0m \u001b[0mtuple\u001b[0m\u001b[1;33m)\u001b[0m\u001b[1;33m:\u001b[0m\u001b[1;33m\u001b[0m\u001b[0m\n\u001b[1;32m--> 704\u001b[1;33m                 \u001b[0msection\u001b[0m \u001b[1;33m=\u001b[0m \u001b[0mself\u001b[0m\u001b[1;33m.\u001b[0m\u001b[0m_getitem_axis\u001b[0m\u001b[1;33m(\u001b[0m\u001b[0mkey\u001b[0m\u001b[1;33m,\u001b[0m \u001b[0maxis\u001b[0m\u001b[1;33m=\u001b[0m\u001b[0mi\u001b[0m\u001b[1;33m)\u001b[0m\u001b[1;33m\u001b[0m\u001b[0m\n\u001b[0m\u001b[0;32m    705\u001b[0m \u001b[1;33m\u001b[0m\u001b[0m\n\u001b[0;32m    706\u001b[0m                 \u001b[1;31m# we have yielded a scalar ?\u001b[0m\u001b[1;33m\u001b[0m\u001b[1;33m\u001b[0m\u001b[0m\n",
        "\u001b[1;32m/home/ubuntu/anaconda/lib/python2.7/site-packages/pandas/core/indexing.pyc\u001b[0m in \u001b[0;36m_getitem_axis\u001b[1;34m(self, key, axis)\u001b[0m\n\u001b[0;32m    756\u001b[0m                     \u001b[1;32mreturn\u001b[0m \u001b[0mself\u001b[0m\u001b[1;33m.\u001b[0m\u001b[0m_get_loc\u001b[0m\u001b[1;33m(\u001b[0m\u001b[0mkey\u001b[0m\u001b[1;33m,\u001b[0m \u001b[0maxis\u001b[0m\u001b[1;33m=\u001b[0m\u001b[0maxis\u001b[0m\u001b[1;33m)\u001b[0m\u001b[1;33m\u001b[0m\u001b[0m\n\u001b[0;32m    757\u001b[0m \u001b[1;33m\u001b[0m\u001b[0m\n\u001b[1;32m--> 758\u001b[1;33m             \u001b[1;32mreturn\u001b[0m \u001b[0mself\u001b[0m\u001b[1;33m.\u001b[0m\u001b[0m_get_label\u001b[0m\u001b[1;33m(\u001b[0m\u001b[0mkey\u001b[0m\u001b[1;33m,\u001b[0m \u001b[0maxis\u001b[0m\u001b[1;33m=\u001b[0m\u001b[0maxis\u001b[0m\u001b[1;33m)\u001b[0m\u001b[1;33m\u001b[0m\u001b[0m\n\u001b[0m\u001b[0;32m    759\u001b[0m \u001b[1;33m\u001b[0m\u001b[0m\n\u001b[0;32m    760\u001b[0m     \u001b[1;32mdef\u001b[0m \u001b[0m_getitem_iterable\u001b[0m\u001b[1;33m(\u001b[0m\u001b[0mself\u001b[0m\u001b[1;33m,\u001b[0m \u001b[0mkey\u001b[0m\u001b[1;33m,\u001b[0m \u001b[0maxis\u001b[0m\u001b[1;33m=\u001b[0m\u001b[1;36m0\u001b[0m\u001b[1;33m)\u001b[0m\u001b[1;33m:\u001b[0m\u001b[1;33m\u001b[0m\u001b[0m\n",
        "\u001b[1;32m/home/ubuntu/anaconda/lib/python2.7/site-packages/pandas/core/indexing.pyc\u001b[0m in \u001b[0;36m_get_label\u001b[1;34m(self, label, axis)\u001b[0m\n\u001b[0;32m     66\u001b[0m \u001b[1;33m\u001b[0m\u001b[0m\n\u001b[0;32m     67\u001b[0m         \u001b[1;32mtry\u001b[0m\u001b[1;33m:\u001b[0m\u001b[1;33m\u001b[0m\u001b[0m\n\u001b[1;32m---> 68\u001b[1;33m             \u001b[1;32mreturn\u001b[0m \u001b[0mself\u001b[0m\u001b[1;33m.\u001b[0m\u001b[0mobj\u001b[0m\u001b[1;33m.\u001b[0m\u001b[0m_xs\u001b[0m\u001b[1;33m(\u001b[0m\u001b[0mlabel\u001b[0m\u001b[1;33m,\u001b[0m \u001b[0maxis\u001b[0m\u001b[1;33m=\u001b[0m\u001b[0maxis\u001b[0m\u001b[1;33m,\u001b[0m \u001b[0mcopy\u001b[0m\u001b[1;33m=\u001b[0m\u001b[0mFalse\u001b[0m\u001b[1;33m)\u001b[0m\u001b[1;33m\u001b[0m\u001b[0m\n\u001b[0m\u001b[0;32m     69\u001b[0m         \u001b[1;32mexcept\u001b[0m \u001b[0mException\u001b[0m\u001b[1;33m:\u001b[0m\u001b[1;33m\u001b[0m\u001b[0m\n\u001b[0;32m     70\u001b[0m             \u001b[1;32mreturn\u001b[0m \u001b[0mself\u001b[0m\u001b[1;33m.\u001b[0m\u001b[0mobj\u001b[0m\u001b[1;33m.\u001b[0m\u001b[0m_xs\u001b[0m\u001b[1;33m(\u001b[0m\u001b[0mlabel\u001b[0m\u001b[1;33m,\u001b[0m \u001b[0maxis\u001b[0m\u001b[1;33m=\u001b[0m\u001b[0maxis\u001b[0m\u001b[1;33m,\u001b[0m \u001b[0mcopy\u001b[0m\u001b[1;33m=\u001b[0m\u001b[0mTrue\u001b[0m\u001b[1;33m)\u001b[0m\u001b[1;33m\u001b[0m\u001b[0m\n",
        "\u001b[1;32m/home/ubuntu/anaconda/lib/python2.7/site-packages/pandas/core/generic.pyc\u001b[0m in \u001b[0;36mxs\u001b[1;34m(self, key, axis, level, copy, drop_level)\u001b[0m\n\u001b[0;32m   1308\u001b[0m \u001b[1;33m\u001b[0m\u001b[0m\n\u001b[0;32m   1309\u001b[0m         \u001b[1;32mif\u001b[0m \u001b[0mnp\u001b[0m\u001b[1;33m.\u001b[0m\u001b[0misscalar\u001b[0m\u001b[1;33m(\u001b[0m\u001b[0mloc\u001b[0m\u001b[1;33m)\u001b[0m\u001b[1;33m:\u001b[0m\u001b[1;33m\u001b[0m\u001b[0m\n\u001b[1;32m-> 1310\u001b[1;33m             \u001b[1;32mfrom\u001b[0m \u001b[0mpandas\u001b[0m \u001b[1;32mimport\u001b[0m \u001b[0mSeries\u001b[0m\u001b[1;33m\u001b[0m\u001b[0m\n\u001b[0m\u001b[0;32m   1311\u001b[0m             \u001b[0mnew_values\u001b[0m\u001b[1;33m,\u001b[0m \u001b[0mcopy\u001b[0m \u001b[1;33m=\u001b[0m \u001b[0mself\u001b[0m\u001b[1;33m.\u001b[0m\u001b[0m_data\u001b[0m\u001b[1;33m.\u001b[0m\u001b[0mfast_2d_xs\u001b[0m\u001b[1;33m(\u001b[0m\u001b[0mloc\u001b[0m\u001b[1;33m,\u001b[0m \u001b[0mcopy\u001b[0m\u001b[1;33m=\u001b[0m\u001b[0mcopy\u001b[0m\u001b[1;33m)\u001b[0m\u001b[1;33m\u001b[0m\u001b[0m\n\u001b[0;32m   1312\u001b[0m             result = Series(new_values, index=self.columns,\n",
        "\u001b[1;31mKeyboardInterrupt\u001b[0m: "
       ]
      }
     ],
     "prompt_number": 86
    },
    {
     "cell_type": "code",
     "collapsed": false,
     "input": [
      "row = cov_a.ix[1,0].split()\n",
      "partitionID = int(row[0][1:-1])\n",
      "i = int(row[1][:-1])\n",
      "j = (row[2][:-1])"
     ],
     "language": "python",
     "metadata": {},
     "outputs": [
      {
       "metadata": {},
       "output_type": "pyout",
       "prompt_number": 83,
       "text": [
        "numpy.float64"
       ]
      }
     ],
     "prompt_number": 83
    },
    {
     "cell_type": "code",
     "collapsed": false,
     "input": [
      "removed = original.replace(\"M\", \"\")"
     ],
     "language": "python",
     "metadata": {},
     "outputs": []
    },
    {
     "cell_type": "code",
     "collapsed": false,
     "input": [
      "np.empty(5)"
     ],
     "language": "python",
     "metadata": {},
     "outputs": [
      {
       "metadata": {},
       "output_type": "pyout",
       "prompt_number": 87,
       "text": [
        "array([  1.39403610e-315,   6.92129754e-310,   1.56527941e-316,\n",
        "         1.39375436e-315,   2.37151510e-322])"
       ]
      }
     ],
     "prompt_number": 87
    },
    {
     "cell_type": "code",
     "collapsed": false,
     "input": [
      "ab = numpy.empty(shape=(5,5))"
     ],
     "language": "python",
     "metadata": {},
     "outputs": [],
     "prompt_number": 25
    },
    {
     "cell_type": "code",
     "collapsed": false,
     "input": [
      "ab"
     ],
     "language": "python",
     "metadata": {},
     "outputs": [
      {
       "metadata": {},
       "output_type": "pyout",
       "prompt_number": 26,
       "text": [
        "array([[  6.94873192e-310,   2.25475355e-316,   3.53408872e-316,\n",
        "          2.43654995e-316,   3.25047923e-316],\n",
        "       [  2.41626243e-316,   3.53410295e-316,   4.28803131e-316,\n",
        "          4.28801234e-316,   4.28613094e-316],\n",
        "       [  3.53410532e-316,   3.53410769e-316,   3.53411006e-316,\n",
        "          4.28803368e-316,   6.94873254e-310],\n",
        "       [  4.28802420e-316,   4.28804317e-316,   4.28616414e-316,\n",
        "          4.28805029e-316,   4.28803606e-316],\n",
        "       [  4.28805266e-316,   4.28805503e-316,   4.28804554e-316,\n",
        "          4.28615940e-316,   1.02765654e-321]])"
       ]
      }
     ],
     "prompt_number": 26
    },
    {
     "cell_type": "code",
     "collapsed": false,
     "input": [
      "ab[0,1]"
     ],
     "language": "python",
     "metadata": {},
     "outputs": [
      {
       "metadata": {},
       "output_type": "pyout",
       "prompt_number": 27,
       "text": [
        "2.2547535540876133e-316"
       ]
      }
     ],
     "prompt_number": 27
    }
   ],
   "metadata": {}
  }
 ]
}